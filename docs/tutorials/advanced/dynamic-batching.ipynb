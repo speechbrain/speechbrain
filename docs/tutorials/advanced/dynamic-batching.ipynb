{
 "cells": [
  {
   "cell_type": "markdown",
   "metadata": {
    "id": "sb_auto_header",
    "tags": [
     "sb_auto_header"
    ]
   },
   "source": [
    "<!-- This cell is automatically updated by tools/tutorial-cell-updater.py -->\n",
    "<!-- The contents are initialized from tutorials/notebook-header.md -->\n",
    "\n",
    "[<img src=\"https://colab.research.google.com/assets/colab-badge.svg\" alt=\"Open In Colab\"/>](https://colab.research.google.com/github/speechbrain/speechbrain/blob/develop/docs/tutorials/advanced/dynamic-batching.ipynb)\n",
    "to execute or view/download this notebook on\n",
    "[GitHub](https://github.com/speechbrain/speechbrain/tree/develop/docs/tutorials/advanced/dynamic-batching.ipynb)"
   ]
  },
  {
   "cell_type": "markdown",
   "metadata": {
    "id": "1lMT9knfou6A"
   },
   "source": [
    "# Dynamic Batching: What is it and why it is necessary sometimes\n",
    "\n",
    "Batching examples together is a crucial optimization that significantly accelerates training processes. This, combined with distributed training across multiple GPUs, enables the training of models with large parameter counts on extensive datasets in a matter of days instead of months.\n",
    "\n",
    "The conventional approach involves using a fixed batch size to group examples together. However, when each input has a different size, as is often the case in audio or natural language processing (NLP) applications, it necessitates padding each example in a batch to match the size of the largest one in that batch.\n",
    "\n",
    "While this is a common practice, it introduces a potential inefficiency when the lengths of examples exhibit significant variance. In scenarios like audio and NLP applications, a substantial portion of computation is performed on padded values, leading to computational waste. To address this issue, dynamic batching becomes essential, allowing for more efficient and resource-conscious processing of variable-length sequences in the context of diverse machine learning tasks.\n",
    "\n",
    "\n",
    "\n"
   ]
  },
  {
   "cell_type": "markdown",
   "metadata": {
    "id": "tILFmgtVDaJK"
   },
   "source": [
    "To illustrate this point, let's look, for example, at **MiniLibriSpeech** which is a subset of LibriSpeech. Let's download this dataset and other tools from the [data-io tutorial](https://speechbrain.readthedocs.io/en/latest/tutorials/basics/data-loading-pipeline.html) which uses this same data."
   ]
  },
  {
   "cell_type": "code",
   "execution_count": 1,
   "metadata": {
    "executionInfo": {
     "elapsed": 23640,
     "status": "ok",
     "timestamp": 1718826449038,
     "user": {
      "displayName": "adel moumen",
      "userId": "01620107593621714109"
     },
     "user_tz": 240
    },
    "id": "-Xb6KaE6DkvI"
   },
   "outputs": [],
   "source": [
    "%%capture\n",
    "# here we download the material needed for this tutorial: images and an example based on mini-librispeech\n",
    "!wget https://www.dropbox.com/s/b61lo6gkpuplanq/MiniLibriSpeechTutorial.tar.gz?dl=0\n",
    "!tar -xvzf MiniLibriSpeechTutorial.tar.gz?dl=0\n",
    "# downloading mini_librispeech dev data\n",
    "!wget https://www.openslr.org/resources/31/train-clean-5.tar.gz\n",
    "!tar -xvzf train-clean-5.tar.gz"
   ]
  },
  {
   "cell_type": "markdown",
   "metadata": {
    "id": "TgEBlx-iVht4"
   },
   "source": [
    "Next, we install `speechbrain`:"
   ]
  },
  {
   "cell_type": "code",
   "execution_count": 2,
   "metadata": {
    "executionInfo": {
     "elapsed": 114162,
     "status": "ok",
     "timestamp": 1718826563198,
     "user": {
      "displayName": "adel moumen",
      "userId": "01620107593621714109"
     },
     "user_tz": 240
    },
    "id": "fVHJYKO8tOic"
   },
   "outputs": [],
   "source": [
    "%%capture\n",
    "# Installing SpeechBrain via pip\n",
    "BRANCH = \"develop\"\n",
    "!python -m pip install git+https://github.com/speechbrain/speechbrain.git@$BRANCH"
   ]
  },
  {
   "cell_type": "markdown",
   "metadata": {
    "id": "n6sGSbUUEitE"
   },
   "source": [
    "Now, let's look at what is the length of each audio in this dataset and how it is distributed.\n",
    "\n",
    "We can plot the histogram of the lengths for each audio in this dataset using `torchaudio`:"
   ]
  },
  {
   "cell_type": "code",
   "execution_count": 3,
   "metadata": {
    "colab": {
     "base_uri": "https://localhost:8080/",
     "height": 490
    },
    "executionInfo": {
     "elapsed": 25614,
     "status": "ok",
     "timestamp": 1718826588807,
     "user": {
      "displayName": "adel moumen",
      "userId": "01620107593621714109"
     },
     "user_tz": 240
    },
    "id": "eTcGLwrwEtQG",
    "outputId": "3322dbec-68bd-479e-b427-338295c25d2f"
   },
   "outputs": [
    {
     "name": "stdout",
     "output_type": "stream",
     "text": [
      "Number of audio files in MiniLibriSpeech train-clean-5:  1519\n"
     ]
    },
    {
     "data": {
      "image/png": "[encoded data removed]",
      "text/plain": [
       "<Figure size 640x480 with 1 Axes>"
      ]
     },
     "metadata": {},
     "output_type": "display_data"
    }
   ],
   "source": [
    "import matplotlib.pyplot as plt\n",
    "import torchaudio\n",
    "import numpy\n",
    "import glob\n",
    "import os\n",
    "\n",
    "# fetching all flac files in MiniLibriSpeech\n",
    "all_flacs = glob.glob(\n",
    "    os.path.join(\"/content/LibriSpeech/train-clean-5\", \"**/*.flac\"), recursive=True\n",
    ")\n",
    "\n",
    "print(\"Number of audio files in MiniLibriSpeech train-clean-5: \", len(all_flacs))\n",
    "\n",
    "# step-by-step\n",
    "# collect durations\n",
    "all_durations = numpy.zeros(len(all_flacs))\n",
    "for i, audio in enumerate(all_flacs):\n",
    "    wav_meta = torchaudio.info(audio)\n",
    "    all_durations[i] = wav_meta.num_frames / wav_meta.sample_rate\n",
    "\n",
    "# plot histogram\n",
    "_ = plt.hist(all_durations, bins=\"auto\")\n",
    "plt.title(\"MiniLibriSpeech: train-clean-5\")\n",
    "plt.xlabel(\"Duration (in s)\")\n",
    "plt.ylabel(\"# audios\")\n",
    "plt.show()"
   ]
  },
  {
   "cell_type": "markdown",
   "metadata": {
    "id": "HYqdrRzYHCOf"
   },
   "source": [
    "We can see that most files have a length between 14 and 16 seconds. Moreover, there is a large variance in the file length.\n",
    "So if we sample randomly without any particular strategy a certain number of examples (e.g., 8), pad them, and batch them together we will end up with lots of padded values.\n",
    "\n",
    "This way, we will waste a significant portion of computation on padded values.\n",
    "\n"
   ]
  },
  {
   "cell_type": "markdown",
   "metadata": {
    "id": "fZhST3jGLgRV"
   },
   "source": [
    "We can try to effectively compute the total number of samples which belong to padding when iterating over the whole dataset with a fixed batch size.\n"
   ]
  },
  {
   "cell_type": "markdown",
   "metadata": {
    "id": "X0WcpKPoiDSi"
   },
   "source": [
    "We follow here SpeechBrain data preparation best practices.\n",
    "We parse all examples into a `.json` file so that parsing occurs only once and not at the start of each new experiment. In fact, parsing many small files can take a lot of time on networked storage or slow physical hard-drives."
   ]
  },
  {
   "cell_type": "code",
   "execution_count": 4,
   "metadata": {
    "executionInfo": {
     "elapsed": 18596,
     "status": "ok",
     "timestamp": 1718826607399,
     "user": {
      "displayName": "adel moumen",
      "userId": "01620107593621714109"
     },
     "user_tz": 240
    },
    "id": "r0RYowCdOHp3"
   },
   "outputs": [],
   "source": [
    "# prepare LibriSpeech dataset using pre-made, downloaded parse_data.py script from\n",
    "# the data-io tutorial available here: https://speechbrain.readthedocs.io/en/latest/tutorials/basics/data-loading-pipeline.html\n",
    "from parse_data import parse_to_json\n",
    "\n",
    "parse_to_json(\"/content/LibriSpeech/train-clean-5\")\n",
    "# this produced a manifest data.json file:"
   ]
  },
  {
   "cell_type": "markdown",
   "metadata": {
    "id": "2j--OL9sideZ"
   },
   "source": [
    "We can briefly look at each `.json` file. In particular we are interested in the `length` field which contains the length in samples for each audio in the dataset."
   ]
  },
  {
   "cell_type": "code",
   "execution_count": 5,
   "metadata": {
    "colab": {
     "base_uri": "https://localhost:8080/"
    },
    "executionInfo": {
     "elapsed": 28,
     "status": "ok",
     "timestamp": 1718826607399,
     "user": {
      "displayName": "adel moumen",
      "userId": "01620107593621714109"
     },
     "user_tz": 240
    },
    "id": "N0Il1pGvhLZ9",
    "outputId": "efc95e9f-5e6e-40ec-8559-5c4b4e4b0357"
   },
   "outputs": [
    {
     "name": "stdout",
     "output_type": "stream",
     "text": [
      "    },\n",
      "    \"4640-19188-0038\": {\n",
      "        \"file_path\": \"/content/LibriSpeech/train-clean-5/4640/19188/4640-19188-0038.flac\",\n",
      "        \"words\": \"THE FIFTH MAN WAS SAVED\",\n",
      "        \"spkID\": \"speaker_4640\",\n",
      "        \"length\": 41200\n",
      "    },\n",
      "    \"4640-19188-0005\": {\n",
      "        \"file_path\": \"/content/LibriSpeech/train-clean-5/4640/19188/4640-19188-0005.flac\",\n",
      "        \"words\": \"COME SAID HE YOU MUST HAVE A LITTLE PITY DO YOU KNOW WHAT THE QUESTION IS HERE IT IS A QUESTION OF WOMEN SEE HERE ARE THERE WOMEN OR ARE THERE NOT ARE THERE CHILDREN OR ARE THERE NOT\",\n",
      "        \"spkID\": \"speaker_4640\",\n",
      "        \"length\": 247920\n",
      "    },\n",
      "    \"4640-19188-0035\": {\n",
      "        \"file_path\": \"/content/LibriSpeech/train-clean-5/4640/19188/4640-19188-0035.flac\",\n",
      "        \"words\": \"DO YOU DESIGNATE WHO IS TO REMAIN YES SAID THE FIVE CHOOSE WE WILL OBEY YOU MARIUS DID NOT BELIEVE THAT HE WAS CAPABLE OF ANOTHER EMOTION\",\n",
      "        \"spkID\": \"speaker_4640\",\n",
      "        \"length\": 184720\n",
      "    }\n",
      "}"
     ]
    }
   ],
   "source": [
    "!tail -n 20 data.json"
   ]
  },
  {
   "cell_type": "markdown",
   "metadata": {
    "id": "9FNKDqIeisYY"
   },
   "source": [
    "We can use this `.json` manifest file to instantiate a SpeechBrain `DynamicItemDataset` object.\n",
    "\n",
    "If this is not clear refer to the [data-io tutorial](https://speechbrain.readthedocs.io/en/latest/tutorials/basics/data-loading-pipeline.html).\n",
    "\n",
    "We also define a `data-io pipeline` to read the audio file."
   ]
  },
  {
   "cell_type": "code",
   "execution_count": 6,
   "metadata": {
    "colab": {
     "base_uri": "https://localhost:8080/"
    },
    "executionInfo": {
     "elapsed": 2044,
     "status": "ok",
     "timestamp": 1718826609437,
     "user": {
      "displayName": "adel moumen",
      "userId": "01620107593621714109"
     },
     "user_tz": 240
    },
    "id": "FBIoa_DQhNt2",
    "outputId": "35c9632c-4f14-472f-b43a-d5358d3859a8"
   },
   "outputs": [
    {
     "data": {
      "text/plain": [
       "{'signal': tensor([ 7.9346e-04,  6.7139e-04,  4.8828e-04,  ..., -2.1362e-04,\n",
       "         -1.2207e-04,  3.0518e-05]),\n",
       " 'file_path': '/content/LibriSpeech/train-clean-5/3664/178355/3664-178355-0029.flac'}"
      ]
     },
     "execution_count": 6,
     "metadata": {},
     "output_type": "execute_result"
    }
   ],
   "source": [
    "# initializing a sb dataset object from this json\n",
    "from speechbrain.dataio.dataset import DynamicItemDataset\n",
    "import speechbrain\n",
    "\n",
    "train_data = speechbrain.dataio.dataset.DynamicItemDataset.from_json(\"data.json\")\n",
    "\n",
    "\n",
    "# we define a pipeline to read audio\n",
    "@speechbrain.utils.data_pipeline.takes(\"file_path\")\n",
    "@speechbrain.utils.data_pipeline.provides(\"signal\")\n",
    "def audio_pipeline(file_path):\n",
    "    sig = speechbrain.dataio.dataio.read_audio(file_path)\n",
    "    return sig\n",
    "\n",
    "\n",
    "# setting the pipeline\n",
    "train_data.add_dynamic_item(audio_pipeline)\n",
    "train_data.set_output_keys([\"signal\", \"file_path\"])\n",
    "train_data[0]"
   ]
  },
  {
   "cell_type": "markdown",
   "metadata": {
    "id": "4CsCgHaHjPj0"
   },
   "source": [
    "Voilà, we now can start to iterate over this dataset using a torch `Dataloader`.\n",
    "By using `PaddedBatch` as a `collate_fn` SpeechBrain will handle padding automatically for us. Neat!\n",
    "\n",
    "We can also define a simple function `count_samples` to count samples that belong to padding in each batch"
   ]
  },
  {
   "cell_type": "code",
   "execution_count": 7,
   "metadata": {
    "executionInfo": {
     "elapsed": 11,
     "status": "ok",
     "timestamp": 1718826609438,
     "user": {
      "displayName": "adel moumen",
      "userId": "01620107593621714109"
     },
     "user_tz": 240
    },
    "id": "lypSm786W1GH"
   },
   "outputs": [],
   "source": [
    "import torch\n",
    "import time\n",
    "from torch.utils.data import DataLoader\n",
    "from speechbrain.dataio.batch import PaddedBatch\n",
    "\n",
    "# counting tot padded values when batching the dataset with batch_size = 8\n",
    "batch_size = 32\n",
    "\n",
    "# PaddedBatch will pad audios to the right\n",
    "dataloader = DataLoader(train_data, collate_fn=PaddedBatch, batch_size=batch_size)\n",
    "\n",
    "\n",
    "def count_samples(dataloader):\n",
    "    true_samples = 0\n",
    "    padded_samples = 0\n",
    "    t1 = time.time()\n",
    "    for batch in dataloader:\n",
    "        audio, lens = batch.signal\n",
    "\n",
    "        true_samples += torch.sum(audio.shape[-1] * lens).item()\n",
    "        padded_samples += torch.sum(audio.shape[-1] * (1 - lens)).item()\n",
    "\n",
    "    elapsed = time.time() - t1\n",
    "    tot_samples = true_samples + padded_samples\n",
    "    return true_samples / tot_samples, padded_samples / tot_samples, elapsed"
   ]
  },
  {
   "cell_type": "code",
   "execution_count": 8,
   "metadata": {
    "colab": {
     "base_uri": "https://localhost:8080/"
    },
    "executionInfo": {
     "elapsed": 1087,
     "status": "ok",
     "timestamp": 1718826610518,
     "user": {
      "displayName": "adel moumen",
      "userId": "01620107593621714109"
     },
     "user_tz": 240
    },
    "id": "rlfkiahZa0Qx",
    "outputId": "205dd4c3-7e8a-46b4-f770-09ff090e410c"
   },
   "outputs": [
    {
     "name": "stdout",
     "output_type": "stream",
     "text": [
      "PaddedData(data=tensor([[ 7.9346e-04,  6.7139e-04,  4.8828e-04,  ...,  0.0000e+00,\n",
      "          0.0000e+00,  0.0000e+00],\n",
      "        [-9.7656e-04, -4.8828e-04, -2.7466e-04,  ...,  0.0000e+00,\n",
      "          0.0000e+00,  0.0000e+00],\n",
      "        [ 1.8311e-04,  9.1553e-05,  3.0518e-04,  ...,  0.0000e+00,\n",
      "          0.0000e+00,  0.0000e+00],\n",
      "        ...,\n",
      "        [-4.8828e-04, -3.6621e-04, -4.8828e-04,  ...,  0.0000e+00,\n",
      "          0.0000e+00,  0.0000e+00],\n",
      "        [ 0.0000e+00, -6.1035e-05, -3.6621e-04,  ...,  0.0000e+00,\n",
      "          0.0000e+00,  0.0000e+00],\n",
      "        [-7.6294e-04, -8.8501e-04, -8.8501e-04,  ...,  0.0000e+00,\n",
      "          0.0000e+00,  0.0000e+00]]), lengths=tensor([0.7254, 0.9600, 0.9525, 0.9864, 0.8919, 0.9579, 0.2834, 0.9282, 0.5404,\n",
      "        0.8429, 0.9552, 0.9667, 0.6845, 0.8650, 0.9164, 0.8892, 0.3215, 0.9579,\n",
      "        0.7363, 0.7172, 0.8601, 0.8959, 0.8529, 0.7826, 1.0000, 0.9325, 0.9818,\n",
      "        0.9679, 0.8974, 0.7914, 0.9912, 0.9319]))\n",
      "PaddedData(data=tensor([[ 0.0006,  0.0003, -0.0003,  ...,  0.0000,  0.0000,  0.0000],\n",
      "        [ 0.0005,  0.0004,  0.0005,  ...,  0.0000,  0.0000,  0.0000],\n",
      "        [ 0.0003,  0.0004,  0.0004,  ...,  0.0000,  0.0000,  0.0000],\n",
      "        ...,\n",
      "        [-0.0055, -0.0057, -0.0051,  ...,  0.0000,  0.0000,  0.0000],\n",
      "        [ 0.0010, -0.0007, -0.0013,  ...,  0.0000,  0.0000,  0.0000],\n",
      "        [ 0.0015,  0.0007,  0.0022,  ...,  0.0000,  0.0000,  0.0000]]), lengths=tensor([0.9501, 0.9389, 0.8989, 0.9055, 0.9780, 0.7591, 0.8813, 0.7880, 1.0000,\n",
      "        0.9442, 0.2604, 0.7607, 0.9253, 0.9048, 0.8974, 0.7514, 0.9895, 0.2610,\n",
      "        0.8360, 0.6321, 0.5701, 0.9231, 0.9764, 0.7725, 0.3549, 0.8633, 0.7337,\n",
      "        0.7446, 0.9309, 0.8590, 0.9262, 0.5115]))\n",
      "PaddedData(data=tensor([[ 0.0000,  0.0003,  0.0006,  ...,  0.0000,  0.0000,  0.0000],\n",
      "        [-0.0150, -0.0154, -0.0150,  ...,  0.0000,  0.0000,  0.0000],\n",
      "        [-0.0012, -0.0012, -0.0022,  ...,  0.0000,  0.0000,  0.0000],\n",
      "        ...,\n",
      "        [-0.0011, -0.0031, -0.0020,  ...,  0.0000,  0.0000,  0.0000],\n",
      "        [-0.0011,  0.0016,  0.0015,  ...,  0.0000,  0.0000,  0.0000],\n",
      "        [-0.0012, -0.0031, -0.0022,  ...,  0.0000,  0.0000,  0.0000]]), lengths=tensor([0.7143, 0.9765, 0.8430, 0.9280, 0.8743, 0.9289, 0.8849, 0.6190, 0.8590,\n",
      "        1.0000, 0.7652, 0.3936, 0.7022, 0.8803, 0.7474, 0.9388, 0.9602, 0.8933,\n",
      "        0.9331, 0.9370, 0.8327, 0.8547, 0.7664, 0.6492, 0.7902, 0.8996, 0.8267,\n",
      "        0.9524, 0.8189, 0.8502, 0.6377, 0.7077]))\n"
     ]
    }
   ],
   "source": [
    "for i, d in enumerate(dataloader):\n",
    "    print(d.signal)\n",
    "    # few example are enough to demonstrate what's going on here\n",
    "    if i == 2:\n",
    "        break"
   ]
  },
  {
   "cell_type": "markdown",
   "metadata": {
    "id": "Qp0vH1iCjwXl"
   },
   "source": [
    "Let's count the samples when using a fixed batch size of 32 (as above) and the examples are sampled randomly."
   ]
  },
  {
   "cell_type": "code",
   "execution_count": 9,
   "metadata": {
    "colab": {
     "base_uri": "https://localhost:8080/"
    },
    "executionInfo": {
     "elapsed": 11139,
     "status": "ok",
     "timestamp": 1718826621655,
     "user": {
      "displayName": "adel moumen",
      "userId": "01620107593621714109"
     },
     "user_tz": 240
    },
    "id": "uKOZybJ0jtQM",
    "outputId": "78f4f270-940f-42e7-f268-1ea0b70d7bbc"
   },
   "outputs": [
    {
     "name": "stdout",
     "output_type": "stream",
     "text": [
      "Random Sampling: % True samples 76.8, % of padding 23.2, Total time 11.06s\n"
     ]
    }
   ],
   "source": [
    "percent_true, percent_padded, elapsed = count_samples(dataloader)\n",
    "print(\n",
    "    \"Random Sampling: % True samples {:.1f}, % of padding {:.1f}, Total time {:.2f}s\".format(\n",
    "        percent_true * 100, percent_padded * 100, elapsed\n",
    "    )\n",
    ")"
   ]
  },
  {
   "cell_type": "markdown",
   "metadata": {
    "id": "Tid6zWnK2_as"
   },
   "source": [
    "*We* are wasting more than 20% of computations in each training iteration on useless values which are only there to enable batched computations.\n",
    "\n",
    "Can we avoid such waste, speed up training, and consume less energy?\n",
    "\n",
    "Sure, we can simply sort the dataset according to the length of the examples in ascending or descending order and then batch the examples together.\n"
   ]
  },
  {
   "cell_type": "code",
   "execution_count": 10,
   "metadata": {
    "colab": {
     "base_uri": "https://localhost:8080/"
    },
    "executionInfo": {
     "elapsed": 10682,
     "status": "ok",
     "timestamp": 1718826632325,
     "user": {
      "displayName": "adel moumen",
      "userId": "01620107593621714109"
     },
     "user_tz": 240
    },
    "id": "at-_sxv8w6hs",
    "outputId": "1fe00421-59ae-475b-87bd-98528e4cc1a7"
   },
   "outputs": [
    {
     "name": "stdout",
     "output_type": "stream",
     "text": [
      "After sorting: % True samples 98.8, % of padding 1.2, Total time 10.65\n"
     ]
    }
   ],
   "source": [
    "# if you followed the data-io tutorial you already know that sorting is super simple:\n",
    "sorted_data = train_data.filtered_sorted(sort_key=\"length\")\n",
    "dataloader = DataLoader(sorted_data, collate_fn=PaddedBatch, batch_size=batch_size)\n",
    "percent_true, percent_padded, elapsed = count_samples(dataloader)\n",
    "print(\n",
    "    \"After sorting: % True samples {:.1f}, % of padding {:.1f}, Total time {:.2f}\".format(\n",
    "        percent_true * 100, percent_padded * 100, elapsed\n",
    "    )\n",
    ")"
   ]
  },
  {
   "cell_type": "markdown",
   "metadata": {
    "id": "pmmBM6E_5CFh"
   },
   "source": [
    "That is quite a reduction. Now, we are almost not wasting any compute on padded values as we have minimized padding by taking audios with roughly the same length in each batch. Iterating over one epoch is also significantly faster.\n",
    "\n",
    "But this means that we must train with a sorted dataset.\n",
    "In some applications, this might hurt the performance as the network sees the examples always in the same order.\n",
    "\n",
    "In other applications sorting the examples can instead bring better performance as it can be seen as a sort of curriculum learning. This is the case for example for our TIMIT recipes.\n",
    "\n",
    "Dynamic Batching allows users to trade-off between full random sampling of the examples and deterministic sampling from sorted examples."
   ]
  },
  {
   "cell_type": "markdown",
   "metadata": {
    "id": "hOxnX03A1eS6"
   },
   "source": [
    "Another problem with fixed batch size is that we are under-utilizing our resources for the shortest examples.\n",
    "Suppose we use a fixed batch size of 8, and our dataset is sorted in ascending order. This means we must have sufficient memory to train on the 8 longest examples. But we also train on the 8 shortest ones!\n",
    "In many instances, we can afford to batch a larger number of shorter examples together and optimize the GPU usage.\n"
   ]
  },
  {
   "cell_type": "markdown",
   "metadata": {
    "id": "iEuEnbEz75sr"
   },
   "source": [
    "## SpeechBrain `DynamicBatchSampler` class"
   ]
  },
  {
   "cell_type": "markdown",
   "metadata": {
    "id": "Mecsawr--Fff"
   },
   "source": [
    "SpeechBrain provides a useful abstraction to perform Dynamic Batching:\n",
    "\n",
    "---\n",
    "\n",
    "**DynamicBatchSampler**.\n",
    "\n",
    "In particular, with the right settings, it allows us to train large models even with 12 GB VRAM GPUs in a reasonable time. When using high-performance high VRAM GPUs, instead, it can significantly reduce training time.\n",
    "\n",
    "**This abstraction allows us to select a good trade-off between training speed, randomization of sampling, and VRAM usage.**\n",
    "\n",
    "It is up to you, depending on your application scenario and hardware, which of these characteristics should be prioritized.\n",
    "\n",
    "\n",
    "\n",
    "\n",
    "\n",
    "\n"
   ]
  },
  {
   "cell_type": "markdown",
   "metadata": {
    "id": "j8M-LuNBobTk"
   },
   "source": [
    "`DynamicBatchSampler` belongs to the `torch.utils.data` `Sampler` class and is a torch *Batch Sampler*:\n",
    "\n",
    "Being a batch Sampler, it is just a *python generator*  which returns, at each call, a list containing the indexes of the examples which should be batched together by the `DataLoader` using the `collate_fn`. These indexes are used to fetch the actual examples in the `torch.utils.data.Dataset` class using the `__getitem__` method.\n",
    "\n",
    "Here is an example with batch_size 2. The DataLoader is responsible for taking care of parallelization of the Dataset `__getitem__` method. The indexes of the examples are provided by the Batch Sampler.\n",
    "For more info, you can refer to the official [Pytorch documentation on torch.utils.data](https://pytorch.org/docs/stable/data.html)."
   ]
  },
  {
   "cell_type": "markdown",
   "metadata": {
    "id": "TaRTseKUgz5D"
   },
   "source": [
    "<!--img src=\"https://drive.google.com/uc?id=1bNaa6X_Rjnt7qyFiPf4Hz0Gi6XLh8fAw\"/-->"
   ]
  },
  {
   "cell_type": "markdown",
   "metadata": {
    "id": "O4OQaEM5kQMD"
   },
   "source": [
    "### Using `speechbrain.dataio.samplers.DynamicBatchSampler`"
   ]
  },
  {
   "cell_type": "markdown",
   "metadata": {
    "id": "XFzGEwfJkZxx"
   },
   "source": [
    "`DynamicBatchSampler` has several input arguments upon instantiation and provides a great deal of flexibility.\n",
    "\n",
    "We will practically illustrate what is the effect of some of these using MiniLibriSpeech and how each of these can change the trade-off between speed, randomization, and VRAM usage."
   ]
  },
  {
   "cell_type": "markdown",
   "metadata": {
    "id": "_tM5iEaYolWS"
   },
   "source": [
    "**NOTE:** you should be highly familiar with SpeechBrain [data-io](https://speechbrain.readthedocs.io/en/latest/tutorials/basics/data-loading-pipeline.html) to follow this tutorial."
   ]
  },
  {
   "cell_type": "code",
   "execution_count": 11,
   "metadata": {
    "executionInfo": {
     "elapsed": 6,
     "status": "ok",
     "timestamp": 1718826632325,
     "user": {
      "displayName": "adel moumen",
      "userId": "01620107593621714109"
     },
     "user_tz": 240
    },
    "id": "lTogAfnOrEjp"
   },
   "outputs": [],
   "source": [
    "# initializing a sb dataset object from this json\n",
    "from speechbrain.dataio.dataset import DynamicItemDataset\n",
    "import speechbrain\n",
    "\n",
    "# we instantiate here the train data dataset from the json manifest file\n",
    "train_data = DynamicItemDataset.from_json(\"data.json\")\n",
    "\n",
    "\n",
    "# we define a pipeline to read audio\n",
    "@speechbrain.utils.data_pipeline.takes(\"file_path\")\n",
    "@speechbrain.utils.data_pipeline.provides(\"signal\")\n",
    "def audio_pipeline(file_path):\n",
    "    sig = speechbrain.dataio.dataio.read_audio(file_path)\n",
    "    return sig\n",
    "\n",
    "\n",
    "# setting the pipeline\n",
    "train_data.add_dynamic_item(audio_pipeline)\n",
    "train_data.set_output_keys([\"signal\", \"file_path\"])"
   ]
  },
  {
   "cell_type": "markdown",
   "metadata": {
    "id": "Ggol_VzvrwME"
   },
   "source": [
    "Crucially to use `DynamicBatchSampler` **it is important that the manifest/dataset description file** (`json` or `csv`) **contains**, for each example, **an entry which specifies the duration or length of each example**.\n",
    "The `DynamicBatchSampler` will use this information to batch efficiently examples together."
   ]
  },
  {
   "cell_type": "code",
   "execution_count": 12,
   "metadata": {
    "colab": {
     "base_uri": "https://localhost:8080/"
    },
    "executionInfo": {
     "elapsed": 5,
     "status": "ok",
     "timestamp": 1718826632325,
     "user": {
      "displayName": "adel moumen",
      "userId": "01620107593621714109"
     },
     "user_tz": 240
    },
    "id": "X3JSZOecrzud",
    "outputId": "cb0a9bfe-6fef-4aad-c851-28eb9d71a35f"
   },
   "outputs": [
    {
     "name": "stdout",
     "output_type": "stream",
     "text": [
      "        \"spkID\": \"speaker_4640\",\n",
      "        \"length\": 247920\n",
      "    },\n",
      "    \"4640-19188-0035\": {\n",
      "        \"file_path\": \"/content/LibriSpeech/train-clean-5/4640/19188/4640-19188-0035.flac\",\n",
      "        \"words\": \"DO YOU DESIGNATE WHO IS TO REMAIN YES SAID THE FIVE CHOOSE WE WILL OBEY YOU MARIUS DID NOT BELIEVE THAT HE WAS CAPABLE OF ANOTHER EMOTION\",\n",
      "        \"spkID\": \"speaker_4640\",\n",
      "        \"length\": 184720\n",
      "    }\n",
      "}"
     ]
    }
   ],
   "source": [
    "!tail -n 10 data.json"
   ]
  },
  {
   "cell_type": "markdown",
   "metadata": {
    "id": "elu2P2lar5lH"
   },
   "source": [
    "We can see that in this case we have a length key containing, for each audio, the length in samples."
   ]
  },
  {
   "cell_type": "markdown",
   "metadata": {
    "id": "QFEPu-d6q8r-"
   },
   "source": [
    "#### Instantiating `DynamicBatchSampler`: Core Parameters\n",
    "\n",
    "---\n",
    "At its core, `DynamicBatchSampler` batches examples with similar lengths based on \"buckets\". Upon instantiation, based on the input args, several buckets are created. These buckets define a number of contiguous intervals e.g. $0\\leq x < 200, 200 \\leq x < 400$ and so on.  \n",
    "Examples whose lengths fall into a certain bucket are assumed as they have the same length and can be batched together. In some way, we are \"quantizing\" the lengths of the examples in the dataset.\n",
    "\n",
    "In the Figure below we have N buckets, each defined by his right boundary.\n",
    "For each bucket, we can have a different `batch_size` because we can fit more examples falling in the leftmost bucket than the rightmost one.\n",
    "\n",
    "For the first bucket, the batch size is 8 because 1725 // 200 = 8.\n",
    "\n"
   ]
  },
  {
   "cell_type": "markdown",
   "metadata": {
    "id": "XilSLmHmtHYY"
   },
   "source": [
    "<img width=\"600px\" src=\"https://raw.githubusercontent.com/vitas-ai/tutorial-dynamic-batching-images/main/ManualBuckets-3.png\"/>\n",
    "\n",
    "\n"
   ]
  },
  {
   "cell_type": "markdown",
   "metadata": {
    "id": "5tQSe564wK2U"
   },
   "source": [
    "In the Figure below we illustrate how 14 examples with different lengths are \"bucketized\": 3 examples in the first bucket, 5 examples in the second, 2 in  the third, 2 in the fourth and one in the last.\n",
    "\n",
    "One example is discarded because it is too long (its length is more than `max_batch_size`)."
   ]
  },
  {
   "cell_type": "markdown",
   "metadata": {
    "id": "zXmT-3KWwIkV"
   },
   "source": [
    "<img width=\"600px\" src=\"https://raw.githubusercontent.com/vitas-ai/tutorial-dynamic-batching-images/main/ManualBuckets-4.png\"/>"
   ]
  },
  {
   "cell_type": "markdown",
   "metadata": {
    "id": "eNco4lz-JurP"
   },
   "source": [
    "A minimal instantiation of `DynamicBatchSampler` requires four arguments at least:\n",
    "\n",
    "1.   A `Dataset` object (`train_data` here, note it can also be validation or test set).\n",
    "2.   `max_batch_length`: the maximum length we want in a batch. This will be the maximum aggregated length of all examples in a batch we are going to allow and must be chosen carefully to avoid OOM errors.\n",
    "A higher number means we are going to have, on average, an higher batch size so you must apply the same \"tricks\" as when batch size is increased for standard fixed batch size training. <br/>E.g. increase learning rate.\n",
    "3. `num_buckets`: number of buckets one wishes to use. If just one bucket is used, all examples can be batched together, and dynamic batching in this instance is the same as uniform random sampling of the examples.\n",
    "If too many buckets are specified the training will be slow because some buckets will be half empty.\n",
    "As a rule of thumb: num_buckets trades-off speed with randomization.\n",
    "<br/>Low number -> better randomization, High number -> faster training.\n",
    "\n",
    "4. `length_func`: function to be applied to each dataset element to get its length. In our case, we can see that the `.json` manifest contains a key *length* which specifies each audio length in samples. This can be used for example to convert the length into seconds or the number of feature frames. So that `max_batch_length` and the bucket boundaries will be specified not anymore in samples.\n"
   ]
  },
  {
   "cell_type": "markdown",
   "metadata": {
    "id": "xmNzc38_Hfow"
   },
   "source": [
    "We can specify `max_batch_length` in terms of seconds"
   ]
  },
  {
   "cell_type": "code",
   "execution_count": 13,
   "metadata": {
    "executionInfo": {
     "elapsed": 164,
     "status": "ok",
     "timestamp": 1718826632486,
     "user": {
      "displayName": "adel moumen",
      "userId": "01620107593621714109"
     },
     "user_tz": 240
    },
    "id": "cEk1NgP9HjwH"
   },
   "outputs": [],
   "source": [
    "from speechbrain.dataio.sampler import DynamicBatchSampler\n",
    "\n",
    "max_batch_len = 17 * 32\n",
    "\n",
    "dynamic_batcher = DynamicBatchSampler(\n",
    "    train_data,\n",
    "    max_batch_length=max_batch_len,\n",
    "    num_buckets=60,\n",
    "    length_func=lambda x: x[\"length\"] / 16000,\n",
    ")"
   ]
  },
  {
   "cell_type": "code",
   "execution_count": 14,
   "metadata": {
    "colab": {
     "base_uri": "https://localhost:8080/"
    },
    "executionInfo": {
     "elapsed": 7,
     "status": "ok",
     "timestamp": 1718826632486,
     "user": {
      "displayName": "adel moumen",
      "userId": "01620107593621714109"
     },
     "user_tz": 240
    },
    "id": "I-KXWrvq_ZuO",
    "outputId": "0fb5912d-6ca9-4c1a-f2e1-ca6a53d22e6b"
   },
   "outputs": [
    {
     "data": {
      "text/plain": [
       "11.98"
      ]
     },
     "execution_count": 14,
     "metadata": {},
     "output_type": "execute_result"
    }
   ],
   "source": [
    "dynamic_batcher._ex_lengths[\"0\"]"
   ]
  },
  {
   "cell_type": "code",
   "execution_count": 15,
   "metadata": {
    "colab": {
     "base_uri": "https://localhost:8080/"
    },
    "executionInfo": {
     "elapsed": 6,
     "status": "ok",
     "timestamp": 1718826632486,
     "user": {
      "displayName": "adel moumen",
      "userId": "01620107593621714109"
     },
     "user_tz": 240
    },
    "id": "OjLGSB-IhD0K",
    "outputId": "224bd1f5-c8cf-42c7-c54f-279ae8aa8726"
   },
   "outputs": [
    {
     "data": {
      "text/plain": [
       "41"
      ]
     },
     "execution_count": 15,
     "metadata": {},
     "output_type": "execute_result"
    }
   ],
   "source": [
    "len(dynamic_batcher)"
   ]
  },
  {
   "cell_type": "code",
   "execution_count": 16,
   "metadata": {
    "colab": {
     "base_uri": "https://localhost:8080/"
    },
    "executionInfo": {
     "elapsed": 4,
     "status": "ok",
     "timestamp": 1718826632486,
     "user": {
      "displayName": "adel moumen",
      "userId": "01620107593621714109"
     },
     "user_tz": 240
    },
    "id": "bwDemOO-U5G9",
    "outputId": "4b3251e0-81ba-403b-d4ec-47a052e45b2a"
   },
   "outputs": [
    {
     "name": "stdout",
     "output_type": "stream",
     "text": [
      "34\n",
      "44\n",
      "34\n",
      "34\n",
      "34\n",
      "44\n",
      "34\n",
      "57\n",
      "34\n",
      "34\n",
      "38\n",
      "34\n",
      "38\n",
      "53\n",
      "38\n",
      "17\n",
      "71\n",
      "38\n",
      "34\n",
      "16\n",
      "34\n",
      "34\n",
      "35\n",
      "38\n",
      "34\n",
      "30\n",
      "38\n",
      "34\n",
      "34\n",
      "8\n",
      "30\n",
      "44\n",
      "34\n",
      "38\n",
      "53\n",
      "38\n",
      "26\n",
      "71\n",
      "38\n",
      "34\n",
      "34\n"
     ]
    }
   ],
   "source": [
    "for b in dynamic_batcher:\n",
    "    print(len(b))"
   ]
  },
  {
   "cell_type": "code",
   "execution_count": 17,
   "metadata": {
    "colab": {
     "base_uri": "https://localhost:8080/"
    },
    "executionInfo": {
     "elapsed": 9886,
     "status": "ok",
     "timestamp": 1718826642370,
     "user": {
      "displayName": "adel moumen",
      "userId": "01620107593621714109"
     },
     "user_tz": 240
    },
    "id": "qhlzdqqNUKTL",
    "outputId": "8e1f986c-7804-4435-f140-e68608e47141"
   },
   "outputs": [
    {
     "name": "stdout",
     "output_type": "stream",
     "text": [
      "511.5\n",
      "515.8\n",
      "509.3\n",
      "506.6\n",
      "491.4\n",
      "345.4\n",
      "516.5\n",
      "506.6\n",
      "514.2\n",
      "479.3\n",
      "478.4\n",
      "195.0\n",
      "74.9\n",
      "501.8\n",
      "514.2\n",
      "328.9\n",
      "510.0\n",
      "514.6\n",
      "270.3\n",
      "514.0\n",
      "517.8\n",
      "519.4\n",
      "507.3\n",
      "505.9\n",
      "508.4\n",
      "467.8\n",
      "517.4\n",
      "511.2\n",
      "514.0\n",
      "424.3\n",
      "512.6\n",
      "503.3\n",
      "241.4\n",
      "510.6\n",
      "506.0\n",
      "512.4\n",
      "512.5\n",
      "508.0\n",
      "516.7\n",
      "489.6\n",
      "513.6\n"
     ]
    }
   ],
   "source": [
    "for b in dynamic_batcher:\n",
    "    print(\"%.1f\" % sum([train_data[i][\"signal\"].shape[0] / 16000 for i in b]))"
   ]
  },
  {
   "cell_type": "markdown",
   "metadata": {
    "id": "NfewXTPxuHI9"
   },
   "source": [
    "#### Using `DynamicBatchSampler`"
   ]
  },
  {
   "cell_type": "markdown",
   "metadata": {
    "id": "6pMNyqs-vvAj"
   },
   "source": [
    "Once this special batch sampler is instantiated it can be used in the standard Pytorch way by using it as a DataLoader argument:"
   ]
  },
  {
   "cell_type": "code",
   "execution_count": 18,
   "metadata": {
    "executionInfo": {
     "elapsed": 2,
     "status": "ok",
     "timestamp": 1718826642370,
     "user": {
      "displayName": "adel moumen",
      "userId": "01620107593621714109"
     },
     "user_tz": 240
    },
    "id": "mwyIQz5ROaw5"
   },
   "outputs": [],
   "source": [
    "dataloader = DataLoader(\n",
    "    train_data, batch_sampler=dynamic_batcher, collate_fn=PaddedBatch\n",
    ")\n",
    "# note that the batch size in the DataLoader cannot be specified when a batch sampler is used.\n",
    "# the batch size is handled by the batch_sampler and in this case is dynamic"
   ]
  },
  {
   "cell_type": "code",
   "execution_count": 19,
   "metadata": {
    "colab": {
     "base_uri": "https://localhost:8080/"
    },
    "executionInfo": {
     "elapsed": 429,
     "status": "ok",
     "timestamp": 1718826642798,
     "user": {
      "displayName": "adel moumen",
      "userId": "01620107593621714109"
     },
     "user_tz": 240
    },
    "id": "1YWQI8bUwN2v",
    "outputId": "be2ff8ef-b5c5-41a5-cbcb-57886a57926a"
   },
   "outputs": [
    {
     "name": "stdout",
     "output_type": "stream",
     "text": [
      "torch.Size([34])\n"
     ]
    }
   ],
   "source": [
    "# we can iterate now over the data in an efficient way using dynamic batching.\n",
    "# our DynamicBatchSampler will sample the index of the examples such that padding is minimized\n",
    "# while PaddedBatch will handle the actual padding and batching.\n",
    "# everything happens in parallel thanks to the torch DataLoader.\n",
    "first_batch = next(iter(dataloader))\n",
    "print(first_batch.signal.lengths.shape)"
   ]
  },
  {
   "cell_type": "code",
   "execution_count": 20,
   "metadata": {
    "colab": {
     "base_uri": "https://localhost:8080/"
    },
    "executionInfo": {
     "elapsed": 4,
     "status": "ok",
     "timestamp": 1718826642798,
     "user": {
      "displayName": "adel moumen",
      "userId": "01620107593621714109"
     },
     "user_tz": 240
    },
    "id": "jXOYNdw4wvD-",
    "outputId": "b35f4e40-14e9-4e50-ea7f-29d19749771a"
   },
   "outputs": [
    {
     "data": {
      "text/plain": [
       "torch.Size([34, 255280])"
      ]
     },
     "execution_count": 20,
     "metadata": {},
     "output_type": "execute_result"
    }
   ],
   "source": [
    "first_batch.signal.data.shape"
   ]
  },
  {
   "cell_type": "code",
   "execution_count": 21,
   "metadata": {
    "colab": {
     "base_uri": "https://localhost:8080/"
    },
    "executionInfo": {
     "elapsed": 10431,
     "status": "ok",
     "timestamp": 1718826653227,
     "user": {
      "displayName": "adel moumen",
      "userId": "01620107593621714109"
     },
     "user_tz": 240
    },
    "id": "bY0AwDiSxdVE",
    "outputId": "164f7843-d935-4d27-ef03-f57356cd2007"
   },
   "outputs": [
    {
     "name": "stdout",
     "output_type": "stream",
     "text": [
      "With Dynamic Batching: % True samples 92.1, % of padding 7.9, Total time 10.38s\n"
     ]
    }
   ],
   "source": [
    "percent_true, percent_padded, elapsed = count_samples(dataloader)\n",
    "print(\n",
    "    \"With Dynamic Batching: % True samples {:.1f}, % of padding {:.1f}, Total time {:.2f}s\".format(\n",
    "        percent_true * 100, percent_padded * 100, elapsed\n",
    "    )\n",
    ")"
   ]
  },
  {
   "cell_type": "markdown",
   "metadata": {
    "id": "5AuQKRKIxv-j"
   },
   "source": [
    "**The amount of padded values is significantly reduced vs the fixed batch size and full uniform random sampling.**\n",
    "\n",
    "It indeed is close to what is obtained with fully deterministic sorting and fixed batch size.\n",
    "The difference is that, here, with the DynamiBatchSampler we can still allow for some randomness in the sampling strategy.\n",
    "\n",
    "Moreover, by batching together examples changing the batch size we use our hardware at the fullest with each batch significantly speeding up training.\n",
    "\n",
    "We can look at the maximum number of examples that are batched together:"
   ]
  },
  {
   "cell_type": "code",
   "execution_count": 22,
   "metadata": {
    "colab": {
     "base_uri": "https://localhost:8080/"
    },
    "executionInfo": {
     "elapsed": 4,
     "status": "ok",
     "timestamp": 1718826653227,
     "user": {
      "displayName": "adel moumen",
      "userId": "01620107593621714109"
     },
     "user_tz": 240
    },
    "id": "2zjPhvgoZihU",
    "outputId": "79856ee9-5d37-42a6-e837-69a76b4e2864"
   },
   "outputs": [
    {
     "data": {
      "text/plain": [
       "41"
      ]
     },
     "execution_count": 22,
     "metadata": {},
     "output_type": "execute_result"
    }
   ],
   "source": [
    "len(dynamic_batcher)"
   ]
  },
  {
   "cell_type": "markdown",
   "metadata": {
    "id": "8guqeYr1Z9_q"
   },
   "source": [
    "Using the DynamicBatchSampler with the current parameters we have 41 batches.\n",
    "\n",
    "While using a fixed batch size of 32 we would end up with:"
   ]
  },
  {
   "cell_type": "code",
   "execution_count": 23,
   "metadata": {
    "colab": {
     "base_uri": "https://localhost:8080/"
    },
    "executionInfo": {
     "elapsed": 4,
     "status": "ok",
     "timestamp": 1718826653227,
     "user": {
      "displayName": "adel moumen",
      "userId": "01620107593621714109"
     },
     "user_tz": 240
    },
    "id": "EiO7KoM0Z1mi",
    "outputId": "040c1075-52c4-48bd-8b09-70ec8156bd97"
   },
   "outputs": [
    {
     "data": {
      "text/plain": [
       "48"
      ]
     },
     "execution_count": 23,
     "metadata": {},
     "output_type": "execute_result"
    }
   ],
   "source": [
    "len(train_data) // 32 + 1"
   ]
  },
  {
   "cell_type": "markdown",
   "metadata": {
    "id": "1djPRPX7aKEc"
   },
   "source": [
    "so more training iterations, with more padded values --> longer training time."
   ]
  },
  {
   "cell_type": "markdown",
   "metadata": {
    "id": "YxhMuUFeuSgx"
   },
   "source": [
    "Another way to use `DynamicBatchSampler` straightforwardly is by feeding it directly to the Brain class as an additional argument via `run_opts`. In this case, the Brain class will implicitly instantiate for you a `DataLoader`."
   ]
  },
  {
   "cell_type": "code",
   "execution_count": 24,
   "metadata": {
    "executionInfo": {
     "elapsed": 3,
     "status": "ok",
     "timestamp": 1718826653228,
     "user": {
      "displayName": "adel moumen",
      "userId": "01620107593621714109"
     },
     "user_tz": 240
    },
    "id": "6Ig9zJi0ugjn"
   },
   "outputs": [],
   "source": [
    "## dummy Brain class here with dummy model\n",
    "class SimpleBrain(speechbrain.Brain):\n",
    "    def compute_forward(self, batch, stage):\n",
    "        return model(batch[\"signal\"][0].unsqueeze(1))\n",
    "\n",
    "    def compute_objectives(self, predictions, batch, stage):\n",
    "        loss_dummy = torch.mean(predictions)\n",
    "        return loss_dummy"
   ]
  },
  {
   "cell_type": "code",
   "execution_count": 25,
   "metadata": {
    "colab": {
     "base_uri": "https://localhost:8080/"
    },
    "executionInfo": {
     "elapsed": 40473,
     "status": "ok",
     "timestamp": 1718826693699,
     "user": {
      "displayName": "adel moumen",
      "userId": "01620107593621714109"
     },
     "user_tz": 240
    },
    "id": "-HdYfcSO_v1X",
    "outputId": "6f73a392-3faa-485a-c009-f77a12ea66b5"
   },
   "outputs": [
    {
     "name": "stderr",
     "output_type": "stream",
     "text": [
      "100%|██████████| 1519/1519 [00:37<00:00, 40.24it/s, train_loss=-75.8]\n"
     ]
    }
   ],
   "source": [
    "model = torch.nn.Conv1d(1, 1, 3)\n",
    "brain = SimpleBrain(\n",
    "    {\"model\": model},\n",
    "    opt_class=lambda x: torch.optim.SGD(x, 0.1),\n",
    "    run_opts={\"batch_sampler\": dynamic_batcher},\n",
    ")\n",
    "brain.fit(range(1), train_data)"
   ]
  },
  {
   "cell_type": "markdown",
   "metadata": {
    "id": "FrsjDadz0AP_"
   },
   "source": [
    "### Advanced Parameters: Full control over randomness, training speed, and VRAM consumption.\n",
    "---\n",
    "Right now we have explored the most basilar input args for `DynamicBatchSampler`.\n",
    "Let's see more advanced parameters.\n",
    "\n",
    "#### Controlling Randomness\n",
    "\n",
    "\n",
    "Randomness in `DynamicBatchSampler` is controlled with `shuffle` and `batch_ordering`.\n",
    "\n",
    "`shuffle` is a flag:\n",
    "\n",
    "* if `true`, then dynamic batches are created based on random sampling (deterministically based on `epoch` and `seed` parameters) at each epoch (included upon `DynamicBatchSampler` instantiation or epoch 0);\n",
    "* if `false`, then dynamic batches are created taking the examples from the database as they are. If the dataset is sorted in ascending or descending order this ordering is preserved. Note that if `false` the batches will be created once and never change during training (their permutation can change however see next).\n",
    "\n",
    "\n",
    "\n",
    "Batch permutation depends on `batch_ordering`:\n",
    "\n",
    "* `\"random\"` deterministically shuffles batches based on `epoch` and `seed` parameters\n",
    "* `\"ascending\"` and `\"descending\"` sort the batches based on the duration of the longest example in the batch.\n",
    "\n",
    "This argument is independent of `shuffle`.`shuffle` controls if we have to shuffle the examples before creating the batches. `batch_ordering` instead controls the shuffling of the batches after they have been created.\n",
    "For example, if set to `\"ascending\"` the first batch returned by the batch sampler will be the one with the shortest example in the dataset (examples belonging to the leftmost bucket); while the last one will contain the longest example in the dataset.\n",
    "\n",
    "\n",
    "NOTE: when iterating the `DynamicBatchSampler` (calling its `__iter__` function):\n",
    "\n",
    "* dynamic batches are re-generated at each epoch if `shuffle == True`; or\n",
    "* dynamic batches are permuted at each epoch if `batch_ordering == \"random\"`\n",
    "\n",
    "\n",
    "\n",
    "Note that also `num_buckets` affects randomization of training. As we stated before if `num_buckets`-->1 we obtain full random sampling as all examples can be batched together at least if `shuffle` is True and `batch_ordering` is random. Curiously even if `num_buckets` is very large we also obtain full random sampling if `shuffle` is True and `batch_ordering` is random as practically every example in the dataset is batched alone (we will have closer to batch size == 1 and very slow training, probably you want to avoid this)."
   ]
  },
  {
   "cell_type": "markdown",
   "metadata": {
    "id": "2GR81Tjmeqxl"
   },
   "source": [
    "Here we create the batches by firstly shuffling the examples (so the batches will be different at each epoch) but then sort them so always the one with the shortest example comes first."
   ]
  },
  {
   "cell_type": "code",
   "execution_count": 26,
   "metadata": {
    "colab": {
     "base_uri": "https://localhost:8080/"
    },
    "executionInfo": {
     "elapsed": 292,
     "status": "ok",
     "timestamp": 1718826693986,
     "user": {
      "displayName": "adel moumen",
      "userId": "01620107593621714109"
     },
     "user_tz": 240
    },
    "id": "A1brcnzleTp1",
    "outputId": "bc0a5a4f-51a3-44f2-ffda-b0043c343c3d"
   },
   "outputs": [
    {
     "data": {
      "text/plain": [
       "torch.Size([71, 120480])"
      ]
     },
     "execution_count": 26,
     "metadata": {},
     "output_type": "execute_result"
    }
   ],
   "source": [
    "from speechbrain.dataio.sampler import DynamicBatchSampler\n",
    "\n",
    "max_batch_len = 17 * 32\n",
    "\n",
    "dynamic_batcher = DynamicBatchSampler(\n",
    "    train_data,\n",
    "    max_batch_length=max_batch_len,\n",
    "    num_buckets=60,\n",
    "    length_func=lambda x: x[\"length\"] / 16000,\n",
    "    shuffle=True,\n",
    "    batch_ordering=\"ascending\",\n",
    ")\n",
    "\n",
    "dataloader = DataLoader(\n",
    "    train_data, batch_sampler=dynamic_batcher, collate_fn=PaddedBatch\n",
    ")\n",
    "\n",
    "first_batch = next(iter(dataloader))\n",
    "\n",
    "first_batch.signal[0].shape"
   ]
  },
  {
   "cell_type": "markdown",
   "metadata": {
    "id": "A07LSqX7e9PN"
   },
   "source": [
    "We can use instead descending order"
   ]
  },
  {
   "cell_type": "code",
   "execution_count": 27,
   "metadata": {
    "colab": {
     "base_uri": "https://localhost:8080/"
    },
    "executionInfo": {
     "elapsed": 299,
     "status": "ok",
     "timestamp": 1718826694284,
     "user": {
      "displayName": "adel moumen",
      "userId": "01620107593621714109"
     },
     "user_tz": 240
    },
    "id": "ONwRup3NfAzy",
    "outputId": "2d3e34e3-ae7c-42de-f16b-0911fc1b3b5c"
   },
   "outputs": [
    {
     "data": {
      "text/plain": [
       "torch.Size([30, 276400])"
      ]
     },
     "execution_count": 27,
     "metadata": {},
     "output_type": "execute_result"
    }
   ],
   "source": [
    "from speechbrain.dataio.sampler import DynamicBatchSampler\n",
    "\n",
    "max_batch_len = 17 * 32\n",
    "\n",
    "dynamic_batcher = DynamicBatchSampler(\n",
    "    train_data,\n",
    "    max_batch_length=max_batch_len,\n",
    "    num_buckets=60,\n",
    "    length_func=lambda x: x[\"length\"] / 16000,\n",
    "    shuffle=True,\n",
    "    batch_ordering=\"descending\",\n",
    ")\n",
    "\n",
    "dataloader = DataLoader(\n",
    "    train_data, batch_sampler=dynamic_batcher, collate_fn=PaddedBatch\n",
    ")\n",
    "\n",
    "first_batch = next(iter(dataloader))\n",
    "\n",
    "first_batch.signal[0].shape"
   ]
  },
  {
   "cell_type": "markdown",
   "metadata": {
    "id": "XqAasFaEfIrQ"
   },
   "source": [
    "We can see that it now returns the batch with longest example."
   ]
  },
  {
   "cell_type": "markdown",
   "metadata": {
    "id": "vwXc_DTLJ4t0"
   },
   "source": [
    "##### Specifying manually the buckets"
   ]
  },
  {
   "cell_type": "markdown",
   "metadata": {
    "id": "MXTgObmHJWYa"
   },
   "source": [
    "The argument `bucket_boundaries` can be used to manually specify how many buckets and what are their boundaries.\n",
    "\n",
    "Needless to say, this arg will supersede `num_buckets`.\n",
    "\n",
    "Let's see an example:"
   ]
  },
  {
   "cell_type": "code",
   "execution_count": 28,
   "metadata": {
    "executionInfo": {
     "elapsed": 2,
     "status": "ok",
     "timestamp": 1718826694284,
     "user": {
      "displayName": "adel moumen",
      "userId": "01620107593621714109"
     },
     "user_tz": 240
    },
    "id": "npoZZCNaKZkO"
   },
   "outputs": [],
   "source": [
    "# trivial example just one bucket\n",
    "dynamic_batcher = DynamicBatchSampler(\n",
    "    train_data,\n",
    "    max_batch_length=max_batch_len,\n",
    "    bucket_boundaries=[max_batch_len],\n",
    "    length_func=lambda x: x[\"length\"],\n",
    ")"
   ]
  },
  {
   "cell_type": "markdown",
   "metadata": {
    "id": "s9mYhtGiSH5q"
   },
   "source": [
    "It is easy to see that having just one bucket in this case all examples can be batched together. Even the shortest ones with the longest ones.\n",
    "\n",
    "When just one bucket is used the `DynamicBatchSampler` will be inefficient as it will not minimize at all the amount of padding in each batch with a behavior similar to having a fixed batch size.\n",
    "\n",
    "As we said previously we have the maximal amount of randomness in each batch as each example can be batched with any other one, regardless of its length.\n",
    "We can now see more clearly the trade-off between training speed and randomness.\n",
    "\n"
   ]
  },
  {
   "cell_type": "markdown",
   "metadata": {
    "id": "4pYvO6cqTVTz"
   },
   "source": [
    "Here, in a more practical example, we use `bucket_boundaries` argument to specify a distribution for the buckets, given the distribution of the length of the audio files in our dataset, which we have plotted before and has, a **reversed log-normal distribution**."
   ]
  },
  {
   "cell_type": "code",
   "execution_count": 29,
   "metadata": {
    "colab": {
     "base_uri": "https://localhost:8080/"
    },
    "executionInfo": {
     "elapsed": 12118,
     "status": "ok",
     "timestamp": 1718826706400,
     "user": {
      "displayName": "adel moumen",
      "userId": "01620107593621714109"
     },
     "user_tz": 240
    },
    "id": "xaykn4vlUFLc",
    "outputId": "c3f0a8f5-a486-493a-adb6-b19e659a3bf3"
   },
   "outputs": [
    {
     "name": "stdout",
     "output_type": "stream",
     "text": [
      "With Dynamic Batching: % True samples 89.8, % of padding 10.2, Total time 12.07\n",
      "\n"
     ]
    },
    {
     "data": {
      "text/plain": [
       "[512.8205128205128,\n",
       " 1025.6410256410256,\n",
       " 1538.4615384615386,\n",
       " 2051.2820512820513,\n",
       " 2564.102564102564,\n",
       " 3076.923076923077,\n",
       " 3589.74358974359,\n",
       " 4102.5641025641025,\n",
       " 4615.384615384615,\n",
       " 5128.205128205128,\n",
       " 5641.025641025641,\n",
       " 6153.846153846154,\n",
       " 6666.666666666667,\n",
       " 7179.48717948718,\n",
       " 7692.307692307692,\n",
       " 8205.128205128205,\n",
       " 8717.948717948719,\n",
       " 9230.76923076923,\n",
       " 9743.589743589744,\n",
       " 10256.410256410256,\n",
       " 10769.23076923077,\n",
       " 11282.051282051281,\n",
       " 11794.871794871795,\n",
       " 12307.692307692309,\n",
       " 12820.51282051282,\n",
       " 13333.333333333334,\n",
       " 13846.153846153846,\n",
       " 14358.97435897436,\n",
       " 14871.794871794871,\n",
       " 15384.615384615385,\n",
       " 15897.435897435897,\n",
       " 16410.25641025641,\n",
       " 16923.076923076922,\n",
       " 17435.897435897437,\n",
       " 17948.71794871795,\n",
       " 18461.53846153846,\n",
       " 18974.358974358973,\n",
       " 19487.17948717949,\n",
       " 20000.0]"
      ]
     },
     "execution_count": 29,
     "metadata": {},
     "output_type": "execute_result"
    }
   ],
   "source": [
    "# number of buckets --> less buckets more randomness\n",
    "n_buckets = 40\n",
    "\n",
    "# we can create n_buckets linearly spaced\n",
    "max_batch_len = 20000\n",
    "import numpy as np\n",
    "\n",
    "buckets = np.linspace(0, max_batch_len, n_buckets)\n",
    "buckets_bounds = buckets[1:].tolist()\n",
    "dynamic_batcher = DynamicBatchSampler(\n",
    "    train_data,\n",
    "    max_batch_length=max_batch_len,\n",
    "    bucket_boundaries=buckets_bounds,\n",
    "    length_func=lambda x: x[\"length\"] / 160,\n",
    ")  # length in terms of 10ms\n",
    "\n",
    "dataloader = DataLoader(\n",
    "    train_data, batch_sampler=dynamic_batcher, collate_fn=PaddedBatch\n",
    ")\n",
    "percent_true, percent_padded, elapsed = count_samples(dataloader)\n",
    "print(\n",
    "    \"With Dynamic Batching: % True samples {:.1f}, % of padding {:.1f}, Total time {:.2f}\\n\".format(\n",
    "        percent_true * 100, percent_padded * 100, elapsed\n",
    "    )\n",
    ")\n",
    "\n",
    "import numpy as np\n",
    "\n",
    "max_batch_len = 20000\n",
    "n_buckets = 40\n",
    "buckets = np.linspace(0, max_batch_len, n_buckets)\n",
    "buckets[1:].tolist()"
   ]
  },
  {
   "cell_type": "markdown",
   "metadata": {
    "id": "uqYwDqcDW4GE"
   },
   "source": [
    "*However*, having linearly spaced buckets when our length distribution is not uniform is sub-optimal.\n"
   ]
  },
  {
   "cell_type": "markdown",
   "metadata": {
    "id": "0dJX0aJvp1zc"
   },
   "source": [
    "Intuitively one better way to generate the buckets is using an exponential distribution as we can employ coarser buckets for longer examples.\n",
    "Indeed, more padding for longer examples has less impact as overall the examples are longer."
   ]
  },
  {
   "cell_type": "code",
   "execution_count": 30,
   "metadata": {
    "colab": {
     "base_uri": "https://localhost:8080/"
    },
    "executionInfo": {
     "elapsed": 10923,
     "status": "ok",
     "timestamp": 1718826717317,
     "user": {
      "displayName": "adel moumen",
      "userId": "01620107593621714109"
     },
     "user_tz": 240
    },
    "id": "9rnF21yhqjUF",
    "outputId": "7f0d5533-a3f3-49c3-edd9-a4e599dd908e"
   },
   "outputs": [
    {
     "name": "stdout",
     "output_type": "stream",
     "text": [
      "With Dynamic Batching: % True samples 94.0, % of padding 6.0, Total time 10.81\n",
      "\n"
     ]
    },
    {
     "data": {
      "text/plain": [
       "[200,\n",
       " 240.0,\n",
       " 288.0,\n",
       " 345.59999999999997,\n",
       " 414.71999999999997,\n",
       " 497.66399999999993,\n",
       " 597.1967999999999,\n",
       " 716.6361599999999,\n",
       " 859.9633919999999,\n",
       " 1031.9560703999998,\n",
       " 1238.3472844799996,\n",
       " 1486.0167413759996,\n",
       " 1783.2200896511995,\n",
       " 2139.8641075814394,\n",
       " 2567.836929097727,\n",
       " 3081.4043149172726,\n",
       " 3697.685177900727,\n",
       " 4437.222213480873,\n",
       " 5324.666656177047,\n",
       " 6389.599987412456,\n",
       " 7667.519984894947,\n",
       " 9201.023981873936,\n",
       " 11041.228778248722,\n",
       " 13249.474533898467,\n",
       " 15899.36944067816,\n",
       " 19079.24332881379,\n",
       " 22895.09199457655,\n",
       " 27474.110393491857,\n",
       " 32968.93247219023,\n",
       " 39562.71896662827,\n",
       " 47475.26275995393,\n",
       " 56970.31531194471,\n",
       " 68364.37837433365,\n",
       " 82037.25404920038,\n",
       " 98444.70485904044,\n",
       " 118133.64583084853,\n",
       " 141760.37499701823,\n",
       " 170112.44999642187,\n",
       " 204134.93999570623,\n",
       " 244961.92799484747,\n",
       " 293954.31359381694]"
      ]
     },
     "execution_count": 30,
     "metadata": {},
     "output_type": "execute_result"
    }
   ],
   "source": [
    "# number of buckets --> less buckets more randomness\n",
    "n_buckets = 40\n",
    "# we can create n_buckets linearly spaced\n",
    "max_batch_len = 20000\n",
    "import numpy as np\n",
    "\n",
    "batch_multiplier = 1.2\n",
    "buckets_bounds = [200]\n",
    "for x in range(n_buckets):\n",
    "    buckets_bounds.append(buckets_bounds[-1] * batch_multiplier)\n",
    "\n",
    "dynamic_batcher = DynamicBatchSampler(\n",
    "    train_data,\n",
    "    max_batch_length=max_batch_len,\n",
    "    bucket_boundaries=buckets_bounds,\n",
    "    length_func=lambda x: x[\"length\"] / 160,\n",
    ")  # length in terms of 10ms\n",
    "\n",
    "dataloader = DataLoader(\n",
    "    train_data, batch_sampler=dynamic_batcher, collate_fn=PaddedBatch\n",
    ")\n",
    "percent_true, percent_padded, elapsed = count_samples(dataloader)\n",
    "print(\n",
    "    \"With Dynamic Batching: % True samples {:.1f}, % of padding {:.1f}, Total time {:.2f}\\n\".format(\n",
    "        percent_true * 100, percent_padded * 100, elapsed\n",
    "    )\n",
    ")\n",
    "\n",
    "# number of buckets --> less buckets more randomness\n",
    "n_buckets = 40\n",
    "# we can create n_buckets linearly spaced\n",
    "max_batch_len = 20000\n",
    "import numpy as np\n",
    "\n",
    "batch_multiplier = 1.2\n",
    "buckets_bounds = [200]\n",
    "for x in range(n_buckets):\n",
    "    buckets_bounds.append(buckets_bounds[-1] * batch_multiplier)\n",
    "\n",
    "buckets_bounds"
   ]
  },
  {
   "cell_type": "code",
   "execution_count": 31,
   "metadata": {
    "colab": {
     "base_uri": "https://localhost:8080/"
    },
    "executionInfo": {
     "elapsed": 5,
     "status": "ok",
     "timestamp": 1718826717317,
     "user": {
      "displayName": "adel moumen",
      "userId": "01620107593621714109"
     },
     "user_tz": 240
    },
    "id": "ioyIneckuE1_",
    "outputId": "9b8bcd54-d640-499f-8b16-517a3817f6e5"
   },
   "outputs": [
    {
     "data": {
      "text/plain": [
       "115"
      ]
     },
     "execution_count": 31,
     "metadata": {},
     "output_type": "execute_result"
    }
   ],
   "source": [
    "len(dynamic_batcher._batches)"
   ]
  },
  {
   "cell_type": "markdown",
   "metadata": {
    "id": "cgRNd2latc2a"
   },
   "source": [
    "The amount of padding is reduced by using a more appropriate distribution.\n",
    "\n",
    "---\n",
    "\n"
   ]
  },
  {
   "cell_type": "code",
   "execution_count": 32,
   "metadata": {
    "executionInfo": {
     "elapsed": 8850,
     "status": "ok",
     "timestamp": 1718826726164,
     "user": {
      "displayName": "adel moumen",
      "userId": "01620107593621714109"
     },
     "user_tz": 240
    },
    "id": "RtHZft5Vg010"
   },
   "outputs": [],
   "source": [
    "lengths = np.array([torchaudio.info(x).num_frames for x in all_flacs])\n",
    "from scipy.stats import beta\n",
    "\n",
    "lengths = (lengths - np.amin(lengths)) / (np.amax(lengths) - np.amin(lengths))\n",
    "lengths = np.clip(lengths, 1e-6, 1 - 1e-6)\n",
    "a, b, loc, upper = beta.fit(lengths, floc=0, fscale=1)"
   ]
  },
  {
   "cell_type": "markdown",
   "metadata": {
    "id": "HHAEaTMc9rg7"
   },
   "source": [
    "## How to find good hyper-parameters and speed up training with DynamicBatchSampler\n",
    "\n",
    "\n",
    "Training speed largely depends on:\n",
    "\n",
    "\n",
    "*   `max_batch_length`: you want to set this as high as possible without getting OOM errors.\n",
    "*   `num_buckets`: you want to avoid too low values and too high values for this parameter. As said previously: too low values and shorter examples will be batched also with longer ones, too high and almost all examples are batched alone. In both cases, your training will be extremely slow.\n",
    "\n",
    "\n",
    "Finding a good value for  `max_batch_length`:\n",
    "\n",
    "\n",
    "1.   Sort the dataset in descending order, set `shuffle = False` and `batch_ordering = \"descending\"` and do multiple short runs increasing  `max_batch_length` till you get an OOM error. Choose a value slightly below the one that leads to OOM.\n",
    "\n",
    "Finding a good value for  `num_buckets`:\n",
    "\n",
    "1. Without using `DynamicBatchSampler`, sort the dataset in descending order and find the maximum batch size that your GPU can handle. Look at the estimated time and number of batches for this configuration given in the very first iterations.\n",
    "2. Sort the dataset in descending order, set `shuffle = False` and `batch_ordering = \"descending\"`  and `max_batch_length` with the value found before. Start with a `num_buckets` between 10 and 20 and do some guesses by doing some short runs looking at the estimated time and number of batches for each configuration. Choose the value which gives fewer batches than the one in step 1 (without dynamic batching) and whose estimated time is lower."
   ]
  },
  {
   "cell_type": "markdown",
   "metadata": {
    "id": "gVJiv2igqSyb"
   },
   "source": [
    "### Dynamic Batching with Web dataset\n",
    "When working on an HPC cluster it is crucial to copy the dataset to the SSD of the local computing node. This step significantly improves the data-io performance and avoids slowing down a shared filesystem. In some cases, the dataset could be too big that might not fit into the SSD. This scenario is getting more common these days with the adoption of larger and larger datasets.\n",
    "\n",
    "SpeechBrain supports [Webdataset](https://github.com/webdataset/webdataset), which allows users to efficiently read datasets from the shared file system.\n",
    "The proposed Webdataset-based solution also supports dynamic batching. For more information, please take a look at [this tutorial](https://speechbrain.readthedocs.io/en/latest/tutorials/advanced/data-loading-for-big-datasets-and-shared-filesystems.html)."
   ]
  },
  {
   "cell_type": "markdown",
   "metadata": {
    "id": "B3jUpS4pxv3q"
   },
   "source": [
    "## Acknowledgements\n",
    "\n",
    "SpeechBrain DynamicBatchSampler has been developed by Ralf Leibold and Andreas Nautsch with the help of Samuele Cornell"
   ]
  },
  {
   "cell_type": "markdown",
   "metadata": {
    "id": "sb_auto_footer",
    "tags": [
     "sb_auto_footer"
    ]
   },
   "source": [
    "## Citing SpeechBrain\n",
    "\n",
    "If you use SpeechBrain in your research or business, please cite it using the following BibTeX entry:\n",
    "\n",
    "```bibtex\n",
    "@misc{speechbrainV1,\n",
    "  title={Open-Source Conversational AI with {SpeechBrain} 1.0},\n",
    "  author={Mirco Ravanelli and Titouan Parcollet and Adel Moumen and Sylvain de Langen and Cem Subakan and Peter Plantinga and Yingzhi Wang and Pooneh Mousavi and Luca Della Libera and Artem Ploujnikov and Francesco Paissan and Davide Borra and Salah Zaiem and Zeyu Zhao and Shucong Zhang and Georgios Karakasidis and Sung-Lin Yeh and Pierre Champion and Aku Rouhe and Rudolf Braun and Florian Mai and Juan Zuluaga-Gomez and Seyed Mahed Mousavi and Andreas Nautsch and Xuechen Liu and Sangeet Sagar and Jarod Duret and Salima Mdhaffar and Gaelle Laperriere and Mickael Rouvier and Renato De Mori and Yannick Esteve},\n",
    "  year={2024},\n",
    "  eprint={2407.00463},\n",
    "  archivePrefix={arXiv},\n",
    "  primaryClass={cs.LG},\n",
    "  url={https://arxiv.org/abs/2407.00463},\n",
    "}\n",
    "@misc{speechbrain,\n",
    "  title={{SpeechBrain}: A General-Purpose Speech Toolkit},\n",
    "  author={Mirco Ravanelli and Titouan Parcollet and Peter Plantinga and Aku Rouhe and Samuele Cornell and Loren Lugosch and Cem Subakan and Nauman Dawalatabad and Abdelwahab Heba and Jianyuan Zhong and Ju-Chieh Chou and Sung-Lin Yeh and Szu-Wei Fu and Chien-Feng Liao and Elena Rastorgueva and François Grondin and William Aris and Hwidong Na and Yan Gao and Renato De Mori and Yoshua Bengio},\n",
    "  year={2021},\n",
    "  eprint={2106.04624},\n",
    "  archivePrefix={arXiv},\n",
    "  primaryClass={eess.AS},\n",
    "  note={arXiv:2106.04624}\n",
    "}\n",
    "```"
   ]
  }
 ],
 "metadata": {
  "colab": {
   "provenance": [
    {
     "file_id": "1Z5JmWionKAgTkWEbzLpb_kea6VEdRVAZ",
     "timestamp": 1639958144782
    },
    {
     "file_id": "19y3Z2moUYJA_ofvear6IG9LqpN1-uYYE",
     "timestamp": 1639958094720
    },
    {
     "file_id": "1SKvv_hO9R6vlBIb7_9fpQG6VBKQ8DJON",
     "timestamp": 1639432761997
    }
   ]
  },
  "kernelspec": {
   "display_name": "Python 3 (ipykernel)",
   "language": "python",
   "name": "python3"
  },
  "language_info": {
   "codemirror_mode": {
    "name": "ipython",
    "version": 3
   },
   "file_extension": ".py",
   "mimetype": "text/x-python",
   "name": "python",
   "nbconvert_exporter": "python",
   "pygments_lexer": "ipython3",
   "version": "3.12.6"
  }
 },
 "nbformat": 4,
 "nbformat_minor": 4
}
