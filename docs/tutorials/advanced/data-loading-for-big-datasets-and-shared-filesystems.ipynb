{
 "cells": [
  {
   "cell_type": "markdown",
   "metadata": {
    "id": "sb_auto_header",
    "tags": [
     "sb_auto_header"
    ]
   },
   "source": [
    "<!-- This cell is automatically updated by tools/tutorial-cell-updater.py -->\n",
    "<!-- The contents are initialized from tutorials/notebook-header.md -->\n",
    "\n",
    "[<img src=\"https://colab.research.google.com/assets/colab-badge.svg\" alt=\"Open In Colab\"/>](https://colab.research.google.com/github/speechbrain/speechbrain/blob/develop/docs/tutorials/advanced/data-loading-for-big-datasets-and-shared-filesystems.ipynb)\n",
    "to execute or view/download this notebook on\n",
    "[GitHub](https://github.com/speechbrain/speechbrain/tree/develop/docs/tutorials/advanced/data-loading-for-big-datasets-and-shared-filesystems.ipynb)"
   ]
  },
  {
   "cell_type": "markdown",
   "metadata": {
    "id": "geevgOW2-M9Y"
   },
   "source": [
    "# Data Loading for Big Datasets and Shared Filesystems\n",
    "\n",
    "Do you have a large dataset stored in a shared filesystem, and you want to use it for training a neural network? Is this dataset so large that it doesn't even fit into the local SSD of your computation nodes? If so, this tutorial will walk you through all the needed steps to manage reading large files from a shared filesystem.\n",
    "\n",
    "In many compute clusters, the main data storage is a network filesystem (NFS), for example [Lustre](https://en.wikipedia.org/wiki/Lustre_(file_system)). <!-- ignore-url-check --> The NFS can serve many users concurrently and provide high data throughput from a single file. However, opening or listing many different files is slow - and doing so may slow the whole system down for everyone, not just the offending user. Speech datasets usually consist of very many small recordings. Reading every file again and again is exactly the kind of data IO that can slow down an NFS.\n",
    "\n",
    "One solution is to copy the dataset into the **local SSD** of the computing node. This can be done relatively efficiently by compressing the dataset into a single file (e.g. `dataset.tar.gz`), copying it into the local node, and finally, uncompressing (untarring) the file. Reading files from the local SSD is very efficient and does not harm the performance of the shared filesystem.\n",
    "The standard SpeechBrain data IO works well in this case, see [this tutorial](https://speechbrain.readthedocs.io/en/latest/tutorials/basics/data-loading-pipeline.html).\n",
    "However, there might be huge datasets that exceed the size of your local SSD.  \n",
    "\n",
    "A possible workaround is to keep the data in the shared filesystem and bundle the small recordings into larger archives, which are usually called **shards**. Loading data off shards avoids opening too many files, so it is fast.\n",
    "\n",
    "When reading data from shards, random access across the dataset is no longer possible. Data is read sequentially, from a **stream**. This requires a bit of care in preparing the experiment.\n",
    "\n",
    "The case for sharded IO laid out above is typical in an academic compute-cluster setup. Streaming data IO can also be used in even larger scales with dedicated data servers.\n",
    "\n",
    "In this tutorial we will use the **WebDataset** library. Alternatives and the case for WebDataset are laid out by the WebDataset developer in [this PyTorch proposal](https://github.com/pytorch/pytorch/issues/38419).\n"
   ]
  },
  {
   "cell_type": "markdown",
   "metadata": {
    "id": "Xgyxbji2bivF"
   },
   "source": [
    "\n",
    "## What is WebDataset?\n",
    "\n",
    "[WebDataset](https://github.com/webdataset/webdataset) is a sharded (streaming) data IO library that works well with PyTorch. WebDataset uses standard TAR archives as the shard format, with the simple convention that all consequtive files that have the same basename belong to the same example. So listing `data-archive/shard-0000.tar`s contents can look like:\n",
    "\n",
    "```\n",
    "> tar -t data-archives/shard-0000.tar\n",
    "spk1-utt1.wav\n",
    "spk1-utt1.txt\n",
    "spk1-utt1.json\n",
    "spk1-utt2.wav\n",
    "spk1-utt2.txt\n",
    "spk1-utt2.json\n",
    "spk2-utt1wav\n",
    "spk2-utt1.txt\n",
    "spk2-utt1.json\n",
    "...\n",
    "```\n",
    "\n",
    "On the Python side, the dataset interface is an [IterableDataset](https://pytorch.org/docs/stable/data.html#iterable-style-datasets), and it has a set of methods which can be chained to build a data pipeline, like:\n",
    "\n",
    "```python\n",
    "import webdataset as wds  # Note the typical import shorthand\n",
    "dataset = (\n",
    "      wds.WebDataset(\"data-archives/shard-00{00...24}.tar\")  # 25 shards\n",
    "      .decode()  # Automagically decode files\n",
    "      .shuffle(size=1000)  # Shuffle on-the-fly in a buffer\n",
    "      .batch(batchsize=10)  # Create batches\n",
    ")\n",
    "```\n",
    "\n",
    "Note that WebDataset is (at least at the time of writing) a fast moving library. It is also being considered for inclusion in the PyTorch core. Again, read more [here](https://github.com/pytorch/pytorch/issues/38419) and [here](https://pytorch.org/blog/efficient-pytorch-io-library-for-large-datasets-many-files-many-gpus/).\n",
    "\n"
   ]
  },
  {
   "cell_type": "markdown",
   "metadata": {
    "id": "6RBQlaRvTSN4"
   },
   "source": [
    "## Installing dependencies"
   ]
  },
  {
   "cell_type": "code",
   "execution_count": null,
   "metadata": {
    "id": "jrilWKHNVUiK"
   },
   "outputs": [],
   "source": [
    "%%capture\n",
    "# Installing SpeechBrain via pip\n",
    "BRANCH = \"develop\"\n",
    "!python -m pip install git+https://github.com/speechbrain/speechbrain.git@$BRANCH"
   ]
  },
  {
   "cell_type": "code",
   "execution_count": null,
   "metadata": {
    "id": "DPX-4BBbX5L9"
   },
   "outputs": [],
   "source": [
    "%%capture\n",
    "!pip install \"webdataset<0.2\""
   ]
  },
  {
   "cell_type": "code",
   "execution_count": null,
   "metadata": {
    "id": "iaKvk0eKZ_iv"
   },
   "outputs": [],
   "source": [
    "import speechbrain as sb\n",
    "import webdataset as wds\n",
    "import torch\n",
    "import glob\n",
    "import pathlib\n",
    "import random"
   ]
  },
  {
   "cell_type": "markdown",
   "metadata": {
    "id": "G2FZpMS9xprl"
   },
   "source": [
    "## Creating TAR shards\n",
    "\n",
    "The data-prep process in WebDataset is to iterate over each example in the dataset and split them into TAR shards. TAR files are a standard format, so you could create them with any standard tools. WebDataset has a couple of helpers, which can make this process a bit easier.\n",
    "\n",
    "- Tarp, a Go-based tool which can split a TAR stream into shards, and do a couple of other streaming processing tasks. See [the GitHub page](https://github.com/webdataset/tarp). This is a separate tool, and requires a separate installation, but Go could theoretically be faster than Python.\n",
    "- `wds.ShardWriter`, a Python class that can write WebDataset style `dict`s into TAR archives, splitting into multiple shards of a given size. This is the approach we will take here.\n",
    "\n",
    "\n"
   ]
  },
  {
   "cell_type": "markdown",
   "metadata": {
    "id": "guxT9hrC9-tX"
   },
   "source": [
    "### Download some data\n",
    "\n",
    "In this tutorial we will work with the development set of Mini Librispeech (but we will treat it like any normal training data)."
   ]
  },
  {
   "cell_type": "code",
   "execution_count": null,
   "metadata": {
    "id": "9L2__cR89yn7"
   },
   "outputs": [],
   "source": [
    "%%capture\n",
    "!wget https://www.openslr.org/resources/31/dev-clean-2.tar.gz\n",
    "!tar -xvzf dev-clean-2.tar.gz\n",
    "!rm dev-clean-2.tar.gz"
   ]
  },
  {
   "cell_type": "markdown",
   "metadata": {
    "id": "-MjocQqL-IOe"
   },
   "source": [
    "### Iterate over the data\n",
    "\n",
    "This step will of course vary dataset to dataset. In Mini Librispeech, the data is organized by speaker and by document. We will first read all transcripts in, then shuffle those, so that consecutive examples are not from the speaker and document.\n",
    "\n"
   ]
  },
  {
   "cell_type": "code",
   "execution_count": null,
   "metadata": {
    "id": "Gxq6Al2hCu0n"
   },
   "outputs": [],
   "source": [
    "DATAROOT = pathlib.Path(\"LibriSpeech/dev-clean-2\")\n",
    "SHARDSDIR = pathlib.Path(\"DATA-SHARDS\")\n",
    "SHARDSDIR.mkdir(exist_ok=True, parents=True)\n",
    "\n",
    "# 1. Gather texts\n",
    "# Note that here uttid encodes speaker and document IDs, so we don't need to\n",
    "# keep track of them separately\n",
    "texts = {}\n",
    "for textf in DATAROOT.glob(\"*/*/*.trans.txt\"):\n",
    "    with open(textf) as fi:\n",
    "        for line in fi:\n",
    "            uttid, text = line.split(\" \", maxsplit=1)\n",
    "            texts[uttid] = text\n",
    "            print(uttid, text)\n",
    "\n",
    "# 2. Shuffle uttids\n",
    "uttids = list(texts.keys())\n",
    "random.shuffle(uttids)"
   ]
  },
  {
   "cell_type": "code",
   "execution_count": null,
   "metadata": {
    "id": "40ntrNKFSnnY"
   },
   "outputs": [],
   "source": [
    "print(uttids)"
   ]
  },
  {
   "cell_type": "code",
   "execution_count": null,
   "metadata": {
    "id": "Vqfo-MOVE9TZ"
   },
   "outputs": [],
   "source": [
    "# 3. Create TARs\n",
    "# In this example, we are only storing 100 examples / shard, because the full\n",
    "# development set could probably fit in a normal shard. In practical setups\n",
    "# use bigger values.\n",
    "# maxcount sets the max number of examples, and maxsize\n",
    "# sets the maximum size in bytes.\n",
    "\n",
    "# 3A. Iterate over the shuffled uttids\n",
    "# 3B. For each uttid, create an example dict\n",
    "#   The example dict is written into a TAR stream. The special __key__\n",
    "#   entry becomes the basename for this example's files, and the other\n",
    "#   entries in the dict become files with different extensions.\n",
    "#   E.G. with uttid \"3536-23268-0007\" this will write the files:\n",
    "#     3536-23268-0007.audio.pth, 3536-23268-0007.text\n",
    "#   There are default handlers for many extensions\n",
    "#     See https://github.com/webdataset/webdataset/blob/6ee2279795b3f667bb7a5868af596990cc6efee3/webdataset/writer.py#L97\n",
    "\n",
    "with wds.ShardWriter(f\"{SHARDSDIR}/shard-%06d.tar\", maxcount=100) as writer:\n",
    "    for uttid in uttids:\n",
    "        spk, doc, _ = uttid.split(\"-\")\n",
    "        audio_fpath = (DATAROOT / spk / doc / uttid).with_suffix(\".flac\")\n",
    "        audio_tensor = sb.dataio.dataio.read_audio(str(audio_fpath))\n",
    "        example = {\"__key__\": uttid, \"audio.pth\": audio_tensor, \"text\": texts[uttid]}\n",
    "        writer.write(example)"
   ]
  },
  {
   "cell_type": "code",
   "execution_count": null,
   "metadata": {
    "id": "cln8mfljQI7A"
   },
   "outputs": [],
   "source": [
    "! cd DATA-SHARDS/"
   ]
  },
  {
   "cell_type": "code",
   "execution_count": null,
   "metadata": {
    "id": "s0sKuFuTMMYy"
   },
   "outputs": [],
   "source": [
    "# Now we can load these shards.\n",
    "# This uses the SpeechBrain batch class, but batching itself is done by\n",
    "# WebDataset\n",
    "dataset = (\n",
    "    wds.WebDataset(str(SHARDSDIR) + \"/shard-0000{00..10}.tar\")\n",
    "    .decode()\n",
    "    .shuffle(100)\n",
    "    .batched(batchsize=10, collation_fn=sb.dataio.batch.PaddedBatch)\n",
    ")\n",
    "batch = next(iter(dataset))\n",
    "print(batch.text)\n",
    "print(\n",
    "    batch[\"audio.pth\"]\n",
    ")  # Because of the audio.pth name, attribute access doesn't work\n",
    "print(\n",
    "    \"How much of batch is padding [%]:\",\n",
    "    sb.dataio.iterators.padding_ratio(batch[\"audio.pth\"].lengths).item() * 100,\n",
    ")"
   ]
  },
  {
   "cell_type": "markdown",
   "metadata": {
    "id": "Z9SzZesQekBY"
   },
   "source": [
    "## WebDataset with SpeechBrain\n",
    "\n",
    "SpeechBrain is compatible with any PyTorch data loading, so WebDataset can be used without any extensions (as we have done so far). However, three problems remain:\n",
    "\n",
    "1.   Data in shards is typically not sorted (or is even deliberately shuffled). Consecutive utterances will be of very different lengths, and need a lot of padding.\n",
    "2.   The intra-epoch checkpointing in the SaveableDataLoader does not work with IterableDatasets.\n",
    "3.   Exact epochs are very difficult to acheive with Distributed Data Parallel. (This problem is not specific to WebDataset or SpeechBrain.)\n",
    "\n",
    "These problems are solved with the following strategies and extensions:\n",
    "\n",
    "1. SpeechBrain implements an on-the-fly dynamic batching and bucketing iterator. This works together with `webdataset.WebDataset`.\n",
    "  - Bucketing puts similar length utterances in the same batch, reducing the amount of padding.\n",
    "  - Dynamic batching is natural to implement at the same time as bucketing, and aims to yield batches that have similar total number of elements. Batches with short utterances have larger batch size and batches with long utterances have a smaller batch size.\n",
    "  - On the fly operation is needed for streaming data loading.\n",
    "2. Don't care about exact epochs. Instead measure the number of updates and set a nominal epoch length (e.g. an epoch = 2500 updates).\n",
    "3. Don't care about exact restarts: when an experiment is restarted, data loading will not continue from the examples where it left off, but instead just begin again from randomly assigned shards.\n",
    "\n",
    "\n",
    "\n"
   ]
  },
  {
   "cell_type": "markdown",
   "metadata": {
    "id": "ps8qIWEWRyay"
   },
   "source": [
    "### Some changes in the train data loading pipeline\n",
    "\n",
    "- First of all, use `.rename` in the loading pipeline to get more sensibly named batch elements. This will also solve the issue (above) where `audio.pth` couldn't be accessed with typical attribute style.\n",
    "- Then add a `.repeat` so that an infinite stream of data is used.\n",
    "- Finally, the main change is to use `sb.dataio.iterators.dynamic_bucketed_batch` as the batching method\n",
    "  - A generic iterator can be used with the `.then` method\n",
    "  - See [the documentation](https://speechbrain.readthedocs.io/en/latest/API/speechbrain.dataio.iterators.html) for arguments.\n",
    "  - Since this also involves a shuffling operation, don't use the WebDataset shuffle anymore."
   ]
  },
  {
   "cell_type": "code",
   "execution_count": null,
   "metadata": {
    "id": "wwReAbgB7uEP"
   },
   "outputs": [],
   "source": [
    "dataset = (\n",
    "    wds.WebDataset(str(SHARDSDIR) + \"/shard-0000{00..10}.tar\")\n",
    "    .decode()\n",
    "    .rename(id=\"__key__\", signal=\"audio.pth\", text=\"text\")  # Mention all, even text.\n",
    "    .repeat()\n",
    "    .then(\n",
    "        sb.dataio.iterators.dynamic_bucketed_batch,\n",
    "        len_key=\"signal\",  # Which batch element's length to consider\n",
    "        sampler_kwargs={\n",
    "            \"target_batch_numel\": 16000\n",
    "            * 45.0,  # Add examples till they total 45 seconds\n",
    "            \"max_batch_numel\": 16000\n",
    "            * 60.0,  # ... but so that they don't go over 60 seconds\n",
    "        },\n",
    "    )\n",
    ")\n",
    "\n",
    "batch = next(iter(dataset))\n",
    "print(\"Batch size:\", len(batch))\n",
    "print(\n",
    "    \"How much of batch is padding [%]:\",\n",
    "    sb.dataio.iterators.padding_ratio(batch.signal.lengths).item() * 100,\n",
    ")"
   ]
  },
  {
   "cell_type": "markdown",
   "metadata": {
    "id": "kxjSmuoPe2BS"
   },
   "source": [
    "### More complex data loading pipelines\n",
    "\n",
    "- You can use `.map()` to implement arbitrary processing.\n"
   ]
  },
  {
   "cell_type": "code",
   "execution_count": null,
   "metadata": {
    "id": "TeVMdOvmg1Rg"
   },
   "outputs": [],
   "source": [
    "text_mapping = {\"<PADDING>\": 0}\n",
    "index = 1\n",
    "for example in wds.WebDataset(str(SHARDSDIR) + \"/shard-0000{00..10}.tar\").decode():\n",
    "    for word in example[\"text\"].split():\n",
    "        if word not in text_mapping:\n",
    "            text_mapping[word] = index\n",
    "            index += 1\n",
    "\n",
    "\n",
    "def text_to_index(sample):\n",
    "    \"\"\"Adds text_vec entry, a LongTensor for text\"\"\"\n",
    "    sample[\"text_vec\"] = torch.LongTensor(\n",
    "        [text_mapping[word] for word in sample[\"text\"].split()]\n",
    "    )\n",
    "    return sample"
   ]
  },
  {
   "cell_type": "code",
   "execution_count": null,
   "metadata": {
    "id": "JHoAI8AffdAP"
   },
   "outputs": [],
   "source": [
    "dataset = (\n",
    "    wds.WebDataset(str(SHARDSDIR) + \"/shard-0000{00..10}.tar\")\n",
    "    .decode()\n",
    "    .rename(id=\"__key__\", signal=\"audio.pth\", text=\"text\")\n",
    "    .map(text_to_index)\n",
    "    .repeat()\n",
    "    .then(\n",
    "        sb.dataio.iterators.dynamic_bucketed_batch,\n",
    "        len_key=\"signal\",  # Which batch element's length to consider\n",
    "        sampler_kwargs={\n",
    "            \"target_batch_numel\": 16000\n",
    "            * 45.0,  # Add examples till they total 45 seconds\n",
    "            \"max_batch_numel\": 16000\n",
    "            * 60.0,  # ... but so that they don't go over 60 seconds\n",
    "        },\n",
    "    )\n",
    ")\n",
    "batch = next(iter(dataset))\n",
    "print(batch.text[0])\n",
    "print(batch.text_vec.data[0])"
   ]
  },
  {
   "cell_type": "markdown",
   "metadata": {
    "id": "ljh8IoKIb9LY"
   },
   "source": [
    "### How to handle the DataLoader\n",
    "\n",
    "- Since we have a dataset that returns batches (as opposed to single examples), the DataLoader should set `batch_size=None`\n",
    "  - The `Brain` class (and the underlying `sb.dataio.dataloader.make_dataloader`) will set this automatically if your Dataset is from WebDataset).\n",
    "- To acheive the nominal epochs, SpeechBrain has [`sb.dataio.dataloader.LoopedLoader`](https://github.com/speechbrain/speechbrain/blob/4022f5307ae23f1415e44a9c8b8b9cc5994a945b/speechbrain/dataio/dataloader.py#L258)\n",
    "  - The `Brain` class (and the underlying `sb.dataio.dataloader.make_dataloader`) will use this if you specify `looped_nominal_epoch` in `train_loader_kwargs` (when calling `.fit()`).\n",
    "  - The `Brain` class will also automatically add this to the checkpointer, so that it is saved in checkpoints (and it also works for intra-epoch checkpoints)."
   ]
  },
  {
   "cell_type": "code",
   "execution_count": null,
   "metadata": {
    "id": "XbTOwpa_iFil"
   },
   "outputs": [],
   "source": [
    "dataloader = sb.dataio.dataloader.make_dataloader(dataset, looped_nominal_epoch=5)\n",
    "for epoch in range(1, 6):\n",
    "    print(\"Epoch\", epoch)\n",
    "    for ind, batch in enumerate(dataloader, start=1):\n",
    "        print(\"\\tBatch\", ind, \": batch size\", len(batch))"
   ]
  },
  {
   "cell_type": "markdown",
   "metadata": {
    "id": "sb_auto_footer",
    "tags": [
     "sb_auto_footer"
    ]
   },
   "source": [
    "## Citing SpeechBrain\n",
    "\n",
    "If you use SpeechBrain in your research or business, please cite it using the following BibTeX entry:\n",
    "\n",
    "```bibtex\n",
    "@misc{speechbrainV1,\n",
    "  title={Open-Source Conversational AI with {SpeechBrain} 1.0},\n",
    "  author={Mirco Ravanelli and Titouan Parcollet and Adel Moumen and Sylvain de Langen and Cem Subakan and Peter Plantinga and Yingzhi Wang and Pooneh Mousavi and Luca Della Libera and Artem Ploujnikov and Francesco Paissan and Davide Borra and Salah Zaiem and Zeyu Zhao and Shucong Zhang and Georgios Karakasidis and Sung-Lin Yeh and Pierre Champion and Aku Rouhe and Rudolf Braun and Florian Mai and Juan Zuluaga-Gomez and Seyed Mahed Mousavi and Andreas Nautsch and Xuechen Liu and Sangeet Sagar and Jarod Duret and Salima Mdhaffar and Gaelle Laperriere and Mickael Rouvier and Renato De Mori and Yannick Esteve},\n",
    "  year={2024},\n",
    "  eprint={2407.00463},\n",
    "  archivePrefix={arXiv},\n",
    "  primaryClass={cs.LG},\n",
    "  url={https://arxiv.org/abs/2407.00463},\n",
    "}\n",
    "@misc{speechbrain,\n",
    "  title={{SpeechBrain}: A General-Purpose Speech Toolkit},\n",
    "  author={Mirco Ravanelli and Titouan Parcollet and Peter Plantinga and Aku Rouhe and Samuele Cornell and Loren Lugosch and Cem Subakan and Nauman Dawalatabad and Abdelwahab Heba and Jianyuan Zhong and Ju-Chieh Chou and Sung-Lin Yeh and Szu-Wei Fu and Chien-Feng Liao and Elena Rastorgueva and François Grondin and William Aris and Hwidong Na and Yan Gao and Renato De Mori and Yoshua Bengio},\n",
    "  year={2021},\n",
    "  eprint={2106.04624},\n",
    "  archivePrefix={arXiv},\n",
    "  primaryClass={eess.AS},\n",
    "  note={arXiv:2106.04624}\n",
    "}\n",
    "```"
   ]
  }
 ],
 "metadata": {
  "colab": {
   "provenance": []
  },
  "kernelspec": {
   "display_name": "Python 3 (ipykernel)",
   "language": "python",
   "name": "python3"
  },
  "language_info": {
   "codemirror_mode": {
    "name": "ipython",
    "version": 3
   },
   "file_extension": ".py",
   "mimetype": "text/x-python",
   "name": "python",
   "nbconvert_exporter": "python",
   "pygments_lexer": "ipython3",
   "version": "3.12.6"
  }
 },
 "nbformat": 4,
 "nbformat_minor": 4
}
