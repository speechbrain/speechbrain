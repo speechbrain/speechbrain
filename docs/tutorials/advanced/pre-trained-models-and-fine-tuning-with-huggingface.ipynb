{
 "cells": [
  {
   "cell_type": "markdown",
   "metadata": {
    "id": "sb_auto_header",
    "tags": [
     "sb_auto_header"
    ]
   },
   "source": [
    "<!-- This cell is automatically updated by tools/tutorial-cell-updater.py -->\n",
    "<!-- The contents are initialized from tutorials/notebook-header.md -->\n",
    "\n",
    "[<img src=\"https://colab.research.google.com/assets/colab-badge.svg\" alt=\"Open In Colab\"/>](https://colab.research.google.com/github/speechbrain/speechbrain/blob/develop/docs/tutorials/advanced/pre-trained-models-and-fine-tuning-with-huggingface.ipynb)\n",
    "to execute or view/download this notebook on\n",
    "[GitHub](https://github.com/speechbrain/speechbrain/tree/develop/docs/tutorials/advanced/pre-trained-models-and-fine-tuning-with-huggingface.ipynb)"
   ]
  },
  {
   "cell_type": "markdown",
   "metadata": {
    "id": "79ryKiGHinQ3"
   },
   "source": [
    "# Pretrained Models and Fine-Tuning with HuggingFace\n",
    "\n",
    "Training DNN models is often very time-consuming and expensive.\n",
    "For this reason, whenever it is possible, using off-the-shelf pretrained models can be convenient in various scenarios.\n",
    "\n",
    "In SpeechBrain we provide pre-trained models and we also encourage users to share their own using <img src=\"https://huggingface.co/front/assets/huggingface_logo.svg\" alt=\"drawing\" width=\"20\"/>[HuggingFace Hub](https://huggingface.co/models)<img src=\"https://huggingface.co/front/assets/huggingface_logo.svg\" alt=\"drawing\" width=\"20\"/> as we strongly believe that sharing models can help research.\n",
    "\n",
    "You can browse our official pre-trained models [here](https://huggingface.co/speechbrain).\n",
    "\n",
    "If you have a pre-trained model and want to include it among the official ones, please consider opening a pull request on [GitHub](https://github.com/speechbrain/speechbrain/blob/develop/README.md) with all the details of your model!\n",
    "\n",
    "We provide a simple and straightforward way to download and instantiate a state-of-the-art pretrained-model and use it either for direct inference or for fine-tuning/knowledge distillation or whatever new fancy technique you can come up with!\n",
    "\n",
    "With this tutorial, you will learn how to:\n",
    "\n",
    "1. Use pretrained models to infer on your data.\n",
    "2. Use pretrained models as a component of a new pipeline (e.g language models, finetuning, speaker embeddings extraction ...).\n",
    "\n",
    "## Prerequisites\n",
    "- [SpeechBrain Introduction](https://speechbrain.readthedocs.io/en/latest/tutorials/basics/introduction-to-speechbrain.html)\n",
    "- [YAML tutorial](https://speechbrain.readthedocs.io/en/latest/tutorials/basics/hyperpyyaml.html)\n",
    "- [Brain Class tutorial](https://speechbrain.readthedocs.io/en/latest/tutorials/basics/brain-class.html)\n",
    "- [DataIOBasics](https://speechbrain.readthedocs.io/en/latest/tutorials/basics/data-loading-pipeline.html)\n"
   ]
  },
  {
   "cell_type": "markdown",
   "metadata": {
    "id": "HND7bB_1S07R"
   },
   "source": [
    "## Installing Dependencies"
   ]
  },
  {
   "cell_type": "code",
   "execution_count": 1,
   "metadata": {
    "executionInfo": {
     "elapsed": 34461,
     "status": "ok",
     "timestamp": 1706105674984,
     "user": {
      "displayName": "adel moumen",
      "userId": "01620107593621714109"
     },
     "user_tz": -60
    },
    "id": "BAzQuVzl6ww1"
   },
   "outputs": [],
   "source": [
    "%%capture\n",
    "# Installing SpeechBrain via pip\n",
    "BRANCH = \"develop\"\n",
    "!python -m pip install git+https://github.com/speechbrain/speechbrain.git@$BRANCH"
   ]
  },
  {
   "cell_type": "code",
   "execution_count": 2,
   "metadata": {
    "executionInfo": {
     "elapsed": 21062,
     "status": "ok",
     "timestamp": 1706105696010,
     "user": {
      "displayName": "adel moumen",
      "userId": "01620107593621714109"
     },
     "user_tz": -60
    },
    "id": "_pC-98RDOqPq"
   },
   "outputs": [],
   "source": [
    "%%capture\n",
    "import speechbrain\n",
    "\n",
    "# here we download the material needed for this tutorial: images and an example based on mini-librispeech\n",
    "!wget https://www.dropbox.com/s/b61lo6gkpuplanq/MiniLibriSpeechTutorial.tar.gz?dl=0\n",
    "!tar -xvzf MiniLibriSpeechTutorial.tar.gz?dl=0\n",
    "# downloading mini_librispeech dev data\n",
    "!wget https://www.openslr.org/resources/31/dev-clean-2.tar.gz\n",
    "!tar -xvzf dev-clean-2.tar.gz"
   ]
  },
  {
   "cell_type": "markdown",
   "metadata": {
    "id": "_KCk7uODNgNB"
   },
   "source": [
    "## Using PreTrained models to perform inference on your data\n",
    "\n",
    "In this section, we will provide examples on using pretrained models with various tasks including:\n",
    "1. Automatic Speech Recognition.\n",
    "2. Speaker Recognition, Verification and Diarization.\n",
    "3. Source Separation\n",
    "\n",
    "**Many more can be found in our <img src=\"https://huggingface.co/front/assets/huggingface_logo.svg\" alt=\"drawing\" width=\"20\"/>[HuggingFace Hub](https://huggingface.co/models)<img src=\"https://huggingface.co/front/assets/huggingface_logo.svg\" alt=\"drawing\" width=\"20\"/>!**"
   ]
  },
  {
   "cell_type": "markdown",
   "metadata": {
    "id": "m0xCb38O6kFM"
   },
   "source": [
    "### Automatic Speech Recognition"
   ]
  },
  {
   "cell_type": "markdown",
   "metadata": {
    "id": "PaWLPvJ2Nrxm"
   },
   "source": [
    "Suppose we want to try out a pretrained ASR model on your data.\n",
    "\n",
    "Maybe we want to see if our new speech enhancement algorithm is able to also improve Word Error Rate or maybe we just want to transcribe a lecture recording.\n",
    "\n",
    "After browsing models on <img src=\"https://huggingface.co/front/assets/huggingface_logo.svg\" alt=\"drawing\" width=\"20\"/>[HuggingFace](https://huggingface.co/models)<img src=\"https://huggingface.co/front/assets/huggingface_logo.svg\" alt=\"drawing\" width=\"20\"/>, we choose the following ASR pipeline: [super cool and SOTA ASR pipeline](https://huggingface.co/speechbrain/asr-crdnn-rnnlm-librispeech), trained on LibriSpeech.\n",
    "\n",
    "This ASR pipeline is made of three components as detailed [here](https://huggingface.co/speechbrain/asr-crdnn-rnnlm-librispeech):\n",
    "\n",
    "\n",
    "1.   a CRDNN-based seq2seq E2E ASR model trained following this [recipe](https://github.com/speechbrain/speechbrain/tree/develop/recipes/LibriSpeech/ASR/seq2seq).\n",
    "2.   a RNN-based LM.\n",
    "3.   a SentencePiece Tokenizer object needed transforms words into subword units.\n",
    "\n",
    "**Now, we can transcribe any audio file in solely 3 lines of code!**\n"
   ]
  },
  {
   "cell_type": "code",
   "execution_count": 3,
   "metadata": {
    "colab": {
     "base_uri": "https://localhost:8080/",
     "height": 215,
     "referenced_widgets": [
      "73417ed270d7450984a48f3c7260eef7",
      "85a4d1969185444aa63499a3e59faa2c",
      "ee1bf41d42a54f9a92d76f5394626e97",
      "5e58c000011c48879130e6374bbab799",
      "7ea8ba3f9016452bb6ec20d3502675df",
      "76a0e79fab2644908c86b7784d67504e",
      "ab133c95b3da4bdf86777ade47d60698",
      "7cfb724f62f14f889a3d3a69a9e7acd8",
      "2e8935dded774cb9bcd87167992c5558",
      "76fffbd6bc9542359181b3333077b888",
      "1861687899e8426cb9bc7c74d0a51aea",
      "4873f222358a46c7b50d741a1932c5a6",
      "b5d8d5c9c94b4329a7cf143448476408",
      "0adda9c3d3a14ceaa3d247b59c962554",
      "a1e78669452a47899a85a7fae3a15661",
      "8073c957b55e4b1c870b8e7c50d3765a",
      "84bada4f0df245469620edab3ad40c38",
      "3bd1dfae506d4299af956d497d96d9ad",
      "402e80d5952d4da991f798672ff53d46",
      "2232c1b90a0a40d7b470a492dd470197",
      "3940e8873ae3498393094ea7c361a7fc",
      "e2cf26fb7f29467daef310993935888f",
      "d3278bfc8503432b8d16c9ad47963ee5",
      "bac9acbddead48e1b90aded2f686c5d7",
      "4b7f1dcce7c14f758c8b33e196214a88",
      "4d695e2724324b5fa4af39345b38226c",
      "baa6984bd26244ce849d203aa0d2dc30",
      "b28ec6dd2556486693cb7657158b4f35",
      "a6d2f27d5d4c493083ead216c8137c89",
      "5c5bc290e7664009a63b8bc45d676aa7",
      "adba26074a384a34ac2866813537c0d3",
      "f81b74f0764a440392633978639dc9a8",
      "0420cacd6a7349e8b7ccaef1ddc985b2",
      "634871e7ef574c48a22fe20bd29c98fb",
      "a2c4a9390bd6495aae3a79a7174f5832",
      "de326e62dcee451ebafdef0a888f9974",
      "fe6ee540077e4fd086ae8975feb97deb",
      "890276931b55409cacaccbea256fe745",
      "7b0782edb2394087910b772c90b03be9",
      "0657d483243b46748b6dd499a188b588",
      "d7765befe0af40e9bb810f5896f4b52a",
      "8d0a5753b71243c59f4741043f98b857",
      "304a1d7486b94d8c83371c54cfda2ca4",
      "7a0a2f4b5b1c41c2bd27f1406568ff34",
      "9e69e88263a24037aa45fb9f837c2c40",
      "cb5045ef6ee544cf9e7f4d7cf772c14f",
      "1ea356cbbabf483b94fac984fa0d3690",
      "3301f47181664600aac6a0483dfa69a2",
      "a3f6fdd0090c4c35b1f44d01be6d8e4f",
      "3fec66291aed46e9aaec1e60748760d6",
      "934446687ef449149f71c9c64923ed4d",
      "303541f7df7044b1b43c6bd38d8058f1",
      "1ff81f3732074056a9f1834501219e55",
      "01a0f8b6ae4e4fbcaf1e96dd3adce92a",
      "9707ff2d35094cfd97c39d166579cdba"
     ]
    },
    "executionInfo": {
     "elapsed": 34118,
     "status": "ok",
     "timestamp": 1706105730109,
     "user": {
      "displayName": "adel moumen",
      "userId": "01620107593621714109"
     },
     "user_tz": -60
    },
    "id": "GIJgefQpNnVO",
    "outputId": "750201d3-46ab-493d-ad62-3ab2240d23ce"
   },
   "outputs": [
    {
     "data": {
      "application/vnd.jupyter.widget-view+json": {
       "model_id": "73417ed270d7450984a48f3c7260eef7",
       "version_major": 2,
       "version_minor": 0
      },
      "text/plain": [
       "hyperparams_develop.yaml:   0%|          | 0.00/4.83k [00:00<?, ?B/s]"
      ]
     },
     "metadata": {},
     "output_type": "display_data"
    },
    {
     "data": {
      "application/vnd.jupyter.widget-view+json": {
       "model_id": "4873f222358a46c7b50d741a1932c5a6",
       "version_major": 2,
       "version_minor": 0
      },
      "text/plain": [
       "normalizer.ckpt:   0%|          | 0.00/1.41k [00:00<?, ?B/s]"
      ]
     },
     "metadata": {},
     "output_type": "display_data"
    },
    {
     "data": {
      "application/vnd.jupyter.widget-view+json": {
       "model_id": "d3278bfc8503432b8d16c9ad47963ee5",
       "version_major": 2,
       "version_minor": 0
      },
      "text/plain": [
       "asr.ckpt:   0%|          | 0.00/480M [00:00<?, ?B/s]"
      ]
     },
     "metadata": {},
     "output_type": "display_data"
    },
    {
     "data": {
      "application/vnd.jupyter.widget-view+json": {
       "model_id": "634871e7ef574c48a22fe20bd29c98fb",
       "version_major": 2,
       "version_minor": 0
      },
      "text/plain": [
       "lm.ckpt:   0%|          | 0.00/212M [00:00<?, ?B/s]"
      ]
     },
     "metadata": {},
     "output_type": "display_data"
    },
    {
     "data": {
      "application/vnd.jupyter.widget-view+json": {
       "model_id": "9e69e88263a24037aa45fb9f837c2c40",
       "version_major": 2,
       "version_minor": 0
      },
      "text/plain": [
       "tokenizer.ckpt:   0%|          | 0.00/253k [00:00<?, ?B/s]"
      ]
     },
     "metadata": {},
     "output_type": "display_data"
    },
    {
     "data": {
      "application/vnd.google.colaboratory.intrinsic+json": {
       "type": "string"
      },
      "text/plain": [
       "'THE LITTLE GIRL HAD BEEN ASLEEP BUT SHE HEARD THE RAPS AND OPENED THE DOOR'"
      ]
     },
     "execution_count": 3,
     "metadata": {},
     "output_type": "execute_result"
    }
   ],
   "source": [
    "from speechbrain.inference.ASR import EncoderDecoderASR\n",
    "\n",
    "asr_model = EncoderDecoderASR.from_hparams(\n",
    "    source=\"speechbrain/asr-crdnn-rnnlm-librispeech\",\n",
    "    savedir=\"./pretrained_ASR\",\n",
    "    hparams_file=\"hyperparams_develop.yaml\",\n",
    ")\n",
    "asr_model.transcribe_file(\"./LibriSpeech/dev-clean-2/1272/135031/1272-135031-0003.flac\")"
   ]
  },
  {
   "cell_type": "markdown",
   "metadata": {
    "id": "JuULuuACaPfl"
   },
   "source": [
    "We can validate this result by looking at the oracle transcription for this utterance."
   ]
  },
  {
   "cell_type": "code",
   "execution_count": 4,
   "metadata": {
    "colab": {
     "base_uri": "https://localhost:8080/"
    },
    "executionInfo": {
     "elapsed": 102,
     "status": "ok",
     "timestamp": 1706105730111,
     "user": {
      "displayName": "adel moumen",
      "userId": "01620107593621714109"
     },
     "user_tz": -60
    },
    "id": "JQ4IIIS8Z_ld",
    "outputId": "a0906726-427b-489a-c44b-13733f3c1c84"
   },
   "outputs": [
    {
     "name": "stdout",
     "output_type": "stream",
     "text": [
      "1272-135031-0000 BECAUSE YOU WERE SLEEPING INSTEAD OF CONQUERING THE LOVELY ROSE PRINCESS HAS BECOME A FIDDLE WITHOUT A BOW WHILE POOR SHAGGY SITS THERE A COOING DOVE\n",
      "1272-135031-0001 HE HAS GONE AND GONE FOR GOOD ANSWERED POLYCHROME WHO HAD MANAGED TO SQUEEZE INTO THE ROOM BESIDE THE DRAGON AND HAD WITNESSED THE OCCURRENCES WITH MUCH INTEREST\n",
      "1272-135031-0002 I HAVE REMAINED A PRISONER ONLY BECAUSE I WISHED TO BE ONE AND WITH THIS HE STEPPED FORWARD AND BURST THE STOUT CHAINS AS EASILY AS IF THEY HAD BEEN THREADS\n",
      "1272-135031-0003 THE LITTLE GIRL HAD BEEN ASLEEP BUT SHE HEARD THE RAPS AND OPENED THE DOOR\n",
      "1272-135031-0004 THE KING HAS FLED IN DISGRACE AND YOUR FRIENDS ARE ASKING FOR YOU\n",
      "1272-135031-0005 I BEGGED RUGGEDO LONG AGO TO SEND HIM AWAY BUT HE WOULD NOT DO SO\n",
      "1272-135031-0006 I ALSO OFFERED TO HELP YOUR BROTHER TO ESCAPE BUT HE WOULD NOT GO\n",
      "1272-135031-0007 HE EATS AND SLEEPS VERY STEADILY REPLIED THE NEW KING\n",
      "1272-135031-0008 I HOPE HE DOESN'T WORK TOO HARD SAID SHAGGY\n",
      "1272-135031-0009 HE DOESN'T WORK AT ALL\n"
     ]
    }
   ],
   "source": [
    "!head ./LibriSpeech/dev-clean-2/1272/135031/1272-135031.trans.txt"
   ]
  },
  {
   "cell_type": "markdown",
   "metadata": {
    "id": "UHtw-fAJaX0A"
   },
   "source": [
    "See, easy!"
   ]
  },
  {
   "cell_type": "markdown",
   "metadata": {
    "id": "yWcM9NSNE_uX"
   },
   "source": [
    "**NOTE**\n",
    "\n",
    "This syntax can be used also to load models which are in the local filesystem.\n",
    "In fact, the model is not re-downloaded a second time if it is already found in the local `savedir`."
   ]
  },
  {
   "cell_type": "code",
   "execution_count": 5,
   "metadata": {
    "executionInfo": {
     "elapsed": 7374,
     "status": "ok",
     "timestamp": 1706105737447,
     "user": {
      "displayName": "adel moumen",
      "userId": "01620107593621714109"
     },
     "user_tz": -60
    },
    "id": "M8k-O63qE-j6"
   },
   "outputs": [],
   "source": [
    "from speechbrain.inference.ASR import EncoderDecoderASR\n",
    "\n",
    "asr_model = EncoderDecoderASR.from_hparams(\n",
    "    source=\"speechbrain/asr-crdnn-rnnlm-librispeech\",\n",
    "    savedir=\"./pretrained_ASR\",\n",
    "    hparams_file=\"hyperparams_develop.yaml\",\n",
    ")"
   ]
  },
  {
   "cell_type": "markdown",
   "metadata": {
    "id": "pVy5l-QT6qT3"
   },
   "source": [
    "### Speaker Verification, Recognition and Diarization"
   ]
  },
  {
   "cell_type": "markdown",
   "metadata": {
    "id": "KQS7Sv4rUAwh"
   },
   "source": [
    "Now suppose we want to perform another task such as diarization and we need a speaker embedding extractor.\n",
    "\n",
    "Fortunately, we can use directly the pretrained ECAPA TDNN model available [here](https://huggingface.co/speechbrain/spkrec-ecapa-voxceleb). The model is trained with [Voxceleb 2](https://www.robots.ox.ac.uk/~vgg/data/voxceleb/) and we can use it to extract speaker embeddings for each utterance:\n"
   ]
  },
  {
   "cell_type": "code",
   "execution_count": 6,
   "metadata": {
    "colab": {
     "base_uri": "https://localhost:8080/",
     "height": 213,
     "referenced_widgets": [
      "518849236e44483f803078be7ad8dc93",
      "f2660154764f4be4ba404d1e6e994271",
      "0d3e8b469920445f88475b4496a5d66a",
      "576907c14b614dbc8b7d0253909f9e99",
      "ece9d78d617444f2a31fc912237d25cb",
      "891f3d15f25a4cc2a64f4e7013d48e54",
      "9713800931064fd3809f1fd0a2bc2d03",
      "000de1ccc95c4cd8850d3a3424f4714a",
      "5d221ae2b9ac4e36a7cfe2cce3c536dc",
      "5ba74f54df8f4b11a58aee4c66b554f7",
      "684b9471808648b7bda92f1dd4afb25f",
      "b53ce8b214574bde84833798ab1e0a0e",
      "975f5572379d4dd2b4776d5469ca1bb7",
      "edb3172c98ff4ad8a27f35d1a7835906",
      "a0317c2f06cf410783a893b8187e00c3",
      "2fda19c612c5486dbf75a5de2d6ebcda",
      "87d1d3bebd594b798db2cd726046fbb1",
      "9c9985770a644c60a40d8a5479a19c48",
      "241bb75e8c0141ec8c00ef562d0feb5f",
      "98ea97d41a6c4565a238d184ac9bd09a",
      "5bb62e9fe8f14b898666af7527389908",
      "701f1496c0d145b8b376174ed9501cab",
      "75d1e7af67264ffca59cc387db02d6d7",
      "0d555777e2d2405698247f6fb163454d",
      "a89727caed4642e7af12415c8ca66641",
      "8718c8b37bea4e53ac6457276ce63045",
      "dcfbc459a1d6415bb9cb71cf6d65a51f",
      "eb2aa07593d44cbcae05ace5ace724a8",
      "a2d5bacd3dfc4279b7434002341d000b",
      "e94b2fcd8c8d495ea7ebd6beeab5dad0",
      "c62d9509f5d9449590c067db7631d10a",
      "611c74c530d44002b43a09e86fdd133a",
      "c22924e5299d4ea79ad2dc6257ce8d6b",
      "5338ff1061d14c89ad7c8bd7317a4642",
      "a1b9d608708d4e9d962dbfa65f2b8951",
      "6eaaa4ebfe4440ebb750c853a7545e17",
      "84864afa1f0d447ca0d5a38f972ab1f3",
      "6a38bd3599754589b4f9c17f39adeb92",
      "ae6a556144e54692b1be363027c1e867",
      "8e66c81421af4032a4048dda5f7db960",
      "f0673eaf978145e780399c5d003abb33",
      "a7436702e317468ba76a9c7ab1d7b7bd",
      "38550314ccb744c78b779de82a9f6d8e",
      "596d1f66a8cd480ab32af9f3f3025edc",
      "0631b7878fd14f38b0f8270c1fafe391",
      "f3bc35d9420f44239f719e2f4b37d379",
      "df2df25b22aa434ebaa769dce4162ca8",
      "7def4f14f4414bd3a0b25bb628863123",
      "dcfa2ee4056a47a38a4bb14deafe7366",
      "11890cbf63b24f13b0f3e75b7fc68d01",
      "24ee8a32861b4a3daa79a35583175dc7",
      "96b01ae3bf274b3e84cda3f94dd564fb",
      "747b0366a0284c4188d441e934021fa8",
      "886dbc6801664287b38590260ba33286",
      "5217db8767a042f098a971ee4c02c731"
     ]
    },
    "executionInfo": {
     "elapsed": 2279,
     "status": "ok",
     "timestamp": 1706105739651,
     "user": {
      "displayName": "adel moumen",
      "userId": "01620107593621714109"
     },
     "user_tz": -60
    },
    "id": "sNO_28zyT5OS",
    "outputId": "f200d136-f0f4-4b18-a1c1-48e6628c6667"
   },
   "outputs": [
    {
     "data": {
      "application/vnd.jupyter.widget-view+json": {
       "model_id": "518849236e44483f803078be7ad8dc93",
       "version_major": 2,
       "version_minor": 0
      },
      "text/plain": [
       "hyperparams.yaml:   0%|          | 0.00/1.92k [00:00<?, ?B/s]"
      ]
     },
     "metadata": {},
     "output_type": "display_data"
    },
    {
     "data": {
      "application/vnd.jupyter.widget-view+json": {
       "model_id": "b53ce8b214574bde84833798ab1e0a0e",
       "version_major": 2,
       "version_minor": 0
      },
      "text/plain": [
       "embedding_model.ckpt:   0%|          | 0.00/83.3M [00:00<?, ?B/s]"
      ]
     },
     "metadata": {},
     "output_type": "display_data"
    },
    {
     "data": {
      "application/vnd.jupyter.widget-view+json": {
       "model_id": "75d1e7af67264ffca59cc387db02d6d7",
       "version_major": 2,
       "version_minor": 0
      },
      "text/plain": [
       "mean_var_norm_emb.ckpt:   0%|          | 0.00/1.92k [00:00<?, ?B/s]"
      ]
     },
     "metadata": {},
     "output_type": "display_data"
    },
    {
     "data": {
      "application/vnd.jupyter.widget-view+json": {
       "model_id": "5338ff1061d14c89ad7c8bd7317a4642",
       "version_major": 2,
       "version_minor": 0
      },
      "text/plain": [
       "classifier.ckpt:   0%|          | 0.00/5.53M [00:00<?, ?B/s]"
      ]
     },
     "metadata": {},
     "output_type": "display_data"
    },
    {
     "data": {
      "application/vnd.jupyter.widget-view+json": {
       "model_id": "0631b7878fd14f38b0f8270c1fafe391",
       "version_major": 2,
       "version_minor": 0
      },
      "text/plain": [
       "label_encoder.txt:   0%|          | 0.00/129k [00:00<?, ?B/s]"
      ]
     },
     "metadata": {},
     "output_type": "display_data"
    },
    {
     "data": {
      "text/plain": [
       "torch.Size([1, 1, 192])"
      ]
     },
     "execution_count": 6,
     "metadata": {},
     "output_type": "execute_result"
    }
   ],
   "source": [
    "from speechbrain.inference.speaker import SpeakerRecognition\n",
    "import torchaudio\n",
    "\n",
    "verification = SpeakerRecognition.from_hparams(\n",
    "    source=\"speechbrain/spkrec-ecapa-voxceleb\", savedir=\"./pretrained_ecapa\"\n",
    ")\n",
    "signal, fs = torchaudio.load(\n",
    "    \"./LibriSpeech/dev-clean-2/1272/135031/1272-135031-0003.flac\"\n",
    ")\n",
    "embedding = verification.encode_batch(signal)\n",
    "embedding.shape"
   ]
  },
  {
   "cell_type": "markdown",
   "metadata": {
    "id": "k7AKrsLECPE2"
   },
   "source": [
    "We can visualize how this DNN is able to extract embeddings which are representative of the speaker identity with a **PCA**."
   ]
  },
  {
   "cell_type": "markdown",
   "metadata": {
    "id": "lnC6v3-9Cak8"
   },
   "source": [
    "We select 20 random utterances from MiniLibriSpeech corpus:"
   ]
  },
  {
   "cell_type": "code",
   "execution_count": 7,
   "metadata": {
    "executionInfo": {
     "elapsed": 45,
     "status": "ok",
     "timestamp": 1706105739653,
     "user": {
      "displayName": "adel moumen",
      "userId": "01620107593621714109"
     },
     "user_tz": -60
    },
    "id": "54P7K8bOljwB"
   },
   "outputs": [],
   "source": [
    "import glob\n",
    "import numpy as np\n",
    "\n",
    "utterances = glob.glob(\"./LibriSpeech/dev-clean-2/**/*.flac\", recursive=True)"
   ]
  },
  {
   "cell_type": "code",
   "execution_count": 8,
   "metadata": {
    "executionInfo": {
     "elapsed": 34,
     "status": "ok",
     "timestamp": 1706105739654,
     "user": {
      "displayName": "adel moumen",
      "userId": "01620107593621714109"
     },
     "user_tz": -60
    },
    "id": "YLA8puMW_xOF"
   },
   "outputs": [],
   "source": [
    "np.random.shuffle(utterances)\n",
    "utterances = utterances[:20]"
   ]
  },
  {
   "cell_type": "markdown",
   "metadata": {
    "id": "yUsg7YgZCgVs"
   },
   "source": [
    "We extract embeddings on the whole utterances and put corresponding oracle speaker IDs on a list."
   ]
  },
  {
   "cell_type": "code",
   "execution_count": 9,
   "metadata": {
    "executionInfo": {
     "elapsed": 12391,
     "status": "ok",
     "timestamp": 1706105752014,
     "user": {
      "displayName": "adel moumen",
      "userId": "01620107593621714109"
     },
     "user_tz": -60
    },
    "id": "WAK74neqmryW"
   },
   "outputs": [],
   "source": [
    "from pathlib import Path\n",
    "\n",
    "embeddings = []\n",
    "labels = []\n",
    "for u in utterances:\n",
    "    tmp, fs = torchaudio.load(u)\n",
    "    e = verification.encode_batch(tmp)\n",
    "    embeddings.append(e[0, 0].numpy())\n",
    "    spk_label = Path(u).parent.parent.stem\n",
    "    labels.append(spk_label)"
   ]
  },
  {
   "cell_type": "markdown",
   "metadata": {
    "id": "ozhSGKS_CuRF"
   },
   "source": [
    "We can use sklearn PCA for visualization."
   ]
  },
  {
   "cell_type": "code",
   "execution_count": 10,
   "metadata": {
    "executionInfo": {
     "elapsed": 32,
     "status": "ok",
     "timestamp": 1706105752017,
     "user": {
      "displayName": "adel moumen",
      "userId": "01620107593621714109"
     },
     "user_tz": -60
    },
    "id": "bfssZX_k_1VW"
   },
   "outputs": [],
   "source": [
    "from sklearn.decomposition import PCA\n",
    "\n",
    "embeddings = np.array(embeddings)\n",
    "\n",
    "pca = PCA(n_components=2)\n",
    "principalComponents = pca.fit_transform(embeddings)"
   ]
  },
  {
   "cell_type": "markdown",
   "metadata": {
    "id": "grjNqihhCykb"
   },
   "source": [
    "Finally we can plot the results. It can be seen that some speakers are clustered well even when visualizing only two components with PCA:"
   ]
  },
  {
   "cell_type": "code",
   "execution_count": 11,
   "metadata": {
    "colab": {
     "base_uri": "https://localhost:8080/",
     "height": 486
    },
    "executionInfo": {
     "elapsed": 637,
     "status": "ok",
     "timestamp": 1706105752629,
     "user": {
      "displayName": "adel moumen",
      "userId": "01620107593621714109"
     },
     "user_tz": -60
    },
    "id": "j1U0N9b2ABG2",
    "outputId": "0965e205-19ea-4cc0-dfd7-804590310cf3"
   },
   "outputs": [
    {
     "data": {
      "text/plain": [
       "Text(0, 0.5, 'Principal Component 2')"
      ]
     },
     "execution_count": 11,
     "metadata": {},
     "output_type": "execute_result"
    },
    {
     "data": {
      "image/png": "[encoded data removed]",
      "text/plain": [
       "<Figure size 640x480 with 1 Axes>"
      ]
     },
     "metadata": {},
     "output_type": "display_data"
    }
   ],
   "source": [
    "import matplotlib.pyplot as plt\n",
    "\n",
    "fig, ax = plt.subplots()\n",
    "ax.scatter(principalComponents[:, 0], principalComponents[:, 1])\n",
    "\n",
    "for i, spkid in enumerate(labels):\n",
    "    ax.annotate(spkid, (principalComponents[i, 0], principalComponents[i, 1]))\n",
    "plt.xlabel(\"Principal Component 1\")\n",
    "plt.ylabel(\"Principal Component 2\")"
   ]
  },
  {
   "cell_type": "markdown",
   "metadata": {
    "id": "rDfkPAUA_JUk"
   },
   "source": [
    "Given the embeddings computed with the ECAPA-TDNN model, we can perform speaker verification in this way:"
   ]
  },
  {
   "cell_type": "code",
   "execution_count": 12,
   "metadata": {
    "colab": {
     "base_uri": "https://localhost:8080/"
    },
    "executionInfo": {
     "elapsed": 3166,
     "status": "ok",
     "timestamp": 1706105755778,
     "user": {
      "displayName": "adel moumen",
      "userId": "01620107593621714109"
     },
     "user_tz": -60
    },
    "id": "KuWnaG-j_Tr3",
    "outputId": "7d6c1ac5-d9aa-4438-cf49-9bd2ba883fec"
   },
   "outputs": [
    {
     "name": "stdout",
     "output_type": "stream",
     "text": [
      "tensor([0.6952]) tensor([True])\n",
      "tensor([0.0159]) tensor([False])\n"
     ]
    }
   ],
   "source": [
    "# Different files from the same speaker\n",
    "file1 = \"./LibriSpeech/dev-clean-2/1272/135031/1272-135031-0000.flac\"  # Same speaker\n",
    "file2 = \"./LibriSpeech/dev-clean-2/1272/141231/1272-141231-0004.flac\"  # Same speaker\n",
    "file3 = (\n",
    "    \"./LibriSpeech/dev-clean-2/1462/170142/1462-170142-0000.flac\"  # Different speaker\n",
    ")\n",
    "\n",
    "# Test with 2 files from the same speaker\n",
    "score, prediction = verification.verify_files(file1, file2)\n",
    "print(score, prediction)\n",
    "\n",
    "# Test with 2 files from  different speakers\n",
    "score, prediction = verification.verify_files(file1, file3)\n",
    "print(score, prediction)"
   ]
  },
  {
   "cell_type": "markdown",
   "metadata": {
    "id": "VSax2FUVBiRu"
   },
   "source": [
    "LibriSpeech is a very easy task for speaker verification. However, the ECAPA model works very well on other types of data. With voxceleb, we achieved an Equal Error Rate of 0.69%. Feel free to record yourself  (with a sampling rate of 16 kHz) and play with that!"
   ]
  },
  {
   "cell_type": "markdown",
   "metadata": {
    "id": "2AV_AknNQebh"
   },
   "source": [
    "### Source Separation"
   ]
  },
  {
   "cell_type": "markdown",
   "metadata": {
    "id": "OFiEZitTaxcx"
   },
   "source": [
    "What about Source Separation ?\n",
    "A pretrained SepFormer model is available [here]:(https://huggingface.co/speechbrain/sepformer-wsj02mix). It can be used right out off the box to perform separation on clean speech mixtures.\n"
   ]
  },
  {
   "cell_type": "markdown",
   "metadata": {
    "id": "08KQG5rVQkaA"
   },
   "source": [
    "We create an artificial mixture here by mixing together two utterances from MiniLibriSpeech."
   ]
  },
  {
   "cell_type": "code",
   "execution_count": 13,
   "metadata": {
    "executionInfo": {
     "elapsed": 172,
     "status": "ok",
     "timestamp": 1706105755780,
     "user": {
      "displayName": "adel moumen",
      "userId": "01620107593621714109"
     },
     "user_tz": -60
    },
    "id": "SyEQ3QmmQR3H"
   },
   "outputs": [],
   "source": [
    "import torchaudio\n",
    "\n",
    "s1, fs = torchaudio.load(\"./LibriSpeech/dev-clean-2/1272/135031/1272-135031-0003.flac\")\n",
    "s2, fs = torchaudio.load(\"./LibriSpeech/dev-clean-2/1462/170142/1462-170142-0001.flac\")\n",
    "\n",
    "# we resample because we will use a model trained on 8KHz data.\n",
    "resampler = torchaudio.transforms.Resample(fs, 8000)\n",
    "s1 = resampler(s1)\n",
    "s2 = resampler(s2)\n",
    "fs = 8000\n",
    "\n",
    "min_len = min(s1.shape[-1], s2.shape[-1])\n",
    "s1 = s1[:, :min_len]\n",
    "s2 = s2[:, :min_len]\n",
    "mix = s1 + s2"
   ]
  },
  {
   "cell_type": "code",
   "execution_count": 14,
   "metadata": {
    "executionInfo": {
     "elapsed": 131,
     "status": "ok",
     "timestamp": 1706105755783,
     "user": {
      "displayName": "adel moumen",
      "userId": "01620107593621714109"
     },
     "user_tz": -60
    },
    "id": "1jBzCNMtRbdJ"
   },
   "outputs": [],
   "source": [
    "import IPython.display as ipd"
   ]
  },
  {
   "cell_type": "markdown",
   "metadata": {
    "id": "d6MI6Xb5-9nu"
   },
   "source": [
    "We can listen to this artificial mixture."
   ]
  },
  {
   "cell_type": "code",
   "execution_count": 15,
   "metadata": {
    "colab": {
     "base_uri": "https://localhost:8080/",
     "height": 73
    },
    "executionInfo": {
     "elapsed": 109,
     "status": "ok",
     "timestamp": 1706105755784,
     "user": {
      "displayName": "adel moumen",
      "userId": "01620107593621714109"
     },
     "user_tz": -60
    },
    "id": "FzJXPO9LXIKy",
    "outputId": "033a197f-8946-4e9d-9947-7cfb60bb17fa"
   },
   "outputs": [
    {
     "data": {
      "text/html": [
       "\n",
       "                <audio  controls=\"controls\" >\n",
       "                    <source src=\"data:audio/wav;base64,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\" type=\"audio/wav\" />\n",
       "                    Your browser does not support the audio element.\n",
       "                </audio>\n",
       "              "
      ],
      "text/plain": [
       "<IPython.lib.display.Audio object>"
      ]
     },
     "execution_count": 15,
     "metadata": {},
     "output_type": "execute_result"
    }
   ],
   "source": [
    "ipd.Audio(mix[0], rate=fs)"
   ]
  },
  {
   "cell_type": "markdown",
   "metadata": {
    "id": "LTuaNzcG_DGX"
   },
   "source": [
    "Now, we can instantiate the pretrained SepFormer from <img src=\"https://huggingface.co/front/assets/huggingface_logo.svg\" alt=\"drawing\" width=\"20\"/>[HuggingFace](https://huggingface.co/models)<img src=\"https://huggingface.co/front/assets/huggingface_logo.svg\" alt=\"drawing\" width=\"20\"/>."
   ]
  },
  {
   "cell_type": "code",
   "execution_count": 16,
   "metadata": {
    "colab": {
     "base_uri": "https://localhost:8080/",
     "height": 166,
     "referenced_widgets": [
      "e625e51535634cb88f89f93c1b95a5b8",
      "b7ff251217dc4a31abd29db0d8ddb8ee",
      "6e88d9cddfae4c0585a030628f415163",
      "5a4bb7e698db43ab98cf5e3cad123eff",
      "d37c1933e8a24a11ae9a2b3180e53309",
      "c65d659414184d6bbf896b581177e1a4",
      "f92e99fc7682436a85d11ec2f115e206",
      "7a59681cc6884eeb90cad0ad810eb340",
      "5dcb9b7c948c42a6afb63bd89664744f",
      "16f0ca4e8c1944a1a1e90b5484f9a270",
      "8c5f52ed4b7042df8bb636e73c702d64",
      "f6739e26b4de4cb8b3d9e3f62876325f",
      "f52c23a438e2415cb4632ae276299cc4",
      "94ac439a7b2344acb89dd968f4832d24",
      "16c602c5ca4b42d5a22e97249dbc8316",
      "ea33a83bcbbc4ba5a983712f1d197e17",
      "6b3edbd6a47b4b3982ab30870d853199",
      "8c9d3cdb6d9248129db49203fb4df0ec",
      "2961959a379f4934b2f47f3ec99736cd",
      "d439ae84c3cd41f0b89eaa7c32ba310e",
      "a9ede27dcd6c4c17aad2e03976788ac8",
      "1791bf4e7a7f4f7aa03bb9c420f2c3af",
      "00b563eeca124124bc81f8f19a5f0e48",
      "86b24bfbc04d4bda8cce53a140c17e62",
      "4ef78f63daba4f20a768e58c023a8eee",
      "daaf30a442cb4fb48db9a082a40c6376",
      "6b302652bec7427680692afe5c3630f9",
      "78cfac8bcaea470ebfba4104154cec3d",
      "d9b66e1b93fb4664beeadcf100a43232",
      "6d597a48192e436f89b71fd1b18a37fb",
      "bd7023fc26be4623ab2c0e98b242ea1a",
      "2afeeaed1b344835bc0cd7a3f16add8e",
      "ccd1e7c8a24f4a5e90875d85ca2cf6a3",
      "9a755c6dcb464a4c91ba4443ea9d30d9",
      "0c1d9a4d91eb4f0397bc17c1abeafcd6",
      "5bcd65e2cc574d428cf8fa49207b1d0f",
      "e600eb9e6fb74c35b3015ac6d56b5b90",
      "89f354d3bb7d40a9ba8b106071802006",
      "9b1b16de38574725bcbf9527f77b8820",
      "c81777f5d3814ced8096613714f3d054",
      "3461887798324f60993c526e21a197ff",
      "1bcc055f1b474119bb9b734939340767",
      "0d4c194f09524aac95e602a14d9a485d",
      "1d4f4e45172e432a9a6a9e2545b87e6b"
     ]
    },
    "executionInfo": {
     "elapsed": 1860,
     "status": "ok",
     "timestamp": 1706105757564,
     "user": {
      "displayName": "adel moumen",
      "userId": "01620107593621714109"
     },
     "user_tz": -60
    },
    "id": "8Fmt65bJS1X4",
    "outputId": "bf07934e-2d55-43b8-c8e7-b7e1b6cb7d6f"
   },
   "outputs": [
    {
     "data": {
      "application/vnd.jupyter.widget-view+json": {
       "model_id": "e625e51535634cb88f89f93c1b95a5b8",
       "version_major": 2,
       "version_minor": 0
      },
      "text/plain": [
       "hyperparams.yaml:   0%|          | 0.00/1.51k [00:00<?, ?B/s]"
      ]
     },
     "metadata": {},
     "output_type": "display_data"
    },
    {
     "data": {
      "application/vnd.jupyter.widget-view+json": {
       "model_id": "f6739e26b4de4cb8b3d9e3f62876325f",
       "version_major": 2,
       "version_minor": 0
      },
      "text/plain": [
       "masknet.ckpt:   0%|          | 0.00/113M [00:00<?, ?B/s]"
      ]
     },
     "metadata": {},
     "output_type": "display_data"
    },
    {
     "data": {
      "application/vnd.jupyter.widget-view+json": {
       "model_id": "00b563eeca124124bc81f8f19a5f0e48",
       "version_major": 2,
       "version_minor": 0
      },
      "text/plain": [
       "encoder.ckpt:   0%|          | 0.00/17.3k [00:00<?, ?B/s]"
      ]
     },
     "metadata": {},
     "output_type": "display_data"
    },
    {
     "data": {
      "application/vnd.jupyter.widget-view+json": {
       "model_id": "9a755c6dcb464a4c91ba4443ea9d30d9",
       "version_major": 2,
       "version_minor": 0
      },
      "text/plain": [
       "decoder.ckpt:   0%|          | 0.00/17.2k [00:00<?, ?B/s]"
      ]
     },
     "metadata": {},
     "output_type": "display_data"
    }
   ],
   "source": [
    "from speechbrain.inference.separation import SepformerSeparation\n",
    "\n",
    "separator = SepformerSeparation.from_hparams(\n",
    "    source=\"speechbrain/sepformer-wsj02mix\", savedir=\"./pretrained_sepformer\"\n",
    ")"
   ]
  },
  {
   "cell_type": "markdown",
   "metadata": {
    "id": "UfLzNQuhAh9A"
   },
   "source": [
    "and we use it to separate the mixture"
   ]
  },
  {
   "cell_type": "code",
   "execution_count": 17,
   "metadata": {
    "executionInfo": {
     "elapsed": 12228,
     "status": "ok",
     "timestamp": 1706105769765,
     "user": {
      "displayName": "adel moumen",
      "userId": "01620107593621714109"
     },
     "user_tz": -60
    },
    "id": "4CHfWcBTTJhZ"
   },
   "outputs": [],
   "source": [
    "est_sources = separator.separate_batch(mix)"
   ]
  },
  {
   "cell_type": "code",
   "execution_count": 18,
   "metadata": {
    "executionInfo": {
     "elapsed": 103,
     "status": "ok",
     "timestamp": 1706105769766,
     "user": {
      "displayName": "adel moumen",
      "userId": "01620107593621714109"
     },
     "user_tz": -60
    },
    "id": "E-IfDAtiWUcp"
   },
   "outputs": [],
   "source": [
    "est_sources = est_sources[0]  # strip batch dimension"
   ]
  },
  {
   "cell_type": "markdown",
   "metadata": {
    "id": "rvI-xbleAvSj"
   },
   "source": [
    "You can listen at the results here:"
   ]
  },
  {
   "cell_type": "code",
   "execution_count": 19,
   "metadata": {
    "colab": {
     "base_uri": "https://localhost:8080/",
     "height": 73
    },
    "executionInfo": {
     "elapsed": 77,
     "status": "ok",
     "timestamp": 1706105769767,
     "user": {
      "displayName": "adel moumen",
      "userId": "01620107593621714109"
     },
     "user_tz": -60
    },
    "id": "H6W0qE5OX_v4",
    "outputId": "1089bfd8-15d9-429a-cd77-d34f7ec4e9dc"
   },
   "outputs": [
    {
     "data": {
      "text/html": [
       "\n",
       "                <audio  controls=\"controls\" >\n",
       "                    <source src=\"data:audio/wav;base64,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\" type=\"audio/wav\" />\n",
       "                    Your browser does not support the audio element.\n",
       "                </audio>\n",
       "              "
      ],
      "text/plain": [
       "<IPython.lib.display.Audio object>"
      ]
     },
     "execution_count": 19,
     "metadata": {},
     "output_type": "execute_result"
    }
   ],
   "source": [
    "ipd.Audio(est_sources[:, 0], rate=fs)"
   ]
  },
  {
   "cell_type": "code",
   "execution_count": 20,
   "metadata": {
    "colab": {
     "base_uri": "https://localhost:8080/",
     "height": 73
    },
    "executionInfo": {
     "elapsed": 63,
     "status": "ok",
     "timestamp": 1706105769767,
     "user": {
      "displayName": "adel moumen",
      "userId": "01620107593621714109"
     },
     "user_tz": -60
    },
    "id": "m-GMA0Q7YA62",
    "outputId": "9c698565-da04-43fb-d50f-63603afaea12"
   },
   "outputs": [
    {
     "data": {
      "text/html": [
       "\n",
       "                <audio  controls=\"controls\" >\n",
       "                    <source src=\"data:audio/wav;base64,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\" type=\"audio/wav\" />\n",
       "                    Your browser does not support the audio element.\n",
       "                </audio>\n",
       "              "
      ],
      "text/plain": [
       "<IPython.lib.display.Audio object>"
      ]
     },
     "execution_count": 20,
     "metadata": {},
     "output_type": "execute_result"
    }
   ],
   "source": [
    "ipd.Audio(est_sources[:, 1], rate=fs)"
   ]
  },
  {
   "cell_type": "markdown",
   "metadata": {
    "id": "N_0v7Ougbgcm"
   },
   "source": [
    "## Fine-tuning or using pretrained models as components of a new pipeline"
   ]
  },
  {
   "cell_type": "markdown",
   "metadata": {
    "id": "RnrPT0GuA03w"
   },
   "source": [
    "Here we will show how to fine-tune the CRDNN Encoder Decoder Seq2Seq model used to transcribe the audio in the previous example and downloaded from [here](https://huggingface.co/speechbrain/asr-crdnn-rnnlm-librispeech/blob/main/hyperparams.yaml).\n",
    "\n",
    "\n",
    "\n",
    "\n"
   ]
  },
  {
   "cell_type": "code",
   "execution_count": 21,
   "metadata": {
    "executionInfo": {
     "elapsed": 6038,
     "status": "ok",
     "timestamp": 1706105775747,
     "user": {
      "displayName": "adel moumen",
      "userId": "01620107593621714109"
     },
     "user_tz": -60
    },
    "id": "ARD9PaEpE4oD"
   },
   "outputs": [],
   "source": [
    "from speechbrain.inference.ASR import EncoderDecoderASR\n",
    "\n",
    "asr_model = EncoderDecoderASR.from_hparams(\n",
    "    source=\"speechbrain/asr-crdnn-rnnlm-librispeech\",\n",
    "    savedir=\"./pretrained_ASR\",\n",
    "    hparams_file=\"hyperparams_develop.yaml\",\n",
    ")"
   ]
  },
  {
   "cell_type": "markdown",
   "metadata": {
    "id": "fuuMQdb4ExyP"
   },
   "source": [
    "First we can see that the pretrained `asr_model` allows to access easily all its components:\n"
   ]
  },
  {
   "cell_type": "code",
   "execution_count": 22,
   "metadata": {
    "colab": {
     "base_uri": "https://localhost:8080/"
    },
    "executionInfo": {
     "elapsed": 185,
     "status": "ok",
     "timestamp": 1706105775749,
     "user": {
      "displayName": "adel moumen",
      "userId": "01620107593621714109"
     },
     "user_tz": -60
    },
    "id": "q7c1qywYHkOo",
    "outputId": "464933f1-ca5c-435a-fe26-675f1894da29"
   },
   "outputs": [
    {
     "data": {
      "text/plain": [
       "odict_keys(['normalizer', 'encoder', 'decoder', 'lm_model'])"
      ]
     },
     "execution_count": 22,
     "metadata": {},
     "output_type": "execute_result"
    }
   ],
   "source": [
    "asr_model.mods.keys()"
   ]
  },
  {
   "cell_type": "markdown",
   "metadata": {
    "id": "F5d9JG94JBLs"
   },
   "source": [
    "These keys corresponds to the modules entry specified in the [hyperparameter file](https://huggingface.co/speechbrain/asr-crdnn-rnnlm-librispeech/blob/main/hyperparams.yaml):\n",
    "\n",
    "\n",
    "```yaml\n",
    "modules:\n",
    "    encoder: !ref <encoder>\n",
    "    decoder: !ref <decoder>\n",
    "    lm_model: !ref <lm_model>\n",
    "```"
   ]
  },
  {
   "cell_type": "markdown",
   "metadata": {
    "id": "KNbCyQHIJYKx"
   },
   "source": [
    "We can also see that the encoder is actually composed of several sub-modules:\n",
    "\n",
    "```yaml\n",
    "encoder: !new:speechbrain.nnet.containers.LengthsCapableSequential\n",
    "    input_shape: [null, null, !ref <n_mels>]\n",
    "    compute_features: !ref <compute_features>\n",
    "    normalize: !ref <normalize>\n",
    "    model: !ref <enc>\n",
    "```\n",
    "\n"
   ]
  },
  {
   "cell_type": "markdown",
   "metadata": {
    "id": "bR6c1k20J3SN"
   },
   "source": [
    "These are simply accessible as members of the encoder:"
   ]
  },
  {
   "cell_type": "code",
   "execution_count": 23,
   "metadata": {
    "colab": {
     "base_uri": "https://localhost:8080/"
    },
    "executionInfo": {
     "elapsed": 175,
     "status": "ok",
     "timestamp": 1706105775752,
     "user": {
      "displayName": "adel moumen",
      "userId": "01620107593621714109"
     },
     "user_tz": -60
    },
    "id": "S6Vwi7cNI7eq",
    "outputId": "dbf05273-283a-4a8f-89fa-fdb3a08ca65c"
   },
   "outputs": [
    {
     "data": {
      "text/plain": [
       "LengthsCapableSequential(\n",
       "  (compute_features): Fbank(\n",
       "    (compute_STFT): STFT()\n",
       "    (compute_fbanks): Filterbank()\n",
       "    (compute_deltas): Deltas()\n",
       "    (context_window): ContextWindow()\n",
       "  )\n",
       "  (normalize): InputNormalization()\n",
       "  (model): CRDNN(\n",
       "    (CNN): Sequential(\n",
       "      (block_0): CNN_Block(\n",
       "        (conv_1): Conv2d(\n",
       "          (conv): Conv2d(1, 128, kernel_size=(3, 3), stride=(1, 1))\n",
       "        )\n",
       "        (norm_1): LayerNorm(\n",
       "          (norm): LayerNorm((40, 128), eps=1e-05, elementwise_affine=True)\n",
       "        )\n",
       "        (act_1): LeakyReLU(negative_slope=0.01)\n",
       "        (conv_2): Conv2d(\n",
       "          (conv): Conv2d(128, 128, kernel_size=(3, 3), stride=(1, 1))\n",
       "        )\n",
       "        (norm_2): LayerNorm(\n",
       "          (norm): LayerNorm((40, 128), eps=1e-05, elementwise_affine=True)\n",
       "        )\n",
       "        (act_2): LeakyReLU(negative_slope=0.01)\n",
       "        (pooling): Pooling1d(\n",
       "          (pool_layer): MaxPool2d(kernel_size=(1, 2), stride=(1, 2), padding=(0, 0), dilation=(1, 1), ceil_mode=False)\n",
       "        )\n",
       "        (drop): Dropout2d(\n",
       "          (drop): Dropout2d(p=0.15, inplace=False)\n",
       "        )\n",
       "      )\n",
       "      (block_1): CNN_Block(\n",
       "        (conv_1): Conv2d(\n",
       "          (conv): Conv2d(128, 256, kernel_size=(3, 3), stride=(1, 1))\n",
       "        )\n",
       "        (norm_1): LayerNorm(\n",
       "          (norm): LayerNorm((20, 256), eps=1e-05, elementwise_affine=True)\n",
       "        )\n",
       "        (act_1): LeakyReLU(negative_slope=0.01)\n",
       "        (conv_2): Conv2d(\n",
       "          (conv): Conv2d(256, 256, kernel_size=(3, 3), stride=(1, 1))\n",
       "        )\n",
       "        (norm_2): LayerNorm(\n",
       "          (norm): LayerNorm((20, 256), eps=1e-05, elementwise_affine=True)\n",
       "        )\n",
       "        (act_2): LeakyReLU(negative_slope=0.01)\n",
       "        (pooling): Pooling1d(\n",
       "          (pool_layer): MaxPool2d(kernel_size=(1, 2), stride=(1, 2), padding=(0, 0), dilation=(1, 1), ceil_mode=False)\n",
       "        )\n",
       "        (drop): Dropout2d(\n",
       "          (drop): Dropout2d(p=0.15, inplace=False)\n",
       "        )\n",
       "      )\n",
       "    )\n",
       "    (time_pooling): Pooling1d(\n",
       "      (pool_layer): MaxPool2d(kernel_size=(1, 4), stride=(1, 4), padding=(0, 0), dilation=(1, 1), ceil_mode=False)\n",
       "    )\n",
       "    (RNN): LSTM(\n",
       "      (rnn): LSTM(2560, 1024, num_layers=4, batch_first=True, dropout=0.15, bidirectional=True)\n",
       "    )\n",
       "    (DNN): Sequential(\n",
       "      (block_0): DNN_Block(\n",
       "        (linear): Linear(\n",
       "          (w): Linear(in_features=2048, out_features=512, bias=True)\n",
       "        )\n",
       "        (norm): BatchNorm1d(\n",
       "          (norm): BatchNorm1d(512, eps=1e-05, momentum=0.1, affine=True, track_running_stats=True)\n",
       "        )\n",
       "        (act): LeakyReLU(negative_slope=0.01)\n",
       "        (dropout): Dropout(p=0.15, inplace=False)\n",
       "      )\n",
       "      (block_1): DNN_Block(\n",
       "        (linear): Linear(\n",
       "          (w): Linear(in_features=512, out_features=512, bias=True)\n",
       "        )\n",
       "        (norm): BatchNorm1d(\n",
       "          (norm): BatchNorm1d(512, eps=1e-05, momentum=0.1, affine=True, track_running_stats=True)\n",
       "        )\n",
       "        (act): LeakyReLU(negative_slope=0.01)\n",
       "        (dropout): Dropout(p=0.15, inplace=False)\n",
       "      )\n",
       "    )\n",
       "  )\n",
       ")"
      ]
     },
     "execution_count": 23,
     "metadata": {},
     "output_type": "execute_result"
    }
   ],
   "source": [
    "asr_model.mods.encoder"
   ]
  },
  {
   "cell_type": "code",
   "execution_count": 24,
   "metadata": {
    "colab": {
     "base_uri": "https://localhost:8080/"
    },
    "executionInfo": {
     "elapsed": 138,
     "status": "ok",
     "timestamp": 1706105775753,
     "user": {
      "displayName": "adel moumen",
      "userId": "01620107593621714109"
     },
     "user_tz": -60
    },
    "id": "sgv5daThU1UC",
    "outputId": "c28da378-9d26-4dad-808f-3d4be1a4b7f3"
   },
   "outputs": [
    {
     "data": {
      "text/plain": [
       "Fbank(\n",
       "  (compute_STFT): STFT()\n",
       "  (compute_fbanks): Filterbank()\n",
       "  (compute_deltas): Deltas()\n",
       "  (context_window): ContextWindow()\n",
       ")"
      ]
     },
     "execution_count": 24,
     "metadata": {},
     "output_type": "execute_result"
    }
   ],
   "source": [
    "asr_model.mods.encoder.compute_features"
   ]
  },
  {
   "cell_type": "markdown",
   "metadata": {
    "id": "hoYbLtZmJ8V6"
   },
   "source": [
    "The training hyperparameters also can be easily accessed:"
   ]
  },
  {
   "cell_type": "code",
   "execution_count": 25,
   "metadata": {
    "colab": {
     "base_uri": "https://localhost:8080/"
    },
    "executionInfo": {
     "elapsed": 86,
     "status": "ok",
     "timestamp": 1706105775753,
     "user": {
      "displayName": "adel moumen",
      "userId": "01620107593621714109"
     },
     "user_tz": -60
    },
    "id": "fBy1ryJ6H2LJ",
    "outputId": "b2bcd22a-37e3-48dd-98eb-1df97d9f1a41"
   },
   "outputs": [
    {
     "data": {
      "text/plain": [
       "['__class__',\n",
       " '__delattr__',\n",
       " '__dict__',\n",
       " '__dir__',\n",
       " '__doc__',\n",
       " '__eq__',\n",
       " '__format__',\n",
       " '__ge__',\n",
       " '__getattribute__',\n",
       " '__gt__',\n",
       " '__hash__',\n",
       " '__init__',\n",
       " '__init_subclass__',\n",
       " '__le__',\n",
       " '__lt__',\n",
       " '__ne__',\n",
       " '__new__',\n",
       " '__reduce__',\n",
       " '__reduce_ex__',\n",
       " '__repr__',\n",
       " '__setattr__',\n",
       " '__sizeof__',\n",
       " '__str__',\n",
       " '__subclasshook__',\n",
       " 'activation',\n",
       " 'asr_model',\n",
       " 'beam_size',\n",
       " 'blank_index',\n",
       " 'bos_index',\n",
       " 'cnn_blocks',\n",
       " 'cnn_channels',\n",
       " 'cnn_kernelsize',\n",
       " 'compute_features',\n",
       " 'coverage_penalty',\n",
       " 'coverage_scorer',\n",
       " 'ctc_lin',\n",
       " 'dec',\n",
       " 'dec_neurons',\n",
       " 'decoder',\n",
       " 'dnn_blocks',\n",
       " 'dnn_neurons',\n",
       " 'dropout',\n",
       " 'emb',\n",
       " 'emb_size',\n",
       " 'enc',\n",
       " 'encoder',\n",
       " 'eos_index',\n",
       " 'eos_threshold',\n",
       " 'inter_layer_pooling_size',\n",
       " 'lm_model',\n",
       " 'lm_weight',\n",
       " 'log_softmax',\n",
       " 'max_attn_shift',\n",
       " 'max_decode_ratio',\n",
       " 'min_decode_ratio',\n",
       " 'modules',\n",
       " 'n_fft',\n",
       " 'n_mels',\n",
       " 'normalizer',\n",
       " 'output_neurons',\n",
       " 'pretrainer',\n",
       " 'rnn_bidirectional',\n",
       " 'rnn_class',\n",
       " 'rnn_layers',\n",
       " 'rnn_neurons',\n",
       " 'rnnlm_scorer',\n",
       " 'sample_rate',\n",
       " 'scorer',\n",
       " 'seq_lin',\n",
       " 'temperature',\n",
       " 'temperature_lm',\n",
       " 'time_pooling_size',\n",
       " 'tokenizer',\n",
       " 'using_max_attn_shift']"
      ]
     },
     "execution_count": 25,
     "metadata": {},
     "output_type": "execute_result"
    }
   ],
   "source": [
    "dir(asr_model.hparams)"
   ]
  },
  {
   "cell_type": "markdown",
   "metadata": {
    "id": "rUsVgcjgKJKz"
   },
   "source": [
    "Such information are pretty useful as we can directly use some of these hyperparameters in our fine-tuning pipeline to ensure compability with the pretrained model (e.g. use the same BOS or EOS indexes)!"
   ]
  },
  {
   "cell_type": "markdown",
   "metadata": {
    "id": "BDYhruKqLv0G"
   },
   "source": [
    "### Setting up the data pipeline"
   ]
  },
  {
   "cell_type": "markdown",
   "metadata": {
    "id": "Uz8KzuQPEdW-"
   },
   "source": [
    "First we must set up the data pipeline for downloaded MiniLibriSpeech data.\n",
    "\n",
    "If you are not familiar with **SpeechBrain dataIO** you may want to take a look at the [tutorial](https://speechbrain.readthedocs.io/en/latest/tutorials/basics/data-loading-pipeline.html)."
   ]
  },
  {
   "cell_type": "code",
   "execution_count": 26,
   "metadata": {
    "executionInfo": {
     "elapsed": 56,
     "status": "ok",
     "timestamp": 1706105775758,
     "user": {
      "displayName": "adel moumen",
      "userId": "01620107593621714109"
     },
     "user_tz": -60
    },
    "id": "MB9zoQGFcjsd"
   },
   "outputs": [],
   "source": [
    "import speechbrain as sb\n",
    "import torch"
   ]
  },
  {
   "cell_type": "markdown",
   "metadata": {
    "id": "axAQJISREGM7"
   },
   "source": [
    "We parse MiniLibriSpeech to a suitable JSON annotation"
   ]
  },
  {
   "cell_type": "code",
   "execution_count": 27,
   "metadata": {
    "executionInfo": {
     "elapsed": 3189,
     "status": "ok",
     "timestamp": 1706105778894,
     "user": {
      "displayName": "adel moumen",
      "userId": "01620107593621714109"
     },
     "user_tz": -60
    },
    "id": "DwcQjRS2cnL5"
   },
   "outputs": [],
   "source": [
    "from parse_data import (\n",
    "    parse_to_json,\n",
    ")  # parse_data is a local library downloaded before (see Installing Dependencies step)\n",
    "\n",
    "parse_to_json(\"./LibriSpeech/dev-clean-2\")"
   ]
  },
  {
   "cell_type": "markdown",
   "metadata": {
    "id": "VIR_XyydEOTS"
   },
   "source": [
    "We instantiate a **DynamicItemDataset** from the JSON annotation"
   ]
  },
  {
   "cell_type": "code",
   "execution_count": 28,
   "metadata": {
    "executionInfo": {
     "elapsed": 246,
     "status": "ok",
     "timestamp": 1706105778898,
     "user": {
      "displayName": "adel moumen",
      "userId": "01620107593621714109"
     },
     "user_tz": -60
    },
    "id": "kdBfsbdUb3kn"
   },
   "outputs": [],
   "source": [
    "from speechbrain.dataio.dataset import DynamicItemDataset\n",
    "\n",
    "dataset = DynamicItemDataset.from_json(\"data.json\")"
   ]
  },
  {
   "cell_type": "markdown",
   "metadata": {
    "id": "NEB015VjMDLR"
   },
   "source": [
    "We sort the dataset based on length to speed-up training"
   ]
  },
  {
   "cell_type": "code",
   "execution_count": 29,
   "metadata": {
    "executionInfo": {
     "elapsed": 237,
     "status": "ok",
     "timestamp": 1706105778899,
     "user": {
      "displayName": "adel moumen",
      "userId": "01620107593621714109"
     },
     "user_tz": -60
    },
    "id": "YSHVrP3CgLq2"
   },
   "outputs": [],
   "source": [
    "dataset = dataset.filtered_sorted(sort_key=\"length\", select_n=100)\n",
    "# we limit the dataset to 100 utterances to keep the trainin short in this Colab example"
   ]
  },
  {
   "cell_type": "markdown",
   "metadata": {
    "id": "npAUJCOEMhXE"
   },
   "source": [
    "and add a pipeline for reading audio"
   ]
  },
  {
   "cell_type": "code",
   "execution_count": 30,
   "metadata": {
    "executionInfo": {
     "elapsed": 196,
     "status": "ok",
     "timestamp": 1706105778899,
     "user": {
      "displayName": "adel moumen",
      "userId": "01620107593621714109"
     },
     "user_tz": -60
    },
    "id": "Kauu_ke5eglF"
   },
   "outputs": [],
   "source": [
    "dataset.add_dynamic_item(\n",
    "    sb.dataio.dataio.read_audio, takes=\"file_path\", provides=\"signal\"\n",
    ")"
   ]
  },
  {
   "cell_type": "markdown",
   "metadata": {
    "id": "M1K1xvEHMnmP"
   },
   "source": [
    "and another one to encode the words from annotation.\n",
    "\n",
    "It is worth noting that we use the Tokenizer object obtained from the pretrained `asr_model` and  that we encode the words with `asr_model.tokenizer.encode_as_ids(words)`. We also reuse `asr_model` `eos_index` and `bos_index` accessed via `asr_model.hparams` to ensure that all these parameters correspond to the ones used at pretraining time!"
   ]
  },
  {
   "cell_type": "code",
   "execution_count": 31,
   "metadata": {
    "executionInfo": {
     "elapsed": 176,
     "status": "ok",
     "timestamp": 1706105778899,
     "user": {
      "displayName": "adel moumen",
      "userId": "01620107593621714109"
     },
     "user_tz": -60
    },
    "id": "bf1rDbYBeh-7"
   },
   "outputs": [],
   "source": [
    "# 3. Define text pipeline:\n",
    "@sb.utils.data_pipeline.takes(\"words\")\n",
    "@sb.utils.data_pipeline.provides(\n",
    "    \"words\", \"tokens_list\", \"tokens_bos\", \"tokens_eos\", \"tokens\"\n",
    ")\n",
    "def text_pipeline(words):\n",
    "    yield words\n",
    "    tokens_list = asr_model.tokenizer.encode_as_ids(words)\n",
    "    yield tokens_list\n",
    "    tokens_bos = torch.LongTensor([asr_model.hparams.bos_index] + (tokens_list))\n",
    "    yield tokens_bos\n",
    "    tokens_eos = torch.LongTensor(\n",
    "        tokens_list + [asr_model.hparams.eos_index]\n",
    "    )  # we use same eos and bos indexes as in pretrained model\n",
    "    yield tokens_eos\n",
    "    tokens = torch.LongTensor(tokens_list)\n",
    "    yield tokens"
   ]
  },
  {
   "cell_type": "code",
   "execution_count": 32,
   "metadata": {
    "executionInfo": {
     "elapsed": 169,
     "status": "ok",
     "timestamp": 1706105778901,
     "user": {
      "displayName": "adel moumen",
      "userId": "01620107593621714109"
     },
     "user_tz": -60
    },
    "id": "5ZaW1-WEwhDf"
   },
   "outputs": [],
   "source": [
    "dataset.add_dynamic_item(text_pipeline)"
   ]
  },
  {
   "cell_type": "markdown",
   "metadata": {
    "id": "1Ijrx8r8OhuH"
   },
   "source": [
    "We set the dataset object to return the signal tensor as well as the encoded tokens and words."
   ]
  },
  {
   "cell_type": "code",
   "execution_count": 33,
   "metadata": {
    "colab": {
     "base_uri": "https://localhost:8080/"
    },
    "executionInfo": {
     "elapsed": 163,
     "status": "ok",
     "timestamp": 1706105778901,
     "user": {
      "displayName": "adel moumen",
      "userId": "01620107593621714109"
     },
     "user_tz": -60
    },
    "id": "cAulkwZRfzDo",
    "outputId": "cc674614-cd45-452b-be72-2c0fefcced62"
   },
   "outputs": [
    {
     "data": {
      "text/plain": [
       "{'id': '777-126732-0081',\n",
       " 'signal': tensor([-9.1553e-05, -3.6621e-04, -4.8828e-04,  ...,  2.1362e-04,\n",
       "          2.4414e-04,  3.3569e-04]),\n",
       " 'words': 'COMFORTABLE DEAR',\n",
       " 'tokens_list': [875, 157, 598],\n",
       " 'tokens_bos': tensor([  0, 875, 157, 598]),\n",
       " 'tokens_eos': tensor([875, 157, 598,   0]),\n",
       " 'tokens': tensor([875, 157, 598])}"
      ]
     },
     "execution_count": 33,
     "metadata": {},
     "output_type": "execute_result"
    }
   ],
   "source": [
    "dataset.set_output_keys(\n",
    "    [\"id\", \"signal\", \"words\", \"tokens_list\", \"tokens_bos\", \"tokens_eos\", \"tokens\"]\n",
    ")\n",
    "dataset[0]"
   ]
  },
  {
   "cell_type": "markdown",
   "metadata": {
    "id": "9-LZusHdOr61"
   },
   "source": [
    "### Fine-Tuning the ASR model\n",
    "\n",
    "First, We define our Brain class that will perform the fine-tuning. Here, we just take an example similar to the Brain class of the original [Seq2Seq LibriSpeech recipe](https://github.com/speechbrain/speechbrain/blob/develop/recipes/LibriSpeech/ASR/seq2seq/train.py).\n"
   ]
  },
  {
   "cell_type": "code",
   "execution_count": 34,
   "metadata": {
    "executionInfo": {
     "elapsed": 153,
     "status": "ok",
     "timestamp": 1706105778903,
     "user": {
      "displayName": "adel moumen",
      "userId": "01620107593621714109"
     },
     "user_tz": -60
    },
    "id": "EfpGJ3FIgFRu"
   },
   "outputs": [],
   "source": [
    "from speechbrain.lobes.features import Fbank\n",
    "import torch\n",
    "\n",
    "\n",
    "# Define fine-tuning procedure\n",
    "class EncDecFineTune(sb.Brain):\n",
    "    def on_stage_start(self, stage, epoch):\n",
    "        # enable grad for all modules we want to fine-tune\n",
    "        if stage == sb.Stage.TRAIN:\n",
    "            for module in [\n",
    "                self.modules.enc,\n",
    "                self.modules.emb,\n",
    "                self.modules.dec,\n",
    "                self.modules.seq_lin,\n",
    "            ]:\n",
    "                for p in module.parameters():\n",
    "                    p.requires_grad = True\n",
    "\n",
    "    def compute_forward(self, batch, stage):\n",
    "        \"\"\"Forward computations from the waveform batches to the output probabilities.\"\"\"\n",
    "        batch = batch.to(self.device)\n",
    "        wavs, wav_lens = batch.signal\n",
    "        tokens_bos, _ = batch.tokens_bos\n",
    "        wavs, wav_lens = wavs.to(self.device), wav_lens.to(self.device)\n",
    "\n",
    "        # Forward pass\n",
    "        feats = self.modules.compute_features(wavs)\n",
    "        feats = self.modules.normalize(feats, wav_lens)\n",
    "        # feats.requires_grad = True\n",
    "        x = self.modules.enc(feats)\n",
    "\n",
    "        e_in = self.modules.emb(tokens_bos)  # y_in bos + tokens\n",
    "        h, _ = self.modules.dec(e_in, x, wav_lens)\n",
    "\n",
    "        # Output layer for seq2seq log-probabilities\n",
    "        logits = self.modules.seq_lin(h)\n",
    "        p_seq = self.hparams.log_softmax(logits)\n",
    "\n",
    "        return p_seq, wav_lens\n",
    "\n",
    "    def compute_objectives(self, predictions, batch, stage):\n",
    "        \"\"\"Computes the loss (CTC+NLL) given predictions and targets.\"\"\"\n",
    "\n",
    "        p_seq, wav_lens = predictions\n",
    "\n",
    "        ids = batch.id\n",
    "        tokens_eos, tokens_eos_lens = batch.tokens_eos\n",
    "        tokens, tokens_lens = batch.tokens\n",
    "\n",
    "        loss = self.hparams.seq_cost(p_seq, tokens_eos, tokens_eos_lens)\n",
    "\n",
    "        return loss"
   ]
  },
  {
   "cell_type": "markdown",
   "metadata": {
    "id": "ZJrCTNIBPVS7"
   },
   "source": [
    "Here we define the modules and hyperparameters needed for the Brain class defined before.\n",
    "\n",
    "We fetch them directly from the pretrained model by accessing its `modules` and `hparams`. These can be found in the `hyperparams.yaml` file in the model [HuggingFace repo](https://huggingface.co/speechbrain/asr-crdnn-rnnlm-librispeech/blob/main/hyperparams.yaml)."
   ]
  },
  {
   "cell_type": "code",
   "execution_count": 35,
   "metadata": {
    "executionInfo": {
     "elapsed": 139,
     "status": "ok",
     "timestamp": 1706105778903,
     "user": {
      "displayName": "adel moumen",
      "userId": "01620107593621714109"
     },
     "user_tz": -60
    },
    "id": "R3B4Dv1Wjfv6"
   },
   "outputs": [],
   "source": [
    "modules = {\n",
    "    \"enc\": asr_model.mods.encoder.model,\n",
    "    \"emb\": asr_model.hparams.emb,\n",
    "    \"dec\": asr_model.hparams.dec,\n",
    "    \"compute_features\": asr_model.mods.encoder.compute_features,  # we use the same features\n",
    "    \"normalize\": asr_model.mods.encoder.normalize,\n",
    "    \"seq_lin\": asr_model.hparams.seq_lin,\n",
    "}\n",
    "\n",
    "hparams = {\n",
    "    \"seq_cost\": lambda x, y, z: speechbrain.nnet.losses.nll_loss(\n",
    "        x, y, z, label_smoothing=0.1\n",
    "    ),\n",
    "    \"log_softmax\": speechbrain.nnet.activations.Softmax(apply_log=True),\n",
    "}\n",
    "\n",
    "brain = EncDecFineTune(\n",
    "    modules, hparams=hparams, opt_class=lambda x: torch.optim.SGD(x, 1e-5)\n",
    ")\n",
    "brain.tokenizer = asr_model.tokenizer"
   ]
  },
  {
   "cell_type": "markdown",
   "metadata": {
    "id": "kqfkX393Rkbb"
   },
   "source": [
    "The pre-trained model can be finally fine-tuned:"
   ]
  },
  {
   "cell_type": "code",
   "execution_count": 36,
   "metadata": {
    "colab": {
     "base_uri": "https://localhost:8080/"
    },
    "executionInfo": {
     "elapsed": 680130,
     "status": "ok",
     "timestamp": 1706106458896,
     "user": {
      "displayName": "adel moumen",
      "userId": "01620107593621714109"
     },
     "user_tz": -60
    },
    "id": "aHWteDB0jXFp",
    "outputId": "941550cf-f8a8-4be4-fce5-e26f0118a063"
   },
   "outputs": [
    {
     "name": "stderr",
     "output_type": "stream",
     "text": [
      "100%|██████████| 12/12 [05:44<00:00, 28.69s/it, train_loss=1.31]\n",
      "100%|██████████| 12/12 [05:35<00:00, 27.99s/it, train_loss=1.28]\n"
     ]
    }
   ],
   "source": [
    "brain.fit(\n",
    "    range(2),\n",
    "    train_set=dataset,\n",
    "    train_loader_kwargs={\"batch_size\": 8, \"drop_last\": True, \"shuffle\": False},\n",
    ")"
   ]
  },
  {
   "cell_type": "markdown",
   "metadata": {
    "id": "l7qb4lrtG8G-"
   },
   "source": [
    "## Pretrainer Class\n",
    "In speechbrain, another way to perform pre-training is to use the PreTrainer Class (`speechbrain.utils.parameter_transfer.Pretrainer`). It orchestrates parameter transfer in a more structured way, which can aid in writing easy-to-share recipes (and it is also central in the implementation `speechbrain.pretrained` models). To use it, let's first initialize a model:"
   ]
  },
  {
   "cell_type": "code",
   "execution_count": 37,
   "metadata": {
    "executionInfo": {
     "elapsed": 61,
     "status": "ok",
     "timestamp": 1706106458898,
     "user": {
      "displayName": "adel moumen",
      "userId": "01620107593621714109"
     },
     "user_tz": -60
    },
    "id": "DJ9Wvc41K3p8"
   },
   "outputs": [],
   "source": [
    "from speechbrain.lobes.models.ECAPA_TDNN import ECAPA_TDNN\n",
    "\n",
    "model = ECAPA_TDNN(\n",
    "    input_size=80,\n",
    "    channels=[1024, 1024, 1024, 1024, 3072],\n",
    "    kernel_sizes=[5, 3, 3, 3, 1],\n",
    "    dilations=[1, 2, 3, 4, 1],\n",
    "    attention_channels=128,\n",
    "    lin_neurons=192,\n",
    ")"
   ]
  },
  {
   "cell_type": "markdown",
   "metadata": {
    "id": "TFPMuK0eLRWK"
   },
   "source": [
    "At this level, the model is initialized with random parameters. However, we can use our pretrainer to replace random parameters with the ones stored in the saved checkpoint:"
   ]
  },
  {
   "cell_type": "code",
   "execution_count": 38,
   "metadata": {
    "executionInfo": {
     "elapsed": 989,
     "status": "ok",
     "timestamp": 1706106459847,
     "user": {
      "displayName": "adel moumen",
      "userId": "01620107593621714109"
     },
     "user_tz": -60
    },
    "id": "PsBfJrc5MhHV"
   },
   "outputs": [],
   "source": [
    "from speechbrain.utils.parameter_transfer import Pretrainer\n",
    "\n",
    "# Initialization of the pre-trainer\n",
    "pretrain = Pretrainer(\n",
    "    loadables={\"model\": model},\n",
    "    paths={\"model\": \"speechbrain/spkrec-ecapa-voxceleb/embedding_model.ckpt\"},\n",
    ")\n",
    "\n",
    "# We download the pretrained model from HuggingFace in this case\n",
    "pretrain.collect_files()\n",
    "pretrain.load_collected()"
   ]
  },
  {
   "cell_type": "markdown",
   "metadata": {
    "id": "IBxnWXe4OYSJ"
   },
   "source": [
    "Now, the model is not anymore randomly initialized, but it contains the pre-trained parameters of `embedding_model.ckpt`.  The path of the pre-trained model can be a **local path**, a **web url**, or a **huggingface repository**:"
   ]
  },
  {
   "cell_type": "code",
   "execution_count": 39,
   "metadata": {
    "executionInfo": {
     "elapsed": 2641,
     "status": "ok",
     "timestamp": 1706106462469,
     "user": {
      "displayName": "adel moumen",
      "userId": "01620107593621714109"
     },
     "user_tz": -60
    },
    "id": "4AQW7yD3PRLD"
   },
   "outputs": [],
   "source": [
    "# Local Path\n",
    "pretrain = Pretrainer(\n",
    "    collect_in=\"model_local\",\n",
    "    loadables={\"model\": model},\n",
    "    paths={\"model\": \"model_checkpoints/model.ckpt\"},\n",
    ")\n",
    "pretrain.collect_files()\n",
    "pretrain.load_collected()\n",
    "\n",
    "# Or web\n",
    "pretrain = Pretrainer(\n",
    "    collect_in=\"model_web\",\n",
    "    loadables={\"model\": model},\n",
    "    paths={\n",
    "        \"model\": \"https://www.dropbox.com/s/2mdnl784ram5w8o/embedding_model.ckpt?dl=1\"\n",
    "    },\n",
    ")\n",
    "pretrain.collect_files()\n",
    "pretrain.load_collected()"
   ]
  },
  {
   "cell_type": "markdown",
   "metadata": {
    "id": "BBlIHzVjRHHA"
   },
   "source": [
    "As you can see, you can use the variable `collect_in` to set where the pre-trained model is stored."
   ]
  },
  {
   "cell_type": "markdown",
   "metadata": {
    "id": "OyjEzG-6zIFT"
   },
   "source": [
    "## Acknowledgements\n",
    "\n",
    "\n",
    "*   Many thanks to ([ziz19](https://github.com/ziz19)) who helped improving this Tutorial.\n"
   ]
  },
  {
   "cell_type": "markdown",
   "metadata": {
    "id": "sb_auto_footer",
    "tags": [
     "sb_auto_footer"
    ]
   },
   "source": [
    "## Citing SpeechBrain\n",
    "\n",
    "If you use SpeechBrain in your research or business, please cite it using the following BibTeX entry:\n",
    "\n",
    "```bibtex\n",
    "@misc{speechbrainV1,\n",
    "  title={Open-Source Conversational AI with {SpeechBrain} 1.0},\n",
    "  author={Mirco Ravanelli and Titouan Parcollet and Adel Moumen and Sylvain de Langen and Cem Subakan and Peter Plantinga and Yingzhi Wang and Pooneh Mousavi and Luca Della Libera and Artem Ploujnikov and Francesco Paissan and Davide Borra and Salah Zaiem and Zeyu Zhao and Shucong Zhang and Georgios Karakasidis and Sung-Lin Yeh and Pierre Champion and Aku Rouhe and Rudolf Braun and Florian Mai and Juan Zuluaga-Gomez and Seyed Mahed Mousavi and Andreas Nautsch and Xuechen Liu and Sangeet Sagar and Jarod Duret and Salima Mdhaffar and Gaelle Laperriere and Mickael Rouvier and Renato De Mori and Yannick Esteve},\n",
    "  year={2024},\n",
    "  eprint={2407.00463},\n",
    "  archivePrefix={arXiv},\n",
    "  primaryClass={cs.LG},\n",
    "  url={https://arxiv.org/abs/2407.00463},\n",
    "}\n",
    "@misc{speechbrain,\n",
    "  title={{SpeechBrain}: A General-Purpose Speech Toolkit},\n",
    "  author={Mirco Ravanelli and Titouan Parcollet and Peter Plantinga and Aku Rouhe and Samuele Cornell and Loren Lugosch and Cem Subakan and Nauman Dawalatabad and Abdelwahab Heba and Jianyuan Zhong and Ju-Chieh Chou and Sung-Lin Yeh and Szu-Wei Fu and Chien-Feng Liao and Elena Rastorgueva and François Grondin and William Aris and Hwidong Na and Yan Gao and Renato De Mori and Yoshua Bengio},\n",
    "  year={2021},\n",
    "  eprint={2106.04624},\n",
    "  archivePrefix={arXiv},\n",
    "  primaryClass={eess.AS},\n",
    "  note={arXiv:2106.04624}\n",
    "}\n",
    "```"
   ]
  }
 ],
 "metadata": {
  "accelerator": "GPU",
  "colab": {
   "provenance": [
    {
     "file_id": "1LN7R3U3xneDgDRK2gC5MzGkLysCWxuC3",
     "timestamp": 1706026019611
    },
    {
     "file_id": "1228U7DsXZ3A_B3tkZoQhixC0WP6O0DZH",
     "timestamp": 1615161894564
    }
   ]
  },
  "kernelspec": {
   "display_name": "Python 3 (ipykernel)",
   "language": "python",
   "name": "python3"
  },
  "language_info": {
   "codemirror_mode": {
    "name": "ipython",
    "version": 3
   },
   "file_extension": ".py",
   "mimetype": "text/x-python",
   "name": "python",
   "nbconvert_exporter": "python",
   "pygments_lexer": "ipython3",
   "version": "3.12.6"
  },
  "widgets": {
   "application/vnd.jupyter.widget-state+json": {
    "000de1ccc95c4cd8850d3a3424f4714a": {
     "model_module": "@jupyter-widgets/base",
     "model_module_version": "1.2.0",
     "model_name": "LayoutModel",
     "state": {
      "_model_module": "@jupyter-widgets/base",
      "_model_module_version": "1.2.0",
      "_model_name": "LayoutModel",
      "_view_count": null,
      "_view_module": "@jupyter-widgets/base",
      "_view_module_version": "1.2.0",
      "_view_name": "LayoutView",
      "align_content": null,
      "align_items": null,
      "align_self": null,
      "border": null,
      "bottom": null,
      "display": null,
      "flex": null,
      "flex_flow": null,
      "grid_area": null,
      "grid_auto_columns": null,
      "grid_auto_flow": null,
      "grid_auto_rows": null,
      "grid_column": null,
      "grid_gap": null,
      "grid_row": null,
      "grid_template_areas": null,
      "grid_template_columns": null,
      "grid_template_rows": null,
      "height": null,
      "justify_content": null,
      "justify_items": null,
      "left": null,
      "margin": null,
      "max_height": null,
      "max_width": null,
      "min_height": null,
      "min_width": null,
      "object_fit": null,
      "object_position": null,
      "order": null,
      "overflow": null,
      "overflow_x": null,
      "overflow_y": null,
      "padding": null,
      "right": null,
      "top": null,
      "visibility": null,
      "width": null
     }
    },
    "00b563eeca124124bc81f8f19a5f0e48": {
     "model_module": "@jupyter-widgets/controls",
     "model_module_version": "1.5.0",
     "model_name": "HBoxModel",
     "state": {
      "_dom_classes": [],
      "_model_module": "@jupyter-widgets/controls",
      "_model_module_version": "1.5.0",
      "_model_name": "HBoxModel",
      "_view_count": null,
      "_view_module": "@jupyter-widgets/controls",
      "_view_module_version": "1.5.0",
      "_view_name": "HBoxView",
      "box_style": "",
      "children": [
       "IPY_MODEL_86b24bfbc04d4bda8cce53a140c17e62",
       "IPY_MODEL_4ef78f63daba4f20a768e58c023a8eee",
       "IPY_MODEL_daaf30a442cb4fb48db9a082a40c6376"
      ],
      "layout": "IPY_MODEL_6b302652bec7427680692afe5c3630f9"
     }
    },
    "01a0f8b6ae4e4fbcaf1e96dd3adce92a": {
     "model_module": "@jupyter-widgets/base",
     "model_module_version": "1.2.0",
     "model_name": "LayoutModel",
     "state": {
      "_model_module": "@jupyter-widgets/base",
      "_model_module_version": "1.2.0",
      "_model_name": "LayoutModel",
      "_view_count": null,
      "_view_module": "@jupyter-widgets/base",
      "_view_module_version": "1.2.0",
      "_view_name": "LayoutView",
      "align_content": null,
      "align_items": null,
      "align_self": null,
      "border": null,
      "bottom": null,
      "display": null,
      "flex": null,
      "flex_flow": null,
      "grid_area": null,
      "grid_auto_columns": null,
      "grid_auto_flow": null,
      "grid_auto_rows": null,
      "grid_column": null,
      "grid_gap": null,
      "grid_row": null,
      "grid_template_areas": null,
      "grid_template_columns": null,
      "grid_template_rows": null,
      "height": null,
      "justify_content": null,
      "justify_items": null,
      "left": null,
      "margin": null,
      "max_height": null,
      "max_width": null,
      "min_height": null,
      "min_width": null,
      "object_fit": null,
      "object_position": null,
      "order": null,
      "overflow": null,
      "overflow_x": null,
      "overflow_y": null,
      "padding": null,
      "right": null,
      "top": null,
      "visibility": null,
      "width": null
     }
    },
    "0420cacd6a7349e8b7ccaef1ddc985b2": {
     "model_module": "@jupyter-widgets/controls",
     "model_module_version": "1.5.0",
     "model_name": "DescriptionStyleModel",
     "state": {
      "_model_module": "@jupyter-widgets/controls",
      "_model_module_version": "1.5.0",
      "_model_name": "DescriptionStyleModel",
      "_view_count": null,
      "_view_module": "@jupyter-widgets/base",
      "_view_module_version": "1.2.0",
      "_view_name": "StyleView",
      "description_width": ""
     }
    },
    "0631b7878fd14f38b0f8270c1fafe391": {
     "model_module": "@jupyter-widgets/controls",
     "model_module_version": "1.5.0",
     "model_name": "HBoxModel",
     "state": {
      "_dom_classes": [],
      "_model_module": "@jupyter-widgets/controls",
      "_model_module_version": "1.5.0",
      "_model_name": "HBoxModel",
      "_view_count": null,
      "_view_module": "@jupyter-widgets/controls",
      "_view_module_version": "1.5.0",
      "_view_name": "HBoxView",
      "box_style": "",
      "children": [
       "IPY_MODEL_f3bc35d9420f44239f719e2f4b37d379",
       "IPY_MODEL_df2df25b22aa434ebaa769dce4162ca8",
       "IPY_MODEL_7def4f14f4414bd3a0b25bb628863123"
      ],
      "layout": "IPY_MODEL_dcfa2ee4056a47a38a4bb14deafe7366"
     }
    },
    "0657d483243b46748b6dd499a188b588": {
     "model_module": "@jupyter-widgets/controls",
     "model_module_version": "1.5.0",
     "model_name": "DescriptionStyleModel",
     "state": {
      "_model_module": "@jupyter-widgets/controls",
      "_model_module_version": "1.5.0",
      "_model_name": "DescriptionStyleModel",
      "_view_count": null,
      "_view_module": "@jupyter-widgets/base",
      "_view_module_version": "1.2.0",
      "_view_name": "StyleView",
      "description_width": ""
     }
    },
    "0adda9c3d3a14ceaa3d247b59c962554": {
     "model_module": "@jupyter-widgets/controls",
     "model_module_version": "1.5.0",
     "model_name": "FloatProgressModel",
     "state": {
      "_dom_classes": [],
      "_model_module": "@jupyter-widgets/controls",
      "_model_module_version": "1.5.0",
      "_model_name": "FloatProgressModel",
      "_view_count": null,
      "_view_module": "@jupyter-widgets/controls",
      "_view_module_version": "1.5.0",
      "_view_name": "ProgressView",
      "bar_style": "success",
      "description": "",
      "description_tooltip": null,
      "layout": "IPY_MODEL_402e80d5952d4da991f798672ff53d46",
      "max": 1409,
      "min": 0,
      "orientation": "horizontal",
      "style": "IPY_MODEL_2232c1b90a0a40d7b470a492dd470197",
      "value": 1409
     }
    },
    "0c1d9a4d91eb4f0397bc17c1abeafcd6": {
     "model_module": "@jupyter-widgets/controls",
     "model_module_version": "1.5.0",
     "model_name": "HTMLModel",
     "state": {
      "_dom_classes": [],
      "_model_module": "@jupyter-widgets/controls",
      "_model_module_version": "1.5.0",
      "_model_name": "HTMLModel",
      "_view_count": null,
      "_view_module": "@jupyter-widgets/controls",
      "_view_module_version": "1.5.0",
      "_view_name": "HTMLView",
      "description": "",
      "description_tooltip": null,
      "layout": "IPY_MODEL_9b1b16de38574725bcbf9527f77b8820",
      "placeholder": "​",
      "style": "IPY_MODEL_c81777f5d3814ced8096613714f3d054",
      "value": "decoder.ckpt: 100%"
     }
    },
    "0d3e8b469920445f88475b4496a5d66a": {
     "model_module": "@jupyter-widgets/controls",
     "model_module_version": "1.5.0",
     "model_name": "FloatProgressModel",
     "state": {
      "_dom_classes": [],
      "_model_module": "@jupyter-widgets/controls",
      "_model_module_version": "1.5.0",
      "_model_name": "FloatProgressModel",
      "_view_count": null,
      "_view_module": "@jupyter-widgets/controls",
      "_view_module_version": "1.5.0",
      "_view_name": "ProgressView",
      "bar_style": "success",
      "description": "",
      "description_tooltip": null,
      "layout": "IPY_MODEL_000de1ccc95c4cd8850d3a3424f4714a",
      "max": 1920,
      "min": 0,
      "orientation": "horizontal",
      "style": "IPY_MODEL_5d221ae2b9ac4e36a7cfe2cce3c536dc",
      "value": 1920
     }
    },
    "0d4c194f09524aac95e602a14d9a485d": {
     "model_module": "@jupyter-widgets/base",
     "model_module_version": "1.2.0",
     "model_name": "LayoutModel",
     "state": {
      "_model_module": "@jupyter-widgets/base",
      "_model_module_version": "1.2.0",
      "_model_name": "LayoutModel",
      "_view_count": null,
      "_view_module": "@jupyter-widgets/base",
      "_view_module_version": "1.2.0",
      "_view_name": "LayoutView",
      "align_content": null,
      "align_items": null,
      "align_self": null,
      "border": null,
      "bottom": null,
      "display": null,
      "flex": null,
      "flex_flow": null,
      "grid_area": null,
      "grid_auto_columns": null,
      "grid_auto_flow": null,
      "grid_auto_rows": null,
      "grid_column": null,
      "grid_gap": null,
      "grid_row": null,
      "grid_template_areas": null,
      "grid_template_columns": null,
      "grid_template_rows": null,
      "height": null,
      "justify_content": null,
      "justify_items": null,
      "left": null,
      "margin": null,
      "max_height": null,
      "max_width": null,
      "min_height": null,
      "min_width": null,
      "object_fit": null,
      "object_position": null,
      "order": null,
      "overflow": null,
      "overflow_x": null,
      "overflow_y": null,
      "padding": null,
      "right": null,
      "top": null,
      "visibility": null,
      "width": null
     }
    },
    "0d555777e2d2405698247f6fb163454d": {
     "model_module": "@jupyter-widgets/controls",
     "model_module_version": "1.5.0",
     "model_name": "HTMLModel",
     "state": {
      "_dom_classes": [],
      "_model_module": "@jupyter-widgets/controls",
      "_model_module_version": "1.5.0",
      "_model_name": "HTMLModel",
      "_view_count": null,
      "_view_module": "@jupyter-widgets/controls",
      "_view_module_version": "1.5.0",
      "_view_name": "HTMLView",
      "description": "",
      "description_tooltip": null,
      "layout": "IPY_MODEL_eb2aa07593d44cbcae05ace5ace724a8",
      "placeholder": "​",
      "style": "IPY_MODEL_a2d5bacd3dfc4279b7434002341d000b",
      "value": "mean_var_norm_emb.ckpt: 100%"
     }
    },
    "11890cbf63b24f13b0f3e75b7fc68d01": {
     "model_module": "@jupyter-widgets/base",
     "model_module_version": "1.2.0",
     "model_name": "LayoutModel",
     "state": {
      "_model_module": "@jupyter-widgets/base",
      "_model_module_version": "1.2.0",
      "_model_name": "LayoutModel",
      "_view_count": null,
      "_view_module": "@jupyter-widgets/base",
      "_view_module_version": "1.2.0",
      "_view_name": "LayoutView",
      "align_content": null,
      "align_items": null,
      "align_self": null,
      "border": null,
      "bottom": null,
      "display": null,
      "flex": null,
      "flex_flow": null,
      "grid_area": null,
      "grid_auto_columns": null,
      "grid_auto_flow": null,
      "grid_auto_rows": null,
      "grid_column": null,
      "grid_gap": null,
      "grid_row": null,
      "grid_template_areas": null,
      "grid_template_columns": null,
      "grid_template_rows": null,
      "height": null,
      "justify_content": null,
      "justify_items": null,
      "left": null,
      "margin": null,
      "max_height": null,
      "max_width": null,
      "min_height": null,
      "min_width": null,
      "object_fit": null,
      "object_position": null,
      "order": null,
      "overflow": null,
      "overflow_x": null,
      "overflow_y": null,
      "padding": null,
      "right": null,
      "top": null,
      "visibility": null,
      "width": null
     }
    },
    "16c602c5ca4b42d5a22e97249dbc8316": {
     "model_module": "@jupyter-widgets/controls",
     "model_module_version": "1.5.0",
     "model_name": "HTMLModel",
     "state": {
      "_dom_classes": [],
      "_model_module": "@jupyter-widgets/controls",
      "_model_module_version": "1.5.0",
      "_model_name": "HTMLModel",
      "_view_count": null,
      "_view_module": "@jupyter-widgets/controls",
      "_view_module_version": "1.5.0",
      "_view_name": "HTMLView",
      "description": "",
      "description_tooltip": null,
      "layout": "IPY_MODEL_a9ede27dcd6c4c17aad2e03976788ac8",
      "placeholder": "​",
      "style": "IPY_MODEL_1791bf4e7a7f4f7aa03bb9c420f2c3af",
      "value": " 113M/113M [00:00&lt;00:00, 168MB/s]"
     }
    },
    "16f0ca4e8c1944a1a1e90b5484f9a270": {
     "model_module": "@jupyter-widgets/base",
     "model_module_version": "1.2.0",
     "model_name": "LayoutModel",
     "state": {
      "_model_module": "@jupyter-widgets/base",
      "_model_module_version": "1.2.0",
      "_model_name": "LayoutModel",
      "_view_count": null,
      "_view_module": "@jupyter-widgets/base",
      "_view_module_version": "1.2.0",
      "_view_name": "LayoutView",
      "align_content": null,
      "align_items": null,
      "align_self": null,
      "border": null,
      "bottom": null,
      "display": null,
      "flex": null,
      "flex_flow": null,
      "grid_area": null,
      "grid_auto_columns": null,
      "grid_auto_flow": null,
      "grid_auto_rows": null,
      "grid_column": null,
      "grid_gap": null,
      "grid_row": null,
      "grid_template_areas": null,
      "grid_template_columns": null,
      "grid_template_rows": null,
      "height": null,
      "justify_content": null,
      "justify_items": null,
      "left": null,
      "margin": null,
      "max_height": null,
      "max_width": null,
      "min_height": null,
      "min_width": null,
      "object_fit": null,
      "object_position": null,
      "order": null,
      "overflow": null,
      "overflow_x": null,
      "overflow_y": null,
      "padding": null,
      "right": null,
      "top": null,
      "visibility": null,
      "width": null
     }
    },
    "1791bf4e7a7f4f7aa03bb9c420f2c3af": {
     "model_module": "@jupyter-widgets/controls",
     "model_module_version": "1.5.0",
     "model_name": "DescriptionStyleModel",
     "state": {
      "_model_module": "@jupyter-widgets/controls",
      "_model_module_version": "1.5.0",
      "_model_name": "DescriptionStyleModel",
      "_view_count": null,
      "_view_module": "@jupyter-widgets/base",
      "_view_module_version": "1.2.0",
      "_view_name": "StyleView",
      "description_width": ""
     }
    },
    "1861687899e8426cb9bc7c74d0a51aea": {
     "model_module": "@jupyter-widgets/controls",
     "model_module_version": "1.5.0",
     "model_name": "DescriptionStyleModel",
     "state": {
      "_model_module": "@jupyter-widgets/controls",
      "_model_module_version": "1.5.0",
      "_model_name": "DescriptionStyleModel",
      "_view_count": null,
      "_view_module": "@jupyter-widgets/base",
      "_view_module_version": "1.2.0",
      "_view_name": "StyleView",
      "description_width": ""
     }
    },
    "1bcc055f1b474119bb9b734939340767": {
     "model_module": "@jupyter-widgets/controls",
     "model_module_version": "1.5.0",
     "model_name": "ProgressStyleModel",
     "state": {
      "_model_module": "@jupyter-widgets/controls",
      "_model_module_version": "1.5.0",
      "_model_name": "ProgressStyleModel",
      "_view_count": null,
      "_view_module": "@jupyter-widgets/base",
      "_view_module_version": "1.2.0",
      "_view_name": "StyleView",
      "bar_color": null,
      "description_width": ""
     }
    },
    "1d4f4e45172e432a9a6a9e2545b87e6b": {
     "model_module": "@jupyter-widgets/controls",
     "model_module_version": "1.5.0",
     "model_name": "DescriptionStyleModel",
     "state": {
      "_model_module": "@jupyter-widgets/controls",
      "_model_module_version": "1.5.0",
      "_model_name": "DescriptionStyleModel",
      "_view_count": null,
      "_view_module": "@jupyter-widgets/base",
      "_view_module_version": "1.2.0",
      "_view_name": "StyleView",
      "description_width": ""
     }
    },
    "1ea356cbbabf483b94fac984fa0d3690": {
     "model_module": "@jupyter-widgets/controls",
     "model_module_version": "1.5.0",
     "model_name": "FloatProgressModel",
     "state": {
      "_dom_classes": [],
      "_model_module": "@jupyter-widgets/controls",
      "_model_module_version": "1.5.0",
      "_model_name": "FloatProgressModel",
      "_view_count": null,
      "_view_module": "@jupyter-widgets/controls",
      "_view_module_version": "1.5.0",
      "_view_name": "ProgressView",
      "bar_style": "success",
      "description": "",
      "description_tooltip": null,
      "layout": "IPY_MODEL_303541f7df7044b1b43c6bd38d8058f1",
      "max": 253217,
      "min": 0,
      "orientation": "horizontal",
      "style": "IPY_MODEL_1ff81f3732074056a9f1834501219e55",
      "value": 253217
     }
    },
    "1ff81f3732074056a9f1834501219e55": {
     "model_module": "@jupyter-widgets/controls",
     "model_module_version": "1.5.0",
     "model_name": "ProgressStyleModel",
     "state": {
      "_model_module": "@jupyter-widgets/controls",
      "_model_module_version": "1.5.0",
      "_model_name": "ProgressStyleModel",
      "_view_count": null,
      "_view_module": "@jupyter-widgets/base",
      "_view_module_version": "1.2.0",
      "_view_name": "StyleView",
      "bar_color": null,
      "description_width": ""
     }
    },
    "2232c1b90a0a40d7b470a492dd470197": {
     "model_module": "@jupyter-widgets/controls",
     "model_module_version": "1.5.0",
     "model_name": "ProgressStyleModel",
     "state": {
      "_model_module": "@jupyter-widgets/controls",
      "_model_module_version": "1.5.0",
      "_model_name": "ProgressStyleModel",
      "_view_count": null,
      "_view_module": "@jupyter-widgets/base",
      "_view_module_version": "1.2.0",
      "_view_name": "StyleView",
      "bar_color": null,
      "description_width": ""
     }
    },
    "241bb75e8c0141ec8c00ef562d0feb5f": {
     "model_module": "@jupyter-widgets/base",
     "model_module_version": "1.2.0",
     "model_name": "LayoutModel",
     "state": {
      "_model_module": "@jupyter-widgets/base",
      "_model_module_version": "1.2.0",
      "_model_name": "LayoutModel",
      "_view_count": null,
      "_view_module": "@jupyter-widgets/base",
      "_view_module_version": "1.2.0",
      "_view_name": "LayoutView",
      "align_content": null,
      "align_items": null,
      "align_self": null,
      "border": null,
      "bottom": null,
      "display": null,
      "flex": null,
      "flex_flow": null,
      "grid_area": null,
      "grid_auto_columns": null,
      "grid_auto_flow": null,
      "grid_auto_rows": null,
      "grid_column": null,
      "grid_gap": null,
      "grid_row": null,
      "grid_template_areas": null,
      "grid_template_columns": null,
      "grid_template_rows": null,
      "height": null,
      "justify_content": null,
      "justify_items": null,
      "left": null,
      "margin": null,
      "max_height": null,
      "max_width": null,
      "min_height": null,
      "min_width": null,
      "object_fit": null,
      "object_position": null,
      "order": null,
      "overflow": null,
      "overflow_x": null,
      "overflow_y": null,
      "padding": null,
      "right": null,
      "top": null,
      "visibility": null,
      "width": null
     }
    },
    "24ee8a32861b4a3daa79a35583175dc7": {
     "model_module": "@jupyter-widgets/controls",
     "model_module_version": "1.5.0",
     "model_name": "DescriptionStyleModel",
     "state": {
      "_model_module": "@jupyter-widgets/controls",
      "_model_module_version": "1.5.0",
      "_model_name": "DescriptionStyleModel",
      "_view_count": null,
      "_view_module": "@jupyter-widgets/base",
      "_view_module_version": "1.2.0",
      "_view_name": "StyleView",
      "description_width": ""
     }
    },
    "2961959a379f4934b2f47f3ec99736cd": {
     "model_module": "@jupyter-widgets/base",
     "model_module_version": "1.2.0",
     "model_name": "LayoutModel",
     "state": {
      "_model_module": "@jupyter-widgets/base",
      "_model_module_version": "1.2.0",
      "_model_name": "LayoutModel",
      "_view_count": null,
      "_view_module": "@jupyter-widgets/base",
      "_view_module_version": "1.2.0",
      "_view_name": "LayoutView",
      "align_content": null,
      "align_items": null,
      "align_self": null,
      "border": null,
      "bottom": null,
      "display": null,
      "flex": null,
      "flex_flow": null,
      "grid_area": null,
      "grid_auto_columns": null,
      "grid_auto_flow": null,
      "grid_auto_rows": null,
      "grid_column": null,
      "grid_gap": null,
      "grid_row": null,
      "grid_template_areas": null,
      "grid_template_columns": null,
      "grid_template_rows": null,
      "height": null,
      "justify_content": null,
      "justify_items": null,
      "left": null,
      "margin": null,
      "max_height": null,
      "max_width": null,
      "min_height": null,
      "min_width": null,
      "object_fit": null,
      "object_position": null,
      "order": null,
      "overflow": null,
      "overflow_x": null,
      "overflow_y": null,
      "padding": null,
      "right": null,
      "top": null,
      "visibility": null,
      "width": null
     }
    },
    "2afeeaed1b344835bc0cd7a3f16add8e": {
     "model_module": "@jupyter-widgets/base",
     "model_module_version": "1.2.0",
     "model_name": "LayoutModel",
     "state": {
      "_model_module": "@jupyter-widgets/base",
      "_model_module_version": "1.2.0",
      "_model_name": "LayoutModel",
      "_view_count": null,
      "_view_module": "@jupyter-widgets/base",
      "_view_module_version": "1.2.0",
      "_view_name": "LayoutView",
      "align_content": null,
      "align_items": null,
      "align_self": null,
      "border": null,
      "bottom": null,
      "display": null,
      "flex": null,
      "flex_flow": null,
      "grid_area": null,
      "grid_auto_columns": null,
      "grid_auto_flow": null,
      "grid_auto_rows": null,
      "grid_column": null,
      "grid_gap": null,
      "grid_row": null,
      "grid_template_areas": null,
      "grid_template_columns": null,
      "grid_template_rows": null,
      "height": null,
      "justify_content": null,
      "justify_items": null,
      "left": null,
      "margin": null,
      "max_height": null,
      "max_width": null,
      "min_height": null,
      "min_width": null,
      "object_fit": null,
      "object_position": null,
      "order": null,
      "overflow": null,
      "overflow_x": null,
      "overflow_y": null,
      "padding": null,
      "right": null,
      "top": null,
      "visibility": null,
      "width": null
     }
    },
    "2e8935dded774cb9bcd87167992c5558": {
     "model_module": "@jupyter-widgets/controls",
     "model_module_version": "1.5.0",
     "model_name": "ProgressStyleModel",
     "state": {
      "_model_module": "@jupyter-widgets/controls",
      "_model_module_version": "1.5.0",
      "_model_name": "ProgressStyleModel",
      "_view_count": null,
      "_view_module": "@jupyter-widgets/base",
      "_view_module_version": "1.2.0",
      "_view_name": "StyleView",
      "bar_color": null,
      "description_width": ""
     }
    },
    "2fda19c612c5486dbf75a5de2d6ebcda": {
     "model_module": "@jupyter-widgets/base",
     "model_module_version": "1.2.0",
     "model_name": "LayoutModel",
     "state": {
      "_model_module": "@jupyter-widgets/base",
      "_model_module_version": "1.2.0",
      "_model_name": "LayoutModel",
      "_view_count": null,
      "_view_module": "@jupyter-widgets/base",
      "_view_module_version": "1.2.0",
      "_view_name": "LayoutView",
      "align_content": null,
      "align_items": null,
      "align_self": null,
      "border": null,
      "bottom": null,
      "display": null,
      "flex": null,
      "flex_flow": null,
      "grid_area": null,
      "grid_auto_columns": null,
      "grid_auto_flow": null,
      "grid_auto_rows": null,
      "grid_column": null,
      "grid_gap": null,
      "grid_row": null,
      "grid_template_areas": null,
      "grid_template_columns": null,
      "grid_template_rows": null,
      "height": null,
      "justify_content": null,
      "justify_items": null,
      "left": null,
      "margin": null,
      "max_height": null,
      "max_width": null,
      "min_height": null,
      "min_width": null,
      "object_fit": null,
      "object_position": null,
      "order": null,
      "overflow": null,
      "overflow_x": null,
      "overflow_y": null,
      "padding": null,
      "right": null,
      "top": null,
      "visibility": null,
      "width": null
     }
    },
    "303541f7df7044b1b43c6bd38d8058f1": {
     "model_module": "@jupyter-widgets/base",
     "model_module_version": "1.2.0",
     "model_name": "LayoutModel",
     "state": {
      "_model_module": "@jupyter-widgets/base",
      "_model_module_version": "1.2.0",
      "_model_name": "LayoutModel",
      "_view_count": null,
      "_view_module": "@jupyter-widgets/base",
      "_view_module_version": "1.2.0",
      "_view_name": "LayoutView",
      "align_content": null,
      "align_items": null,
      "align_self": null,
      "border": null,
      "bottom": null,
      "display": null,
      "flex": null,
      "flex_flow": null,
      "grid_area": null,
      "grid_auto_columns": null,
      "grid_auto_flow": null,
      "grid_auto_rows": null,
      "grid_column": null,
      "grid_gap": null,
      "grid_row": null,
      "grid_template_areas": null,
      "grid_template_columns": null,
      "grid_template_rows": null,
      "height": null,
      "justify_content": null,
      "justify_items": null,
      "left": null,
      "margin": null,
      "max_height": null,
      "max_width": null,
      "min_height": null,
      "min_width": null,
      "object_fit": null,
      "object_position": null,
      "order": null,
      "overflow": null,
      "overflow_x": null,
      "overflow_y": null,
      "padding": null,
      "right": null,
      "top": null,
      "visibility": null,
      "width": null
     }
    },
    "304a1d7486b94d8c83371c54cfda2ca4": {
     "model_module": "@jupyter-widgets/base",
     "model_module_version": "1.2.0",
     "model_name": "LayoutModel",
     "state": {
      "_model_module": "@jupyter-widgets/base",
      "_model_module_version": "1.2.0",
      "_model_name": "LayoutModel",
      "_view_count": null,
      "_view_module": "@jupyter-widgets/base",
      "_view_module_version": "1.2.0",
      "_view_name": "LayoutView",
      "align_content": null,
      "align_items": null,
      "align_self": null,
      "border": null,
      "bottom": null,
      "display": null,
      "flex": null,
      "flex_flow": null,
      "grid_area": null,
      "grid_auto_columns": null,
      "grid_auto_flow": null,
      "grid_auto_rows": null,
      "grid_column": null,
      "grid_gap": null,
      "grid_row": null,
      "grid_template_areas": null,
      "grid_template_columns": null,
      "grid_template_rows": null,
      "height": null,
      "justify_content": null,
      "justify_items": null,
      "left": null,
      "margin": null,
      "max_height": null,
      "max_width": null,
      "min_height": null,
      "min_width": null,
      "object_fit": null,
      "object_position": null,
      "order": null,
      "overflow": null,
      "overflow_x": null,
      "overflow_y": null,
      "padding": null,
      "right": null,
      "top": null,
      "visibility": null,
      "width": null
     }
    },
    "3301f47181664600aac6a0483dfa69a2": {
     "model_module": "@jupyter-widgets/controls",
     "model_module_version": "1.5.0",
     "model_name": "HTMLModel",
     "state": {
      "_dom_classes": [],
      "_model_module": "@jupyter-widgets/controls",
      "_model_module_version": "1.5.0",
      "_model_name": "HTMLModel",
      "_view_count": null,
      "_view_module": "@jupyter-widgets/controls",
      "_view_module_version": "1.5.0",
      "_view_name": "HTMLView",
      "description": "",
      "description_tooltip": null,
      "layout": "IPY_MODEL_01a0f8b6ae4e4fbcaf1e96dd3adce92a",
      "placeholder": "​",
      "style": "IPY_MODEL_9707ff2d35094cfd97c39d166579cdba",
      "value": " 253k/253k [00:00&lt;00:00, 4.97MB/s]"
     }
    },
    "3461887798324f60993c526e21a197ff": {
     "model_module": "@jupyter-widgets/base",
     "model_module_version": "1.2.0",
     "model_name": "LayoutModel",
     "state": {
      "_model_module": "@jupyter-widgets/base",
      "_model_module_version": "1.2.0",
      "_model_name": "LayoutModel",
      "_view_count": null,
      "_view_module": "@jupyter-widgets/base",
      "_view_module_version": "1.2.0",
      "_view_name": "LayoutView",
      "align_content": null,
      "align_items": null,
      "align_self": null,
      "border": null,
      "bottom": null,
      "display": null,
      "flex": null,
      "flex_flow": null,
      "grid_area": null,
      "grid_auto_columns": null,
      "grid_auto_flow": null,
      "grid_auto_rows": null,
      "grid_column": null,
      "grid_gap": null,
      "grid_row": null,
      "grid_template_areas": null,
      "grid_template_columns": null,
      "grid_template_rows": null,
      "height": null,
      "justify_content": null,
      "justify_items": null,
      "left": null,
      "margin": null,
      "max_height": null,
      "max_width": null,
      "min_height": null,
      "min_width": null,
      "object_fit": null,
      "object_position": null,
      "order": null,
      "overflow": null,
      "overflow_x": null,
      "overflow_y": null,
      "padding": null,
      "right": null,
      "top": null,
      "visibility": null,
      "width": null
     }
    },
    "38550314ccb744c78b779de82a9f6d8e": {
     "model_module": "@jupyter-widgets/base",
     "model_module_version": "1.2.0",
     "model_name": "LayoutModel",
     "state": {
      "_model_module": "@jupyter-widgets/base",
      "_model_module_version": "1.2.0",
      "_model_name": "LayoutModel",
      "_view_count": null,
      "_view_module": "@jupyter-widgets/base",
      "_view_module_version": "1.2.0",
      "_view_name": "LayoutView",
      "align_content": null,
      "align_items": null,
      "align_self": null,
      "border": null,
      "bottom": null,
      "display": null,
      "flex": null,
      "flex_flow": null,
      "grid_area": null,
      "grid_auto_columns": null,
      "grid_auto_flow": null,
      "grid_auto_rows": null,
      "grid_column": null,
      "grid_gap": null,
      "grid_row": null,
      "grid_template_areas": null,
      "grid_template_columns": null,
      "grid_template_rows": null,
      "height": null,
      "justify_content": null,
      "justify_items": null,
      "left": null,
      "margin": null,
      "max_height": null,
      "max_width": null,
      "min_height": null,
      "min_width": null,
      "object_fit": null,
      "object_position": null,
      "order": null,
      "overflow": null,
      "overflow_x": null,
      "overflow_y": null,
      "padding": null,
      "right": null,
      "top": null,
      "visibility": null,
      "width": null
     }
    },
    "3940e8873ae3498393094ea7c361a7fc": {
     "model_module": "@jupyter-widgets/base",
     "model_module_version": "1.2.0",
     "model_name": "LayoutModel",
     "state": {
      "_model_module": "@jupyter-widgets/base",
      "_model_module_version": "1.2.0",
      "_model_name": "LayoutModel",
      "_view_count": null,
      "_view_module": "@jupyter-widgets/base",
      "_view_module_version": "1.2.0",
      "_view_name": "LayoutView",
      "align_content": null,
      "align_items": null,
      "align_self": null,
      "border": null,
      "bottom": null,
      "display": null,
      "flex": null,
      "flex_flow": null,
      "grid_area": null,
      "grid_auto_columns": null,
      "grid_auto_flow": null,
      "grid_auto_rows": null,
      "grid_column": null,
      "grid_gap": null,
      "grid_row": null,
      "grid_template_areas": null,
      "grid_template_columns": null,
      "grid_template_rows": null,
      "height": null,
      "justify_content": null,
      "justify_items": null,
      "left": null,
      "margin": null,
      "max_height": null,
      "max_width": null,
      "min_height": null,
      "min_width": null,
      "object_fit": null,
      "object_position": null,
      "order": null,
      "overflow": null,
      "overflow_x": null,
      "overflow_y": null,
      "padding": null,
      "right": null,
      "top": null,
      "visibility": null,
      "width": null
     }
    },
    "3bd1dfae506d4299af956d497d96d9ad": {
     "model_module": "@jupyter-widgets/controls",
     "model_module_version": "1.5.0",
     "model_name": "DescriptionStyleModel",
     "state": {
      "_model_module": "@jupyter-widgets/controls",
      "_model_module_version": "1.5.0",
      "_model_name": "DescriptionStyleModel",
      "_view_count": null,
      "_view_module": "@jupyter-widgets/base",
      "_view_module_version": "1.2.0",
      "_view_name": "StyleView",
      "description_width": ""
     }
    },
    "3fec66291aed46e9aaec1e60748760d6": {
     "model_module": "@jupyter-widgets/base",
     "model_module_version": "1.2.0",
     "model_name": "LayoutModel",
     "state": {
      "_model_module": "@jupyter-widgets/base",
      "_model_module_version": "1.2.0",
      "_model_name": "LayoutModel",
      "_view_count": null,
      "_view_module": "@jupyter-widgets/base",
      "_view_module_version": "1.2.0",
      "_view_name": "LayoutView",
      "align_content": null,
      "align_items": null,
      "align_self": null,
      "border": null,
      "bottom": null,
      "display": null,
      "flex": null,
      "flex_flow": null,
      "grid_area": null,
      "grid_auto_columns": null,
      "grid_auto_flow": null,
      "grid_auto_rows": null,
      "grid_column": null,
      "grid_gap": null,
      "grid_row": null,
      "grid_template_areas": null,
      "grid_template_columns": null,
      "grid_template_rows": null,
      "height": null,
      "justify_content": null,
      "justify_items": null,
      "left": null,
      "margin": null,
      "max_height": null,
      "max_width": null,
      "min_height": null,
      "min_width": null,
      "object_fit": null,
      "object_position": null,
      "order": null,
      "overflow": null,
      "overflow_x": null,
      "overflow_y": null,
      "padding": null,
      "right": null,
      "top": null,
      "visibility": null,
      "width": null
     }
    },
    "402e80d5952d4da991f798672ff53d46": {
     "model_module": "@jupyter-widgets/base",
     "model_module_version": "1.2.0",
     "model_name": "LayoutModel",
     "state": {
      "_model_module": "@jupyter-widgets/base",
      "_model_module_version": "1.2.0",
      "_model_name": "LayoutModel",
      "_view_count": null,
      "_view_module": "@jupyter-widgets/base",
      "_view_module_version": "1.2.0",
      "_view_name": "LayoutView",
      "align_content": null,
      "align_items": null,
      "align_self": null,
      "border": null,
      "bottom": null,
      "display": null,
      "flex": null,
      "flex_flow": null,
      "grid_area": null,
      "grid_auto_columns": null,
      "grid_auto_flow": null,
      "grid_auto_rows": null,
      "grid_column": null,
      "grid_gap": null,
      "grid_row": null,
      "grid_template_areas": null,
      "grid_template_columns": null,
      "grid_template_rows": null,
      "height": null,
      "justify_content": null,
      "justify_items": null,
      "left": null,
      "margin": null,
      "max_height": null,
      "max_width": null,
      "min_height": null,
      "min_width": null,
      "object_fit": null,
      "object_position": null,
      "order": null,
      "overflow": null,
      "overflow_x": null,
      "overflow_y": null,
      "padding": null,
      "right": null,
      "top": null,
      "visibility": null,
      "width": null
     }
    },
    "4873f222358a46c7b50d741a1932c5a6": {
     "model_module": "@jupyter-widgets/controls",
     "model_module_version": "1.5.0",
     "model_name": "HBoxModel",
     "state": {
      "_dom_classes": [],
      "_model_module": "@jupyter-widgets/controls",
      "_model_module_version": "1.5.0",
      "_model_name": "HBoxModel",
      "_view_count": null,
      "_view_module": "@jupyter-widgets/controls",
      "_view_module_version": "1.5.0",
      "_view_name": "HBoxView",
      "box_style": "",
      "children": [
       "IPY_MODEL_b5d8d5c9c94b4329a7cf143448476408",
       "IPY_MODEL_0adda9c3d3a14ceaa3d247b59c962554",
       "IPY_MODEL_a1e78669452a47899a85a7fae3a15661"
      ],
      "layout": "IPY_MODEL_8073c957b55e4b1c870b8e7c50d3765a"
     }
    },
    "4b7f1dcce7c14f758c8b33e196214a88": {
     "model_module": "@jupyter-widgets/controls",
     "model_module_version": "1.5.0",
     "model_name": "FloatProgressModel",
     "state": {
      "_dom_classes": [],
      "_model_module": "@jupyter-widgets/controls",
      "_model_module_version": "1.5.0",
      "_model_name": "FloatProgressModel",
      "_view_count": null,
      "_view_module": "@jupyter-widgets/controls",
      "_view_module_version": "1.5.0",
      "_view_name": "ProgressView",
      "bar_style": "success",
      "description": "",
      "description_tooltip": null,
      "layout": "IPY_MODEL_5c5bc290e7664009a63b8bc45d676aa7",
      "max": 479555971,
      "min": 0,
      "orientation": "horizontal",
      "style": "IPY_MODEL_adba26074a384a34ac2866813537c0d3",
      "value": 479555971
     }
    },
    "4d695e2724324b5fa4af39345b38226c": {
     "model_module": "@jupyter-widgets/controls",
     "model_module_version": "1.5.0",
     "model_name": "HTMLModel",
     "state": {
      "_dom_classes": [],
      "_model_module": "@jupyter-widgets/controls",
      "_model_module_version": "1.5.0",
      "_model_name": "HTMLModel",
      "_view_count": null,
      "_view_module": "@jupyter-widgets/controls",
      "_view_module_version": "1.5.0",
      "_view_name": "HTMLView",
      "description": "",
      "description_tooltip": null,
      "layout": "IPY_MODEL_f81b74f0764a440392633978639dc9a8",
      "placeholder": "​",
      "style": "IPY_MODEL_0420cacd6a7349e8b7ccaef1ddc985b2",
      "value": " 480M/480M [00:03&lt;00:00, 137MB/s]"
     }
    },
    "4ef78f63daba4f20a768e58c023a8eee": {
     "model_module": "@jupyter-widgets/controls",
     "model_module_version": "1.5.0",
     "model_name": "FloatProgressModel",
     "state": {
      "_dom_classes": [],
      "_model_module": "@jupyter-widgets/controls",
      "_model_module_version": "1.5.0",
      "_model_name": "FloatProgressModel",
      "_view_count": null,
      "_view_module": "@jupyter-widgets/controls",
      "_view_module_version": "1.5.0",
      "_view_name": "ProgressView",
      "bar_style": "success",
      "description": "",
      "description_tooltip": null,
      "layout": "IPY_MODEL_6d597a48192e436f89b71fd1b18a37fb",
      "max": 17267,
      "min": 0,
      "orientation": "horizontal",
      "style": "IPY_MODEL_bd7023fc26be4623ab2c0e98b242ea1a",
      "value": 17267
     }
    },
    "518849236e44483f803078be7ad8dc93": {
     "model_module": "@jupyter-widgets/controls",
     "model_module_version": "1.5.0",
     "model_name": "HBoxModel",
     "state": {
      "_dom_classes": [],
      "_model_module": "@jupyter-widgets/controls",
      "_model_module_version": "1.5.0",
      "_model_name": "HBoxModel",
      "_view_count": null,
      "_view_module": "@jupyter-widgets/controls",
      "_view_module_version": "1.5.0",
      "_view_name": "HBoxView",
      "box_style": "",
      "children": [
       "IPY_MODEL_f2660154764f4be4ba404d1e6e994271",
       "IPY_MODEL_0d3e8b469920445f88475b4496a5d66a",
       "IPY_MODEL_576907c14b614dbc8b7d0253909f9e99"
      ],
      "layout": "IPY_MODEL_ece9d78d617444f2a31fc912237d25cb"
     }
    },
    "5217db8767a042f098a971ee4c02c731": {
     "model_module": "@jupyter-widgets/controls",
     "model_module_version": "1.5.0",
     "model_name": "DescriptionStyleModel",
     "state": {
      "_model_module": "@jupyter-widgets/controls",
      "_model_module_version": "1.5.0",
      "_model_name": "DescriptionStyleModel",
      "_view_count": null,
      "_view_module": "@jupyter-widgets/base",
      "_view_module_version": "1.2.0",
      "_view_name": "StyleView",
      "description_width": ""
     }
    },
    "5338ff1061d14c89ad7c8bd7317a4642": {
     "model_module": "@jupyter-widgets/controls",
     "model_module_version": "1.5.0",
     "model_name": "HBoxModel",
     "state": {
      "_dom_classes": [],
      "_model_module": "@jupyter-widgets/controls",
      "_model_module_version": "1.5.0",
      "_model_name": "HBoxModel",
      "_view_count": null,
      "_view_module": "@jupyter-widgets/controls",
      "_view_module_version": "1.5.0",
      "_view_name": "HBoxView",
      "box_style": "",
      "children": [
       "IPY_MODEL_a1b9d608708d4e9d962dbfa65f2b8951",
       "IPY_MODEL_6eaaa4ebfe4440ebb750c853a7545e17",
       "IPY_MODEL_84864afa1f0d447ca0d5a38f972ab1f3"
      ],
      "layout": "IPY_MODEL_6a38bd3599754589b4f9c17f39adeb92"
     }
    },
    "576907c14b614dbc8b7d0253909f9e99": {
     "model_module": "@jupyter-widgets/controls",
     "model_module_version": "1.5.0",
     "model_name": "HTMLModel",
     "state": {
      "_dom_classes": [],
      "_model_module": "@jupyter-widgets/controls",
      "_model_module_version": "1.5.0",
      "_model_name": "HTMLModel",
      "_view_count": null,
      "_view_module": "@jupyter-widgets/controls",
      "_view_module_version": "1.5.0",
      "_view_name": "HTMLView",
      "description": "",
      "description_tooltip": null,
      "layout": "IPY_MODEL_5ba74f54df8f4b11a58aee4c66b554f7",
      "placeholder": "​",
      "style": "IPY_MODEL_684b9471808648b7bda92f1dd4afb25f",
      "value": " 1.92k/1.92k [00:00&lt;00:00, 106kB/s]"
     }
    },
    "596d1f66a8cd480ab32af9f3f3025edc": {
     "model_module": "@jupyter-widgets/controls",
     "model_module_version": "1.5.0",
     "model_name": "DescriptionStyleModel",
     "state": {
      "_model_module": "@jupyter-widgets/controls",
      "_model_module_version": "1.5.0",
      "_model_name": "DescriptionStyleModel",
      "_view_count": null,
      "_view_module": "@jupyter-widgets/base",
      "_view_module_version": "1.2.0",
      "_view_name": "StyleView",
      "description_width": ""
     }
    },
    "5a4bb7e698db43ab98cf5e3cad123eff": {
     "model_module": "@jupyter-widgets/controls",
     "model_module_version": "1.5.0",
     "model_name": "HTMLModel",
     "state": {
      "_dom_classes": [],
      "_model_module": "@jupyter-widgets/controls",
      "_model_module_version": "1.5.0",
      "_model_name": "HTMLModel",
      "_view_count": null,
      "_view_module": "@jupyter-widgets/controls",
      "_view_module_version": "1.5.0",
      "_view_name": "HTMLView",
      "description": "",
      "description_tooltip": null,
      "layout": "IPY_MODEL_16f0ca4e8c1944a1a1e90b5484f9a270",
      "placeholder": "​",
      "style": "IPY_MODEL_8c5f52ed4b7042df8bb636e73c702d64",
      "value": " 1.51k/1.51k [00:00&lt;00:00, 57.7kB/s]"
     }
    },
    "5ba74f54df8f4b11a58aee4c66b554f7": {
     "model_module": "@jupyter-widgets/base",
     "model_module_version": "1.2.0",
     "model_name": "LayoutModel",
     "state": {
      "_model_module": "@jupyter-widgets/base",
      "_model_module_version": "1.2.0",
      "_model_name": "LayoutModel",
      "_view_count": null,
      "_view_module": "@jupyter-widgets/base",
      "_view_module_version": "1.2.0",
      "_view_name": "LayoutView",
      "align_content": null,
      "align_items": null,
      "align_self": null,
      "border": null,
      "bottom": null,
      "display": null,
      "flex": null,
      "flex_flow": null,
      "grid_area": null,
      "grid_auto_columns": null,
      "grid_auto_flow": null,
      "grid_auto_rows": null,
      "grid_column": null,
      "grid_gap": null,
      "grid_row": null,
      "grid_template_areas": null,
      "grid_template_columns": null,
      "grid_template_rows": null,
      "height": null,
      "justify_content": null,
      "justify_items": null,
      "left": null,
      "margin": null,
      "max_height": null,
      "max_width": null,
      "min_height": null,
      "min_width": null,
      "object_fit": null,
      "object_position": null,
      "order": null,
      "overflow": null,
      "overflow_x": null,
      "overflow_y": null,
      "padding": null,
      "right": null,
      "top": null,
      "visibility": null,
      "width": null
     }
    },
    "5bb62e9fe8f14b898666af7527389908": {
     "model_module": "@jupyter-widgets/base",
     "model_module_version": "1.2.0",
     "model_name": "LayoutModel",
     "state": {
      "_model_module": "@jupyter-widgets/base",
      "_model_module_version": "1.2.0",
      "_model_name": "LayoutModel",
      "_view_count": null,
      "_view_module": "@jupyter-widgets/base",
      "_view_module_version": "1.2.0",
      "_view_name": "LayoutView",
      "align_content": null,
      "align_items": null,
      "align_self": null,
      "border": null,
      "bottom": null,
      "display": null,
      "flex": null,
      "flex_flow": null,
      "grid_area": null,
      "grid_auto_columns": null,
      "grid_auto_flow": null,
      "grid_auto_rows": null,
      "grid_column": null,
      "grid_gap": null,
      "grid_row": null,
      "grid_template_areas": null,
      "grid_template_columns": null,
      "grid_template_rows": null,
      "height": null,
      "justify_content": null,
      "justify_items": null,
      "left": null,
      "margin": null,
      "max_height": null,
      "max_width": null,
      "min_height": null,
      "min_width": null,
      "object_fit": null,
      "object_position": null,
      "order": null,
      "overflow": null,
      "overflow_x": null,
      "overflow_y": null,
      "padding": null,
      "right": null,
      "top": null,
      "visibility": null,
      "width": null
     }
    },
    "5bcd65e2cc574d428cf8fa49207b1d0f": {
     "model_module": "@jupyter-widgets/controls",
     "model_module_version": "1.5.0",
     "model_name": "FloatProgressModel",
     "state": {
      "_dom_classes": [],
      "_model_module": "@jupyter-widgets/controls",
      "_model_module_version": "1.5.0",
      "_model_name": "FloatProgressModel",
      "_view_count": null,
      "_view_module": "@jupyter-widgets/controls",
      "_view_module_version": "1.5.0",
      "_view_name": "ProgressView",
      "bar_style": "success",
      "description": "",
      "description_tooltip": null,
      "layout": "IPY_MODEL_3461887798324f60993c526e21a197ff",
      "max": 17202,
      "min": 0,
      "orientation": "horizontal",
      "style": "IPY_MODEL_1bcc055f1b474119bb9b734939340767",
      "value": 17202
     }
    },
    "5c5bc290e7664009a63b8bc45d676aa7": {
     "model_module": "@jupyter-widgets/base",
     "model_module_version": "1.2.0",
     "model_name": "LayoutModel",
     "state": {
      "_model_module": "@jupyter-widgets/base",
      "_model_module_version": "1.2.0",
      "_model_name": "LayoutModel",
      "_view_count": null,
      "_view_module": "@jupyter-widgets/base",
      "_view_module_version": "1.2.0",
      "_view_name": "LayoutView",
      "align_content": null,
      "align_items": null,
      "align_self": null,
      "border": null,
      "bottom": null,
      "display": null,
      "flex": null,
      "flex_flow": null,
      "grid_area": null,
      "grid_auto_columns": null,
      "grid_auto_flow": null,
      "grid_auto_rows": null,
      "grid_column": null,
      "grid_gap": null,
      "grid_row": null,
      "grid_template_areas": null,
      "grid_template_columns": null,
      "grid_template_rows": null,
      "height": null,
      "justify_content": null,
      "justify_items": null,
      "left": null,
      "margin": null,
      "max_height": null,
      "max_width": null,
      "min_height": null,
      "min_width": null,
      "object_fit": null,
      "object_position": null,
      "order": null,
      "overflow": null,
      "overflow_x": null,
      "overflow_y": null,
      "padding": null,
      "right": null,
      "top": null,
      "visibility": null,
      "width": null
     }
    },
    "5d221ae2b9ac4e36a7cfe2cce3c536dc": {
     "model_module": "@jupyter-widgets/controls",
     "model_module_version": "1.5.0",
     "model_name": "ProgressStyleModel",
     "state": {
      "_model_module": "@jupyter-widgets/controls",
      "_model_module_version": "1.5.0",
      "_model_name": "ProgressStyleModel",
      "_view_count": null,
      "_view_module": "@jupyter-widgets/base",
      "_view_module_version": "1.2.0",
      "_view_name": "StyleView",
      "bar_color": null,
      "description_width": ""
     }
    },
    "5dcb9b7c948c42a6afb63bd89664744f": {
     "model_module": "@jupyter-widgets/controls",
     "model_module_version": "1.5.0",
     "model_name": "ProgressStyleModel",
     "state": {
      "_model_module": "@jupyter-widgets/controls",
      "_model_module_version": "1.5.0",
      "_model_name": "ProgressStyleModel",
      "_view_count": null,
      "_view_module": "@jupyter-widgets/base",
      "_view_module_version": "1.2.0",
      "_view_name": "StyleView",
      "bar_color": null,
      "description_width": ""
     }
    },
    "5e58c000011c48879130e6374bbab799": {
     "model_module": "@jupyter-widgets/controls",
     "model_module_version": "1.5.0",
     "model_name": "HTMLModel",
     "state": {
      "_dom_classes": [],
      "_model_module": "@jupyter-widgets/controls",
      "_model_module_version": "1.5.0",
      "_model_name": "HTMLModel",
      "_view_count": null,
      "_view_module": "@jupyter-widgets/controls",
      "_view_module_version": "1.5.0",
      "_view_name": "HTMLView",
      "description": "",
      "description_tooltip": null,
      "layout": "IPY_MODEL_76fffbd6bc9542359181b3333077b888",
      "placeholder": "​",
      "style": "IPY_MODEL_1861687899e8426cb9bc7c74d0a51aea",
      "value": " 4.83k/4.83k [00:00&lt;00:00, 325kB/s]"
     }
    },
    "611c74c530d44002b43a09e86fdd133a": {
     "model_module": "@jupyter-widgets/base",
     "model_module_version": "1.2.0",
     "model_name": "LayoutModel",
     "state": {
      "_model_module": "@jupyter-widgets/base",
      "_model_module_version": "1.2.0",
      "_model_name": "LayoutModel",
      "_view_count": null,
      "_view_module": "@jupyter-widgets/base",
      "_view_module_version": "1.2.0",
      "_view_name": "LayoutView",
      "align_content": null,
      "align_items": null,
      "align_self": null,
      "border": null,
      "bottom": null,
      "display": null,
      "flex": null,
      "flex_flow": null,
      "grid_area": null,
      "grid_auto_columns": null,
      "grid_auto_flow": null,
      "grid_auto_rows": null,
      "grid_column": null,
      "grid_gap": null,
      "grid_row": null,
      "grid_template_areas": null,
      "grid_template_columns": null,
      "grid_template_rows": null,
      "height": null,
      "justify_content": null,
      "justify_items": null,
      "left": null,
      "margin": null,
      "max_height": null,
      "max_width": null,
      "min_height": null,
      "min_width": null,
      "object_fit": null,
      "object_position": null,
      "order": null,
      "overflow": null,
      "overflow_x": null,
      "overflow_y": null,
      "padding": null,
      "right": null,
      "top": null,
      "visibility": null,
      "width": null
     }
    },
    "634871e7ef574c48a22fe20bd29c98fb": {
     "model_module": "@jupyter-widgets/controls",
     "model_module_version": "1.5.0",
     "model_name": "HBoxModel",
     "state": {
      "_dom_classes": [],
      "_model_module": "@jupyter-widgets/controls",
      "_model_module_version": "1.5.0",
      "_model_name": "HBoxModel",
      "_view_count": null,
      "_view_module": "@jupyter-widgets/controls",
      "_view_module_version": "1.5.0",
      "_view_name": "HBoxView",
      "box_style": "",
      "children": [
       "IPY_MODEL_a2c4a9390bd6495aae3a79a7174f5832",
       "IPY_MODEL_de326e62dcee451ebafdef0a888f9974",
       "IPY_MODEL_fe6ee540077e4fd086ae8975feb97deb"
      ],
      "layout": "IPY_MODEL_890276931b55409cacaccbea256fe745"
     }
    },
    "684b9471808648b7bda92f1dd4afb25f": {
     "model_module": "@jupyter-widgets/controls",
     "model_module_version": "1.5.0",
     "model_name": "DescriptionStyleModel",
     "state": {
      "_model_module": "@jupyter-widgets/controls",
      "_model_module_version": "1.5.0",
      "_model_name": "DescriptionStyleModel",
      "_view_count": null,
      "_view_module": "@jupyter-widgets/base",
      "_view_module_version": "1.2.0",
      "_view_name": "StyleView",
      "description_width": ""
     }
    },
    "6a38bd3599754589b4f9c17f39adeb92": {
     "model_module": "@jupyter-widgets/base",
     "model_module_version": "1.2.0",
     "model_name": "LayoutModel",
     "state": {
      "_model_module": "@jupyter-widgets/base",
      "_model_module_version": "1.2.0",
      "_model_name": "LayoutModel",
      "_view_count": null,
      "_view_module": "@jupyter-widgets/base",
      "_view_module_version": "1.2.0",
      "_view_name": "LayoutView",
      "align_content": null,
      "align_items": null,
      "align_self": null,
      "border": null,
      "bottom": null,
      "display": null,
      "flex": null,
      "flex_flow": null,
      "grid_area": null,
      "grid_auto_columns": null,
      "grid_auto_flow": null,
      "grid_auto_rows": null,
      "grid_column": null,
      "grid_gap": null,
      "grid_row": null,
      "grid_template_areas": null,
      "grid_template_columns": null,
      "grid_template_rows": null,
      "height": null,
      "justify_content": null,
      "justify_items": null,
      "left": null,
      "margin": null,
      "max_height": null,
      "max_width": null,
      "min_height": null,
      "min_width": null,
      "object_fit": null,
      "object_position": null,
      "order": null,
      "overflow": null,
      "overflow_x": null,
      "overflow_y": null,
      "padding": null,
      "right": null,
      "top": null,
      "visibility": null,
      "width": null
     }
    },
    "6b302652bec7427680692afe5c3630f9": {
     "model_module": "@jupyter-widgets/base",
     "model_module_version": "1.2.0",
     "model_name": "LayoutModel",
     "state": {
      "_model_module": "@jupyter-widgets/base",
      "_model_module_version": "1.2.0",
      "_model_name": "LayoutModel",
      "_view_count": null,
      "_view_module": "@jupyter-widgets/base",
      "_view_module_version": "1.2.0",
      "_view_name": "LayoutView",
      "align_content": null,
      "align_items": null,
      "align_self": null,
      "border": null,
      "bottom": null,
      "display": null,
      "flex": null,
      "flex_flow": null,
      "grid_area": null,
      "grid_auto_columns": null,
      "grid_auto_flow": null,
      "grid_auto_rows": null,
      "grid_column": null,
      "grid_gap": null,
      "grid_row": null,
      "grid_template_areas": null,
      "grid_template_columns": null,
      "grid_template_rows": null,
      "height": null,
      "justify_content": null,
      "justify_items": null,
      "left": null,
      "margin": null,
      "max_height": null,
      "max_width": null,
      "min_height": null,
      "min_width": null,
      "object_fit": null,
      "object_position": null,
      "order": null,
      "overflow": null,
      "overflow_x": null,
      "overflow_y": null,
      "padding": null,
      "right": null,
      "top": null,
      "visibility": null,
      "width": null
     }
    },
    "6b3edbd6a47b4b3982ab30870d853199": {
     "model_module": "@jupyter-widgets/base",
     "model_module_version": "1.2.0",
     "model_name": "LayoutModel",
     "state": {
      "_model_module": "@jupyter-widgets/base",
      "_model_module_version": "1.2.0",
      "_model_name": "LayoutModel",
      "_view_count": null,
      "_view_module": "@jupyter-widgets/base",
      "_view_module_version": "1.2.0",
      "_view_name": "LayoutView",
      "align_content": null,
      "align_items": null,
      "align_self": null,
      "border": null,
      "bottom": null,
      "display": null,
      "flex": null,
      "flex_flow": null,
      "grid_area": null,
      "grid_auto_columns": null,
      "grid_auto_flow": null,
      "grid_auto_rows": null,
      "grid_column": null,
      "grid_gap": null,
      "grid_row": null,
      "grid_template_areas": null,
      "grid_template_columns": null,
      "grid_template_rows": null,
      "height": null,
      "justify_content": null,
      "justify_items": null,
      "left": null,
      "margin": null,
      "max_height": null,
      "max_width": null,
      "min_height": null,
      "min_width": null,
      "object_fit": null,
      "object_position": null,
      "order": null,
      "overflow": null,
      "overflow_x": null,
      "overflow_y": null,
      "padding": null,
      "right": null,
      "top": null,
      "visibility": null,
      "width": null
     }
    },
    "6d597a48192e436f89b71fd1b18a37fb": {
     "model_module": "@jupyter-widgets/base",
     "model_module_version": "1.2.0",
     "model_name": "LayoutModel",
     "state": {
      "_model_module": "@jupyter-widgets/base",
      "_model_module_version": "1.2.0",
      "_model_name": "LayoutModel",
      "_view_count": null,
      "_view_module": "@jupyter-widgets/base",
      "_view_module_version": "1.2.0",
      "_view_name": "LayoutView",
      "align_content": null,
      "align_items": null,
      "align_self": null,
      "border": null,
      "bottom": null,
      "display": null,
      "flex": null,
      "flex_flow": null,
      "grid_area": null,
      "grid_auto_columns": null,
      "grid_auto_flow": null,
      "grid_auto_rows": null,
      "grid_column": null,
      "grid_gap": null,
      "grid_row": null,
      "grid_template_areas": null,
      "grid_template_columns": null,
      "grid_template_rows": null,
      "height": null,
      "justify_content": null,
      "justify_items": null,
      "left": null,
      "margin": null,
      "max_height": null,
      "max_width": null,
      "min_height": null,
      "min_width": null,
      "object_fit": null,
      "object_position": null,
      "order": null,
      "overflow": null,
      "overflow_x": null,
      "overflow_y": null,
      "padding": null,
      "right": null,
      "top": null,
      "visibility": null,
      "width": null
     }
    },
    "6e88d9cddfae4c0585a030628f415163": {
     "model_module": "@jupyter-widgets/controls",
     "model_module_version": "1.5.0",
     "model_name": "FloatProgressModel",
     "state": {
      "_dom_classes": [],
      "_model_module": "@jupyter-widgets/controls",
      "_model_module_version": "1.5.0",
      "_model_name": "FloatProgressModel",
      "_view_count": null,
      "_view_module": "@jupyter-widgets/controls",
      "_view_module_version": "1.5.0",
      "_view_name": "ProgressView",
      "bar_style": "success",
      "description": "",
      "description_tooltip": null,
      "layout": "IPY_MODEL_7a59681cc6884eeb90cad0ad810eb340",
      "max": 1515,
      "min": 0,
      "orientation": "horizontal",
      "style": "IPY_MODEL_5dcb9b7c948c42a6afb63bd89664744f",
      "value": 1515
     }
    },
    "6eaaa4ebfe4440ebb750c853a7545e17": {
     "model_module": "@jupyter-widgets/controls",
     "model_module_version": "1.5.0",
     "model_name": "FloatProgressModel",
     "state": {
      "_dom_classes": [],
      "_model_module": "@jupyter-widgets/controls",
      "_model_module_version": "1.5.0",
      "_model_name": "FloatProgressModel",
      "_view_count": null,
      "_view_module": "@jupyter-widgets/controls",
      "_view_module_version": "1.5.0",
      "_view_name": "ProgressView",
      "bar_style": "success",
      "description": "",
      "description_tooltip": null,
      "layout": "IPY_MODEL_f0673eaf978145e780399c5d003abb33",
      "max": 5534328,
      "min": 0,
      "orientation": "horizontal",
      "style": "IPY_MODEL_a7436702e317468ba76a9c7ab1d7b7bd",
      "value": 5534328
     }
    },
    "701f1496c0d145b8b376174ed9501cab": {
     "model_module": "@jupyter-widgets/controls",
     "model_module_version": "1.5.0",
     "model_name": "DescriptionStyleModel",
     "state": {
      "_model_module": "@jupyter-widgets/controls",
      "_model_module_version": "1.5.0",
      "_model_name": "DescriptionStyleModel",
      "_view_count": null,
      "_view_module": "@jupyter-widgets/base",
      "_view_module_version": "1.2.0",
      "_view_name": "StyleView",
      "description_width": ""
     }
    },
    "73417ed270d7450984a48f3c7260eef7": {
     "model_module": "@jupyter-widgets/controls",
     "model_module_version": "1.5.0",
     "model_name": "HBoxModel",
     "state": {
      "_dom_classes": [],
      "_model_module": "@jupyter-widgets/controls",
      "_model_module_version": "1.5.0",
      "_model_name": "HBoxModel",
      "_view_count": null,
      "_view_module": "@jupyter-widgets/controls",
      "_view_module_version": "1.5.0",
      "_view_name": "HBoxView",
      "box_style": "",
      "children": [
       "IPY_MODEL_85a4d1969185444aa63499a3e59faa2c",
       "IPY_MODEL_ee1bf41d42a54f9a92d76f5394626e97",
       "IPY_MODEL_5e58c000011c48879130e6374bbab799"
      ],
      "layout": "IPY_MODEL_7ea8ba3f9016452bb6ec20d3502675df"
     }
    },
    "747b0366a0284c4188d441e934021fa8": {
     "model_module": "@jupyter-widgets/controls",
     "model_module_version": "1.5.0",
     "model_name": "ProgressStyleModel",
     "state": {
      "_model_module": "@jupyter-widgets/controls",
      "_model_module_version": "1.5.0",
      "_model_name": "ProgressStyleModel",
      "_view_count": null,
      "_view_module": "@jupyter-widgets/base",
      "_view_module_version": "1.2.0",
      "_view_name": "StyleView",
      "bar_color": null,
      "description_width": ""
     }
    },
    "75d1e7af67264ffca59cc387db02d6d7": {
     "model_module": "@jupyter-widgets/controls",
     "model_module_version": "1.5.0",
     "model_name": "HBoxModel",
     "state": {
      "_dom_classes": [],
      "_model_module": "@jupyter-widgets/controls",
      "_model_module_version": "1.5.0",
      "_model_name": "HBoxModel",
      "_view_count": null,
      "_view_module": "@jupyter-widgets/controls",
      "_view_module_version": "1.5.0",
      "_view_name": "HBoxView",
      "box_style": "",
      "children": [
       "IPY_MODEL_0d555777e2d2405698247f6fb163454d",
       "IPY_MODEL_a89727caed4642e7af12415c8ca66641",
       "IPY_MODEL_8718c8b37bea4e53ac6457276ce63045"
      ],
      "layout": "IPY_MODEL_dcfbc459a1d6415bb9cb71cf6d65a51f"
     }
    },
    "76a0e79fab2644908c86b7784d67504e": {
     "model_module": "@jupyter-widgets/base",
     "model_module_version": "1.2.0",
     "model_name": "LayoutModel",
     "state": {
      "_model_module": "@jupyter-widgets/base",
      "_model_module_version": "1.2.0",
      "_model_name": "LayoutModel",
      "_view_count": null,
      "_view_module": "@jupyter-widgets/base",
      "_view_module_version": "1.2.0",
      "_view_name": "LayoutView",
      "align_content": null,
      "align_items": null,
      "align_self": null,
      "border": null,
      "bottom": null,
      "display": null,
      "flex": null,
      "flex_flow": null,
      "grid_area": null,
      "grid_auto_columns": null,
      "grid_auto_flow": null,
      "grid_auto_rows": null,
      "grid_column": null,
      "grid_gap": null,
      "grid_row": null,
      "grid_template_areas": null,
      "grid_template_columns": null,
      "grid_template_rows": null,
      "height": null,
      "justify_content": null,
      "justify_items": null,
      "left": null,
      "margin": null,
      "max_height": null,
      "max_width": null,
      "min_height": null,
      "min_width": null,
      "object_fit": null,
      "object_position": null,
      "order": null,
      "overflow": null,
      "overflow_x": null,
      "overflow_y": null,
      "padding": null,
      "right": null,
      "top": null,
      "visibility": null,
      "width": null
     }
    },
    "76fffbd6bc9542359181b3333077b888": {
     "model_module": "@jupyter-widgets/base",
     "model_module_version": "1.2.0",
     "model_name": "LayoutModel",
     "state": {
      "_model_module": "@jupyter-widgets/base",
      "_model_module_version": "1.2.0",
      "_model_name": "LayoutModel",
      "_view_count": null,
      "_view_module": "@jupyter-widgets/base",
      "_view_module_version": "1.2.0",
      "_view_name": "LayoutView",
      "align_content": null,
      "align_items": null,
      "align_self": null,
      "border": null,
      "bottom": null,
      "display": null,
      "flex": null,
      "flex_flow": null,
      "grid_area": null,
      "grid_auto_columns": null,
      "grid_auto_flow": null,
      "grid_auto_rows": null,
      "grid_column": null,
      "grid_gap": null,
      "grid_row": null,
      "grid_template_areas": null,
      "grid_template_columns": null,
      "grid_template_rows": null,
      "height": null,
      "justify_content": null,
      "justify_items": null,
      "left": null,
      "margin": null,
      "max_height": null,
      "max_width": null,
      "min_height": null,
      "min_width": null,
      "object_fit": null,
      "object_position": null,
      "order": null,
      "overflow": null,
      "overflow_x": null,
      "overflow_y": null,
      "padding": null,
      "right": null,
      "top": null,
      "visibility": null,
      "width": null
     }
    },
    "78cfac8bcaea470ebfba4104154cec3d": {
     "model_module": "@jupyter-widgets/base",
     "model_module_version": "1.2.0",
     "model_name": "LayoutModel",
     "state": {
      "_model_module": "@jupyter-widgets/base",
      "_model_module_version": "1.2.0",
      "_model_name": "LayoutModel",
      "_view_count": null,
      "_view_module": "@jupyter-widgets/base",
      "_view_module_version": "1.2.0",
      "_view_name": "LayoutView",
      "align_content": null,
      "align_items": null,
      "align_self": null,
      "border": null,
      "bottom": null,
      "display": null,
      "flex": null,
      "flex_flow": null,
      "grid_area": null,
      "grid_auto_columns": null,
      "grid_auto_flow": null,
      "grid_auto_rows": null,
      "grid_column": null,
      "grid_gap": null,
      "grid_row": null,
      "grid_template_areas": null,
      "grid_template_columns": null,
      "grid_template_rows": null,
      "height": null,
      "justify_content": null,
      "justify_items": null,
      "left": null,
      "margin": null,
      "max_height": null,
      "max_width": null,
      "min_height": null,
      "min_width": null,
      "object_fit": null,
      "object_position": null,
      "order": null,
      "overflow": null,
      "overflow_x": null,
      "overflow_y": null,
      "padding": null,
      "right": null,
      "top": null,
      "visibility": null,
      "width": null
     }
    },
    "7a0a2f4b5b1c41c2bd27f1406568ff34": {
     "model_module": "@jupyter-widgets/controls",
     "model_module_version": "1.5.0",
     "model_name": "DescriptionStyleModel",
     "state": {
      "_model_module": "@jupyter-widgets/controls",
      "_model_module_version": "1.5.0",
      "_model_name": "DescriptionStyleModel",
      "_view_count": null,
      "_view_module": "@jupyter-widgets/base",
      "_view_module_version": "1.2.0",
      "_view_name": "StyleView",
      "description_width": ""
     }
    },
    "7a59681cc6884eeb90cad0ad810eb340": {
     "model_module": "@jupyter-widgets/base",
     "model_module_version": "1.2.0",
     "model_name": "LayoutModel",
     "state": {
      "_model_module": "@jupyter-widgets/base",
      "_model_module_version": "1.2.0",
      "_model_name": "LayoutModel",
      "_view_count": null,
      "_view_module": "@jupyter-widgets/base",
      "_view_module_version": "1.2.0",
      "_view_name": "LayoutView",
      "align_content": null,
      "align_items": null,
      "align_self": null,
      "border": null,
      "bottom": null,
      "display": null,
      "flex": null,
      "flex_flow": null,
      "grid_area": null,
      "grid_auto_columns": null,
      "grid_auto_flow": null,
      "grid_auto_rows": null,
      "grid_column": null,
      "grid_gap": null,
      "grid_row": null,
      "grid_template_areas": null,
      "grid_template_columns": null,
      "grid_template_rows": null,
      "height": null,
      "justify_content": null,
      "justify_items": null,
      "left": null,
      "margin": null,
      "max_height": null,
      "max_width": null,
      "min_height": null,
      "min_width": null,
      "object_fit": null,
      "object_position": null,
      "order": null,
      "overflow": null,
      "overflow_x": null,
      "overflow_y": null,
      "padding": null,
      "right": null,
      "top": null,
      "visibility": null,
      "width": null
     }
    },
    "7b0782edb2394087910b772c90b03be9": {
     "model_module": "@jupyter-widgets/base",
     "model_module_version": "1.2.0",
     "model_name": "LayoutModel",
     "state": {
      "_model_module": "@jupyter-widgets/base",
      "_model_module_version": "1.2.0",
      "_model_name": "LayoutModel",
      "_view_count": null,
      "_view_module": "@jupyter-widgets/base",
      "_view_module_version": "1.2.0",
      "_view_name": "LayoutView",
      "align_content": null,
      "align_items": null,
      "align_self": null,
      "border": null,
      "bottom": null,
      "display": null,
      "flex": null,
      "flex_flow": null,
      "grid_area": null,
      "grid_auto_columns": null,
      "grid_auto_flow": null,
      "grid_auto_rows": null,
      "grid_column": null,
      "grid_gap": null,
      "grid_row": null,
      "grid_template_areas": null,
      "grid_template_columns": null,
      "grid_template_rows": null,
      "height": null,
      "justify_content": null,
      "justify_items": null,
      "left": null,
      "margin": null,
      "max_height": null,
      "max_width": null,
      "min_height": null,
      "min_width": null,
      "object_fit": null,
      "object_position": null,
      "order": null,
      "overflow": null,
      "overflow_x": null,
      "overflow_y": null,
      "padding": null,
      "right": null,
      "top": null,
      "visibility": null,
      "width": null
     }
    },
    "7cfb724f62f14f889a3d3a69a9e7acd8": {
     "model_module": "@jupyter-widgets/base",
     "model_module_version": "1.2.0",
     "model_name": "LayoutModel",
     "state": {
      "_model_module": "@jupyter-widgets/base",
      "_model_module_version": "1.2.0",
      "_model_name": "LayoutModel",
      "_view_count": null,
      "_view_module": "@jupyter-widgets/base",
      "_view_module_version": "1.2.0",
      "_view_name": "LayoutView",
      "align_content": null,
      "align_items": null,
      "align_self": null,
      "border": null,
      "bottom": null,
      "display": null,
      "flex": null,
      "flex_flow": null,
      "grid_area": null,
      "grid_auto_columns": null,
      "grid_auto_flow": null,
      "grid_auto_rows": null,
      "grid_column": null,
      "grid_gap": null,
      "grid_row": null,
      "grid_template_areas": null,
      "grid_template_columns": null,
      "grid_template_rows": null,
      "height": null,
      "justify_content": null,
      "justify_items": null,
      "left": null,
      "margin": null,
      "max_height": null,
      "max_width": null,
      "min_height": null,
      "min_width": null,
      "object_fit": null,
      "object_position": null,
      "order": null,
      "overflow": null,
      "overflow_x": null,
      "overflow_y": null,
      "padding": null,
      "right": null,
      "top": null,
      "visibility": null,
      "width": null
     }
    },
    "7def4f14f4414bd3a0b25bb628863123": {
     "model_module": "@jupyter-widgets/controls",
     "model_module_version": "1.5.0",
     "model_name": "HTMLModel",
     "state": {
      "_dom_classes": [],
      "_model_module": "@jupyter-widgets/controls",
      "_model_module_version": "1.5.0",
      "_model_name": "HTMLModel",
      "_view_count": null,
      "_view_module": "@jupyter-widgets/controls",
      "_view_module_version": "1.5.0",
      "_view_name": "HTMLView",
      "description": "",
      "description_tooltip": null,
      "layout": "IPY_MODEL_886dbc6801664287b38590260ba33286",
      "placeholder": "​",
      "style": "IPY_MODEL_5217db8767a042f098a971ee4c02c731",
      "value": " 129k/129k [00:00&lt;00:00, 3.24MB/s]"
     }
    },
    "7ea8ba3f9016452bb6ec20d3502675df": {
     "model_module": "@jupyter-widgets/base",
     "model_module_version": "1.2.0",
     "model_name": "LayoutModel",
     "state": {
      "_model_module": "@jupyter-widgets/base",
      "_model_module_version": "1.2.0",
      "_model_name": "LayoutModel",
      "_view_count": null,
      "_view_module": "@jupyter-widgets/base",
      "_view_module_version": "1.2.0",
      "_view_name": "LayoutView",
      "align_content": null,
      "align_items": null,
      "align_self": null,
      "border": null,
      "bottom": null,
      "display": null,
      "flex": null,
      "flex_flow": null,
      "grid_area": null,
      "grid_auto_columns": null,
      "grid_auto_flow": null,
      "grid_auto_rows": null,
      "grid_column": null,
      "grid_gap": null,
      "grid_row": null,
      "grid_template_areas": null,
      "grid_template_columns": null,
      "grid_template_rows": null,
      "height": null,
      "justify_content": null,
      "justify_items": null,
      "left": null,
      "margin": null,
      "max_height": null,
      "max_width": null,
      "min_height": null,
      "min_width": null,
      "object_fit": null,
      "object_position": null,
      "order": null,
      "overflow": null,
      "overflow_x": null,
      "overflow_y": null,
      "padding": null,
      "right": null,
      "top": null,
      "visibility": null,
      "width": null
     }
    },
    "8073c957b55e4b1c870b8e7c50d3765a": {
     "model_module": "@jupyter-widgets/base",
     "model_module_version": "1.2.0",
     "model_name": "LayoutModel",
     "state": {
      "_model_module": "@jupyter-widgets/base",
      "_model_module_version": "1.2.0",
      "_model_name": "LayoutModel",
      "_view_count": null,
      "_view_module": "@jupyter-widgets/base",
      "_view_module_version": "1.2.0",
      "_view_name": "LayoutView",
      "align_content": null,
      "align_items": null,
      "align_self": null,
      "border": null,
      "bottom": null,
      "display": null,
      "flex": null,
      "flex_flow": null,
      "grid_area": null,
      "grid_auto_columns": null,
      "grid_auto_flow": null,
      "grid_auto_rows": null,
      "grid_column": null,
      "grid_gap": null,
      "grid_row": null,
      "grid_template_areas": null,
      "grid_template_columns": null,
      "grid_template_rows": null,
      "height": null,
      "justify_content": null,
      "justify_items": null,
      "left": null,
      "margin": null,
      "max_height": null,
      "max_width": null,
      "min_height": null,
      "min_width": null,
      "object_fit": null,
      "object_position": null,
      "order": null,
      "overflow": null,
      "overflow_x": null,
      "overflow_y": null,
      "padding": null,
      "right": null,
      "top": null,
      "visibility": null,
      "width": null
     }
    },
    "84864afa1f0d447ca0d5a38f972ab1f3": {
     "model_module": "@jupyter-widgets/controls",
     "model_module_version": "1.5.0",
     "model_name": "HTMLModel",
     "state": {
      "_dom_classes": [],
      "_model_module": "@jupyter-widgets/controls",
      "_model_module_version": "1.5.0",
      "_model_name": "HTMLModel",
      "_view_count": null,
      "_view_module": "@jupyter-widgets/controls",
      "_view_module_version": "1.5.0",
      "_view_name": "HTMLView",
      "description": "",
      "description_tooltip": null,
      "layout": "IPY_MODEL_38550314ccb744c78b779de82a9f6d8e",
      "placeholder": "​",
      "style": "IPY_MODEL_596d1f66a8cd480ab32af9f3f3025edc",
      "value": " 5.53M/5.53M [00:00&lt;00:00, 143MB/s]"
     }
    },
    "84bada4f0df245469620edab3ad40c38": {
     "model_module": "@jupyter-widgets/base",
     "model_module_version": "1.2.0",
     "model_name": "LayoutModel",
     "state": {
      "_model_module": "@jupyter-widgets/base",
      "_model_module_version": "1.2.0",
      "_model_name": "LayoutModel",
      "_view_count": null,
      "_view_module": "@jupyter-widgets/base",
      "_view_module_version": "1.2.0",
      "_view_name": "LayoutView",
      "align_content": null,
      "align_items": null,
      "align_self": null,
      "border": null,
      "bottom": null,
      "display": null,
      "flex": null,
      "flex_flow": null,
      "grid_area": null,
      "grid_auto_columns": null,
      "grid_auto_flow": null,
      "grid_auto_rows": null,
      "grid_column": null,
      "grid_gap": null,
      "grid_row": null,
      "grid_template_areas": null,
      "grid_template_columns": null,
      "grid_template_rows": null,
      "height": null,
      "justify_content": null,
      "justify_items": null,
      "left": null,
      "margin": null,
      "max_height": null,
      "max_width": null,
      "min_height": null,
      "min_width": null,
      "object_fit": null,
      "object_position": null,
      "order": null,
      "overflow": null,
      "overflow_x": null,
      "overflow_y": null,
      "padding": null,
      "right": null,
      "top": null,
      "visibility": null,
      "width": null
     }
    },
    "85a4d1969185444aa63499a3e59faa2c": {
     "model_module": "@jupyter-widgets/controls",
     "model_module_version": "1.5.0",
     "model_name": "HTMLModel",
     "state": {
      "_dom_classes": [],
      "_model_module": "@jupyter-widgets/controls",
      "_model_module_version": "1.5.0",
      "_model_name": "HTMLModel",
      "_view_count": null,
      "_view_module": "@jupyter-widgets/controls",
      "_view_module_version": "1.5.0",
      "_view_name": "HTMLView",
      "description": "",
      "description_tooltip": null,
      "layout": "IPY_MODEL_76a0e79fab2644908c86b7784d67504e",
      "placeholder": "​",
      "style": "IPY_MODEL_ab133c95b3da4bdf86777ade47d60698",
      "value": "hyperparams_develop.yaml: 100%"
     }
    },
    "86b24bfbc04d4bda8cce53a140c17e62": {
     "model_module": "@jupyter-widgets/controls",
     "model_module_version": "1.5.0",
     "model_name": "HTMLModel",
     "state": {
      "_dom_classes": [],
      "_model_module": "@jupyter-widgets/controls",
      "_model_module_version": "1.5.0",
      "_model_name": "HTMLModel",
      "_view_count": null,
      "_view_module": "@jupyter-widgets/controls",
      "_view_module_version": "1.5.0",
      "_view_name": "HTMLView",
      "description": "",
      "description_tooltip": null,
      "layout": "IPY_MODEL_78cfac8bcaea470ebfba4104154cec3d",
      "placeholder": "​",
      "style": "IPY_MODEL_d9b66e1b93fb4664beeadcf100a43232",
      "value": "encoder.ckpt: 100%"
     }
    },
    "8718c8b37bea4e53ac6457276ce63045": {
     "model_module": "@jupyter-widgets/controls",
     "model_module_version": "1.5.0",
     "model_name": "HTMLModel",
     "state": {
      "_dom_classes": [],
      "_model_module": "@jupyter-widgets/controls",
      "_model_module_version": "1.5.0",
      "_model_name": "HTMLModel",
      "_view_count": null,
      "_view_module": "@jupyter-widgets/controls",
      "_view_module_version": "1.5.0",
      "_view_name": "HTMLView",
      "description": "",
      "description_tooltip": null,
      "layout": "IPY_MODEL_611c74c530d44002b43a09e86fdd133a",
      "placeholder": "​",
      "style": "IPY_MODEL_c22924e5299d4ea79ad2dc6257ce8d6b",
      "value": " 1.92k/1.92k [00:00&lt;00:00, 131kB/s]"
     }
    },
    "87d1d3bebd594b798db2cd726046fbb1": {
     "model_module": "@jupyter-widgets/base",
     "model_module_version": "1.2.0",
     "model_name": "LayoutModel",
     "state": {
      "_model_module": "@jupyter-widgets/base",
      "_model_module_version": "1.2.0",
      "_model_name": "LayoutModel",
      "_view_count": null,
      "_view_module": "@jupyter-widgets/base",
      "_view_module_version": "1.2.0",
      "_view_name": "LayoutView",
      "align_content": null,
      "align_items": null,
      "align_self": null,
      "border": null,
      "bottom": null,
      "display": null,
      "flex": null,
      "flex_flow": null,
      "grid_area": null,
      "grid_auto_columns": null,
      "grid_auto_flow": null,
      "grid_auto_rows": null,
      "grid_column": null,
      "grid_gap": null,
      "grid_row": null,
      "grid_template_areas": null,
      "grid_template_columns": null,
      "grid_template_rows": null,
      "height": null,
      "justify_content": null,
      "justify_items": null,
      "left": null,
      "margin": null,
      "max_height": null,
      "max_width": null,
      "min_height": null,
      "min_width": null,
      "object_fit": null,
      "object_position": null,
      "order": null,
      "overflow": null,
      "overflow_x": null,
      "overflow_y": null,
      "padding": null,
      "right": null,
      "top": null,
      "visibility": null,
      "width": null
     }
    },
    "886dbc6801664287b38590260ba33286": {
     "model_module": "@jupyter-widgets/base",
     "model_module_version": "1.2.0",
     "model_name": "LayoutModel",
     "state": {
      "_model_module": "@jupyter-widgets/base",
      "_model_module_version": "1.2.0",
      "_model_name": "LayoutModel",
      "_view_count": null,
      "_view_module": "@jupyter-widgets/base",
      "_view_module_version": "1.2.0",
      "_view_name": "LayoutView",
      "align_content": null,
      "align_items": null,
      "align_self": null,
      "border": null,
      "bottom": null,
      "display": null,
      "flex": null,
      "flex_flow": null,
      "grid_area": null,
      "grid_auto_columns": null,
      "grid_auto_flow": null,
      "grid_auto_rows": null,
      "grid_column": null,
      "grid_gap": null,
      "grid_row": null,
      "grid_template_areas": null,
      "grid_template_columns": null,
      "grid_template_rows": null,
      "height": null,
      "justify_content": null,
      "justify_items": null,
      "left": null,
      "margin": null,
      "max_height": null,
      "max_width": null,
      "min_height": null,
      "min_width": null,
      "object_fit": null,
      "object_position": null,
      "order": null,
      "overflow": null,
      "overflow_x": null,
      "overflow_y": null,
      "padding": null,
      "right": null,
      "top": null,
      "visibility": null,
      "width": null
     }
    },
    "890276931b55409cacaccbea256fe745": {
     "model_module": "@jupyter-widgets/base",
     "model_module_version": "1.2.0",
     "model_name": "LayoutModel",
     "state": {
      "_model_module": "@jupyter-widgets/base",
      "_model_module_version": "1.2.0",
      "_model_name": "LayoutModel",
      "_view_count": null,
      "_view_module": "@jupyter-widgets/base",
      "_view_module_version": "1.2.0",
      "_view_name": "LayoutView",
      "align_content": null,
      "align_items": null,
      "align_self": null,
      "border": null,
      "bottom": null,
      "display": null,
      "flex": null,
      "flex_flow": null,
      "grid_area": null,
      "grid_auto_columns": null,
      "grid_auto_flow": null,
      "grid_auto_rows": null,
      "grid_column": null,
      "grid_gap": null,
      "grid_row": null,
      "grid_template_areas": null,
      "grid_template_columns": null,
      "grid_template_rows": null,
      "height": null,
      "justify_content": null,
      "justify_items": null,
      "left": null,
      "margin": null,
      "max_height": null,
      "max_width": null,
      "min_height": null,
      "min_width": null,
      "object_fit": null,
      "object_position": null,
      "order": null,
      "overflow": null,
      "overflow_x": null,
      "overflow_y": null,
      "padding": null,
      "right": null,
      "top": null,
      "visibility": null,
      "width": null
     }
    },
    "891f3d15f25a4cc2a64f4e7013d48e54": {
     "model_module": "@jupyter-widgets/base",
     "model_module_version": "1.2.0",
     "model_name": "LayoutModel",
     "state": {
      "_model_module": "@jupyter-widgets/base",
      "_model_module_version": "1.2.0",
      "_model_name": "LayoutModel",
      "_view_count": null,
      "_view_module": "@jupyter-widgets/base",
      "_view_module_version": "1.2.0",
      "_view_name": "LayoutView",
      "align_content": null,
      "align_items": null,
      "align_self": null,
      "border": null,
      "bottom": null,
      "display": null,
      "flex": null,
      "flex_flow": null,
      "grid_area": null,
      "grid_auto_columns": null,
      "grid_auto_flow": null,
      "grid_auto_rows": null,
      "grid_column": null,
      "grid_gap": null,
      "grid_row": null,
      "grid_template_areas": null,
      "grid_template_columns": null,
      "grid_template_rows": null,
      "height": null,
      "justify_content": null,
      "justify_items": null,
      "left": null,
      "margin": null,
      "max_height": null,
      "max_width": null,
      "min_height": null,
      "min_width": null,
      "object_fit": null,
      "object_position": null,
      "order": null,
      "overflow": null,
      "overflow_x": null,
      "overflow_y": null,
      "padding": null,
      "right": null,
      "top": null,
      "visibility": null,
      "width": null
     }
    },
    "89f354d3bb7d40a9ba8b106071802006": {
     "model_module": "@jupyter-widgets/base",
     "model_module_version": "1.2.0",
     "model_name": "LayoutModel",
     "state": {
      "_model_module": "@jupyter-widgets/base",
      "_model_module_version": "1.2.0",
      "_model_name": "LayoutModel",
      "_view_count": null,
      "_view_module": "@jupyter-widgets/base",
      "_view_module_version": "1.2.0",
      "_view_name": "LayoutView",
      "align_content": null,
      "align_items": null,
      "align_self": null,
      "border": null,
      "bottom": null,
      "display": null,
      "flex": null,
      "flex_flow": null,
      "grid_area": null,
      "grid_auto_columns": null,
      "grid_auto_flow": null,
      "grid_auto_rows": null,
      "grid_column": null,
      "grid_gap": null,
      "grid_row": null,
      "grid_template_areas": null,
      "grid_template_columns": null,
      "grid_template_rows": null,
      "height": null,
      "justify_content": null,
      "justify_items": null,
      "left": null,
      "margin": null,
      "max_height": null,
      "max_width": null,
      "min_height": null,
      "min_width": null,
      "object_fit": null,
      "object_position": null,
      "order": null,
      "overflow": null,
      "overflow_x": null,
      "overflow_y": null,
      "padding": null,
      "right": null,
      "top": null,
      "visibility": null,
      "width": null
     }
    },
    "8c5f52ed4b7042df8bb636e73c702d64": {
     "model_module": "@jupyter-widgets/controls",
     "model_module_version": "1.5.0",
     "model_name": "DescriptionStyleModel",
     "state": {
      "_model_module": "@jupyter-widgets/controls",
      "_model_module_version": "1.5.0",
      "_model_name": "DescriptionStyleModel",
      "_view_count": null,
      "_view_module": "@jupyter-widgets/base",
      "_view_module_version": "1.2.0",
      "_view_name": "StyleView",
      "description_width": ""
     }
    },
    "8c9d3cdb6d9248129db49203fb4df0ec": {
     "model_module": "@jupyter-widgets/controls",
     "model_module_version": "1.5.0",
     "model_name": "DescriptionStyleModel",
     "state": {
      "_model_module": "@jupyter-widgets/controls",
      "_model_module_version": "1.5.0",
      "_model_name": "DescriptionStyleModel",
      "_view_count": null,
      "_view_module": "@jupyter-widgets/base",
      "_view_module_version": "1.2.0",
      "_view_name": "StyleView",
      "description_width": ""
     }
    },
    "8d0a5753b71243c59f4741043f98b857": {
     "model_module": "@jupyter-widgets/controls",
     "model_module_version": "1.5.0",
     "model_name": "ProgressStyleModel",
     "state": {
      "_model_module": "@jupyter-widgets/controls",
      "_model_module_version": "1.5.0",
      "_model_name": "ProgressStyleModel",
      "_view_count": null,
      "_view_module": "@jupyter-widgets/base",
      "_view_module_version": "1.2.0",
      "_view_name": "StyleView",
      "bar_color": null,
      "description_width": ""
     }
    },
    "8e66c81421af4032a4048dda5f7db960": {
     "model_module": "@jupyter-widgets/controls",
     "model_module_version": "1.5.0",
     "model_name": "DescriptionStyleModel",
     "state": {
      "_model_module": "@jupyter-widgets/controls",
      "_model_module_version": "1.5.0",
      "_model_name": "DescriptionStyleModel",
      "_view_count": null,
      "_view_module": "@jupyter-widgets/base",
      "_view_module_version": "1.2.0",
      "_view_name": "StyleView",
      "description_width": ""
     }
    },
    "934446687ef449149f71c9c64923ed4d": {
     "model_module": "@jupyter-widgets/controls",
     "model_module_version": "1.5.0",
     "model_name": "DescriptionStyleModel",
     "state": {
      "_model_module": "@jupyter-widgets/controls",
      "_model_module_version": "1.5.0",
      "_model_name": "DescriptionStyleModel",
      "_view_count": null,
      "_view_module": "@jupyter-widgets/base",
      "_view_module_version": "1.2.0",
      "_view_name": "StyleView",
      "description_width": ""
     }
    },
    "94ac439a7b2344acb89dd968f4832d24": {
     "model_module": "@jupyter-widgets/controls",
     "model_module_version": "1.5.0",
     "model_name": "FloatProgressModel",
     "state": {
      "_dom_classes": [],
      "_model_module": "@jupyter-widgets/controls",
      "_model_module_version": "1.5.0",
      "_model_name": "FloatProgressModel",
      "_view_count": null,
      "_view_module": "@jupyter-widgets/controls",
      "_view_module_version": "1.5.0",
      "_view_name": "ProgressView",
      "bar_style": "success",
      "description": "",
      "description_tooltip": null,
      "layout": "IPY_MODEL_2961959a379f4934b2f47f3ec99736cd",
      "max": 113108458,
      "min": 0,
      "orientation": "horizontal",
      "style": "IPY_MODEL_d439ae84c3cd41f0b89eaa7c32ba310e",
      "value": 113108458
     }
    },
    "96b01ae3bf274b3e84cda3f94dd564fb": {
     "model_module": "@jupyter-widgets/base",
     "model_module_version": "1.2.0",
     "model_name": "LayoutModel",
     "state": {
      "_model_module": "@jupyter-widgets/base",
      "_model_module_version": "1.2.0",
      "_model_name": "LayoutModel",
      "_view_count": null,
      "_view_module": "@jupyter-widgets/base",
      "_view_module_version": "1.2.0",
      "_view_name": "LayoutView",
      "align_content": null,
      "align_items": null,
      "align_self": null,
      "border": null,
      "bottom": null,
      "display": null,
      "flex": null,
      "flex_flow": null,
      "grid_area": null,
      "grid_auto_columns": null,
      "grid_auto_flow": null,
      "grid_auto_rows": null,
      "grid_column": null,
      "grid_gap": null,
      "grid_row": null,
      "grid_template_areas": null,
      "grid_template_columns": null,
      "grid_template_rows": null,
      "height": null,
      "justify_content": null,
      "justify_items": null,
      "left": null,
      "margin": null,
      "max_height": null,
      "max_width": null,
      "min_height": null,
      "min_width": null,
      "object_fit": null,
      "object_position": null,
      "order": null,
      "overflow": null,
      "overflow_x": null,
      "overflow_y": null,
      "padding": null,
      "right": null,
      "top": null,
      "visibility": null,
      "width": null
     }
    },
    "9707ff2d35094cfd97c39d166579cdba": {
     "model_module": "@jupyter-widgets/controls",
     "model_module_version": "1.5.0",
     "model_name": "DescriptionStyleModel",
     "state": {
      "_model_module": "@jupyter-widgets/controls",
      "_model_module_version": "1.5.0",
      "_model_name": "DescriptionStyleModel",
      "_view_count": null,
      "_view_module": "@jupyter-widgets/base",
      "_view_module_version": "1.2.0",
      "_view_name": "StyleView",
      "description_width": ""
     }
    },
    "9713800931064fd3809f1fd0a2bc2d03": {
     "model_module": "@jupyter-widgets/controls",
     "model_module_version": "1.5.0",
     "model_name": "DescriptionStyleModel",
     "state": {
      "_model_module": "@jupyter-widgets/controls",
      "_model_module_version": "1.5.0",
      "_model_name": "DescriptionStyleModel",
      "_view_count": null,
      "_view_module": "@jupyter-widgets/base",
      "_view_module_version": "1.2.0",
      "_view_name": "StyleView",
      "description_width": ""
     }
    },
    "975f5572379d4dd2b4776d5469ca1bb7": {
     "model_module": "@jupyter-widgets/controls",
     "model_module_version": "1.5.0",
     "model_name": "HTMLModel",
     "state": {
      "_dom_classes": [],
      "_model_module": "@jupyter-widgets/controls",
      "_model_module_version": "1.5.0",
      "_model_name": "HTMLModel",
      "_view_count": null,
      "_view_module": "@jupyter-widgets/controls",
      "_view_module_version": "1.5.0",
      "_view_name": "HTMLView",
      "description": "",
      "description_tooltip": null,
      "layout": "IPY_MODEL_87d1d3bebd594b798db2cd726046fbb1",
      "placeholder": "​",
      "style": "IPY_MODEL_9c9985770a644c60a40d8a5479a19c48",
      "value": "embedding_model.ckpt: 100%"
     }
    },
    "98ea97d41a6c4565a238d184ac9bd09a": {
     "model_module": "@jupyter-widgets/controls",
     "model_module_version": "1.5.0",
     "model_name": "ProgressStyleModel",
     "state": {
      "_model_module": "@jupyter-widgets/controls",
      "_model_module_version": "1.5.0",
      "_model_name": "ProgressStyleModel",
      "_view_count": null,
      "_view_module": "@jupyter-widgets/base",
      "_view_module_version": "1.2.0",
      "_view_name": "StyleView",
      "bar_color": null,
      "description_width": ""
     }
    },
    "9a755c6dcb464a4c91ba4443ea9d30d9": {
     "model_module": "@jupyter-widgets/controls",
     "model_module_version": "1.5.0",
     "model_name": "HBoxModel",
     "state": {
      "_dom_classes": [],
      "_model_module": "@jupyter-widgets/controls",
      "_model_module_version": "1.5.0",
      "_model_name": "HBoxModel",
      "_view_count": null,
      "_view_module": "@jupyter-widgets/controls",
      "_view_module_version": "1.5.0",
      "_view_name": "HBoxView",
      "box_style": "",
      "children": [
       "IPY_MODEL_0c1d9a4d91eb4f0397bc17c1abeafcd6",
       "IPY_MODEL_5bcd65e2cc574d428cf8fa49207b1d0f",
       "IPY_MODEL_e600eb9e6fb74c35b3015ac6d56b5b90"
      ],
      "layout": "IPY_MODEL_89f354d3bb7d40a9ba8b106071802006"
     }
    },
    "9b1b16de38574725bcbf9527f77b8820": {
     "model_module": "@jupyter-widgets/base",
     "model_module_version": "1.2.0",
     "model_name": "LayoutModel",
     "state": {
      "_model_module": "@jupyter-widgets/base",
      "_model_module_version": "1.2.0",
      "_model_name": "LayoutModel",
      "_view_count": null,
      "_view_module": "@jupyter-widgets/base",
      "_view_module_version": "1.2.0",
      "_view_name": "LayoutView",
      "align_content": null,
      "align_items": null,
      "align_self": null,
      "border": null,
      "bottom": null,
      "display": null,
      "flex": null,
      "flex_flow": null,
      "grid_area": null,
      "grid_auto_columns": null,
      "grid_auto_flow": null,
      "grid_auto_rows": null,
      "grid_column": null,
      "grid_gap": null,
      "grid_row": null,
      "grid_template_areas": null,
      "grid_template_columns": null,
      "grid_template_rows": null,
      "height": null,
      "justify_content": null,
      "justify_items": null,
      "left": null,
      "margin": null,
      "max_height": null,
      "max_width": null,
      "min_height": null,
      "min_width": null,
      "object_fit": null,
      "object_position": null,
      "order": null,
      "overflow": null,
      "overflow_x": null,
      "overflow_y": null,
      "padding": null,
      "right": null,
      "top": null,
      "visibility": null,
      "width": null
     }
    },
    "9c9985770a644c60a40d8a5479a19c48": {
     "model_module": "@jupyter-widgets/controls",
     "model_module_version": "1.5.0",
     "model_name": "DescriptionStyleModel",
     "state": {
      "_model_module": "@jupyter-widgets/controls",
      "_model_module_version": "1.5.0",
      "_model_name": "DescriptionStyleModel",
      "_view_count": null,
      "_view_module": "@jupyter-widgets/base",
      "_view_module_version": "1.2.0",
      "_view_name": "StyleView",
      "description_width": ""
     }
    },
    "9e69e88263a24037aa45fb9f837c2c40": {
     "model_module": "@jupyter-widgets/controls",
     "model_module_version": "1.5.0",
     "model_name": "HBoxModel",
     "state": {
      "_dom_classes": [],
      "_model_module": "@jupyter-widgets/controls",
      "_model_module_version": "1.5.0",
      "_model_name": "HBoxModel",
      "_view_count": null,
      "_view_module": "@jupyter-widgets/controls",
      "_view_module_version": "1.5.0",
      "_view_name": "HBoxView",
      "box_style": "",
      "children": [
       "IPY_MODEL_cb5045ef6ee544cf9e7f4d7cf772c14f",
       "IPY_MODEL_1ea356cbbabf483b94fac984fa0d3690",
       "IPY_MODEL_3301f47181664600aac6a0483dfa69a2"
      ],
      "layout": "IPY_MODEL_a3f6fdd0090c4c35b1f44d01be6d8e4f"
     }
    },
    "a0317c2f06cf410783a893b8187e00c3": {
     "model_module": "@jupyter-widgets/controls",
     "model_module_version": "1.5.0",
     "model_name": "HTMLModel",
     "state": {
      "_dom_classes": [],
      "_model_module": "@jupyter-widgets/controls",
      "_model_module_version": "1.5.0",
      "_model_name": "HTMLModel",
      "_view_count": null,
      "_view_module": "@jupyter-widgets/controls",
      "_view_module_version": "1.5.0",
      "_view_name": "HTMLView",
      "description": "",
      "description_tooltip": null,
      "layout": "IPY_MODEL_5bb62e9fe8f14b898666af7527389908",
      "placeholder": "​",
      "style": "IPY_MODEL_701f1496c0d145b8b376174ed9501cab",
      "value": " 83.3M/83.3M [00:00&lt;00:00, 170MB/s]"
     }
    },
    "a1b9d608708d4e9d962dbfa65f2b8951": {
     "model_module": "@jupyter-widgets/controls",
     "model_module_version": "1.5.0",
     "model_name": "HTMLModel",
     "state": {
      "_dom_classes": [],
      "_model_module": "@jupyter-widgets/controls",
      "_model_module_version": "1.5.0",
      "_model_name": "HTMLModel",
      "_view_count": null,
      "_view_module": "@jupyter-widgets/controls",
      "_view_module_version": "1.5.0",
      "_view_name": "HTMLView",
      "description": "",
      "description_tooltip": null,
      "layout": "IPY_MODEL_ae6a556144e54692b1be363027c1e867",
      "placeholder": "​",
      "style": "IPY_MODEL_8e66c81421af4032a4048dda5f7db960",
      "value": "classifier.ckpt: 100%"
     }
    },
    "a1e78669452a47899a85a7fae3a15661": {
     "model_module": "@jupyter-widgets/controls",
     "model_module_version": "1.5.0",
     "model_name": "HTMLModel",
     "state": {
      "_dom_classes": [],
      "_model_module": "@jupyter-widgets/controls",
      "_model_module_version": "1.5.0",
      "_model_name": "HTMLModel",
      "_view_count": null,
      "_view_module": "@jupyter-widgets/controls",
      "_view_module_version": "1.5.0",
      "_view_name": "HTMLView",
      "description": "",
      "description_tooltip": null,
      "layout": "IPY_MODEL_3940e8873ae3498393094ea7c361a7fc",
      "placeholder": "​",
      "style": "IPY_MODEL_e2cf26fb7f29467daef310993935888f",
      "value": " 1.41k/1.41k [00:00&lt;00:00, 22.6kB/s]"
     }
    },
    "a2c4a9390bd6495aae3a79a7174f5832": {
     "model_module": "@jupyter-widgets/controls",
     "model_module_version": "1.5.0",
     "model_name": "HTMLModel",
     "state": {
      "_dom_classes": [],
      "_model_module": "@jupyter-widgets/controls",
      "_model_module_version": "1.5.0",
      "_model_name": "HTMLModel",
      "_view_count": null,
      "_view_module": "@jupyter-widgets/controls",
      "_view_module_version": "1.5.0",
      "_view_name": "HTMLView",
      "description": "",
      "description_tooltip": null,
      "layout": "IPY_MODEL_7b0782edb2394087910b772c90b03be9",
      "placeholder": "​",
      "style": "IPY_MODEL_0657d483243b46748b6dd499a188b588",
      "value": "lm.ckpt: 100%"
     }
    },
    "a2d5bacd3dfc4279b7434002341d000b": {
     "model_module": "@jupyter-widgets/controls",
     "model_module_version": "1.5.0",
     "model_name": "DescriptionStyleModel",
     "state": {
      "_model_module": "@jupyter-widgets/controls",
      "_model_module_version": "1.5.0",
      "_model_name": "DescriptionStyleModel",
      "_view_count": null,
      "_view_module": "@jupyter-widgets/base",
      "_view_module_version": "1.2.0",
      "_view_name": "StyleView",
      "description_width": ""
     }
    },
    "a3f6fdd0090c4c35b1f44d01be6d8e4f": {
     "model_module": "@jupyter-widgets/base",
     "model_module_version": "1.2.0",
     "model_name": "LayoutModel",
     "state": {
      "_model_module": "@jupyter-widgets/base",
      "_model_module_version": "1.2.0",
      "_model_name": "LayoutModel",
      "_view_count": null,
      "_view_module": "@jupyter-widgets/base",
      "_view_module_version": "1.2.0",
      "_view_name": "LayoutView",
      "align_content": null,
      "align_items": null,
      "align_self": null,
      "border": null,
      "bottom": null,
      "display": null,
      "flex": null,
      "flex_flow": null,
      "grid_area": null,
      "grid_auto_columns": null,
      "grid_auto_flow": null,
      "grid_auto_rows": null,
      "grid_column": null,
      "grid_gap": null,
      "grid_row": null,
      "grid_template_areas": null,
      "grid_template_columns": null,
      "grid_template_rows": null,
      "height": null,
      "justify_content": null,
      "justify_items": null,
      "left": null,
      "margin": null,
      "max_height": null,
      "max_width": null,
      "min_height": null,
      "min_width": null,
      "object_fit": null,
      "object_position": null,
      "order": null,
      "overflow": null,
      "overflow_x": null,
      "overflow_y": null,
      "padding": null,
      "right": null,
      "top": null,
      "visibility": null,
      "width": null
     }
    },
    "a6d2f27d5d4c493083ead216c8137c89": {
     "model_module": "@jupyter-widgets/controls",
     "model_module_version": "1.5.0",
     "model_name": "DescriptionStyleModel",
     "state": {
      "_model_module": "@jupyter-widgets/controls",
      "_model_module_version": "1.5.0",
      "_model_name": "DescriptionStyleModel",
      "_view_count": null,
      "_view_module": "@jupyter-widgets/base",
      "_view_module_version": "1.2.0",
      "_view_name": "StyleView",
      "description_width": ""
     }
    },
    "a7436702e317468ba76a9c7ab1d7b7bd": {
     "model_module": "@jupyter-widgets/controls",
     "model_module_version": "1.5.0",
     "model_name": "ProgressStyleModel",
     "state": {
      "_model_module": "@jupyter-widgets/controls",
      "_model_module_version": "1.5.0",
      "_model_name": "ProgressStyleModel",
      "_view_count": null,
      "_view_module": "@jupyter-widgets/base",
      "_view_module_version": "1.2.0",
      "_view_name": "StyleView",
      "bar_color": null,
      "description_width": ""
     }
    },
    "a89727caed4642e7af12415c8ca66641": {
     "model_module": "@jupyter-widgets/controls",
     "model_module_version": "1.5.0",
     "model_name": "FloatProgressModel",
     "state": {
      "_dom_classes": [],
      "_model_module": "@jupyter-widgets/controls",
      "_model_module_version": "1.5.0",
      "_model_name": "FloatProgressModel",
      "_view_count": null,
      "_view_module": "@jupyter-widgets/controls",
      "_view_module_version": "1.5.0",
      "_view_name": "ProgressView",
      "bar_style": "success",
      "description": "",
      "description_tooltip": null,
      "layout": "IPY_MODEL_e94b2fcd8c8d495ea7ebd6beeab5dad0",
      "max": 1921,
      "min": 0,
      "orientation": "horizontal",
      "style": "IPY_MODEL_c62d9509f5d9449590c067db7631d10a",
      "value": 1921
     }
    },
    "a9ede27dcd6c4c17aad2e03976788ac8": {
     "model_module": "@jupyter-widgets/base",
     "model_module_version": "1.2.0",
     "model_name": "LayoutModel",
     "state": {
      "_model_module": "@jupyter-widgets/base",
      "_model_module_version": "1.2.0",
      "_model_name": "LayoutModel",
      "_view_count": null,
      "_view_module": "@jupyter-widgets/base",
      "_view_module_version": "1.2.0",
      "_view_name": "LayoutView",
      "align_content": null,
      "align_items": null,
      "align_self": null,
      "border": null,
      "bottom": null,
      "display": null,
      "flex": null,
      "flex_flow": null,
      "grid_area": null,
      "grid_auto_columns": null,
      "grid_auto_flow": null,
      "grid_auto_rows": null,
      "grid_column": null,
      "grid_gap": null,
      "grid_row": null,
      "grid_template_areas": null,
      "grid_template_columns": null,
      "grid_template_rows": null,
      "height": null,
      "justify_content": null,
      "justify_items": null,
      "left": null,
      "margin": null,
      "max_height": null,
      "max_width": null,
      "min_height": null,
      "min_width": null,
      "object_fit": null,
      "object_position": null,
      "order": null,
      "overflow": null,
      "overflow_x": null,
      "overflow_y": null,
      "padding": null,
      "right": null,
      "top": null,
      "visibility": null,
      "width": null
     }
    },
    "ab133c95b3da4bdf86777ade47d60698": {
     "model_module": "@jupyter-widgets/controls",
     "model_module_version": "1.5.0",
     "model_name": "DescriptionStyleModel",
     "state": {
      "_model_module": "@jupyter-widgets/controls",
      "_model_module_version": "1.5.0",
      "_model_name": "DescriptionStyleModel",
      "_view_count": null,
      "_view_module": "@jupyter-widgets/base",
      "_view_module_version": "1.2.0",
      "_view_name": "StyleView",
      "description_width": ""
     }
    },
    "adba26074a384a34ac2866813537c0d3": {
     "model_module": "@jupyter-widgets/controls",
     "model_module_version": "1.5.0",
     "model_name": "ProgressStyleModel",
     "state": {
      "_model_module": "@jupyter-widgets/controls",
      "_model_module_version": "1.5.0",
      "_model_name": "ProgressStyleModel",
      "_view_count": null,
      "_view_module": "@jupyter-widgets/base",
      "_view_module_version": "1.2.0",
      "_view_name": "StyleView",
      "bar_color": null,
      "description_width": ""
     }
    },
    "ae6a556144e54692b1be363027c1e867": {
     "model_module": "@jupyter-widgets/base",
     "model_module_version": "1.2.0",
     "model_name": "LayoutModel",
     "state": {
      "_model_module": "@jupyter-widgets/base",
      "_model_module_version": "1.2.0",
      "_model_name": "LayoutModel",
      "_view_count": null,
      "_view_module": "@jupyter-widgets/base",
      "_view_module_version": "1.2.0",
      "_view_name": "LayoutView",
      "align_content": null,
      "align_items": null,
      "align_self": null,
      "border": null,
      "bottom": null,
      "display": null,
      "flex": null,
      "flex_flow": null,
      "grid_area": null,
      "grid_auto_columns": null,
      "grid_auto_flow": null,
      "grid_auto_rows": null,
      "grid_column": null,
      "grid_gap": null,
      "grid_row": null,
      "grid_template_areas": null,
      "grid_template_columns": null,
      "grid_template_rows": null,
      "height": null,
      "justify_content": null,
      "justify_items": null,
      "left": null,
      "margin": null,
      "max_height": null,
      "max_width": null,
      "min_height": null,
      "min_width": null,
      "object_fit": null,
      "object_position": null,
      "order": null,
      "overflow": null,
      "overflow_x": null,
      "overflow_y": null,
      "padding": null,
      "right": null,
      "top": null,
      "visibility": null,
      "width": null
     }
    },
    "b28ec6dd2556486693cb7657158b4f35": {
     "model_module": "@jupyter-widgets/base",
     "model_module_version": "1.2.0",
     "model_name": "LayoutModel",
     "state": {
      "_model_module": "@jupyter-widgets/base",
      "_model_module_version": "1.2.0",
      "_model_name": "LayoutModel",
      "_view_count": null,
      "_view_module": "@jupyter-widgets/base",
      "_view_module_version": "1.2.0",
      "_view_name": "LayoutView",
      "align_content": null,
      "align_items": null,
      "align_self": null,
      "border": null,
      "bottom": null,
      "display": null,
      "flex": null,
      "flex_flow": null,
      "grid_area": null,
      "grid_auto_columns": null,
      "grid_auto_flow": null,
      "grid_auto_rows": null,
      "grid_column": null,
      "grid_gap": null,
      "grid_row": null,
      "grid_template_areas": null,
      "grid_template_columns": null,
      "grid_template_rows": null,
      "height": null,
      "justify_content": null,
      "justify_items": null,
      "left": null,
      "margin": null,
      "max_height": null,
      "max_width": null,
      "min_height": null,
      "min_width": null,
      "object_fit": null,
      "object_position": null,
      "order": null,
      "overflow": null,
      "overflow_x": null,
      "overflow_y": null,
      "padding": null,
      "right": null,
      "top": null,
      "visibility": null,
      "width": null
     }
    },
    "b53ce8b214574bde84833798ab1e0a0e": {
     "model_module": "@jupyter-widgets/controls",
     "model_module_version": "1.5.0",
     "model_name": "HBoxModel",
     "state": {
      "_dom_classes": [],
      "_model_module": "@jupyter-widgets/controls",
      "_model_module_version": "1.5.0",
      "_model_name": "HBoxModel",
      "_view_count": null,
      "_view_module": "@jupyter-widgets/controls",
      "_view_module_version": "1.5.0",
      "_view_name": "HBoxView",
      "box_style": "",
      "children": [
       "IPY_MODEL_975f5572379d4dd2b4776d5469ca1bb7",
       "IPY_MODEL_edb3172c98ff4ad8a27f35d1a7835906",
       "IPY_MODEL_a0317c2f06cf410783a893b8187e00c3"
      ],
      "layout": "IPY_MODEL_2fda19c612c5486dbf75a5de2d6ebcda"
     }
    },
    "b5d8d5c9c94b4329a7cf143448476408": {
     "model_module": "@jupyter-widgets/controls",
     "model_module_version": "1.5.0",
     "model_name": "HTMLModel",
     "state": {
      "_dom_classes": [],
      "_model_module": "@jupyter-widgets/controls",
      "_model_module_version": "1.5.0",
      "_model_name": "HTMLModel",
      "_view_count": null,
      "_view_module": "@jupyter-widgets/controls",
      "_view_module_version": "1.5.0",
      "_view_name": "HTMLView",
      "description": "",
      "description_tooltip": null,
      "layout": "IPY_MODEL_84bada4f0df245469620edab3ad40c38",
      "placeholder": "​",
      "style": "IPY_MODEL_3bd1dfae506d4299af956d497d96d9ad",
      "value": "normalizer.ckpt: 100%"
     }
    },
    "b7ff251217dc4a31abd29db0d8ddb8ee": {
     "model_module": "@jupyter-widgets/controls",
     "model_module_version": "1.5.0",
     "model_name": "HTMLModel",
     "state": {
      "_dom_classes": [],
      "_model_module": "@jupyter-widgets/controls",
      "_model_module_version": "1.5.0",
      "_model_name": "HTMLModel",
      "_view_count": null,
      "_view_module": "@jupyter-widgets/controls",
      "_view_module_version": "1.5.0",
      "_view_name": "HTMLView",
      "description": "",
      "description_tooltip": null,
      "layout": "IPY_MODEL_c65d659414184d6bbf896b581177e1a4",
      "placeholder": "​",
      "style": "IPY_MODEL_f92e99fc7682436a85d11ec2f115e206",
      "value": "hyperparams.yaml: 100%"
     }
    },
    "baa6984bd26244ce849d203aa0d2dc30": {
     "model_module": "@jupyter-widgets/base",
     "model_module_version": "1.2.0",
     "model_name": "LayoutModel",
     "state": {
      "_model_module": "@jupyter-widgets/base",
      "_model_module_version": "1.2.0",
      "_model_name": "LayoutModel",
      "_view_count": null,
      "_view_module": "@jupyter-widgets/base",
      "_view_module_version": "1.2.0",
      "_view_name": "LayoutView",
      "align_content": null,
      "align_items": null,
      "align_self": null,
      "border": null,
      "bottom": null,
      "display": null,
      "flex": null,
      "flex_flow": null,
      "grid_area": null,
      "grid_auto_columns": null,
      "grid_auto_flow": null,
      "grid_auto_rows": null,
      "grid_column": null,
      "grid_gap": null,
      "grid_row": null,
      "grid_template_areas": null,
      "grid_template_columns": null,
      "grid_template_rows": null,
      "height": null,
      "justify_content": null,
      "justify_items": null,
      "left": null,
      "margin": null,
      "max_height": null,
      "max_width": null,
      "min_height": null,
      "min_width": null,
      "object_fit": null,
      "object_position": null,
      "order": null,
      "overflow": null,
      "overflow_x": null,
      "overflow_y": null,
      "padding": null,
      "right": null,
      "top": null,
      "visibility": null,
      "width": null
     }
    },
    "bac9acbddead48e1b90aded2f686c5d7": {
     "model_module": "@jupyter-widgets/controls",
     "model_module_version": "1.5.0",
     "model_name": "HTMLModel",
     "state": {
      "_dom_classes": [],
      "_model_module": "@jupyter-widgets/controls",
      "_model_module_version": "1.5.0",
      "_model_name": "HTMLModel",
      "_view_count": null,
      "_view_module": "@jupyter-widgets/controls",
      "_view_module_version": "1.5.0",
      "_view_name": "HTMLView",
      "description": "",
      "description_tooltip": null,
      "layout": "IPY_MODEL_b28ec6dd2556486693cb7657158b4f35",
      "placeholder": "​",
      "style": "IPY_MODEL_a6d2f27d5d4c493083ead216c8137c89",
      "value": "asr.ckpt: 100%"
     }
    },
    "bd7023fc26be4623ab2c0e98b242ea1a": {
     "model_module": "@jupyter-widgets/controls",
     "model_module_version": "1.5.0",
     "model_name": "ProgressStyleModel",
     "state": {
      "_model_module": "@jupyter-widgets/controls",
      "_model_module_version": "1.5.0",
      "_model_name": "ProgressStyleModel",
      "_view_count": null,
      "_view_module": "@jupyter-widgets/base",
      "_view_module_version": "1.2.0",
      "_view_name": "StyleView",
      "bar_color": null,
      "description_width": ""
     }
    },
    "c22924e5299d4ea79ad2dc6257ce8d6b": {
     "model_module": "@jupyter-widgets/controls",
     "model_module_version": "1.5.0",
     "model_name": "DescriptionStyleModel",
     "state": {
      "_model_module": "@jupyter-widgets/controls",
      "_model_module_version": "1.5.0",
      "_model_name": "DescriptionStyleModel",
      "_view_count": null,
      "_view_module": "@jupyter-widgets/base",
      "_view_module_version": "1.2.0",
      "_view_name": "StyleView",
      "description_width": ""
     }
    },
    "c62d9509f5d9449590c067db7631d10a": {
     "model_module": "@jupyter-widgets/controls",
     "model_module_version": "1.5.0",
     "model_name": "ProgressStyleModel",
     "state": {
      "_model_module": "@jupyter-widgets/controls",
      "_model_module_version": "1.5.0",
      "_model_name": "ProgressStyleModel",
      "_view_count": null,
      "_view_module": "@jupyter-widgets/base",
      "_view_module_version": "1.2.0",
      "_view_name": "StyleView",
      "bar_color": null,
      "description_width": ""
     }
    },
    "c65d659414184d6bbf896b581177e1a4": {
     "model_module": "@jupyter-widgets/base",
     "model_module_version": "1.2.0",
     "model_name": "LayoutModel",
     "state": {
      "_model_module": "@jupyter-widgets/base",
      "_model_module_version": "1.2.0",
      "_model_name": "LayoutModel",
      "_view_count": null,
      "_view_module": "@jupyter-widgets/base",
      "_view_module_version": "1.2.0",
      "_view_name": "LayoutView",
      "align_content": null,
      "align_items": null,
      "align_self": null,
      "border": null,
      "bottom": null,
      "display": null,
      "flex": null,
      "flex_flow": null,
      "grid_area": null,
      "grid_auto_columns": null,
      "grid_auto_flow": null,
      "grid_auto_rows": null,
      "grid_column": null,
      "grid_gap": null,
      "grid_row": null,
      "grid_template_areas": null,
      "grid_template_columns": null,
      "grid_template_rows": null,
      "height": null,
      "justify_content": null,
      "justify_items": null,
      "left": null,
      "margin": null,
      "max_height": null,
      "max_width": null,
      "min_height": null,
      "min_width": null,
      "object_fit": null,
      "object_position": null,
      "order": null,
      "overflow": null,
      "overflow_x": null,
      "overflow_y": null,
      "padding": null,
      "right": null,
      "top": null,
      "visibility": null,
      "width": null
     }
    },
    "c81777f5d3814ced8096613714f3d054": {
     "model_module": "@jupyter-widgets/controls",
     "model_module_version": "1.5.0",
     "model_name": "DescriptionStyleModel",
     "state": {
      "_model_module": "@jupyter-widgets/controls",
      "_model_module_version": "1.5.0",
      "_model_name": "DescriptionStyleModel",
      "_view_count": null,
      "_view_module": "@jupyter-widgets/base",
      "_view_module_version": "1.2.0",
      "_view_name": "StyleView",
      "description_width": ""
     }
    },
    "cb5045ef6ee544cf9e7f4d7cf772c14f": {
     "model_module": "@jupyter-widgets/controls",
     "model_module_version": "1.5.0",
     "model_name": "HTMLModel",
     "state": {
      "_dom_classes": [],
      "_model_module": "@jupyter-widgets/controls",
      "_model_module_version": "1.5.0",
      "_model_name": "HTMLModel",
      "_view_count": null,
      "_view_module": "@jupyter-widgets/controls",
      "_view_module_version": "1.5.0",
      "_view_name": "HTMLView",
      "description": "",
      "description_tooltip": null,
      "layout": "IPY_MODEL_3fec66291aed46e9aaec1e60748760d6",
      "placeholder": "​",
      "style": "IPY_MODEL_934446687ef449149f71c9c64923ed4d",
      "value": "tokenizer.ckpt: 100%"
     }
    },
    "ccd1e7c8a24f4a5e90875d85ca2cf6a3": {
     "model_module": "@jupyter-widgets/controls",
     "model_module_version": "1.5.0",
     "model_name": "DescriptionStyleModel",
     "state": {
      "_model_module": "@jupyter-widgets/controls",
      "_model_module_version": "1.5.0",
      "_model_name": "DescriptionStyleModel",
      "_view_count": null,
      "_view_module": "@jupyter-widgets/base",
      "_view_module_version": "1.2.0",
      "_view_name": "StyleView",
      "description_width": ""
     }
    },
    "d3278bfc8503432b8d16c9ad47963ee5": {
     "model_module": "@jupyter-widgets/controls",
     "model_module_version": "1.5.0",
     "model_name": "HBoxModel",
     "state": {
      "_dom_classes": [],
      "_model_module": "@jupyter-widgets/controls",
      "_model_module_version": "1.5.0",
      "_model_name": "HBoxModel",
      "_view_count": null,
      "_view_module": "@jupyter-widgets/controls",
      "_view_module_version": "1.5.0",
      "_view_name": "HBoxView",
      "box_style": "",
      "children": [
       "IPY_MODEL_bac9acbddead48e1b90aded2f686c5d7",
       "IPY_MODEL_4b7f1dcce7c14f758c8b33e196214a88",
       "IPY_MODEL_4d695e2724324b5fa4af39345b38226c"
      ],
      "layout": "IPY_MODEL_baa6984bd26244ce849d203aa0d2dc30"
     }
    },
    "d37c1933e8a24a11ae9a2b3180e53309": {
     "model_module": "@jupyter-widgets/base",
     "model_module_version": "1.2.0",
     "model_name": "LayoutModel",
     "state": {
      "_model_module": "@jupyter-widgets/base",
      "_model_module_version": "1.2.0",
      "_model_name": "LayoutModel",
      "_view_count": null,
      "_view_module": "@jupyter-widgets/base",
      "_view_module_version": "1.2.0",
      "_view_name": "LayoutView",
      "align_content": null,
      "align_items": null,
      "align_self": null,
      "border": null,
      "bottom": null,
      "display": null,
      "flex": null,
      "flex_flow": null,
      "grid_area": null,
      "grid_auto_columns": null,
      "grid_auto_flow": null,
      "grid_auto_rows": null,
      "grid_column": null,
      "grid_gap": null,
      "grid_row": null,
      "grid_template_areas": null,
      "grid_template_columns": null,
      "grid_template_rows": null,
      "height": null,
      "justify_content": null,
      "justify_items": null,
      "left": null,
      "margin": null,
      "max_height": null,
      "max_width": null,
      "min_height": null,
      "min_width": null,
      "object_fit": null,
      "object_position": null,
      "order": null,
      "overflow": null,
      "overflow_x": null,
      "overflow_y": null,
      "padding": null,
      "right": null,
      "top": null,
      "visibility": null,
      "width": null
     }
    },
    "d439ae84c3cd41f0b89eaa7c32ba310e": {
     "model_module": "@jupyter-widgets/controls",
     "model_module_version": "1.5.0",
     "model_name": "ProgressStyleModel",
     "state": {
      "_model_module": "@jupyter-widgets/controls",
      "_model_module_version": "1.5.0",
      "_model_name": "ProgressStyleModel",
      "_view_count": null,
      "_view_module": "@jupyter-widgets/base",
      "_view_module_version": "1.2.0",
      "_view_name": "StyleView",
      "bar_color": null,
      "description_width": ""
     }
    },
    "d7765befe0af40e9bb810f5896f4b52a": {
     "model_module": "@jupyter-widgets/base",
     "model_module_version": "1.2.0",
     "model_name": "LayoutModel",
     "state": {
      "_model_module": "@jupyter-widgets/base",
      "_model_module_version": "1.2.0",
      "_model_name": "LayoutModel",
      "_view_count": null,
      "_view_module": "@jupyter-widgets/base",
      "_view_module_version": "1.2.0",
      "_view_name": "LayoutView",
      "align_content": null,
      "align_items": null,
      "align_self": null,
      "border": null,
      "bottom": null,
      "display": null,
      "flex": null,
      "flex_flow": null,
      "grid_area": null,
      "grid_auto_columns": null,
      "grid_auto_flow": null,
      "grid_auto_rows": null,
      "grid_column": null,
      "grid_gap": null,
      "grid_row": null,
      "grid_template_areas": null,
      "grid_template_columns": null,
      "grid_template_rows": null,
      "height": null,
      "justify_content": null,
      "justify_items": null,
      "left": null,
      "margin": null,
      "max_height": null,
      "max_width": null,
      "min_height": null,
      "min_width": null,
      "object_fit": null,
      "object_position": null,
      "order": null,
      "overflow": null,
      "overflow_x": null,
      "overflow_y": null,
      "padding": null,
      "right": null,
      "top": null,
      "visibility": null,
      "width": null
     }
    },
    "d9b66e1b93fb4664beeadcf100a43232": {
     "model_module": "@jupyter-widgets/controls",
     "model_module_version": "1.5.0",
     "model_name": "DescriptionStyleModel",
     "state": {
      "_model_module": "@jupyter-widgets/controls",
      "_model_module_version": "1.5.0",
      "_model_name": "DescriptionStyleModel",
      "_view_count": null,
      "_view_module": "@jupyter-widgets/base",
      "_view_module_version": "1.2.0",
      "_view_name": "StyleView",
      "description_width": ""
     }
    },
    "daaf30a442cb4fb48db9a082a40c6376": {
     "model_module": "@jupyter-widgets/controls",
     "model_module_version": "1.5.0",
     "model_name": "HTMLModel",
     "state": {
      "_dom_classes": [],
      "_model_module": "@jupyter-widgets/controls",
      "_model_module_version": "1.5.0",
      "_model_name": "HTMLModel",
      "_view_count": null,
      "_view_module": "@jupyter-widgets/controls",
      "_view_module_version": "1.5.0",
      "_view_name": "HTMLView",
      "description": "",
      "description_tooltip": null,
      "layout": "IPY_MODEL_2afeeaed1b344835bc0cd7a3f16add8e",
      "placeholder": "​",
      "style": "IPY_MODEL_ccd1e7c8a24f4a5e90875d85ca2cf6a3",
      "value": " 17.3k/17.3k [00:00&lt;00:00, 883kB/s]"
     }
    },
    "dcfa2ee4056a47a38a4bb14deafe7366": {
     "model_module": "@jupyter-widgets/base",
     "model_module_version": "1.2.0",
     "model_name": "LayoutModel",
     "state": {
      "_model_module": "@jupyter-widgets/base",
      "_model_module_version": "1.2.0",
      "_model_name": "LayoutModel",
      "_view_count": null,
      "_view_module": "@jupyter-widgets/base",
      "_view_module_version": "1.2.0",
      "_view_name": "LayoutView",
      "align_content": null,
      "align_items": null,
      "align_self": null,
      "border": null,
      "bottom": null,
      "display": null,
      "flex": null,
      "flex_flow": null,
      "grid_area": null,
      "grid_auto_columns": null,
      "grid_auto_flow": null,
      "grid_auto_rows": null,
      "grid_column": null,
      "grid_gap": null,
      "grid_row": null,
      "grid_template_areas": null,
      "grid_template_columns": null,
      "grid_template_rows": null,
      "height": null,
      "justify_content": null,
      "justify_items": null,
      "left": null,
      "margin": null,
      "max_height": null,
      "max_width": null,
      "min_height": null,
      "min_width": null,
      "object_fit": null,
      "object_position": null,
      "order": null,
      "overflow": null,
      "overflow_x": null,
      "overflow_y": null,
      "padding": null,
      "right": null,
      "top": null,
      "visibility": null,
      "width": null
     }
    },
    "dcfbc459a1d6415bb9cb71cf6d65a51f": {
     "model_module": "@jupyter-widgets/base",
     "model_module_version": "1.2.0",
     "model_name": "LayoutModel",
     "state": {
      "_model_module": "@jupyter-widgets/base",
      "_model_module_version": "1.2.0",
      "_model_name": "LayoutModel",
      "_view_count": null,
      "_view_module": "@jupyter-widgets/base",
      "_view_module_version": "1.2.0",
      "_view_name": "LayoutView",
      "align_content": null,
      "align_items": null,
      "align_self": null,
      "border": null,
      "bottom": null,
      "display": null,
      "flex": null,
      "flex_flow": null,
      "grid_area": null,
      "grid_auto_columns": null,
      "grid_auto_flow": null,
      "grid_auto_rows": null,
      "grid_column": null,
      "grid_gap": null,
      "grid_row": null,
      "grid_template_areas": null,
      "grid_template_columns": null,
      "grid_template_rows": null,
      "height": null,
      "justify_content": null,
      "justify_items": null,
      "left": null,
      "margin": null,
      "max_height": null,
      "max_width": null,
      "min_height": null,
      "min_width": null,
      "object_fit": null,
      "object_position": null,
      "order": null,
      "overflow": null,
      "overflow_x": null,
      "overflow_y": null,
      "padding": null,
      "right": null,
      "top": null,
      "visibility": null,
      "width": null
     }
    },
    "de326e62dcee451ebafdef0a888f9974": {
     "model_module": "@jupyter-widgets/controls",
     "model_module_version": "1.5.0",
     "model_name": "FloatProgressModel",
     "state": {
      "_dom_classes": [],
      "_model_module": "@jupyter-widgets/controls",
      "_model_module_version": "1.5.0",
      "_model_name": "FloatProgressModel",
      "_view_count": null,
      "_view_module": "@jupyter-widgets/controls",
      "_view_module_version": "1.5.0",
      "_view_name": "ProgressView",
      "bar_style": "success",
      "description": "",
      "description_tooltip": null,
      "layout": "IPY_MODEL_d7765befe0af40e9bb810f5896f4b52a",
      "max": 212420087,
      "min": 0,
      "orientation": "horizontal",
      "style": "IPY_MODEL_8d0a5753b71243c59f4741043f98b857",
      "value": 212420087
     }
    },
    "df2df25b22aa434ebaa769dce4162ca8": {
     "model_module": "@jupyter-widgets/controls",
     "model_module_version": "1.5.0",
     "model_name": "FloatProgressModel",
     "state": {
      "_dom_classes": [],
      "_model_module": "@jupyter-widgets/controls",
      "_model_module_version": "1.5.0",
      "_model_name": "FloatProgressModel",
      "_view_count": null,
      "_view_module": "@jupyter-widgets/controls",
      "_view_module_version": "1.5.0",
      "_view_name": "ProgressView",
      "bar_style": "success",
      "description": "",
      "description_tooltip": null,
      "layout": "IPY_MODEL_96b01ae3bf274b3e84cda3f94dd564fb",
      "max": 128619,
      "min": 0,
      "orientation": "horizontal",
      "style": "IPY_MODEL_747b0366a0284c4188d441e934021fa8",
      "value": 128619
     }
    },
    "e2cf26fb7f29467daef310993935888f": {
     "model_module": "@jupyter-widgets/controls",
     "model_module_version": "1.5.0",
     "model_name": "DescriptionStyleModel",
     "state": {
      "_model_module": "@jupyter-widgets/controls",
      "_model_module_version": "1.5.0",
      "_model_name": "DescriptionStyleModel",
      "_view_count": null,
      "_view_module": "@jupyter-widgets/base",
      "_view_module_version": "1.2.0",
      "_view_name": "StyleView",
      "description_width": ""
     }
    },
    "e600eb9e6fb74c35b3015ac6d56b5b90": {
     "model_module": "@jupyter-widgets/controls",
     "model_module_version": "1.5.0",
     "model_name": "HTMLModel",
     "state": {
      "_dom_classes": [],
      "_model_module": "@jupyter-widgets/controls",
      "_model_module_version": "1.5.0",
      "_model_name": "HTMLModel",
      "_view_count": null,
      "_view_module": "@jupyter-widgets/controls",
      "_view_module_version": "1.5.0",
      "_view_name": "HTMLView",
      "description": "",
      "description_tooltip": null,
      "layout": "IPY_MODEL_0d4c194f09524aac95e602a14d9a485d",
      "placeholder": "​",
      "style": "IPY_MODEL_1d4f4e45172e432a9a6a9e2545b87e6b",
      "value": " 17.2k/17.2k [00:00&lt;00:00, 1.10MB/s]"
     }
    },
    "e625e51535634cb88f89f93c1b95a5b8": {
     "model_module": "@jupyter-widgets/controls",
     "model_module_version": "1.5.0",
     "model_name": "HBoxModel",
     "state": {
      "_dom_classes": [],
      "_model_module": "@jupyter-widgets/controls",
      "_model_module_version": "1.5.0",
      "_model_name": "HBoxModel",
      "_view_count": null,
      "_view_module": "@jupyter-widgets/controls",
      "_view_module_version": "1.5.0",
      "_view_name": "HBoxView",
      "box_style": "",
      "children": [
       "IPY_MODEL_b7ff251217dc4a31abd29db0d8ddb8ee",
       "IPY_MODEL_6e88d9cddfae4c0585a030628f415163",
       "IPY_MODEL_5a4bb7e698db43ab98cf5e3cad123eff"
      ],
      "layout": "IPY_MODEL_d37c1933e8a24a11ae9a2b3180e53309"
     }
    },
    "e94b2fcd8c8d495ea7ebd6beeab5dad0": {
     "model_module": "@jupyter-widgets/base",
     "model_module_version": "1.2.0",
     "model_name": "LayoutModel",
     "state": {
      "_model_module": "@jupyter-widgets/base",
      "_model_module_version": "1.2.0",
      "_model_name": "LayoutModel",
      "_view_count": null,
      "_view_module": "@jupyter-widgets/base",
      "_view_module_version": "1.2.0",
      "_view_name": "LayoutView",
      "align_content": null,
      "align_items": null,
      "align_self": null,
      "border": null,
      "bottom": null,
      "display": null,
      "flex": null,
      "flex_flow": null,
      "grid_area": null,
      "grid_auto_columns": null,
      "grid_auto_flow": null,
      "grid_auto_rows": null,
      "grid_column": null,
      "grid_gap": null,
      "grid_row": null,
      "grid_template_areas": null,
      "grid_template_columns": null,
      "grid_template_rows": null,
      "height": null,
      "justify_content": null,
      "justify_items": null,
      "left": null,
      "margin": null,
      "max_height": null,
      "max_width": null,
      "min_height": null,
      "min_width": null,
      "object_fit": null,
      "object_position": null,
      "order": null,
      "overflow": null,
      "overflow_x": null,
      "overflow_y": null,
      "padding": null,
      "right": null,
      "top": null,
      "visibility": null,
      "width": null
     }
    },
    "ea33a83bcbbc4ba5a983712f1d197e17": {
     "model_module": "@jupyter-widgets/base",
     "model_module_version": "1.2.0",
     "model_name": "LayoutModel",
     "state": {
      "_model_module": "@jupyter-widgets/base",
      "_model_module_version": "1.2.0",
      "_model_name": "LayoutModel",
      "_view_count": null,
      "_view_module": "@jupyter-widgets/base",
      "_view_module_version": "1.2.0",
      "_view_name": "LayoutView",
      "align_content": null,
      "align_items": null,
      "align_self": null,
      "border": null,
      "bottom": null,
      "display": null,
      "flex": null,
      "flex_flow": null,
      "grid_area": null,
      "grid_auto_columns": null,
      "grid_auto_flow": null,
      "grid_auto_rows": null,
      "grid_column": null,
      "grid_gap": null,
      "grid_row": null,
      "grid_template_areas": null,
      "grid_template_columns": null,
      "grid_template_rows": null,
      "height": null,
      "justify_content": null,
      "justify_items": null,
      "left": null,
      "margin": null,
      "max_height": null,
      "max_width": null,
      "min_height": null,
      "min_width": null,
      "object_fit": null,
      "object_position": null,
      "order": null,
      "overflow": null,
      "overflow_x": null,
      "overflow_y": null,
      "padding": null,
      "right": null,
      "top": null,
      "visibility": null,
      "width": null
     }
    },
    "eb2aa07593d44cbcae05ace5ace724a8": {
     "model_module": "@jupyter-widgets/base",
     "model_module_version": "1.2.0",
     "model_name": "LayoutModel",
     "state": {
      "_model_module": "@jupyter-widgets/base",
      "_model_module_version": "1.2.0",
      "_model_name": "LayoutModel",
      "_view_count": null,
      "_view_module": "@jupyter-widgets/base",
      "_view_module_version": "1.2.0",
      "_view_name": "LayoutView",
      "align_content": null,
      "align_items": null,
      "align_self": null,
      "border": null,
      "bottom": null,
      "display": null,
      "flex": null,
      "flex_flow": null,
      "grid_area": null,
      "grid_auto_columns": null,
      "grid_auto_flow": null,
      "grid_auto_rows": null,
      "grid_column": null,
      "grid_gap": null,
      "grid_row": null,
      "grid_template_areas": null,
      "grid_template_columns": null,
      "grid_template_rows": null,
      "height": null,
      "justify_content": null,
      "justify_items": null,
      "left": null,
      "margin": null,
      "max_height": null,
      "max_width": null,
      "min_height": null,
      "min_width": null,
      "object_fit": null,
      "object_position": null,
      "order": null,
      "overflow": null,
      "overflow_x": null,
      "overflow_y": null,
      "padding": null,
      "right": null,
      "top": null,
      "visibility": null,
      "width": null
     }
    },
    "ece9d78d617444f2a31fc912237d25cb": {
     "model_module": "@jupyter-widgets/base",
     "model_module_version": "1.2.0",
     "model_name": "LayoutModel",
     "state": {
      "_model_module": "@jupyter-widgets/base",
      "_model_module_version": "1.2.0",
      "_model_name": "LayoutModel",
      "_view_count": null,
      "_view_module": "@jupyter-widgets/base",
      "_view_module_version": "1.2.0",
      "_view_name": "LayoutView",
      "align_content": null,
      "align_items": null,
      "align_self": null,
      "border": null,
      "bottom": null,
      "display": null,
      "flex": null,
      "flex_flow": null,
      "grid_area": null,
      "grid_auto_columns": null,
      "grid_auto_flow": null,
      "grid_auto_rows": null,
      "grid_column": null,
      "grid_gap": null,
      "grid_row": null,
      "grid_template_areas": null,
      "grid_template_columns": null,
      "grid_template_rows": null,
      "height": null,
      "justify_content": null,
      "justify_items": null,
      "left": null,
      "margin": null,
      "max_height": null,
      "max_width": null,
      "min_height": null,
      "min_width": null,
      "object_fit": null,
      "object_position": null,
      "order": null,
      "overflow": null,
      "overflow_x": null,
      "overflow_y": null,
      "padding": null,
      "right": null,
      "top": null,
      "visibility": null,
      "width": null
     }
    },
    "edb3172c98ff4ad8a27f35d1a7835906": {
     "model_module": "@jupyter-widgets/controls",
     "model_module_version": "1.5.0",
     "model_name": "FloatProgressModel",
     "state": {
      "_dom_classes": [],
      "_model_module": "@jupyter-widgets/controls",
      "_model_module_version": "1.5.0",
      "_model_name": "FloatProgressModel",
      "_view_count": null,
      "_view_module": "@jupyter-widgets/controls",
      "_view_module_version": "1.5.0",
      "_view_name": "ProgressView",
      "bar_style": "success",
      "description": "",
      "description_tooltip": null,
      "layout": "IPY_MODEL_241bb75e8c0141ec8c00ef562d0feb5f",
      "max": 83316686,
      "min": 0,
      "orientation": "horizontal",
      "style": "IPY_MODEL_98ea97d41a6c4565a238d184ac9bd09a",
      "value": 83316686
     }
    },
    "ee1bf41d42a54f9a92d76f5394626e97": {
     "model_module": "@jupyter-widgets/controls",
     "model_module_version": "1.5.0",
     "model_name": "FloatProgressModel",
     "state": {
      "_dom_classes": [],
      "_model_module": "@jupyter-widgets/controls",
      "_model_module_version": "1.5.0",
      "_model_name": "FloatProgressModel",
      "_view_count": null,
      "_view_module": "@jupyter-widgets/controls",
      "_view_module_version": "1.5.0",
      "_view_name": "ProgressView",
      "bar_style": "success",
      "description": "",
      "description_tooltip": null,
      "layout": "IPY_MODEL_7cfb724f62f14f889a3d3a69a9e7acd8",
      "max": 4832,
      "min": 0,
      "orientation": "horizontal",
      "style": "IPY_MODEL_2e8935dded774cb9bcd87167992c5558",
      "value": 4832
     }
    },
    "f0673eaf978145e780399c5d003abb33": {
     "model_module": "@jupyter-widgets/base",
     "model_module_version": "1.2.0",
     "model_name": "LayoutModel",
     "state": {
      "_model_module": "@jupyter-widgets/base",
      "_model_module_version": "1.2.0",
      "_model_name": "LayoutModel",
      "_view_count": null,
      "_view_module": "@jupyter-widgets/base",
      "_view_module_version": "1.2.0",
      "_view_name": "LayoutView",
      "align_content": null,
      "align_items": null,
      "align_self": null,
      "border": null,
      "bottom": null,
      "display": null,
      "flex": null,
      "flex_flow": null,
      "grid_area": null,
      "grid_auto_columns": null,
      "grid_auto_flow": null,
      "grid_auto_rows": null,
      "grid_column": null,
      "grid_gap": null,
      "grid_row": null,
      "grid_template_areas": null,
      "grid_template_columns": null,
      "grid_template_rows": null,
      "height": null,
      "justify_content": null,
      "justify_items": null,
      "left": null,
      "margin": null,
      "max_height": null,
      "max_width": null,
      "min_height": null,
      "min_width": null,
      "object_fit": null,
      "object_position": null,
      "order": null,
      "overflow": null,
      "overflow_x": null,
      "overflow_y": null,
      "padding": null,
      "right": null,
      "top": null,
      "visibility": null,
      "width": null
     }
    },
    "f2660154764f4be4ba404d1e6e994271": {
     "model_module": "@jupyter-widgets/controls",
     "model_module_version": "1.5.0",
     "model_name": "HTMLModel",
     "state": {
      "_dom_classes": [],
      "_model_module": "@jupyter-widgets/controls",
      "_model_module_version": "1.5.0",
      "_model_name": "HTMLModel",
      "_view_count": null,
      "_view_module": "@jupyter-widgets/controls",
      "_view_module_version": "1.5.0",
      "_view_name": "HTMLView",
      "description": "",
      "description_tooltip": null,
      "layout": "IPY_MODEL_891f3d15f25a4cc2a64f4e7013d48e54",
      "placeholder": "​",
      "style": "IPY_MODEL_9713800931064fd3809f1fd0a2bc2d03",
      "value": "hyperparams.yaml: 100%"
     }
    },
    "f3bc35d9420f44239f719e2f4b37d379": {
     "model_module": "@jupyter-widgets/controls",
     "model_module_version": "1.5.0",
     "model_name": "HTMLModel",
     "state": {
      "_dom_classes": [],
      "_model_module": "@jupyter-widgets/controls",
      "_model_module_version": "1.5.0",
      "_model_name": "HTMLModel",
      "_view_count": null,
      "_view_module": "@jupyter-widgets/controls",
      "_view_module_version": "1.5.0",
      "_view_name": "HTMLView",
      "description": "",
      "description_tooltip": null,
      "layout": "IPY_MODEL_11890cbf63b24f13b0f3e75b7fc68d01",
      "placeholder": "​",
      "style": "IPY_MODEL_24ee8a32861b4a3daa79a35583175dc7",
      "value": "label_encoder.txt: 100%"
     }
    },
    "f52c23a438e2415cb4632ae276299cc4": {
     "model_module": "@jupyter-widgets/controls",
     "model_module_version": "1.5.0",
     "model_name": "HTMLModel",
     "state": {
      "_dom_classes": [],
      "_model_module": "@jupyter-widgets/controls",
      "_model_module_version": "1.5.0",
      "_model_name": "HTMLModel",
      "_view_count": null,
      "_view_module": "@jupyter-widgets/controls",
      "_view_module_version": "1.5.0",
      "_view_name": "HTMLView",
      "description": "",
      "description_tooltip": null,
      "layout": "IPY_MODEL_6b3edbd6a47b4b3982ab30870d853199",
      "placeholder": "​",
      "style": "IPY_MODEL_8c9d3cdb6d9248129db49203fb4df0ec",
      "value": "masknet.ckpt: 100%"
     }
    },
    "f6739e26b4de4cb8b3d9e3f62876325f": {
     "model_module": "@jupyter-widgets/controls",
     "model_module_version": "1.5.0",
     "model_name": "HBoxModel",
     "state": {
      "_dom_classes": [],
      "_model_module": "@jupyter-widgets/controls",
      "_model_module_version": "1.5.0",
      "_model_name": "HBoxModel",
      "_view_count": null,
      "_view_module": "@jupyter-widgets/controls",
      "_view_module_version": "1.5.0",
      "_view_name": "HBoxView",
      "box_style": "",
      "children": [
       "IPY_MODEL_f52c23a438e2415cb4632ae276299cc4",
       "IPY_MODEL_94ac439a7b2344acb89dd968f4832d24",
       "IPY_MODEL_16c602c5ca4b42d5a22e97249dbc8316"
      ],
      "layout": "IPY_MODEL_ea33a83bcbbc4ba5a983712f1d197e17"
     }
    },
    "f81b74f0764a440392633978639dc9a8": {
     "model_module": "@jupyter-widgets/base",
     "model_module_version": "1.2.0",
     "model_name": "LayoutModel",
     "state": {
      "_model_module": "@jupyter-widgets/base",
      "_model_module_version": "1.2.0",
      "_model_name": "LayoutModel",
      "_view_count": null,
      "_view_module": "@jupyter-widgets/base",
      "_view_module_version": "1.2.0",
      "_view_name": "LayoutView",
      "align_content": null,
      "align_items": null,
      "align_self": null,
      "border": null,
      "bottom": null,
      "display": null,
      "flex": null,
      "flex_flow": null,
      "grid_area": null,
      "grid_auto_columns": null,
      "grid_auto_flow": null,
      "grid_auto_rows": null,
      "grid_column": null,
      "grid_gap": null,
      "grid_row": null,
      "grid_template_areas": null,
      "grid_template_columns": null,
      "grid_template_rows": null,
      "height": null,
      "justify_content": null,
      "justify_items": null,
      "left": null,
      "margin": null,
      "max_height": null,
      "max_width": null,
      "min_height": null,
      "min_width": null,
      "object_fit": null,
      "object_position": null,
      "order": null,
      "overflow": null,
      "overflow_x": null,
      "overflow_y": null,
      "padding": null,
      "right": null,
      "top": null,
      "visibility": null,
      "width": null
     }
    },
    "f92e99fc7682436a85d11ec2f115e206": {
     "model_module": "@jupyter-widgets/controls",
     "model_module_version": "1.5.0",
     "model_name": "DescriptionStyleModel",
     "state": {
      "_model_module": "@jupyter-widgets/controls",
      "_model_module_version": "1.5.0",
      "_model_name": "DescriptionStyleModel",
      "_view_count": null,
      "_view_module": "@jupyter-widgets/base",
      "_view_module_version": "1.2.0",
      "_view_name": "StyleView",
      "description_width": ""
     }
    },
    "fe6ee540077e4fd086ae8975feb97deb": {
     "model_module": "@jupyter-widgets/controls",
     "model_module_version": "1.5.0",
     "model_name": "HTMLModel",
     "state": {
      "_dom_classes": [],
      "_model_module": "@jupyter-widgets/controls",
      "_model_module_version": "1.5.0",
      "_model_name": "HTMLModel",
      "_view_count": null,
      "_view_module": "@jupyter-widgets/controls",
      "_view_module_version": "1.5.0",
      "_view_name": "HTMLView",
      "description": "",
      "description_tooltip": null,
      "layout": "IPY_MODEL_304a1d7486b94d8c83371c54cfda2ca4",
      "placeholder": "​",
      "style": "IPY_MODEL_7a0a2f4b5b1c41c2bd27f1406568ff34",
      "value": " 212M/212M [00:03&lt;00:00, 101MB/s]"
     }
    }
   }
  }
 },
 "nbformat": 4,
 "nbformat_minor": 4
}
