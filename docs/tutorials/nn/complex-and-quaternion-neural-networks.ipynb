{
 "cells": [
  {
   "cell_type": "markdown",
   "metadata": {
    "id": "sb_auto_header",
    "tags": [
     "sb_auto_header"
    ]
   },
   "source": [
    "<!-- This cell is automatically updated by tools/tutorial-cell-updater.py -->\n",
    "<!-- The contents are initialized from tutorials/notebook-header.md -->\n",
    "\n",
    "[<img src=\"https://colab.research.google.com/assets/colab-badge.svg\" alt=\"Open In Colab\"/>](https://colab.research.google.com/github/speechbrain/speechbrain/blob/develop/docs/tutorials/nn/complex-and-quaternion-neural-networks.ipynb)\n",
    "to execute or view/download this notebook on\n",
    "[GitHub](https://github.com/speechbrain/speechbrain/tree/develop/docs/tutorials/nn/complex-and-quaternion-neural-networks.ipynb)"
   ]
  },
  {
   "cell_type": "markdown",
   "metadata": {
    "id": "FRTJCdy-Y6pw"
   },
   "source": [
    "# Complex and Quaternion Neural Networks\n",
    "\n",
    "This tutorial demonstrates how to use the SpeechBrain implementation of complex-valued and quaternion-valued neural networks for speech technologies. It covers the basics of highdimensional representations and the associated neural layers : Linear, Convolution, Recurrent and Normalisation.\n",
    "\n",
    "## Prerequisites\n",
    "- [SpeechBrain Introduction](https://speechbrain.readthedocs.io/en/latest/tutorials/basics/introduction-to-speechbrain.html)\n",
    "- [YAML tutorial](https://speechbrain.readthedocs.io/en/latest/tutorials/basics/hyperpyyaml.html)\n",
    "- [Brain Class tutorial](https://speechbrain.readthedocs.io/en/latest/tutorials/basics/brain-class.html)\n",
    "- [Speech Features tutorial](https://speechbrain.readthedocs.io/en/latest/tutorials/preprocessing/speech-features.html)\n",
    "\n",
    "## Introduction and Background\n",
    "\n",
    "**Complex Numbers:**\n",
    "Complex numbers extend the concept of real numbers into a two-dimensional space. Comprising a real and an imaginary part, a complex number `z` is typically expressed as `z = r + ix`, where `r` is the real part and `ix` is the imaginary part. This mathematical extension finds diverse applications in real-world scenarios, offering a powerful algebraic framework for manipulating concepts in two-dimensional space, such as rotations, translations, and phase-related operations. Complex numbers naturally represent the speech signal, with the Fourier transform being a notable example that operates in the complex space, capturing amplitude and phase information.\n",
    "\n",
    "**Quaternion Numbers:**\n",
    "Quaternions generalize complex numbers to the three-dimensional space, featuring a real (`r`) and an imaginary part, which is a 3D vector (`ix + jy + kz`). A quaternion `q` can be expressed as `q = r + ix + jy + kz`. In practice, quaternions define 3D rotations and find extensive utility in physics, computer science, computer graphics, and robotics. They provide a stable and natural framework for conceiving and interpreting movements in three-dimensional space.\n",
    "\n",
    "### Connection to Neural Networks:\n",
    "\n",
    "As the resurgence of modern deep learning gained momentum, researchers explored the integration of complex and quaternion numbers into neural networks to address specific tasks. Complex-valued neural networks (CVNN) can directly handle the output of the Fast Fourier Transform (FFT), while quaternion neural networks (QNN) can be implemented to generate realistic robot movements.\n",
    "\n",
    "Beyond their natural fit for certain representations, CVNN and QNN share a compelling property: **weight sharing**. The algebraic rules governing complex and quaternion numbers differ from those of real numbers, influencing the multiplication of quaternions or complex numbers. This distinction leads to a unique mechanism of **weight sharing** within Q-CVNN, as opposed to traditional dot products in real-valued networks. This mechanism has proven to be exceptionally useful for learning expressive representations of multidimensional inputs while preserving internal relationships within the signal components, such as amplitude and phase for complex numbers.\n",
    "\n",
    "In this tutorial, we won't delve into all the intricacies of these properties due to their extensive nature. Instead, we aim to provide a detailed guide on how to effectively implement and utilize CVNN and QNN within SpeechBrain.\n",
    "\n",
    "\n",
    "### Relevant bibliography\n",
    "- *Andreescu, T., & Andrica, D. (2006). Complex Numbers from A to... Z (Vol. 165). Boston: Birkhäuser.*\n",
    "- *Altmann, S. L. (1989). Hamilton, Rodrigues, and the quaternion scandal. Mathematics Magazine, 62(5), 291-308.*\n",
    "- **Complex Neural Networks Survey:** *Hirose, A. (2012). Complex-valued neural networks (Vol. 400). Springer Science & Business Media.*\n",
    "- **All about Quaternion Neural Networks:** *Parcollet, T., (2019) Quaternion Neural Networks, PhD Thesis, Avignon Université*\n",
    "\n",
    "## SpeechBrain Representation of Complex and Quaternions\n",
    "\n",
    "In SpeechBrain, algebraic operations are abstracted in the neural layers, freeing users from the need to focus on the initial representation. This abstraction ensures that users can manipulate real-valued tensors without explicitly declaring a specific tensor type for complex or quaternion numbers. The underlying operations are expressed in a tensor/matrix format, facilitating seamless integration with modern GPU architectures.\n",
    "\n",
    "Practically, any PyTorch tensor generated in your recipe can be interpreted as a complex or quaternion-valued tensor, depending on the layer that processes it. For instance:\n",
    "- If processed by a `torch.nn.Linear` layer, the tensor will be real.\n",
    "- If processed by a `nnet.complex_networks.c_linear.CLinear` layer, the tensor will be complex.\n",
    "\n",
    "**How are tensors interpreted and constructed?**\n",
    "\n",
    "Let's illustrate with an example. Suppose we want to consider a tensor containing `3` complex numbers or `3` quaternions. The different parts of the numbers will be concatenated as follows:\n",
    "\n",
    "For a complex tensor (`c_tensor`): `[r, r, r, x, x, x]`\n",
    "\n",
    "For a quaternion tensor (`q_tensor`): `[r, r, r, x, x, x, y, y, y, z, z, z]`\n",
    "\n",
    "This flexibility allows any tensor declared in your code to be viewed as a complex or quaternion tensor when processed by a {C/Q}-Layer in SpeechBrain, as long as the features dimension can be divided by 2 for complex numbers and 4 for quaternion numbers.\n",
    "\n",
    "To explore this further, let's proceed with the installation of SpeechBrain."
   ]
  },
  {
   "cell_type": "code",
   "execution_count": null,
   "metadata": {
    "id": "8pyD-gKql_qF"
   },
   "outputs": [],
   "source": [
    "%%capture\n",
    "# Installing SpeechBrain via pip\n",
    "BRANCH = \"develop\"\n",
    "!python -m pip install git+https://github.com/speechbrain/speechbrain.git@$BRANCH\n",
    "\n",
    "!git clone https://github.com/speechbrain/speechbrain.git"
   ]
  },
  {
   "cell_type": "markdown",
   "metadata": {
    "id": "uDizGKe3mds9"
   },
   "source": [
    "Now, let's try to manipulate some Tensor to better understand the formalism. We start by instantiating a Tensor containing 8 real numbers."
   ]
  },
  {
   "cell_type": "code",
   "execution_count": null,
   "metadata": {
    "id": "AVQsQ3CKm-_d"
   },
   "outputs": [],
   "source": [
    "import torch\n",
    "\n",
    "T = torch.rand((1, 8))\n",
    "print(T)"
   ]
  },
  {
   "cell_type": "markdown",
   "metadata": {
    "id": "P3nGWQH1nKJT"
   },
   "source": [
    "Then, we access the SpeechBrain libary for manipulating complex numbers and we simply display the different parts (real, imaginary)."
   ]
  },
  {
   "cell_type": "code",
   "execution_count": null,
   "metadata": {
    "id": "G72PTJ7bnYMm"
   },
   "outputs": [],
   "source": [
    "from speechbrain.nnet.complex_networks.c_ops import get_real, get_imag\n",
    "\n",
    "print(get_real(T))\n",
    "print(get_imag(T))"
   ]
  },
  {
   "cell_type": "markdown",
   "metadata": {
    "id": "xJdNeYasoN7w"
   },
   "source": [
    "As you can see, the initial Tensor is simply splitted in 2 and the same happens with 4 and quaternions.\n",
    "\n",
    "## Complex and quaternion products\n",
    "\n",
    "At the core of QNN and CVNN is the product. Of course, others specificities exist such as the weight initialisation, specific normalisations, activation functions etc. Nevertheless, the basic product is central to all neural network layers : a weight matrix that multplies the input vector.\n",
    "\n",
    "A very good thing to know is that a complex number can be represented in a real-valued matrix format:\n",
    "\n",
    "\\begin{equation}\n",
    "\\left(\\begin{array}{rr}\n",
    "a & -b \\\\\n",
    "b & a\n",
    "\\end{array}\\right).\n",
    "\\end{equation}\n",
    "\n",
    "The same goes for a quaternion number:\n",
    "\n",
    "\\begin{equation}\n",
    "\\left(\\begin{array}{cccc}\n",
    "a & -b & -c & -d \\\\\n",
    "b & a & -d & c \\\\\n",
    "c & d & a & -b \\\\\n",
    "d & -c & b & a\n",
    "\\end{array}\\right).\n",
    "\\end{equation}\n",
    "\n",
    "And even more interestingly, if we multiply two of these matrices, then we obtain the product corresponding to the considered algebra. For instance, the complex product between two complex number is defined as:\n",
    "\n",
    "\\begin{equation}\n",
    "\\left(\\begin{array}{rr}\n",
    "a & -b \\\\\n",
    "b & a\n",
    "\\end{array}\\right)\\left(\\begin{array}{lr}\n",
    "c & -d \\\\\n",
    "d & c\n",
    "\\end{array}\\right)=\\left(\\begin{array}{cc}\n",
    "a c-b d & -a d-b c \\\\\n",
    "b c+a d & -b d+a c\n",
    "\\end{array}\\right),\n",
    "\\end{equation}\n",
    "\n",
    "which is equivalent to the formal definition:\n",
    "\n",
    "\\begin{equation}\n",
    "(a+\\mathrm{i} b)(c+\\mathrm{i} d)=(a c-b d)+\\mathrm{i}(a d+b c).\n",
    "\\end{equation}\n",
    "\n",
    "**Ok, so how is this implemented in SpeechBrain**?\n",
    "\n",
    "Every single layer that you can call either on the complex or quaternion libraries will follow two steps:\n",
    "1. *init()*: Define the complex / quaternion weights as torch.Parameters and initialise them with the adapted scheme.\n",
    "2. *forward()*: Call the corresponding operation that implements the specific product. For instance, a complex linear layer would call the `complex_linear_op()` from `speechbrain.nnet.complex_networks.c_ops`.\n",
    "\n",
    "In practice, the `speechbrain.nnet.complex_networks.c_ops.complex_linear_op` function simply:\n",
    "1. Takes the weights of the layer and builds the corresponding real-valued matrix.\n",
    "2. Apply a product between the input and this matrix to simulate the complex / quaternion products.\n",
    "\n",
    "Example:\n"
   ]
  },
  {
   "cell_type": "code",
   "execution_count": null,
   "metadata": {
    "id": "ALubUSk47CAT"
   },
   "outputs": [],
   "source": [
    "def complex_linear_op(input, real_weight, imag_weight, bias):\n",
    "    \"\"\"\n",
    "    Applies a complex linear transformation to the incoming data.\n",
    "\n",
    "    Arguments\n",
    "    ---------\n",
    "    input : torch.Tensor\n",
    "        Complex input tensor to be transformed.\n",
    "    real_weight : torch.Parameter\n",
    "        Real part of the quaternion weight matrix of this layer.\n",
    "    imag_weight : torch.Parameter\n",
    "        First imaginary part of the quaternion weight matrix of this layer.\n",
    "    bias : torch.Parameter\n",
    "    \"\"\"\n",
    "\n",
    "    # Here we build the real-valued matrix as defined by the equations!\n",
    "    cat_real = torch.cat([real_weight, -imag_weight], dim=0)\n",
    "    cat_imag = torch.cat([imag_weight, real_weight], dim=0)\n",
    "    cat_complex = torch.cat([cat_real, cat_imag], dim=1)\n",
    "\n",
    "    # If the input is already [batch*time, N]\n",
    "\n",
    "    # We do inputxconstructed_matrix to simulate the product\n",
    "\n",
    "    if input.dim() == 2:\n",
    "        if bias.requires_grad:\n",
    "            return torch.addmm(bias, input, cat_complex)\n",
    "        else:\n",
    "            return torch.mm(input, cat_complex)\n",
    "    else:\n",
    "        output = torch.matmul(input, cat_complex)\n",
    "        if bias.requires_grad:\n",
    "            return output + bias\n",
    "        else:\n",
    "            return output\n",
    "\n",
    "\n",
    "# We create a single complex number\n",
    "complex_input = torch.rand(1, 2)\n",
    "\n",
    "# We create two Tensors (not parameters here because we don't care about storing gradients)\n",
    "# These tensors are the real_parts and imaginary_parts of the weight matrix.\n",
    "# The real part is equivalent [nb_complex_numbers_in // 2, nb_complex_numbers_out // 2]\n",
    "# The imag part is equivalent [nb_complex_numbers_in // 2, nb_complex_numbers_out // 2]\n",
    "# Hence if we define a layer with 1 complex input and 2 complex outputs:\n",
    "r_weight = torch.rand((1, 2))\n",
    "i_weight = torch.rand((1, 2))\n",
    "\n",
    "bias = torch.ones(4)  # because we have 2 (complex) x times 2 = 4 real-values\n",
    "\n",
    "# and we forward propagate!\n",
    "print(complex_linear_op(complex_input, r_weight, i_weight, bias).shape)"
   ]
  },
  {
   "cell_type": "markdown",
   "metadata": {
    "id": "C-eaHzWP8m9R"
   },
   "source": [
    "**It is important to note that the quaternion implementation follows exactly the same approach.**\n",
    "\n",
    "## Complex-valued Neural Networks\n",
    "\n",
    "Once you are familiar with the formalism, you can easily derive any complex-valued neural building blocks given in `speechbrain.nnet.complex_networks`:\n",
    "- 1D and 2D convolutions.\n",
    "- Batch and layer normalisations.\n",
    "- Linear layers.\n",
    "- Recurrent cells (LSTM, LiGRU, RNN).\n",
    "\n",
    "*According to the litterature, most of the complex and quaternion neural networks rely on split activation functions (any real-valued activation function applied over the complex/quaternion valued signal). For now, SpeechBrain follows this approach and does not offer any fully complex or quaternion activation function*."
   ]
  },
  {
   "cell_type": "markdown",
   "metadata": {
    "id": "FL_zMI-C7F5v"
   },
   "source": [
    "### Convolution layers\n",
    "\n",
    "First, let's define a batch of inputs (that could be the output of the FFT for example).\n"
   ]
  },
  {
   "cell_type": "code",
   "execution_count": null,
   "metadata": {
    "id": "0_yW5_jspf-O"
   },
   "outputs": [],
   "source": [
    "from speechbrain.nnet.complex_networks.c_CNN import CConv1d, CConv2d\n",
    "\n",
    "# [batch, time, features]\n",
    "T = torch.rand((8, 10, 32))\n",
    "\n",
    "# We define our layer and we want 12 complex numbers as output.\n",
    "cnn_1d = CConv1d(input_shape=T.shape, out_channels=12, kernel_size=3)\n",
    "\n",
    "out_tensor = cnn_1d(T)\n",
    "print(out_tensor.shape)"
   ]
  },
  {
   "cell_type": "markdown",
   "metadata": {
    "id": "a67ZqJs-qSU3"
   },
   "source": [
    "As we can see, we applied a Complex-Valued 1D convolution over the input Tensor and we obtained an output Tensor whose features dimension is equal to 24. Indeed, we requested 12 `out_channels` which is equivalent to 24 real-values. Remember : **we always work with real numbers, the algebra is abstracted in the layer itself!**\n",
    "\n",
    "The same can be done with 2D convolution.\n"
   ]
  },
  {
   "cell_type": "code",
   "execution_count": null,
   "metadata": {
    "id": "vgJE0QQTqo0J"
   },
   "outputs": [],
   "source": [
    "# [batch, time, fea, Channel]\n",
    "T = torch.rand([10, 16, 30, 30])\n",
    "\n",
    "cnn_2d = CConv2d(input_shape=T.shape, out_channels=12, kernel_size=3)\n",
    "\n",
    "out_tensor = cnn_2d(T)\n",
    "print(out_tensor.shape)"
   ]
  },
  {
   "cell_type": "markdown",
   "metadata": {
    "id": "Z65CK8DNraT-"
   },
   "source": [
    "Please note that the 2D convolution is applied over the time and fea axis. The channel axis is used to be considered as the real and imaginary parts: `[10, 16, 30, 0:15] = real` and `[10, 16, 30, 15:30] = imag`."
   ]
  },
  {
   "cell_type": "markdown",
   "metadata": {
    "id": "15YS16o59JT6"
   },
   "source": [
    "### Linear layer\n",
    "\n",
    "In the same manner as for convolution layers, we just need to instantiate the right module and use it!"
   ]
  },
  {
   "cell_type": "code",
   "execution_count": null,
   "metadata": {
    "id": "_zpY9fHj99I2"
   },
   "outputs": [],
   "source": [
    "from speechbrain.nnet.complex_networks.c_linear import CLinear\n",
    "\n",
    "# [batch, time, features]\n",
    "T = torch.rand((8, 10, 32))\n",
    "\n",
    "# We define our layer and we want 12 complex numbers as output.\n",
    "lin = CLinear(12, input_shape=T.shape, init_criterion=\"glorot\", weight_init=\"complex\")\n",
    "\n",
    "out_tensor = lin(T)\n",
    "print(out_tensor.shape)"
   ]
  },
  {
   "cell_type": "markdown",
   "metadata": {
    "id": "bnE2n50p9_P4"
   },
   "source": [
    "Please notice that we added the `init_criterion` and `weight_init` arguments. These two parameters that exist in **ALL** the complex and quaternion layers define how the weights are initialised. Indeed, complex and quaternion-valued weights need a carefull initialisation process as detailled in *Deep Complex Networks* by Chiheb Trabelsy et al. and `Quaternion Recurrent Neural Networks` from Titouan Parcollet et al."
   ]
  },
  {
   "cell_type": "markdown",
   "metadata": {
    "id": "MrGfOb4n-tsh"
   },
   "source": [
    "### Normalization layers\n",
    "\n",
    "One do not normalise a set of complex numbers (e.g the output of a complex-valued layers) in the same manner as a set of real-valued numbers. Due to the complexity of the task, this tutorial won't go into the details. Please note that the code is fully available in the corresponding SpeechBrain library and that it strictly follows the description first made in the paper *Deep Complex Networks* by Chiheb Trabelsy et al.\n",
    "\n",
    "SpeechBrain supports both complex batch and layer normalisations:\n"
   ]
  },
  {
   "cell_type": "code",
   "execution_count": null,
   "metadata": {
    "id": "SCe-dYJc_VH0"
   },
   "outputs": [],
   "source": [
    "from speechbrain.nnet.complex_networks.c_normalization import CBatchNorm, CLayerNorm\n",
    "\n",
    "inp_tensor = torch.rand([10, 16, 30])\n",
    "\n",
    "# Not that by default the complex axis is the last one, but it can be specified.\n",
    "CBN = CBatchNorm(input_shape=inp_tensor.shape)\n",
    "CLN = CLayerNorm(input_shape=inp_tensor.shape)\n",
    "\n",
    "out_bn_tensor = CBN(inp_tensor)\n",
    "out_ln_tensor = CLN(inp_tensor)"
   ]
  },
  {
   "cell_type": "markdown",
   "metadata": {
    "id": "kmx2EsrtAC8E"
   },
   "source": [
    "### Recurrent Neural Networks\n",
    "\n",
    "Recurrent neural cells are nothing more than multiple linear layers with a time connection. Hence, SpeechBrain provides an implementation for the complex variation of LSTM, RNN and LiGRU. As a matter of fact, these models are strictly equivalent to the real-valued ones, except that Linear layers are replaced with CLinear layers!"
   ]
  },
  {
   "cell_type": "code",
   "execution_count": null,
   "metadata": {
    "id": "bxC24HR3AeGO"
   },
   "outputs": [],
   "source": [
    "from speechbrain.nnet.complex_networks.c_RNN import CLiGRU, CLSTM, CRNN\n",
    "\n",
    "inp_tensor = torch.rand([10, 16, 40])\n",
    "\n",
    "lstm = CLSTM(\n",
    "    hidden_size=12,\n",
    "    input_shape=inp_tensor.shape,\n",
    "    weight_init=\"complex\",\n",
    "    bidirectional=True,\n",
    ")\n",
    "rnn = CRNN(\n",
    "    hidden_size=12,\n",
    "    input_shape=inp_tensor.shape,\n",
    "    weight_init=\"complex\",\n",
    "    bidirectional=True,\n",
    ")\n",
    "ligru = CLiGRU(\n",
    "    hidden_size=12,\n",
    "    input_shape=inp_tensor.shape,\n",
    "    weight_init=\"complex\",\n",
    "    bidirectional=True,\n",
    ")\n",
    "\n",
    "print(lstm(inp_tensor).shape)\n",
    "print(rnn(inp_tensor).shape)\n",
    "print(ligru(inp_tensor).shape)"
   ]
  },
  {
   "cell_type": "markdown",
   "metadata": {
    "id": "bot3cQpGBSbw"
   },
   "source": [
    "Note that the output dimension is 48 as we have 12 complex numbers (24 values) times 2 directions (bidirectional RNNs).\n",
    "\n",
    "## Quaternion Neural Networks\n",
    "\n",
    "Luckily, QNN within SpeechBrain follow exactly the same formalism. Therefore, you can easily derive any quaternion-valued neural networks from the building blocks given in `speechbrain.nnet.quaternion_networks`:\n",
    "- 1D and 2D convolutions.\n",
    "- Batch and layer normalisations.\n",
    "- Linear and Spinor layers.\n",
    "- Recurrent cells (LSTM, LiGRU, RNN).\n",
    "\n",
    "*According to the litterature, most of the complex and quaternion neural networks rely on split activation functions (any real-valued activation function applied over the complex/quaternion valued signal). For now, SpeechBrain follows this approach and does not offer any fully complex or quaternion activation function*.\n",
    "\n",
    "Everything we just saw with complex neural networks still hold. Hence we can summarize everything in a single code snippet:"
   ]
  },
  {
   "cell_type": "code",
   "execution_count": null,
   "metadata": {
    "id": "Ovxi7PdaCf5r"
   },
   "outputs": [],
   "source": [
    "from speechbrain.nnet.quaternion_networks.q_CNN import QConv1d, QConv2d\n",
    "from speechbrain.nnet.quaternion_networks.q_linear import QLinear\n",
    "from speechbrain.nnet.quaternion_networks.q_RNN import QLiGRU, QLSTM, QRNN\n",
    "\n",
    "# [batch, time, features]\n",
    "T = torch.rand((8, 10, 40))\n",
    "\n",
    "# [batch, time, fea, Channel]\n",
    "T_4d = torch.rand([10, 16, 30, 40])\n",
    "\n",
    "# We define our layers and we want 12 quaternion numbers as output (12x4 = 48 output real-values).\n",
    "cnn_1d = QConv1d(input_shape=T.shape, out_channels=12, kernel_size=3)\n",
    "cnn_2d = QConv2d(input_shape=T_4d.shape, out_channels=12, kernel_size=3)\n",
    "\n",
    "lin = QLinear(\n",
    "    12, input_shape=T.shape, init_criterion=\"glorot\", weight_init=\"quaternion\"\n",
    ")\n",
    "\n",
    "lstm = QLSTM(\n",
    "    hidden_size=12, input_shape=T.shape, weight_init=\"quaternion\", bidirectional=True\n",
    ")\n",
    "rnn = QRNN(\n",
    "    hidden_size=12, input_shape=T.shape, weight_init=\"quaternion\", bidirectional=True\n",
    ")\n",
    "ligru = QLiGRU(\n",
    "    hidden_size=12, input_shape=T.shape, weight_init=\"quaternion\", bidirectional=True\n",
    ")\n",
    "\n",
    "print(cnn_1d(T).shape)\n",
    "print(cnn_2d(T_4d).shape)\n",
    "print(lin(T).shape)\n",
    "print(lstm(T)[0].shape)  # RNNs return output + hidden so we need to filter !\n",
    "print(ligru(T)[0].shape)  # RNNs return output + hidden so we need to filter !\n",
    "print(rnn(T)[0].shape)  # RNNs return output + hidden so we need to filter !"
   ]
  },
  {
   "cell_type": "markdown",
   "metadata": {
    "id": "Q75NZOMhEFv2"
   },
   "source": [
    "### Quaternion Spinor Neural Networks\n",
    "\n",
    "**Introduction:**\n",
    "Quaternion Spinor Neural Networks (SNN) represent a specialized category within quaternion-valued neural networks (QNN). As mentioned earlier, quaternions are designed to represent rotations. In QNN layers, the fundamental operation involves the Hamilton product (`inputs x weights`), where inputs and weights are sets of quaternions. This product essentially creates a new rotation equivalent to the composition of the first rotation followed by the second.\n",
    "\n",
    "**Rotation Composition:**\n",
    "Multiplying two quaternions results in a rotation that combines the individual rotations represented by each quaternion. For instance, given `q3 = q1 x q2`, it implies that *q3 is a rotation equivalent to a rotation by q1 followed by a rotation from q2*. In the context of Spinor Neural Networks, this concept is employed to compose new rotations, not to physically rotate objects, but to predict sequential rotations. For example, predicting the next movement of a robot involves using the previous movement (represented as a quaternion) as input to produce a new quaternion as the output, capturing the expected next movement.\n",
    "\n",
    "**Modeling Rotations with SNN:**\n",
    "Spinor Neural Networks (SNN) are specifically designed to model rotations. In scenarios like robotic movements, SNNs take 3D coordinates (x, y, z) of the object before the movement as input and predict its coordinates after the movement as the output.\n",
    "\n",
    "**Formal Rotation Equation:**\n",
    "To achieve this, the standard product in all layers of the network is replaced with the following equation:\n",
    "\n",
    "\\begin{equation}\n",
    "\\vec{v_{output}} = q_{weight} \\vec{v_{input}} q^{-1}_{weight}.\n",
    "\\end{equation}\n",
    "\n",
    "This equation formally defines the rotation of a vector $\\vec{v}$ by a unit quaternion $q_{weight}$ (with a norm of 1), where $q^{-1}$ represents the conjugate of the quaternion. Both left and right products in this equation are Hamilton products.\n",
    "\n",
    "In summary, Quaternion Spinor Neural Networks are tailored to model rotations, making them particularly suitable for applications where predicting sequential rotations or movements is crucial, such as in robotics or animation.\n",
    "\n",
    "\n",
    "**Ok, so how is this implemented in SpeechBrain?**\n",
    "\n",
    "In the exact same manner than for the standard Hamilton product! Indeed, such rotation can also be represented as a matrix product:\n",
    "\n",
    "\\begin{equation}\n",
    "\\left(\\begin{array}{ccc}\n",
    "a^{2}+b^{2}-c^{2}-d^{2} & 2 b c-2 a d & 2 a c+2 b d \\\\\n",
    "2 a d+2 b c & a^{2}-b^{2}+c^{2}-d^{2} & 2 c d-2 a b \\\\\n",
    "2 b d-2 a c & 2 a b+2 c d & a^{2}-b^{2}-c^{2}+d^{2}\n",
    "\\end{array}\\right).\n",
    "\\end{equation}\n",
    "\n",
    "Hence, we just need to define the `quaternion_op` that follows the same usual process:\n",
    "1. Compose a real-valued matrix from the different weight components\n",
    "2. Apply a matrix product between the input and this rotation matrix!\n",
    "\n",
    "[Check the code!](https://speechbrain.readthedocs.io/en/latest/API/speechbrain.nnet.quaternion_networks.q_ops.html#speechbrain.nnet.quaternion_networks.q_ops.quaternion_linear_rotation_op)\n",
    "\n",
    "### Turning a quaternion layer into a spinor layer\n",
    "\n",
    "Spinor layer can be activated with a boolean parameter in all quaternion layers.\n",
    "Here are a couple of examples:\n",
    "\n"
   ]
  },
  {
   "cell_type": "code",
   "execution_count": null,
   "metadata": {
    "id": "oioMgs8eIe3K"
   },
   "outputs": [],
   "source": [
    "from speechbrain.nnet.quaternion_networks.q_CNN import QConv1d\n",
    "from speechbrain.nnet.quaternion_networks.q_linear import QLinear\n",
    "\n",
    "# [batch, time, features]\n",
    "T = torch.rand((8, 80, 16))\n",
    "\n",
    "#\n",
    "# NOTE: in this case the real components must be zero as spinor neural networks\n",
    "# only input and output 3D vectors ! We don't do it here for the sake of compactness\n",
    "#\n",
    "\n",
    "# We define our layers and we want 12 quaternion numbers as output (12x4 = 48 output real-values).\n",
    "cnn_1d = QConv1d(\n",
    "    input_shape=T.shape, out_channels=12, kernel_size=3, spinor=True, vector_scale=True\n",
    ")\n",
    "lin = QLinear(12, input_shape=T.shape, spinor=True, vector_scale=True)\n",
    "\n",
    "print(cnn_1d(T).shape)\n",
    "print(lin(T).shape)"
   ]
  },
  {
   "cell_type": "markdown",
   "metadata": {
    "id": "fVZm7xqFLkPF"
   },
   "source": [
    "Two remarks on Spinor layers:\n",
    "1. We need to set a vector_scale to train deep models. The vector scale is just an other set torch.Parameters that will scale down the output of each Spinor layers. Indeed, the output of a SNN layer is a set of 3D vectors that are the sum of rotated 3D vectors. Quaternion rotations do not affect the magnitude of the rotated vector. Hence, by summing over and over rotated 3D vectors, we might end up very quickly with very large values (i.e the training will explode).\n",
    "2. You might consider to use `weight_init='unitary'`. Indeed, quaternion rotations are valid only if the considered quaternion is unitary. Therefore, starting with unitary weights may facilitate the learning phase!\n",
    "\n",
    "## Putting everyting together!\n",
    "\n",
    "We provide a minimal example for both complex and quaternion neural networks:\n",
    "- `speechbrain/tests/integration/ASR_CTC/example_asr_ctc_experiment_complex_net.yaml`.\n",
    "- `speechbrain/tests/integration/ASR_CTC/example_asr_ctc_experiment_quaternion_net.yaml`.\n",
    "\n",
    "If we take a look at one of these YAML params file, we can easily distinguish how to build our model out of the different blocks!"
   ]
  },
  {
   "cell_type": "code",
   "execution_count": null,
   "metadata": {
    "id": "RGU7t6oeM2ox"
   },
   "outputs": [],
   "source": [
    "yaml_params = \"\"\"\n",
    "model: !new:speechbrain.nnet.containers.Sequential\n",
    "    input_shape: [!ref <N_batch>, null, 660]  # input_size\n",
    "    conv1: !name:speechbrain.nnet.quaternion_networks.q_CNN.QConv1d\n",
    "        out_channels: 16\n",
    "        kernel_size: 3\n",
    "    act1: !ref <activation>\n",
    "    conv2: !name:speechbrain.nnet.quaternion_networks.q_CNN.QConv1d\n",
    "        out_channels: 32\n",
    "        kernel_size: 3\n",
    "    nrm2: !name:speechbrain.nnet.quaternion_networks.q_CNN.QConv1d\n",
    "    act2: !ref <activation>\n",
    "    pooling: !new:speechbrain.nnet.pooling.Pooling1d\n",
    "        pool_type: \"avg\"\n",
    "        kernel_size: 3\n",
    "    RNN: !name:speechbrain.nnet.quaternion_networks.q_RNN.QLiGRU\n",
    "        hidden_size: 64\n",
    "        bidirectional: True\n",
    "    linear: !name:speechbrain.nnet.linear.Linear\n",
    "        n_neurons: 43  # 42 phonemes + 1 blank\n",
    "        bias: False\n",
    "    softmax: !new:speechbrain.nnet.activations.Softmax\n",
    "        apply_log: True\n",
    "        \"\"\""
   ]
  },
  {
   "cell_type": "markdown",
   "metadata": {
    "id": "UCbAmc8ONIhH"
   },
   "source": [
    "Here, we have a very basic quaternion-valued CNN-LiGRU model that can be used to perform end-to-end CTC ASR!"
   ]
  },
  {
   "cell_type": "code",
   "execution_count": null,
   "metadata": {
    "id": "29vJJu--NH52"
   },
   "outputs": [],
   "source": [
    "%cd /content/speechbrain/tests/integration/ASR_CTC/\n",
    "!python example_asr_ctc_experiment.py example_asr_ctc_experiment_quaternion_net.yaml"
   ]
  },
  {
   "cell_type": "markdown",
   "metadata": {
    "id": "sb_auto_footer",
    "tags": [
     "sb_auto_footer"
    ]
   },
   "source": [
    "## Citing SpeechBrain\n",
    "\n",
    "If you use SpeechBrain in your research or business, please cite it using the following BibTeX entry:\n",
    "\n",
    "```bibtex\n",
    "@misc{speechbrainV1,\n",
    "  title={Open-Source Conversational AI with {SpeechBrain} 1.0},\n",
    "  author={Mirco Ravanelli and Titouan Parcollet and Adel Moumen and Sylvain de Langen and Cem Subakan and Peter Plantinga and Yingzhi Wang and Pooneh Mousavi and Luca Della Libera and Artem Ploujnikov and Francesco Paissan and Davide Borra and Salah Zaiem and Zeyu Zhao and Shucong Zhang and Georgios Karakasidis and Sung-Lin Yeh and Pierre Champion and Aku Rouhe and Rudolf Braun and Florian Mai and Juan Zuluaga-Gomez and Seyed Mahed Mousavi and Andreas Nautsch and Xuechen Liu and Sangeet Sagar and Jarod Duret and Salima Mdhaffar and Gaelle Laperriere and Mickael Rouvier and Renato De Mori and Yannick Esteve},\n",
    "  year={2024},\n",
    "  eprint={2407.00463},\n",
    "  archivePrefix={arXiv},\n",
    "  primaryClass={cs.LG},\n",
    "  url={https://arxiv.org/abs/2407.00463},\n",
    "}\n",
    "@misc{speechbrain,\n",
    "  title={{SpeechBrain}: A General-Purpose Speech Toolkit},\n",
    "  author={Mirco Ravanelli and Titouan Parcollet and Peter Plantinga and Aku Rouhe and Samuele Cornell and Loren Lugosch and Cem Subakan and Nauman Dawalatabad and Abdelwahab Heba and Jianyuan Zhong and Ju-Chieh Chou and Sung-Lin Yeh and Szu-Wei Fu and Chien-Feng Liao and Elena Rastorgueva and François Grondin and William Aris and Hwidong Na and Yan Gao and Renato De Mori and Yoshua Bengio},\n",
    "  year={2021},\n",
    "  eprint={2106.04624},\n",
    "  archivePrefix={arXiv},\n",
    "  primaryClass={eess.AS},\n",
    "  note={arXiv:2106.04624}\n",
    "}\n",
    "```"
   ]
  }
 ],
 "metadata": {
  "colab": {
   "provenance": []
  },
  "kernelspec": {
   "display_name": "Python 3 (ipykernel)",
   "language": "python",
   "name": "python3"
  },
  "language_info": {
   "codemirror_mode": {
    "name": "ipython",
    "version": 3
   },
   "file_extension": ".py",
   "mimetype": "text/x-python",
   "name": "python",
   "nbconvert_exporter": "python",
   "pygments_lexer": "ipython3",
   "version": "3.12.6"
  }
 },
 "nbformat": 4,
 "nbformat_minor": 4
}
