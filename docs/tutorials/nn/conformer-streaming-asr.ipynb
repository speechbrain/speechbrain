{
 "cells": [
  {
   "cell_type": "markdown",
   "id": "7fc69f2f",
   "metadata": {
    "id": "sb_auto_header",
    "tags": [
     "sb_auto_header"
    ]
   },
   "source": [
    "<!-- This cell is automatically updated by tools/tutorial-cell-updater.py -->\n",
    "<!-- The contents are initialized from tutorials/notebook-header.md -->\n",
    "\n",
    "[<img src=\"https://colab.research.google.com/assets/colab-badge.svg\" alt=\"Open In Colab\"/>](https://colab.research.google.com/github/speechbrain/speechbrain/blob/develop/docs/tutorials/nn/conformer-streaming-asr.ipynb)\n",
    "to execute or view/download this notebook on\n",
    "[GitHub](https://github.com/speechbrain/speechbrain/tree/develop/docs/tutorials/nn/conformer-streaming-asr.ipynb)"
   ]
  },
  {
   "cell_type": "markdown",
   "id": "3e9ea69e-e1eb-4cea-8426-2daefa29d902",
   "metadata": {},
   "source": [
    "# Streaming Speech Recognition with Conformers\n",
    "\n",
    "Automatic Speech Recognition (ASR) models are often only designed to transcribe an entire large chunk of audio and are unsuitable for usecases like live stream transcription, which requires low-latency, long-form transcription.\n",
    "\n",
    "This tutorial introduces the Dynamic Chunk Training approach and architectural changes you can apply to make the Conformer model streamable. It introduces the tooling for training and inference that SpeechBrain can provide for you.\n",
    "This might be a good starting point if you're interested in training and understanding your own streaming models, or even if you want to explore improved streaming architectures.\n",
    "\n",
    "This tutorial goes very in-depth with the implementation. It may be okay to skim through depending on your goals.\n",
    "\n",
    "The model and training procedure described here are not state-of-the-art, but it is a reasonably good and modern end-to-end approach. It has successfully been applied as the following recipes (non-exhaustive list):\n",
    "\n",
    "- [`LibriSpeech/ASR/transducer`](https://github.com/speechbrain/speechbrain/tree/develop/recipes/LibriSpeech/ASR/transducer) ([pre-trained on HuggingFace](https://huggingface.co/speechbrain/asr-streaming-conformer-librispeech))\n",
    "- [`VoxPopuli/ASR/transducer`](https://github.com/speechbrain/speechbrain/tree/develop/recipes/VoxPopuli/ASR/transducer)\n",
    "- [`CommonVoice/ASR/transducer`](https://github.com/speechbrain/speechbrain/tree/develop/recipes/CommonVoice/ASR/transducer) (French, Italian)\n",
    "\n",
    "## Recommended prerequisites\n",
    "\n",
    "- [Speech Recognition From Scratch](https://speechbrain.readthedocs.io/en/latest/tutorials/tasks/speech-recognition-from-scratch.html)"
   ]
  },
  {
   "cell_type": "markdown",
   "id": "27f8fc9c-3e55-455e-8803-415bd710174a",
   "metadata": {},
   "source": [
    "### Installing SpeechBrain"
   ]
  },
  {
   "cell_type": "code",
   "execution_count": 1,
   "id": "266d75ba-482d-4504-855e-92b3170f218c",
   "metadata": {},
   "outputs": [],
   "source": [
    "%%capture\n",
    "# Installing SpeechBrain via pip\n",
    "BRANCH = \"develop\"\n",
    "!python -m pip install git+https://github.com/speechbrain/speechbrain.git@$BRANCH"
   ]
  },
  {
   "cell_type": "code",
   "execution_count": null,
   "id": "f43f965c-fb08-4542-a7f4-4f30ebc38ca9",
   "metadata": {},
   "outputs": [],
   "source": [
    "%%capture\n",
    "%pip install matplotlib"
   ]
  },
  {
   "cell_type": "markdown",
   "id": "33ab0dab-527a-4b2d-96e9-b0dea7afca35",
   "metadata": {},
   "source": [
    "## What a streaming model needs to achieve\n",
    "\n",
    "We need a fine-grained way to restrict and remember context so that the model attends only on **recent context** and **not future frames**. That strategy must somehow be **consistent between training and inference**.\n",
    "\n",
    "Traditional models might have the luxury of reusing the same forward code path for both training and inference. Training and inference when streaming kind of have opposite performance characteristics, and this results in special casing in some layers.\n",
    "\n",
    "- For inference, we generally need to process outputs chunk-by-chunk as they come in, and this usually implies caching some past hidden state at different layers.\n",
    "- For training, we prefer to pass in a large batch of whole utterances, once, to maximize GPU occupancy and lower Python and CUDA kernel launching overhead. Thus, we would prefer to enforce these restrictions by masking.\n",
    "\n",
    "### Summary of the tutorial\n",
    "\n",
    "This tutorial attempts to split up the theory and practice in separate sections. This is a summary of each of the sections:\n",
    "\n",
    "1. Introduce architectural changes to the Conformer model. We will discuss:\n",
    "    - How we solve future dependencies of the self-attention mechanism with chunked attention masking.\n",
    "    - How we solve future dependencies of the convolution module with Dynamic Chunk Convolutions.\n",
    "    - Why we can avoid changing the feature extractor and positional embeddings for training.\n",
    "2. Explain the Dynamic Chunk Training strategy for training. We will discuss:\n",
    "    - How to train the model to support various chunk sizes and left context sizes to be selected at runtime.\n",
    "    - The consequences of changing the chunk size and left context size.\n",
    "    - The implications of different loss functions for streaming model training.\n",
    "3. List the actual changes required to a train a streaming Conformer in SpeechBrain.\n",
    "4. Explain how to debug neural layers to ensure correct streaming behavior.\n",
    "5. Introduce all the parts involved in streaming inference. We will:\n",
    "    - Introduce the wrapper to adapt a non-streaming feature extractor into a streaming one.\n",
    "    - Explain the streaming context object architecture and streaming forward methods.\n",
    "    - List misceallenous other changes to be done to the model.\n",
    "6. Give a practical introduction to inference tools in SpeechBrain. We will:\n",
    "    - Demonstrate how to make a trained streaming-capable model ready for streaming inference.\n",
    "    - Provide complete examples of the `StreamingASR` inference interface for stream or file processing."
   ]
  },
  {
   "cell_type": "markdown",
   "id": "773b199e-1c6a-4e2c-8b4b-1f379799b2aa",
   "metadata": {},
   "source": [
    "## Architectural Changes to the Conformer"
   ]
  },
  {
   "cell_type": "markdown",
   "id": "28372287-c508-4d12-a280-34fa6bf905da",
   "metadata": {},
   "source": [
    "<img src=\"../assets/conformer-simple.png\" alt=\"Simplified Conformer Diagram\" width=\"450\"/>\n",
    "\n",
    "The above is a (very) simplified diagram of the vanilla Conformer architecture as used in one of our models, to read from top to bottom.  \n",
    "Colored bricks are the ones that require us to be careful when streaming, as they propagate information across time steps."
   ]
  },
  {
   "cell_type": "markdown",
   "id": "d49278db-9cdf-4096-9599-fb25d4b4d441",
   "metadata": {},
   "source": [
    "### Chunked Attention\n",
    "\n",
    "#### What is Causal Attention?\n",
    "\n",
    "If you are familiar with Transformer architectures, you may be familiar with causal attention. In a nutshell, causal attention makes it so that the output frame at timestep $t$ cannot attend to an input from a \"future\" timestep ($t+1$, $t+2$, etc.).\n",
    "\n",
    "This directly implies that if you want to predict the output of the model at timestep $t$, you only need \"current\" and \"past\" inputs ($t$, $t-1$, $t-2$, etc.). This is important to us, because we _don't_ know the future frames!\n",
    "\n",
    "Causal attention is very simple to apply (naively), and actually fits the bill for streaming ASR... But we won't use it here.\n",
    "\n",
    "#### What is Chunked Attention, and why do we prefer it?\n",
    "\n",
    "Causal attention is simple to implement, but for streaming ASR, it is found to disproportionately degrade the Word Error Rate.\n",
    "For this reason, chunked attention is often chosen in streaming attentive models instead.\n",
    "\n",
    "Conceptually, chunked attention introduces the idea of _chunks_ that group a given amount of frames (`chunk_size`). For example, if you were to have a chunk size of 4, then you would look at your input like this:"
   ]
  },
  {
   "cell_type": "markdown",
   "id": "4655bd01-8acd-48a5-b2f4-352cc6e62e98",
   "metadata": {},
   "source": [
    "<img src=\"../assets/attention-chunking.png\" alt=\"Chunking of inputs\" width=\"800\"/>"
   ]
  },
  {
   "cell_type": "markdown",
   "id": "0e147465-b395-4fe1-ac38-2e9d1dddb34a",
   "metadata": {},
   "source": [
    "**Frames within a chunk can attend to each other**. This retains more of the expressive power of attention compared to causal attention.  \n",
    "Chunks can also attend to past chunks, but we **limit how far into the past** to reduce the computational and memory cost at inference time (`left_context_chunks`).\n",
    "\n",
    "At training time, we enforce this using an **attention mask**. An attention mask answers the question: Can the `j`-th output frame attend to the `i`-th input frame?  \n",
    "As such, it is defined as a boolean tensor defined with a shape of `(t, t)`. Here follows an example of one (although the actual mask is a transposition of this):"
   ]
  },
  {
   "cell_type": "markdown",
   "id": "1bd674a3-7a10-4908-b0a7-b92862a174ff",
   "metadata": {},
   "source": [
    "<img src=\"../assets/attn-restrict.png\" alt=\"Chunked Attention example diagram\" width=\"800\"/>"
   ]
  },
  {
   "cell_type": "markdown",
   "id": "f2aebfdc-2833-4a54-aa12-f5bdf9693b84",
   "metadata": {},
   "source": [
    "In fact, we can rather easily reproduce this exact mask. Note that we are transposing the mask for display, and that here, a `True` (red) means **masking**, and `False` (blue) means **not masking**:"
   ]
  },
  {
   "cell_type": "code",
   "execution_count": 45,
   "id": "cbd33073-55bf-4888-99ff-5cbe7d4499e3",
   "metadata": {},
   "outputs": [
    {
     "data": {
      "image/png": "[encoded data removed]",
      "text/plain": [
       "<Figure size 640x480 with 1 Axes>"
      ]
     },
     "metadata": {},
     "output_type": "display_data"
    }
   ],
   "source": [
    "from speechbrain.lobes.models.transformer.TransformerASR import (\n",
    "    make_transformer_src_mask,\n",
    ")\n",
    "from speechbrain.utils.dynamic_chunk_training import DynChunkTrainConfig\n",
    "from matplotlib import pyplot as plt\n",
    "import torch\n",
    "\n",
    "# dummy batch size, 16 sequence length, 128 sized embedding\n",
    "chunk_streaming_mask = make_transformer_src_mask(\n",
    "    torch.empty(1, 16, 128), dynchunktrain_config=DynChunkTrainConfig(4, 1)\n",
    ")\n",
    "plt.imshow(chunk_streaming_mask.T, cmap=\"bwr\")\n",
    "plt.show()"
   ]
  },
  {
   "cell_type": "markdown",
   "id": "72b0284b-5bab-4ff3-9bbd-eb246329d64b",
   "metadata": {},
   "source": [
    "#### Chunked Attention during inference\n",
    "\n",
    "When designing streaming models, we need to be very careful about how dependencies between output frames and input frames propagate across layers.\n",
    "\n",
    "For instance, thinking back about _causal_ attention, you might wonder if we could have regained some accuracy by allowing the output frame at timestep $t$ to attend to an input frame at timestep $t+1$, i.e. giving it some \"right\"/future context at every layer.  \n",
    "_Yes,_ we _could_, and it does help somewhat, but consider the implications when stacking layers! For instance, consider two layers of attention, where $a$ is the input, $b$ is the output of the first layer, and $c$ is the output of the second layer: $c_t$ will attend to $b_{t+1}$ (among others), which itself will attend to $a_{t+2}$. This gets worse in practice, when we might have something like 12 or 17 layers.  \n",
    "This is cumbersome, and will likely have a negative effect on latency (we'd need to buffer a bunch of \"future\" frames) and memory/computational cost.\n",
    "\n",
    "On the other hand, chunk attention plays very nicely with this. **Let's ignore left context first.** The following example focuses on the 4th chunk of the input, and on which frames effectively depend on/attend to which:"
   ]
  },
  {
   "cell_type": "markdown",
   "id": "58e272dd-e23d-4bec-842e-952eb5a1b522",
   "metadata": {},
   "source": [
    "<img src=\"../assets/attention-chunking-no-lc.png\" alt=\"Chunked Attention (example with no left context)\" width=\"800\"/>"
   ]
  },
  {
   "cell_type": "markdown",
   "id": "699805b0-0f06-4dde-bce0-061c64e8bcee",
   "metadata": {},
   "source": [
    "Ignoring left context, frames within one chunk may attend to each other. If you stack attention layers, the **boundaries of chunks remain the same across layers**.\n",
    "\n",
    "Now, let's add left context. In the following example, we will assume a left context size of 1 chunk. For clarity, we omit the connections for <span style=\"color: red\">12,13,14</span> but they attend to the _same frames_ as <span style=\"color: red\">15</span>."
   ]
  },
  {
   "cell_type": "markdown",
   "id": "0039438a-e2e4-4405-a7e9-7f1f7f2e6747",
   "metadata": {},
   "source": [
    "<img src=\"../assets/attention-chunking-dep.png\" alt=\"Chunked Attention (example with left context)\" width=\"800\"/>"
   ]
  },
  {
   "cell_type": "markdown",
   "id": "0ee8cdb3-eb5b-44d1-90d8-99eb36cbf38a",
   "metadata": {},
   "source": [
    "> _Wait, shouldn't this mean that the outputs <span style=\"color: red\">12,13,14,15</span> of `Layer #2` need us to remember the embeddings for inputs <span style=\"color: green\">4,5,6,7</span>?_\n",
    "\n",
    "No! The <span style=\"color: red\">12,13,14,15</span> chunk at `Layer #2` does indeed depend on <span style=\"color: orange\">8,9,10,11</span> of `Layer #1`, which itself depends on <span style=\"color: green\">4,5,6,7</span> of `Inputs`.  \n",
    "However, the hidden state of <span style=\"color: orange\">8,9,10,11</span> at `Layer #1` isn't at all affected by our red chunk! Thus, when inferring, we can cache however many left context chunks we want to use, and the amount of things we have to cache/recompute doesn't explode with the number of layers we have.\n",
    "\n",
    "[`speechbrain.lobes.models.transformer.TransformerASR.make_transformer_src_mask`](https://speechbrain.readthedocs.io/en/latest/_modules/speechbrain/lobes/models/transformer/TransformerASR.html#make_transformer_src_mask) is the function that generates these masks.\n",
    "\n",
    "> _How does that work out at inference time?_\n",
    "\n",
    "Left context is defined so that a given chunk $i$ can attend to `left_context_chunks` chunks, i.e. that all output frames within chunk $i$ can attend to all frames within the past `left_context_chunks` chunks.  \n",
    "Ultimately, this design allows us to define the math for processing attention for a given input chunk at inference time to something that looks like this:\n",
    "\n",
    "```python\n",
    "attention_module(concat(cached_left_chunks, input_chunk))\n",
    "```\n",
    "\n",
    "Ignoring KV caching, here, `cached_left_chunks` ends up being, _for each layer_, a tensor of size `(batch_size, left_context_chunks * chunk_size, emb_dim)`. This is fairly reasonable, and it is the only thing we have to save at inference time for the attention part."
   ]
  },
  {
   "cell_type": "markdown",
   "id": "d3e37b4b-5561-4761-88bc-928a005c4aa1",
   "metadata": {},
   "source": [
    "### Dynamic Chunk Convolutions"
   ]
  },
  {
   "cell_type": "markdown",
   "id": "1e6a10af-610e-4873-a049-54ad7680cf3f",
   "metadata": {},
   "source": [
    "#### Vanilla Convolutions\n",
    "\n",
    "<img src=\"../assets/dcc-regular.png\" alt=\"Vanilla Convolutions\" width=\"800\"/>\n",
    "\n",
    "<sup>Credit: <a href=\"https://www.amazon.science/publications/dynamic-chunk-convolution-for-unified-streaming-and-non-streaming-conformer-asr\">Xilai Li et al, 2023</a> (Dynamic Chunk Convolution paper)<br>\n",
    "Example with a convolution $k=5$, meaning that \"half a window\", $\\frac{k-1}{2}$, is $2$</sup>\n",
    "\n",
    "Vanilla convolutions operate over windows, which, for the convolution output at timestep $t$, spans indices from $t-\\frac{k-1}{2}$ to $t+\\frac{k-1}{2}$, where $k$ is the kernel size. Thus, the output at timestep $t$ will depend on future frames, which we want to avoid.  \n",
    "We could pretend to ignore the problem by training normally, and at inference, right-pad frames we don't know as zeros (see figure). This would, however, be a major mismatch between training and inference, and would harm accuracy significantly.\n",
    "\n",
    "#### Causal Convolutions\n",
    "\n",
    "<img src=\"../assets/dcc-causal.png\" alt=\"Causal Convolutions\" width=\"800\"/>\n",
    "\n",
    "There _is_ a direct solution: Causal convolutions. They merely shift the window for output $t$ to instead cover indices from $t-(k-1)$ to $t$.  \n",
    "The math for that is very simple: You just need to pad the input to the left by $\\frac{k-1}{2}$ frames, pass it to the convolution, and truncate these $\\frac{k-1}{2}$ output frames on the left.\n",
    "\n",
    "#### Dynamic Chunk Convolution\n",
    "\n",
    "<img src=\"../assets/dcc-dcc.png\" alt=\"Dynamic Chunk Convolutions\" width=\"800\"/>\n",
    "\n",
    "Unfortunately, causal convolutions result in worse accuracy. To remedy this, <a href=\"https://www.amazon.science/publications/dynamic-chunk-convolution-for-unified-streaming-and-non-streaming-conformer-asr\">Xilai Li et al, 2023</a> introduces the idea of _Dynamic Chunk Convolutions_ for streaming chunked ASR.\n",
    "\n",
    "With this, we reuse the same chunk boundaries we used for chunked attention.  \n",
    "In the above figure, consider frame $T_{15}$: It looks a lot like a vanilla convolution, except that **any input frame that belongs to a future _chunk_ is masked off**. This solves our problem of depending on future frames.  \n",
    "\n",
    "Note how the leftmost output of the example chunk, $T_0$, depends on $\\frac{k-1}{2}$ past frames: At inference time, we will need to cache at this, at each layer. This is reasonably lightweight, though.\n",
    "\n",
    "The implementation for this at training time is actually far from obvious, because PyTorch convolution operators cannot merely take in a mask similar to the self-attention mask we used. If you are feeling adventurous, you can read the source code for [`speechbrain.lobes.models.transformer.Conformer.ConvolutionModule`](https://speechbrain.readthedocs.io/en/latest/_modules/speechbrain/lobes/models/transformer/Conformer.html#ConvolutionModule), which is a pile of (commented and illustrated) tensor reshaping magic."
   ]
  },
  {
   "cell_type": "markdown",
   "id": "4e1f2ec2-dd40-4f70-acf2-993e91ded8c9",
   "metadata": {},
   "source": [
    "### What we _aren't_ changing\n",
    "\n",
    "Some parts of the architecture don't really matter and don't require any special care for streaming, because they don't propagate information between frames (i.e. they are only pointwise).  \n",
    "Some, on the other hand, need some explanation as to why they do or don't matter.\n",
    "\n",
    "#### Feature Extraction\n",
    "\n",
    "As implemented in SpeechBrain, the feature extractor for the Conformer is _not_ causal. This would normally be a concern for streaming, but we are leaving it unchanged in training. What gives?\n",
    "\n",
    "It turns out that the feature extraction **does not really need much right context** (i.e. to see many future frames). We _can_ afford to introduce the idea of some right context for this, as it represents speech in the order of milliseconds anyway. This kind of simplifies the whole ordeal, and gives more flexibility for poking around the feature extractor.\n",
    "\n",
    "SpeechBrain provides a wrapper, [`speechbrain.lobes.features.StreamingFeatureWrapper`](https://speechbrain.readthedocs.io/en/latest/API/speechbrain.lobes.features.html#speechbrain.lobes.features.StreamingFeatureWrapper), which abstracts this for you almost entirely, by automatically padding and caching context. It still needs to be told the characteristics of the feature extractor, which we will expand on later on.\n",
    "\n",
    "Normalization is another part of the feature extractor that was not edited. This actually creates a discrepancy between training and test, but we found it to be minimal, even between full audio normalization and per-chunk normalization. It is thus pretty much ignored, although you could give it more care.\n",
    "\n",
    "#### Positional embeddings\n",
    "\n",
    "We won't go into very detailed explanations of positional embeddings here, even though they play a major role in model accuracy in ASR. What is important to know is that they enrich the attention mechanism with position information. Otherwise, the model would lack information of where tokens are relative to each other.\n",
    "\n",
    "Luckily, we are using a model that we define in SpeechBrain to use relative positional sinusoidal encodings ([`speechbrain.nnet.attention.RelPosEncXL`](https://speechbrain.readthedocs.io/en/latest/API/speechbrain.nnet.attention.html#speechbrain.nnet.attention.RelPosEncXL)). We will underline why this is useful below.\n",
    "\n",
    "In self-attention, any _query_ can attend to any _key_ (as long as that _query_/_key_ pair is not masked, as we do need for chunked attention).  \n",
    "\n",
    "- Without a positional embedding, the attention mechanism would ignore where the _query_ and _key_ actually are in the sentence.  \n",
    "- With a rather naive positional embedding, we would care about the position of the _key_ relative to the start of the sentence. This works, but is problematic for streaming ASR in a few ways. Most notably, the distances would get quite long.\n",
    "- With our **relative positional embedding**, we look at the **difference** of position between the _query_ and the _key_.\n",
    "\n",
    "Since we have chunked attention that restricts how much into the past and future a _query_ can attend, the distance we encode is never larger than the window of frames we attend to.  \n",
    "In other words, if we attend to chunks of 16 tokens with 48 tokens of left context, we will at most represent a distance from the rightmost token to the leftmost token, i.e. $63$.  \n",
    "The distance of $63$ would have its own fixed positional encoding vector, which is taken into account for the score calculation in self-attention for that specific _query_/_key_ pair.\n",
    "\n",
    "Furthermore, no matter if we are $0$ second or $30$ minutes into the stream, these distances remain the same, as they are relative positions.\n",
    "\n",
    "The following example demonstrates a relative positional encoding on a sequence of 16 timesteps and an embedding size of 64:"
   ]
  },
  {
   "cell_type": "code",
   "execution_count": 165,
   "id": "150c131c-e703-4bd1-b08d-0274508db8cc",
   "metadata": {},
   "outputs": [
    {
     "name": "stdout",
     "output_type": "stream",
     "text": [
      "(batch, seq_len*2-1, emb_size): (1, 31, 64)\n"
     ]
    },
    {
     "data": {
      "image/png": "[encoded data removed]",
      "text/plain": [
       "<Figure size 640x480 with 1 Axes>"
      ]
     },
     "metadata": {},
     "output_type": "display_data"
    }
   ],
   "source": [
    "from speechbrain.nnet.attention import RelPosEncXL\n",
    "from matplotlib import pyplot as plt\n",
    "\n",
    "test_pos_encoder = RelPosEncXL(64)\n",
    "test_pos = test_pos_encoder.make_pe(seq_len=16)\n",
    "print(f\"(batch, seq_len*2-1, emb_size): {tuple(test_pos.shape)}\")\n",
    "plt.imshow(test_pos.squeeze(0).T, cmap=\"bwr\")\n",
    "plt.xlabel(\"seq_len*2-1\")\n",
    "plt.ylabel(\"emb_size\")\n",
    "plt.show()"
   ]
  },
  {
   "cell_type": "markdown",
   "id": "311c95ac-5186-4d6c-a4db-4c00acb3e53b",
   "metadata": {},
   "source": [
    "In the above figure, the center column corresponds to the position embedding vector for a positional difference of zero, i.e., the key being attended to is the same input as the query.\n",
    "\n",
    "The horizontal distance from the center represents the distance between a given query and key pair inside the self-attention.  \n",
    "One column to the right of the center would represent a distance of $1$, etc.\n",
    "\n",
    "This doesn't depend on the distance of either the key or the query from the start of the sequence.  \n",
    "At inference time, we only need to make the `seq_len` above ever as large as the attention window is (left context + active chunk).\n",
    "\n",
    "Note that this embedding is further enriched by being passed into a learnable linear layer first."
   ]
  },
  {
   "cell_type": "markdown",
   "id": "449a9836-9cb2-4b19-8398-83c755fcf4e7",
   "metadata": {},
   "source": [
    "## Training strategies and Dynamic Chunk Training\n",
    "\n",
    "### What metrics does the chunk size and left context size impact?\n",
    "\n",
    "Usually, when streaming, we try to split the input stream in a way that matches the chunk size, and we process chunks one by one as they arrive.\n",
    "\n",
    "**Smaller chunks degrade accuracy** more, but result in **lower latency**.  \n",
    "It's a tradeoff depending on the final usecase, and it's worth benchmarking different chunk sizes on whatever test dataset is representative of the final application.\n",
    "\n",
    "Looking at the data from [`speechbrain/asr-streaming-conformer-librispeech`](https://huggingface.co/speechbrain/asr-streaming-conformer-librispeech), for a left chunk count of 4, and this _specific model and dataset_, we get a curve like this (mind the scale):"
   ]
  },
  {
   "cell_type": "code",
   "execution_count": 3,
   "id": "ff57b4d7-adb6-4c70-99b2-2faad41f6d8b",
   "metadata": {},
   "outputs": [
    {
     "data": {
      "image/png": "[encoded data removed]",
      "text/plain": [
       "<Figure size 640x480 with 1 Axes>"
      ]
     },
     "metadata": {},
     "output_type": "display_data"
    }
   ],
   "source": [
    "from matplotlib import pyplot as plt\n",
    "import matplotlib.ticker as mtick\n",
    "\n",
    "xs = [1280, 960, 640, 480, 320]\n",
    "ys = [3.10, 3.11, 3.31, 3.39, 3.62]\n",
    "plt.scatter(xs, ys)\n",
    "plt.plot(xs, ys)\n",
    "plt.ylim(2, 4)\n",
    "plt.title(\"asr-streaming-conformer-librispeech WER vs chunk size\")\n",
    "plt.xlabel(\"chunk size (ms)\")\n",
    "plt.ylabel(\"WER (%)\")\n",
    "plt.gca().yaxis.set_major_formatter(mtick.PercentFormatter())\n",
    "plt.show()"
   ]
  },
  {
   "cell_type": "markdown",
   "id": "0d3d019f-b21b-4d9d-b81f-269a71e78081",
   "metadata": {},
   "source": [
    "Left context size is purely a tradeoff between accuracy and computational/memory cost. Here too, it is worth evaluating the model with different sizes depending on the desired tradeoff.\n",
    "\n",
    "### How to pick the chunk size?\n",
    "\n",
    "Curiously, it doesn't have to be static! The following strategy works surprisingly well:\n",
    "\n",
    "- For 40% of the batches (at random), we train normally without any chunking strategy.\n",
    "- For the other 60%, we do the following:\n",
    "  - For each batch, we sample a random chunk size between some reasonable values (e.g. uniform sampling between 8 and 32 vanilla conformer frames)\n",
    "  - For 75% of these chunks, we restrict the left context similarly (e.g. 2-32 chunks). For the other 25%, we don't.\n",
    "\n",
    "This strategy is abstracted in SpeechBrain by [`speechbrain.utils.dynamic_chunk_training.DynChunkTrainConfigRandomSampler`](https://speechbrain.readthedocs.io/en/latest/API/speechbrain.utils.dynamic_chunk_training.html#speechbrain.utils.dynamic_chunk_training.DynChunkTrainConfigRandomSampler).\n",
    "\n",
    "The consequence of this is very interesting: The trained model can still infer in a **traditional, non-streaming fashion**, but it can also infer in a streaming fashion with a **chunk size chosen at run-time**! Surprisingly, we found the error rate degradation vs. an unmodified model in the former case is sometimes minimal, but the impact might likely be more significant for other hyperparameters and datasets.\n",
    "\n",
    "Let's write an example:"
   ]
  },
  {
   "cell_type": "code",
   "execution_count": 36,
   "id": "e6b61de8-bf3f-4f6b-8869-2d6395438c81",
   "metadata": {},
   "outputs": [
    {
     "name": "stdout",
     "output_type": "stream",
     "text": [
      "Draw #0      -> None\n",
      "Draw #1      -> DynChunkTrainConfig(chunk_size=5, left_context_size=None)\n",
      "Draw #2      -> DynChunkTrainConfig(chunk_size=23, left_context_size=None)\n",
      "Draw #3      -> None\n",
      "Draw #4      -> DynChunkTrainConfig(chunk_size=12, left_context_size=14)\n",
      "Draw #5      -> DynChunkTrainConfig(chunk_size=19, left_context_size=14)\n",
      "Draw #6      -> DynChunkTrainConfig(chunk_size=24, left_context_size=None)\n",
      "Draw #7      -> DynChunkTrainConfig(chunk_size=16, left_context_size=None)\n",
      "Draw #8      -> DynChunkTrainConfig(chunk_size=8, left_context_size=6)\n",
      "Draw #9      -> DynChunkTrainConfig(chunk_size=12, left_context_size=None)\n",
      "\n",
      "Test config  -> DynChunkTrainConfig(chunk_size=32, left_context_size=16)\n",
      "Valid config -> None\n"
     ]
    }
   ],
   "source": [
    "from speechbrain.core import Stage\n",
    "from speechbrain.utils.dynamic_chunk_training import DynChunkTrainConfig\n",
    "from speechbrain.utils.dynamic_chunk_training import DynChunkTrainConfigRandomSampler\n",
    "\n",
    "sampler = DynChunkTrainConfigRandomSampler(\n",
    "    chunkwise_prob=0.6,\n",
    "    chunk_size_min=8,\n",
    "    chunk_size_max=32,\n",
    "    limited_left_context_prob=0.8,\n",
    "    left_context_chunks_min=2,\n",
    "    left_context_chunks_max=16,\n",
    "    test_config=DynChunkTrainConfig(32, 16),\n",
    "    valid_config=None,\n",
    ")\n",
    "\n",
    "for i in range(10):\n",
    "    print(f\"Draw #{i:<2}     -> {sampler(Stage.TRAIN)}\")\n",
    "\n",
    "print()\n",
    "print(f\"Test config  -> {sampler(Stage.TEST)}\")\n",
    "print(f\"Valid config -> {sampler(Stage.VALID)}\")"
   ]
  },
  {
   "cell_type": "markdown",
   "id": "83704992-9a84-4b06-b9e1-708d1279ced0",
   "metadata": {},
   "source": [
    "### Loss function(s)\n",
    "\n",
    "The easiest way to train a streaming Conformer model is currently using the RNN-T loss (and optionally CTC as an auxiliary loss to improve training). For a refresher, see [Speech Recognition From Scratch](https://speechbrain.readthedocs.io/en/latest/tutorials/tasks/speech-recognition-from-scratch.html) and its linked resources.\n",
    "\n",
    "It may be possible to also add encoder-decoder cross-entropy as either an auxiliary loss (to improve model accuracy even if using the RNN-T path for inference), or used for streaming, but this was not tested and is currently unsupported.  \n",
    "To implement this, you may want to explore the litterature and the approach taken by competitive models."
   ]
  },
  {
   "cell_type": "markdown",
   "id": "0ca5784c-1f5c-44e5-8ba8-d6b7c5248203",
   "metadata": {},
   "source": [
    "## Training: Piecing it all together with SpeechBrain\n",
    "\n",
    "This was a whole lot of theory, but how do we make use of what SpeechBrain has implemented?  \n",
    "The following describes what code should be used, and what streaming-specific code there is in a typical streaming Conformer-Transducer recipe.\n",
    "You would preferably adapt a known-good recipe (such as [`LibriSpeech/ASR/transducer`](https://github.com/speechbrain/speechbrain/tree/develop/recipes/LibriSpeech/ASR/transducer).\n",
    "\n",
    "If you are trying to adapt a different model, this might help you, but you may need to do more research and work.\n",
    "\n",
    "### Automatic masking by passing a Dynamic Chunk Training configuration\n",
    "\n",
    "The [`speechbrain.utils.dynamic_chunk_training.DynChunkTrainConfig`](https://speechbrain.readthedocs.io/en/latest/API/speechbrain.utils.dynamic_chunk_training.html#speechbrain.utils.dynamic_chunk_training.DynChunkTrainConfig) class was added, whose purpose is to describe a streaming configuration for _one_ batch.\n",
    "In order to implement a complete Dynamic Chunk Training strategy, your training script may sample a random configuration for each batch from a [`DynChunkTrainConfigRandomSampler`](https://speechbrain.readthedocs.io/en/latest/API/speechbrain.utils.dynamic_chunk_training.html#speechbrain.utils.dynamic_chunk_training.DynChunkTrainConfigRandomSampler). (You are free to implement your own strategy, if you prefer.)\n",
    "\n",
    "Various functions were enhanced, such as [`TransformerASR.encode`](https://speechbrain.readthedocs.io/en/latest/API/speechbrain.lobes.models.transformer.TransformerASR.html#speechbrain.lobes.models.transformer.TransformerASR.TransformerASR.encode), to take in a `dynchunktrain_config` as an optional argument.  \n",
    "This parameter allows you to pass a dynamic chunk **training** configuration for this specific batch. When `None`/not passed, nothing is changed.\n",
    "\n",
    "The argument is passed down to each layer, as required. With a stock Conformer configuration, passing this object is all you need to make the encoder module streaming-capable. This makes it rather easy to navigate through the code.\n",
    "\n",
    "### Changes to the `.yaml`\n",
    "\n",
    "These following snippets are relevant:\n",
    "\n",
    "```yaml\n",
    "streaming: True  # controls all Dynamic Chunk Training & chunk size & left context mechanisms\n",
    "```\n",
    "\n",
    "As described just before, the config sampler is useful to describe the training strategy in hyperparameters:\n",
    "\n",
    "```yaml\n",
    "# Configuration for Dynamic Chunk Training.\n",
    "# In this model, a chunk is roughly equivalent to 40ms of audio.\n",
    "dynchunktrain_config_sampler: !new:speechbrain.utils.dynamic_chunk_training.DynChunkTrainConfigRandomSampler # yamllint disable-line rule:line-length\n",
    "   chunkwise_prob: 0.6 # Probability during a batch to limit attention and sample a random chunk size in the following range\n",
    "   chunk_size_min: 8 # Minimum chunk size (if in a DynChunkTrain batch)\n",
    "   chunk_size_max: 32 # Maximum chunk size (if in a DynChunkTrain batch)\n",
    "   limited_left_context_prob: 0.75 # If in a DynChunkTrain batch, the probability during a batch to restrict left context to a random number of chunks\n",
    "   left_context_chunks_min: 2 # Minimum left context size (in # of chunks)\n",
    "   left_context_chunks_max: 32 # Maximum left context size (in # of chunks)\n",
    "   # If you specify a valid/test config, you can optionally have evaluation be\n",
    "   # done with a specific DynChunkTrain configuration.\n",
    "   # valid_config: !new:speechbrain.utils.dynamic_chunk_training.DynChunkTrainConfig\n",
    "   #    chunk_size: 24\n",
    "   #    left_context_size: 16\n",
    "   # test_config: ...\n",
    "```\n",
    "\n",
    "Make sure that you are using a supported architecture (such as Conformer, with `TransformerASR`'s `causal` parameter set to `False`).\n",
    "\n",
    "Currently, only greedy search is supported in a streaming context. You probably want to make it so that your `test` set is evaluated with greedy search.\n",
    "\n",
    "Additionally, you can specify a `valid_config` or `test_config` to the sampler (see comments) in order to emulate streaming when evaluating your model on either of the sets.\n",
    "\n",
    "### Changes to the `train.py`\n",
    "\n",
    "In the `compute_forward`, you should sample a random config (so that it is different for each batch):\n",
    "\n",
    "```python\n",
    "if self.hparams.streaming:\n",
    "    dynchunktrain_config = self.hparams.dynchunktrain_config_sampler(stage)\n",
    "else:\n",
    "    dynchunktrain_config = None\n",
    "```\n",
    "\n",
    "Then, assuming the encoder is available as an `enc` hyperparameter, edit its call to forward the `dynchunktrain_config`:\n",
    "\n",
    "```python\n",
    "x = self.modules.enc(\n",
    "    src,\n",
    "    #...\n",
    "    dynchunktrain_config=dynchunktrain_config,\n",
    ")\n",
    "```\n",
    "\n",
    "For training, that should be it!"
   ]
  },
  {
   "cell_type": "markdown",
   "id": "94aeb5c5-2717-42f3-9e60-325115f3d055",
   "metadata": {},
   "source": [
    "## Debugging Streaming architectures\n",
    "\n",
    "[`speechbrain.utils.streaming`](https://speechbrain.readthedocs.io/en/latest/API/speechbrain.utils.streaming.html#module-speechbrain.utils.streaming) provides some useful functionality, including debug features we will demonstrate.\n",
    "\n",
    "### Detecting future dependencies in NN layers\n",
    "\n",
    "As you may have noticed, retrofitting streaming support to an existing architecture is not trivial, and it is easy to miss accidental dependencies to the future.  \n",
    "[`speechbrain.utils.streaming.infer_dependency_matrix`](https://speechbrain.readthedocs.io/en/latest/API/speechbrain.utils.streaming.html#speechbrain.utils.streaming.infer_dependency_matrix) can compute a matrix of dependencies between output frames and input frames for you.  \n",
    "It does so by repeatedly calling your module and figuring out which outputs were affected by the randomization of which input.  \n",
    "It can also detect if your model is not deterministic enough, i.e. that two consecutive calls resulted in different data.  \n",
    "\n",
    "The output can then be visualized using [`speechbrain.utils.streaming.plot_dependency_matrix`](https://speechbrain.readthedocs.io/en/latest/API/speechbrain.utils.streaming.html#speechbrain.utils.streaming.plot_dependency_matrix).  \n",
    "A red cell means that a given output can have its value affected by a given input. As a result, these plots might look very familiar if you have seen the previous figures.  \n",
    "Note that due to the implementation, on larger plots and on some models, you might see some random holes. These can be false negatives. Don't rely on `infer_dependency_matrix` to give perfect outputs!\n",
    "\n",
    "Here are examples of dependency plots with actual Conformer layers:"
   ]
  },
  {
   "cell_type": "code",
   "execution_count": 119,
   "id": "5c73e2f8-87f1-4f1a-9c46-2067e58a9d9c",
   "metadata": {},
   "outputs": [
    {
     "data": {
      "image/png": "[encoded data removed]",
      "text/plain": [
       "<Figure size 640x480 with 1 Axes>"
      ]
     },
     "metadata": {},
     "output_type": "display_data"
    }
   ],
   "source": [
    "from speechbrain.lobes.models.transformer.TransformerASR import TransformerASR\n",
    "from speechbrain.utils.streaming import infer_dependency_matrix, plot_dependency_matrix\n",
    "from matplotlib import pyplot as plt\n",
    "\n",
    "noncausal_model = TransformerASR(\n",
    "    tgt_vocab=64,\n",
    "    input_size=64,\n",
    "    d_model=64,\n",
    "    nhead=1,\n",
    "    d_ffn=64,\n",
    "    encoder_module=\"conformer\",\n",
    "    normalize_before=True,\n",
    "    attention_type=\"RelPosMHAXL\",\n",
    "    num_encoder_layers=4,\n",
    "    num_decoder_layers=0,\n",
    "    causal=False,\n",
    ")\n",
    "noncausal_model.eval()\n",
    "noncausal_deps = infer_dependency_matrix(noncausal_model.encode, seq_shape=[1, 16, 64])\n",
    "plot_dependency_matrix(noncausal_deps)\n",
    "plt.show()"
   ]
  },
  {
   "cell_type": "code",
   "execution_count": 120,
   "id": "60a14fc2-c40d-4f2e-9fb0-55ae85fabd5e",
   "metadata": {},
   "outputs": [
    {
     "data": {
      "image/png": "[encoded data removed]",
      "text/plain": [
       "<Figure size 640x480 with 1 Axes>"
      ]
     },
     "metadata": {},
     "output_type": "display_data"
    }
   ],
   "source": [
    "causal_model = TransformerASR(\n",
    "    tgt_vocab=64,\n",
    "    input_size=64,\n",
    "    d_model=64,\n",
    "    nhead=1,\n",
    "    d_ffn=64,\n",
    "    encoder_module=\"conformer\",\n",
    "    normalize_before=True,\n",
    "    attention_type=\"RelPosMHAXL\",\n",
    "    num_encoder_layers=4,\n",
    "    num_decoder_layers=0,\n",
    "    causal=True,\n",
    ")\n",
    "causal_model.eval()\n",
    "causal_deps = infer_dependency_matrix(causal_model.encode, seq_shape=[1, 16, 64])\n",
    "plot_dependency_matrix(causal_deps)\n",
    "plt.show()"
   ]
  },
  {
   "cell_type": "code",
   "execution_count": 121,
   "id": "b086c99f-f54b-4798-890e-a780ff046a62",
   "metadata": {},
   "outputs": [
    {
     "data": {
      "image/png": "[encoded data removed]",
      "text/plain": [
       "<Figure size 640x480 with 1 Axes>"
      ]
     },
     "metadata": {},
     "output_type": "display_data"
    }
   ],
   "source": [
    "from speechbrain.utils.dynamic_chunk_training import DynChunkTrainConfig\n",
    "\n",
    "chunked_model = TransformerASR(\n",
    "    tgt_vocab=64,\n",
    "    input_size=64,\n",
    "    d_model=64,\n",
    "    nhead=1,\n",
    "    d_ffn=64,\n",
    "    encoder_module=\"conformer\",\n",
    "    normalize_before=True,\n",
    "    attention_type=\"RelPosMHAXL\",\n",
    "    num_encoder_layers=4,\n",
    "    num_decoder_layers=0,\n",
    "    causal=False,\n",
    ")\n",
    "chunked_model.eval()\n",
    "chunked_conf = DynChunkTrainConfig(chunk_size=4, left_context_size=1)\n",
    "chunked_deps = infer_dependency_matrix(\n",
    "    lambda x: chunked_model.encode(x, dynchunktrain_config=chunked_conf),\n",
    "    seq_shape=[1, 16, 64],\n",
    ")\n",
    "plot_dependency_matrix(chunked_deps)\n",
    "plt.show()"
   ]
  },
  {
   "cell_type": "markdown",
   "id": "c02122de-e15e-4e63-a81e-71757786cb45",
   "metadata": {},
   "source": [
    "As a reminder, it is normal for the _above_ to have e.g. the output at timestep $t=15$ depend on $t=0$.  \n",
    "In none of the layers does $t=15$ _directly_ attend to $t=0$. Read the chunked attention section for more details.\n",
    "\n",
    "If we want to see pure chunking without any left context, we can reduce the kernel size of the convolution module, disable left context entirely, and observe the following:"
   ]
  },
  {
   "cell_type": "code",
   "execution_count": 124,
   "id": "562db0b9-da1a-45ee-a661-56c93dd46a1c",
   "metadata": {},
   "outputs": [
    {
     "data": {
      "image/png": "[encoded data removed]",
      "text/plain": [
       "<Figure size 640x480 with 1 Axes>"
      ]
     },
     "metadata": {},
     "output_type": "display_data"
    }
   ],
   "source": [
    "from speechbrain.utils.dynamic_chunk_training import DynChunkTrainConfig\n",
    "\n",
    "chunked_model_nopast = TransformerASR(\n",
    "    tgt_vocab=64,\n",
    "    input_size=64,\n",
    "    d_model=64,\n",
    "    nhead=1,\n",
    "    d_ffn=64,\n",
    "    encoder_module=\"conformer\",\n",
    "    normalize_before=True,\n",
    "    attention_type=\"RelPosMHAXL\",\n",
    "    num_encoder_layers=4,\n",
    "    num_decoder_layers=0,\n",
    "    kernel_size=1,\n",
    "    causal=False,\n",
    ")\n",
    "chunked_model_nopast.eval()\n",
    "chunked_conf = DynChunkTrainConfig(chunk_size=4, left_context_size=0)\n",
    "chunked_deps = infer_dependency_matrix(\n",
    "    lambda x: chunked_model_nopast.encode(x, dynchunktrain_config=chunked_conf),\n",
    "    seq_shape=[1, 16, 64],\n",
    ")\n",
    "plot_dependency_matrix(chunked_deps)\n",
    "plt.show()"
   ]
  },
  {
   "cell_type": "markdown",
   "id": "d308b9b7-fc7c-4e6f-a8d8-5f502346d3fd",
   "metadata": {},
   "source": [
    "## Inference: The gory details\n",
    "\n",
    "### Wrapping the feature extractor for inference\n",
    "\n",
    "We briefly touched on wrapping the feature extractor for streaming inference. The Conformer feature extractor we use here has essentially three layers:\n",
    "\n",
    "1. Filterbank extraction, derived directly from a fourier transform of the signal (see the [Fourier Transforms and Spectrograms](https://speechbrain.readthedocs.io/en/latest/tutorials/preprocessing/fourier-transform-and-spectrograms.html) and [Speech Features](https://speechbrain.readthedocs.io/en/latest/tutorials/preprocessing/speech-features.html) tutorials)\n",
    "2. Normalization (which we choose to apply per-chunk at streaming, as described earlier -- it doesn't really affect things)\n",
    "3. Two downsampling CNNs, each being a convolution with a stride of 2, effectively dividing the time dimension by 4.\n",
    "\n",
    "We have two problems here:\n",
    "\n",
    "- We define chunk size at transformer level (after feature extraction). Thus, we need to know exactly how many frames we should give the extractor to get the expected shape. For this, we need to know exactly how the feature extractor transforms the shape.\n",
    "- We need to handle left/past and right/future context correctly for the feature extractor to behave basically exactly the same as it did during training.\n",
    "\n",
    "Let's try to visualize the problem. We will define a fairly standard Conformer feature extractor for a 16kHz input waveform. Note that the stride on the x axis is 16, meaning 1ms. Thus, the x axis counts can be seen as milliseconds (and there is in reality 16x more input samples than shown in the plot)."
   ]
  },
  {
   "cell_type": "code",
   "execution_count": 78,
   "id": "01984d22-5b02-4e05-a452-c0d872e7844c",
   "metadata": {},
   "outputs": [
    {
     "data": {
      "image/png": "[encoded data removed]",
      "text/plain": [
       "<Figure size 1500x1000 with 1 Axes>"
      ]
     },
     "metadata": {},
     "output_type": "display_data"
    }
   ],
   "source": [
    "from speechbrain.utils.streaming import infer_dependency_matrix, plot_dependency_matrix\n",
    "from hyperpyyaml import load_hyperpyyaml\n",
    "from matplotlib import pyplot as plt\n",
    "\n",
    "feat_extractor_hparams = load_hyperpyyaml(\"\"\"\n",
    "compute_features: !new:speechbrain.lobes.features.Fbank\n",
    "   sample_rate: 16000\n",
    "   n_fft: 512\n",
    "   n_mels: 80\n",
    "   win_length: 32\n",
    "\n",
    "cnn: !new:speechbrain.lobes.models.convolution.ConvolutionFrontEnd\n",
    "   input_shape: (8, 10, 80)\n",
    "   num_blocks: 2\n",
    "   num_layers_per_block: 1\n",
    "   out_channels: (64, 32)\n",
    "   kernel_sizes: (3, 3)\n",
    "   strides: (2, 2)\n",
    "   residuals: (False, False)\n",
    "\n",
    "feat_extractor: !new:speechbrain.nnet.containers.LengthsCapableSequential\n",
    "    - !ref <compute_features>\n",
    "    - !ref <cnn>\n",
    "\n",
    "properties: !apply:speechbrain.utils.filter_analysis.stack_filter_properties\n",
    "    - [!ref <compute_features>, !ref <cnn>]\n",
    "\"\"\")\n",
    "feat_extractor_hparams[\"cnn\"].eval()\n",
    "\n",
    "feat_extractor_deps = infer_dependency_matrix(\n",
    "    # we need some shape magic here to adapt the input and output shape to what infer_dependency_matrix expects\n",
    "    # for the input, squeeze the feature dimension\n",
    "    # for the output, flatten the channels dim as the output is of shape [batch, t, c0, c1]\n",
    "    lambda x: feat_extractor_hparams[\"feat_extractor\"](x.squeeze(-1)).flatten(2),\n",
    "    # 100ms audio (@16kHz)\n",
    "    seq_shape=[1, 3200, 1],\n",
    "    # 1ms stride (@16kHz)\n",
    "    in_stride=16,\n",
    ")\n",
    "feat_extractor_fig = plot_dependency_matrix(feat_extractor_deps)\n",
    "feat_extractor_fig.set_size_inches(15, 10)\n",
    "plt.show()"
   ]
  },
  {
   "cell_type": "markdown",
   "id": "5b68025c-ae74-4a0d-88d0-038efd62002e",
   "metadata": {},
   "source": [
    "#### Using and defining filter properties\n",
    "\n",
    "To solve this:\n",
    "\n",
    "1. We consider filterbank extraction and the CNN as filters (in the signal processing sense) with a specific stride, kernel size (plus dilation and causality which we don't use here). In SpeechBrain, this data is represented as [`FilterProperties`](https://speechbrain.readthedocs.io/en/latest/API/speechbrain.utils.filter_analysis.html#speechbrain.utils.filter_analysis.FilterProperties).  \n",
    "2. We provide [`get_filter_properties` methods](https://speechbrain.readthedocs.io/en/latest/search.html?q=get_filter_properties&check_keywords=yes&area=default) for some modules (note that not many have it yet).  \n",
    "3. [`stack_filter_properties`](https://speechbrain.readthedocs.io/en/latest/API/speechbrain.utils.filter_analysis.html#speechbrain.utils.filter_analysis.stack_filter_properties) is then used to \"stack\" these filters and get the resulting properties for the entire feature extractor.\n",
    "\n",
    "Let's demonstrate these."
   ]
  },
  {
   "cell_type": "code",
   "execution_count": 63,
   "id": "016df691-6805-41b2-b415-0cb0d787bb50",
   "metadata": {},
   "outputs": [
    {
     "name": "stdout",
     "output_type": "stream",
     "text": [
      "Filter properties of the fbank module (including the STFT):\n",
      "    fbank -> FilterProperties(window_size=512, stride=160, dilation=1, causal=False)\n",
      "\n",
      "Filter properties of the downsampling CNN:\n",
      "    ... of each layer:\n",
      "    cnn[0] -> FilterProperties(window_size=3, stride=2, dilation=1, causal=False)\n",
      "    cnn[1] -> FilterProperties(window_size=3, stride=2, dilation=1, causal=False)\n",
      "\n",
      "    ... with both layers stacked:\n",
      "    cnn    -> FilterProperties(window_size=7, stride=4, dilation=1, causal=False)\n",
      "\n",
      "Properties of the whole extraction module (fbank+CNN stacked):\n",
      "    both   -> FilterProperties(window_size=1473, stride=640, dilation=1, causal=False)\n"
     ]
    }
   ],
   "source": [
    "from speechbrain.utils.filter_analysis import stack_filter_properties\n",
    "\n",
    "print(f\"\"\"Filter properties of the fbank module (including the STFT):\n",
    "    fbank -> {feat_extractor_hparams[\"compute_features\"].get_filter_properties()}\n",
    "\n",
    "Filter properties of the downsampling CNN:\n",
    "    ... of each layer:\n",
    "    cnn[0] -> {feat_extractor_hparams[\"cnn\"][\"convblock_0\"].get_filter_properties()}\n",
    "    cnn[1] -> {feat_extractor_hparams[\"cnn\"][\"convblock_1\"].get_filter_properties()}\n",
    "\n",
    "    ... with both layers stacked:\n",
    "    cnn    -> {feat_extractor_hparams[\"cnn\"].get_filter_properties()}\n",
    "\n",
    "Properties of the whole extraction module (fbank+CNN stacked):\n",
    "    both   -> {feat_extractor_hparams[\"properties\"]}\"\"\")"
   ]
  },
  {
   "cell_type": "markdown",
   "id": "b47aacee-9812-4d19-a557-380edf6ee84e",
   "metadata": {},
   "source": [
    "The stride of the extraction module is 640 input frames. Since we're dealing with 16kHz, that amounts to a stride of effectively around `640/16000=40ms`.  \n",
    "And thus, a chunk size of 16 basically means we will shift the input by `16*40ms=640ms` every chunk, excluding worries about window size and padding.  \n",
    "Note how stride is relatively straightforward to compute here. You might notice how it is the product of all three strides. Window size is a bit more involved, see [`FilterProperties.with_on_top`](https://speechbrain.readthedocs.io/en/latest/_modules/speechbrain/utils/filter_analysis.html#FilterProperties.with_on_top) for the whole implementation.\n",
    "\n",
    "The end result is that we can treat the feature extractor as a simple filter with known properties. This solves both of our earlier problems, because we know both:\n",
    "\n",
    "- The number of input frames that are required for the feature extractor to produce `chunk_size` timesteps (at transformer level).\n",
    "- The window size (along with the other properties) which enables us to know exactly how many frames we need to keep around as left and right context.\n",
    "    -  **Important note:** The effective window size of the feature extractor has a direct negative implication on latency! The window size should never be so high it get closes to the chunk size (in terms of input frames).\n",
    "\n",
    "#### Automatically wrapping a non-streaming extractor\n",
    "\n",
    "[`StreamingFeatureWrapper`](https://speechbrain.readthedocs.io/en/latest/API/speechbrain.lobes.features.html#speechbrain.lobes.features.StreamingFeatureWrapper) is the final piece of the feature extraction puzzle, and it turns our somewhat arbitrary feature extractor into a purely chunkwise one, which takes a fixed, known amount of input frames (see [`StreamingFeatureWrapper.forward`](https://speechbrain.readthedocs.io/en/latest/API/speechbrain.lobes.features.html#speechbrain.lobes.features.StreamingFeatureWrapper.forward)).  \n",
    "This is a low-level demonstration use of it if you are curious; this is otherwise fully abstracted by `StreamingASR`!"
   ]
  },
  {
   "cell_type": "code",
   "execution_count": 85,
   "id": "a3c9542a-48c1-414f-9fd8-768d2c2c823a",
   "metadata": {},
   "outputs": [
    {
     "name": "stdout",
     "output_type": "stream",
     "text": [
      "Chunk size selected: 4 (2556 frames, 159.750ms)\n",
      "(bs, t, ch0, ch1) = (1, 4, 20, 32)\n",
      "(bs, t, ch0, ch1) = (1, 4, 20, 32)\n",
      "(bs, t, ch0, ch1) = (1, 4, 20, 32)\n",
      "(bs, t, ch0, ch1) = (1, 4, 20, 32)\n"
     ]
    }
   ],
   "source": [
    "from speechbrain.lobes.features import StreamingFeatureWrapper\n",
    "from speechbrain.utils.dynamic_chunk_training import DynChunkTrainConfig\n",
    "\n",
    "feature_wrapper = StreamingFeatureWrapper(\n",
    "    module=feat_extractor_hparams[\"feat_extractor\"],\n",
    "    properties=feat_extractor_hparams[\"properties\"],\n",
    ")\n",
    "\n",
    "filter_properties = feat_extractor_hparams[\"properties\"]\n",
    "chunk_size = 4\n",
    "# see: StreamingFeatureWrapper.forward docs\n",
    "# reason for the `-1` is that the stride is only applied `window_size-1` times in such a filter\n",
    "chunk_size_frames = (filter_properties.stride - 1) * chunk_size\n",
    "batch_size = 1\n",
    "\n",
    "# a fair amount of streaming stuff carries around _streaming contexts_, which are opaque objects\n",
    "# that you are meant to reuse across calls for the same streaming session.\n",
    "# these will be detailed further in the next subsection.\n",
    "streaming_context = feature_wrapper.make_streaming_context()\n",
    "\n",
    "print(\n",
    "    f\"Chunk size selected: {chunk_size} ({chunk_size_frames} frames, {1000 * chunk_size_frames / 16000:.3f}ms)\"\n",
    ")\n",
    "\n",
    "for t in range(4):  # imagine we're iterating over a stream, etc.\n",
    "    sample_chunk = torch.rand((batch_size, chunk_size_frames))\n",
    "    latest_outs = feature_wrapper(sample_chunk, context=streaming_context)\n",
    "    print(f\"(bs, t, ch0, ch1) = {tuple(latest_outs.shape)}\")  # output for our chunk!\n",
    "\n",
    "# normally you _may_ have to inject a final chunk of zeros.\n",
    "# see StreamingASR for an example implementation."
   ]
  },
  {
   "cell_type": "markdown",
   "id": "7794fbc5-2436-4dd5-807a-cd5d28f8e82a",
   "metadata": {},
   "source": [
    "This doesn't tell us _what_ it really does. [The source code for `StreamingFeatureWrapper.forward`](https://speechbrain.readthedocs.io/en/latest/_modules/speechbrain/lobes/features.html#StreamingFeatureWrapper.forward) really best illustrates this:\n",
    "\n",
    "```python\n",
    "feat_pad_size = self.get_required_padding()\n",
    "num_outputs_per_pad = self.get_output_count_per_pad_frame()\n",
    "\n",
    "# consider two audio chunks of 6 samples (for the example), where\n",
    "# each sample is denoted by 1, 2, ..., 6\n",
    "# so chunk 1 is 123456 and chunk 2 is 123456\n",
    "if context.left_context is None:\n",
    "    # for the first chunk we left pad the input by two padding's worth of zeros,\n",
    "    # and truncate the right, so that we can pretend to have right padding and\n",
    "    # still consume the same amount of samples every time\n",
    "    #\n",
    "    # our first processed chunk will look like:\n",
    "    # 0000123456\n",
    "    #         ^^ right padding (truncated)\n",
    "    #   ^^^^^^ frames that some outputs are centered on\n",
    "    # ^^ left padding (truncated)\n",
    "    chunk = torch.nn.functional.pad(chunk, (feat_pad_size * 2, 0))\n",
    "else:\n",
    "    # prepend left context\n",
    "    #\n",
    "    # for the second chunk ownwards, given the above example:\n",
    "    # 34 of the previous chunk becomes left padding\n",
    "    # 56 of the previous chunk becomes the first frames of this chunk\n",
    "    # thus on the second iteration (and onwards) it will look like:\n",
    "    # 3456123456\n",
    "    #         ^^ right padding (truncated)\n",
    "    #   ^^^^^^ frames that some outputs are centered on\n",
    "    # ^^ left padding (truncated)\n",
    "    chunk = torch.cat((context.left_context, chunk), 1)\n",
    "\n",
    "# our chunk's right context will become the start of the \"next processed chunk\"\n",
    "# plus we need left padding for that one, so make it double\n",
    "context.left_context = chunk[:, -feat_pad_size * 2 :]\n",
    "\n",
    "feats = self.module(chunk, *extra_args, **extra_kwargs)\n",
    "\n",
    "# truncate left and right context\n",
    "feats = feats[:, num_outputs_per_pad:-num_outputs_per_pad, ...]\n",
    "\n",
    "return feats\n",
    "```"
   ]
  },
  {
   "cell_type": "markdown",
   "id": "03d0bfe1-6452-4b56-97f0-9b9a9bea15db",
   "metadata": {},
   "source": [
    "In the above case, we effectively induce padding/latency of >80ms, as shown below:"
   ]
  },
  {
   "cell_type": "code",
   "execution_count": 89,
   "id": "6f4f7fa0-c8e0-471c-8317-a4eb401298e9",
   "metadata": {},
   "outputs": [
    {
     "name": "stdout",
     "output_type": "stream",
     "text": [
      "80.0ms\n"
     ]
    }
   ],
   "source": [
    "print(f\"{1000 * feature_wrapper.get_required_padding() / 16000}ms\")"
   ]
  },
  {
   "cell_type": "markdown",
   "id": "ed27ad5a-3e50-46e6-b872-b30e82be0103",
   "metadata": {},
   "source": [
    "This isn't _great_, but is not a _huge_ penalty to typical chunk sizes in the order of 500-1000ms.  \n",
    "It does, however, underline that while you can poke around the feature extractor, you should remain careful of its effective window size not exploding."
   ]
  },
  {
   "cell_type": "markdown",
   "id": "329f7ab7-fb9e-4bc5-abf6-ff9de025d2d2",
   "metadata": {},
   "source": [
    "### Streaming context objects\n",
    "\n",
    "In order to implement streaming, we need to cache/store arbitrary tensors of context to reuse for subsequent chunks.\n",
    "\n",
    "Because these are extremely model-specific, and don't really ever share functionality, these were implemented in the form of dataclasses that are:\n",
    "\n",
    "- **Mutable**: The context object gets updated after a forward pass for a given chunk. The same object should be passed over again for the next processed chunk.\n",
    "- **Recursive**: A context object might contain any amount of context objects.\n",
    "- **Opaque**: These contained context objects can be of an arbitrary other context object type, treated as black boxes that are to be moved around.\n",
    "\n",
    "Each such object holds any required configuration and a batch of streaming sessions. The object is to be reused for each subsequent call of whatever layer it's called on.\n",
    "\n",
    "#### Examples\n",
    "\n",
    "The top-level class of our Conformer encoder is the [`TransformerASR`](https://speechbrain.readthedocs.io/en/latest/API/speechbrain.lobes.models.transformer.TransformerASR.html#module-speechbrain.lobes.models.transformer.TransformerASR) abstraction.\n",
    "\n",
    "[`TransformerASRStreamingContext`](https://speechbrain.readthedocs.io/en/latest/API/speechbrain.lobes.models.transformer.TransformerASR.html#speechbrain.lobes.models.transformer.TransformerASR.TransformerASRStreamingContext) is its relevant \"streaming context\". It is defined as:\n",
    "\n",
    "```python\n",
    "@dataclass\n",
    "class TransformerASRStreamingContext:\n",
    "    \"\"\"Streaming metadata and state for a `TransformerASR` instance.\"\"\"\n",
    "\n",
    "    dynchunktrain_config: DynChunkTrainConfig\n",
    "    \"\"\"Dynamic Chunk Training configuration holding chunk size and context size\n",
    "    information.\"\"\"\n",
    "\n",
    "    encoder_context: Any\n",
    "    \"\"\"Opaque encoder context information. It is constructed by the encoder's\n",
    "    `make_streaming_context` method and is passed to the encoder when using\n",
    "    `encode_streaming`.\n",
    "    \"\"\"\n",
    "```\n",
    "\n",
    "In the above case, `encoder_context` is a field of an arbitrary type, depending on the exact encoder selected.  \n",
    "`TransformerASR` doesn't need to know the details of it; it merely needs to be able to create, store, and pass it around (e.g. `TransformerASR.encode_streaming` will call `encoder.forward_streaming` with `context=context.encoder_context`).\n",
    "\n",
    "For the Conformer, this would be a [`ConformerEncoderStreamingContext`](https://speechbrain.readthedocs.io/en/latest/API/speechbrain.lobes.models.transformer.Conformer.html#speechbrain.lobes.models.transformer.Conformer.ConformerEncoderStreamingContext), which needs to hold a list of [`ConformerEncoderLayerStreamingContext`](https://speechbrain.readthedocs.io/en/latest/API/speechbrain.lobes.models.transformer.Conformer.html#speechbrain.lobes.models.transformer.Conformer.ConformerEncoderLayerStreamingContext)s (documentation stripped):\n",
    "\n",
    "```python\n",
    "@dataclass\n",
    "class ConformerEncoderStreamingContext:\n",
    "    dynchunktrain_config: DynChunkTrainConfig\n",
    "    layers: List[ConformerEncoderLayerStreamingContext]\n",
    "```\n",
    "\n",
    "The [`ConformerEncoderLayerStreamingContext`](https://speechbrain.readthedocs.io/en/latest/API/speechbrain.lobes.models.transformer.Conformer.html#speechbrain.lobes.models.transformer.Conformer.ConformerEncoderLayerStreamingContext) itself needs to store a bunch of tensors (documentation stripped):\n",
    "\n",
    "```python\n",
    "@dataclass\n",
    "class ConformerEncoderLayerStreamingContext:\n",
    "    mha_left_context_size: int\n",
    "    mha_left_context: Optional[torch.Tensor] = None\n",
    "    dcconv_left_context: Optional[torch.Tensor] = None\n",
    "```\n",
    "\n",
    "Thus, if you had a `TransformerASRStreamingContext` object configured for a Conformer, you could reach the first layer's `mha_left_context` cache object through `context.encoder_context.layers[0].mha_left_context`.\n",
    "\n",
    "#### Creating streaming context objects\n",
    "\n",
    "Much like each module will have a corresponding `StreamingContext` dataclass, they should also specify a `make_streaming_context` method. This will either be called by a parent module or by the user. Usually, it will take a single [`DynChunkTrainConfig`](https://speechbrain.readthedocs.io/en/latest/API/speechbrain.utils.dynamic_chunk_training.html#speechbrain.utils.dynamic_chunk_training.DynChunkTrainConfig) object, with some exceptions.  \n",
    "And much like the data structure of contexts is arbitrarily recursive, `make_streaming_context` may call into submodules' own `make_streaming_context` method.\n",
    "\n",
    "Let's demonstrate by reusing a `TransformerASR` we initialized earlier:"
   ]
  },
  {
   "cell_type": "code",
   "execution_count": 106,
   "id": "7b3fc845-5fc2-409c-a29a-724ef2f44543",
   "metadata": {},
   "outputs": [
    {
     "data": {
      "text/plain": [
       "TransformerASRStreamingContext(dynchunktrain_config=DynChunkTrainConfig(chunk_size=16, left_context_size=2), encoder_context=ConformerEncoderStreamingContext(dynchunktrain_config=DynChunkTrainConfig(chunk_size=16, left_context_size=2), layers=[ConformerEncoderLayerStreamingContext(mha_left_context_size=32, mha_left_context=None, dcconv_left_context=None), ConformerEncoderLayerStreamingContext(mha_left_context_size=32, mha_left_context=None, dcconv_left_context=None), ConformerEncoderLayerStreamingContext(mha_left_context_size=32, mha_left_context=None, dcconv_left_context=None), ConformerEncoderLayerStreamingContext(mha_left_context_size=32, mha_left_context=None, dcconv_left_context=None)]))"
      ]
     },
     "execution_count": 106,
     "metadata": {},
     "output_type": "execute_result"
    }
   ],
   "source": [
    "test_context = chunked_model.make_streaming_context(DynChunkTrainConfig(16, 2))\n",
    "test_context"
   ]
  },
  {
   "cell_type": "markdown",
   "id": "3169a70b-ffeb-4f7a-b43a-1004dc2df3e8",
   "metadata": {},
   "source": [
    "### Streaming forward methods\n",
    "\n",
    "For the modules that require a streaming context, streaming inference requires using a different method than the usual `forward`, typically `forward_streaming` (but not necessarily, e.g. see `TransformerASR.encode_streaming`).\n",
    "\n",
    "See the following practical example. Here, we choose a **chunk size of 16**, and a **left context size of 4 chunks**. Watch, for each subsequent chunks, the left context tensor growing in size as the left context comes in. Once enough chunks were accumulated, the left context tensor stays at that length."
   ]
  },
  {
   "cell_type": "code",
   "execution_count": 140,
   "id": "0ef82c0f-5288-4cce-aef1-38178d2285b6",
   "metadata": {},
   "outputs": [
    {
     "name": "stdout",
     "output_type": "stream",
     "text": [
      "chunk #0:\n",
      "\tbefore forward MHA left context: (None)\n",
      "\tencode_streaming output:         (1, 16, 64)\n",
      "chunk #1:\n",
      "\tbefore forward MHA left context: (1, 16, 64)\n",
      "\tencode_streaming output:         (1, 16, 64)\n",
      "chunk #2:\n",
      "\tbefore forward MHA left context: (1, 32, 64)\n",
      "\tencode_streaming output:         (1, 16, 64)\n",
      "chunk #3:\n",
      "\tbefore forward MHA left context: (1, 48, 64)\n",
      "\tencode_streaming output:         (1, 16, 64)\n",
      "chunk #4:\n",
      "\tbefore forward MHA left context: (1, 64, 64)\n",
      "\tencode_streaming output:         (1, 16, 64)\n",
      "chunk #5:\n",
      "\tbefore forward MHA left context: (1, 64, 64)\n",
      "\tencode_streaming output:         (1, 16, 64)\n",
      "chunk #6:\n",
      "\tbefore forward MHA left context: (1, 64, 64)\n",
      "\tencode_streaming output:         (1, 16, 64)\n",
      "chunk #7:\n",
      "\tbefore forward MHA left context: (1, 64, 64)\n",
      "\tencode_streaming output:         (1, 16, 64)\n"
     ]
    }
   ],
   "source": [
    "test_context = chunked_model.make_streaming_context(DynChunkTrainConfig(16, 4))\n",
    "for chunk_id in range(8):\n",
    "    print(f\"chunk #{chunk_id}:\")\n",
    "    test_chunk = torch.rand((1, 16, 64))\n",
    "    test_mha_context = test_context.encoder_context.layers[0].mha_left_context\n",
    "    model_output = chunked_model.encode_streaming(test_chunk, context=test_context)\n",
    "\n",
    "    print(\n",
    "        f\"\\tbefore forward MHA left context: {tuple(test_mha_context.shape) if test_mha_context is not None else '(None)'}\"\n",
    "    )\n",
    "    print(f\"\\tencode_streaming output:         {tuple(model_output.shape)}\")"
   ]
  },
  {
   "cell_type": "markdown",
   "id": "ee0a6b94-185c-40be-bcff-7182ba5ace46",
   "metadata": {},
   "source": [
    "### Streaming tokenizers\n",
    "\n",
    "A small detail we nevertheless need to care about is tokenization in a streaming context.\n",
    "\n",
    "Normally, the tokenizer always decodes full sentences at a time, with the consequence that the first space in decoding (e.g. in a `▁are` token) will get removed.  \n",
    "However, when streaming, we might be decoding mid-utterance where spaces must not be removed mid-sentence. [`spm_decode_preserve_leading_space`](https://speechbrain.readthedocs.io/en/latest/API/speechbrain.tokenizers.SentencePiece.html#speechbrain.tokenizers.SentencePiece.spm_decode_preserve_leading_space) handles this case and requires carrying around a small context object.\n",
    "\n",
    "### Streaming transducer Greedy Search\n",
    "\n",
    "[`TransducerBeamSearcher`](https://speechbrain.readthedocs.io/en/latest/API/speechbrain.decoders.transducer.html#speechbrain.decoders.transducer.TransducerBeamSearcher) provides a [`transducer_greedy_decode_streaming`](https://speechbrain.readthedocs.io/en/latest/API/speechbrain.decoders.transducer.html#speechbrain.decoders.transducer.TransducerBeamSearcher.transducer_greedy_decode_streaming) method, which like other `_streaming` methods, requires the user to make and carry around a context object.\n",
    "\n",
    "It is, in this case, a rather simple wrapper that caches and passes around the latest hidden state of the greedy searcher."
   ]
  },
  {
   "cell_type": "markdown",
   "id": "dca4481c-afd0-4ee8-980d-acb5b4e4dfc8",
   "metadata": {},
   "source": [
    "## Inference: Practical example with `StreamingASR`\n",
    "\n",
    "### From trained model to `StreamingASR` hyperparameters\n",
    "\n",
    "Currently, in SpeechBrain, you need to define a separate hyperparamters file for training and inference. You can mostly copy the training hyperparameters and remove/add keys as relevant for inference.  \n",
    "In this case, [`speechbrain.inference.ASR.StreamingASR`](https://speechbrain.readthedocs.io/en/latest/API/speechbrain.inference.ASR.html#speechbrain.inference.ASR.StreamingASR), the higher level inference interface, requires a certain set of **keys and modules** to be defined by inference hyperparameters, in a relatively flexible way.\n",
    "\n",
    "If you [look at the documentation](https://speechbrain.readthedocs.io/en/latest/API/speechbrain.inference.ASR.html#speechbrain.inference.ASR.StreamingASR), you can find the following hyperparameter keys and `modules` dict entries requirements:\n",
    "\n",
    "```python\n",
    "HPARAMS_NEEDED = [\n",
    "    \"fea_streaming_extractor\",\n",
    "    \"make_decoder_streaming_context\",\n",
    "    \"decoding_function\",\n",
    "    \"make_tokenizer_streaming_context\",\n",
    "    \"tokenizer_decode_streaming\",\n",
    "]\n",
    "MODULES_NEEDED = [\"enc\", \"proj_enc\"]\n",
    "```\n",
    "\n",
    "Let's look at what this entails. For our Conformer model, we can use [`speechbrain/asr-streaming-conformer-librispeech`](https://huggingface.co/speechbrain/asr-streaming-conformer-librispeech/blob/main/hyperparams.yaml) as a reference. (As a reminder, keys initialized with `!name:` are merely references to functions here.) See:\n",
    "\n",
    "```yaml\n",
    "make_tokenizer_streaming_context: !name:speechbrain.tokenizers.SentencePiece.SentencePieceDecoderStreamingContext\n",
    "tokenizer_decode_streaming: !name:speechbrain.tokenizers.SentencePiece.spm_decode_preserve_leading_space\n",
    "\n",
    "make_decoder_streaming_context: !name:speechbrain.decoders.transducer.TransducerGreedySearcherStreamingContext # default constructor\n",
    "decoding_function: !name:speechbrain.decoders.transducer.TransducerBeamSearcher.transducer_greedy_decode_streaming\n",
    "   - !ref <Greedysearcher>  # self\n",
    "\n",
    "fea_streaming_extractor: !new:speechbrain.lobes.features.StreamingFeatureWrapper\n",
    "   module: !new:speechbrain.nnet.containers.LengthsCapableSequential\n",
    "      - !ref <compute_features>\n",
    "      - !ref <normalize>\n",
    "      - !ref <CNN>\n",
    "   # don't consider normalization as part of the input filter chain.\n",
    "   # normalization will operate at chunk level, which mismatches training\n",
    "   # somewhat, but does not appear to result in noticeable degradation.\n",
    "   properties: !apply:speechbrain.utils.filter_analysis.stack_filter_properties\n",
    "      - [!ref <compute_features>, !ref <CNN>]\n",
    "```\n",
    "\n",
    "With the prior details, nothing should be particularly surprising here. But, in more detail, the idea is to give some amount of flexibility to the model via the hyperparameters file. We effectively need to define:\n",
    "\n",
    "1. `fea_streaming_extractor` which is a [`StreamingFeatureWrapper`](https://speechbrain.readthedocs.io/en/latest/API/speechbrain.lobes.features.html#speechbrain.lobes.features.StreamingFeatureWrapper) (or anything with a compatible API, really), and processes the input waveform (alongside providing filter properties and such)\n",
    "2. `modules.enc` and `modules.proj_enc`, the actual encoder, [see the source for `StreamingASR.encode_chunk`](https://speechbrain.readthedocs.io/en/latest/_modules/speechbrain/inference/ASR.html#StreamingASR.encode_chunk)\n",
    "3. `decoding_function` which can be called as `hparams.decoding_function(output_of_enc, context=decoding_context)`, where...\n",
    "4. ... the `decoding_context` is initialized from `hparams.make_decoder_streaming_context()`\n",
    "5. `tokenizer_decode_streaming` and `make_decoder_streaming_context`, [see the source for `StreamingASR.decode_chunk`](https://speechbrain.readthedocs.io/en/latest/_modules/speechbrain/inference/ASR.html#StreamingASR.decode_chunk)\n",
    "\n",
    "As for the files you need to move from the save directory after training, into a typical streaming Conformer model directory for `StreamingASR`, these basically are:\n",
    "\n",
    "- `hyperparams.yaml` (modified for inference)\n",
    "- `model.ckpt`\n",
    "- `normalizer.ckpt`\n",
    "- `tokenizer.ckpt`"
   ]
  },
  {
   "cell_type": "markdown",
   "id": "dbc1da3c-e575-453a-9a43-5e314b3f2847",
   "metadata": {},
   "source": [
    "### Inference with `StreamingASR`\n",
    "\n",
    "Let's make use of [`speechbrain/asr-streaming-conformer-librispeech`](https://huggingface.co/speechbrain/asr-streaming-conformer-librispeech/) to demonstrate streaming audio decoding."
   ]
  },
  {
   "cell_type": "code",
   "execution_count": 5,
   "id": "5a36cb12-3aed-44ef-9cf6-6938e703cf43",
   "metadata": {},
   "outputs": [
    {
     "name": "stderr",
     "output_type": "stream",
     "text": [
      "INFO:speechbrain.utils.fetching:Fetch hyperparams.yaml: Fetching from HuggingFace Hub 'speechbrain/asr-streaming-conformer-librispeech' if not cached\n",
      "INFO:speechbrain.utils.fetching:Fetch custom.py: Fetching from HuggingFace Hub 'speechbrain/asr-streaming-conformer-librispeech' if not cached\n",
      "INFO:speechbrain.utils.fetching:Fetch model.ckpt: Fetching from HuggingFace Hub 'speechbrain/asr-streaming-conformer-librispeech' if not cached\n",
      "INFO:speechbrain.utils.fetching:Fetch model.ckpt: Fetching from HuggingFace Hub 'speechbrain/asr-streaming-conformer-librispeech' if not cached\n",
      "INFO:speechbrain.utils.fetching:Fetch normalizer.ckpt: Fetching from HuggingFace Hub 'speechbrain/asr-streaming-conformer-librispeech' if not cached\n",
      "INFO:speechbrain.utils.fetching:Fetch normalizer.ckpt: Fetching from HuggingFace Hub 'speechbrain/asr-streaming-conformer-librispeech' if not cached\n",
      "INFO:speechbrain.utils.fetching:Fetch tokenizer.ckpt: Fetching from HuggingFace Hub 'speechbrain/asr-streaming-conformer-librispeech' if not cached\n",
      "INFO:speechbrain.utils.fetching:Fetch tokenizer.ckpt: Fetching from HuggingFace Hub 'speechbrain/asr-streaming-conformer-librispeech' if not cached\n",
      "INFO:speechbrain.utils.parameter_transfer:Loading pretrained files for: model, normalizer, tokenizer\n"
     ]
    }
   ],
   "source": [
    "from speechbrain.inference.ASR import StreamingASR\n",
    "from speechbrain.utils.dynamic_chunk_training import DynChunkTrainConfig\n",
    "\n",
    "asr_model = StreamingASR.from_hparams(\"speechbrain/asr-streaming-conformer-librispeech\")"
   ]
  },
  {
   "cell_type": "markdown",
   "id": "fc628080-3a34-43ba-9177-694ecf6b78d4",
   "metadata": {},
   "source": [
    "Here is a simple transcription example, which _does_ perform chunkwise inference:"
   ]
  },
  {
   "cell_type": "code",
   "execution_count": 6,
   "id": "d8897dd9-3ef8-4afa-94ee-4a178f1dd592",
   "metadata": {},
   "outputs": [
    {
     "name": "stderr",
     "output_type": "stream",
     "text": [
      "INFO:speechbrain.utils.fetching:Fetch test-en.wav: Fetching from HuggingFace Hub 'speechbrain/asr-streaming-conformer-librispeech' if not cached\n"
     ]
    },
    {
     "data": {
      "text/plain": [
       "'THE BIRCH CANOE SLID ON THE SMOOTH PLANKS'"
      ]
     },
     "execution_count": 6,
     "metadata": {},
     "output_type": "execute_result"
    }
   ],
   "source": [
    "asr_model.transcribe_file(\n",
    "    \"speechbrain/asr-streaming-conformer-librispeech/test-en.wav\",\n",
    "    # select a chunk size of ~960ms with 4 chunks of left context\n",
    "    DynChunkTrainConfig(24, 4),\n",
    "    # disable torchaudio streaming to allow fetching from HuggingFace\n",
    "    # set this to True for your own files or streams to allow for streaming file decoding\n",
    "    use_torchaudio_streaming=False,\n",
    ")"
   ]
  },
  {
   "cell_type": "markdown",
   "id": "6ebafd90-4db5-419c-a716-eceb5925aec4",
   "metadata": {},
   "source": [
    "Let's try a more challenging example: transcribing a minutes-long audio file. This would typically result in a sequence that is way too long to process due to the memory and computational cost of transformers on long sequences.\n",
    "\n",
    "This time, let's use [`transcribe_file_streaming`](https://speechbrain.readthedocs.io/en/latest/API/speechbrain.inference.ASR.html#speechbrain.inference.ASR.StreamingASR.transcribe_file_streaming). This method enables us to iterate over the transcribed chunks as they get processed."
   ]
  },
  {
   "cell_type": "code",
   "execution_count": 26,
   "id": "0c392c2b-b6f7-413f-ac7f-8cf5443e2904",
   "metadata": {},
   "outputs": [
    {
     "name": "stderr",
     "output_type": "stream",
     "text": [
      "INFO:speechbrain.utils.fetching:Fetch Economics-of-coffee.ogg: Using existing file/symlink in /home/sdelang/projects/src/python/speechbrain/docs/tutorials/nn/Economics-of-coffee.ogg\n"
     ]
    },
    {
     "name": "stdout",
     "output_type": "stream",
     "text": [
      "  0: \"\"\n",
      "  1: \"\"\n",
      "  2: \"ECONOMICS\"\n",
      "  3: \" OF COFFEE\"\n",
      "  4: \"\"\n",
      "  5: \" FROM\"\n",
      "  6: \" WICKPEDIA\"\n",
      "  7: \" THE FREE\"\n",
      "  8: \" SECLOPAEDIA\"\n",
      "  9: \"\"\n",
      " 10: \"\"\n",
      " 11: \" COFFEE\"\n",
      " 12: \" IS AN IMPORTAN\"\n",
      " 13: \"T COM\"\n",
      " 14: \"MODITY\"\n",
      " 15: \" AND A POPULAR\"\n",
      " 16: \" BEVERAGE\"\n",
      " 17: \"\"\n",
      " 18: \" OVER A TWO POINT\"\n",
      " 19: \" TWO FIVE BILL\"\n",
      " 20: \"ION CUPS\"\n"
     ]
    }
   ],
   "source": [
    "from speechbrain.utils.fetching import fetch\n",
    "\n",
    "long_audio_fname = fetch(\n",
    "    \"Economics-of-coffee.ogg\",\n",
    "    \"https://upload.wikimedia.org/wikipedia/commons/8/81\",\n",
    "    savedir=\".\",\n",
    ")\n",
    "long_audio_chunks = []\n",
    "\n",
    "for i, decoded_chunk in enumerate(\n",
    "    asr_model.transcribe_file_streaming(long_audio_fname, DynChunkTrainConfig(16, 4))\n",
    "):\n",
    "    print(f'{i:>3}: \"{decoded_chunk}\"')\n",
    "    long_audio_chunks.append(decoded_chunk)\n",
    "\n",
    "    # let's just process the 20 first chunks as a demo\n",
    "    if i >= 20:\n",
    "        break"
   ]
  },
  {
   "cell_type": "markdown",
   "id": "9a9e8428-a640-4745-a17f-ea5fe6b99a30",
   "metadata": {},
   "source": [
    "The model made some mistakes (which is not particularly surprising given what it was trained on and what we're testing inference with), but other than that, streaming seems to work just fine, and transcription of words that cross chunks doesn't look garbled."
   ]
  },
  {
   "cell_type": "markdown",
   "id": "e4fe5484-bef5-410a-ba84-da1219b5c357",
   "metadata": {},
   "source": [
    "### ffmpeg live-stream functionality\n",
    "\n",
    "`StreamingASR` has support for torchaudio's ffmpeg streaming functionality. This means that you can easily do things like transcribing web radio streams:"
   ]
  },
  {
   "cell_type": "code",
   "execution_count": 29,
   "id": "330999a6-f446-4ba4-810b-327cf7f8f319",
   "metadata": {},
   "outputs": [
    {
     "name": "stdout",
     "output_type": "stream",
     "text": [
      "THEY WERE SO QUICK THEY DID THIS AIM AND THEN IT TOOK THEM TWO DAYS TO INSTALL THE SECOND DAY THEY WORKED UNTIL AFTER SEVEN P M AND THAT WAS IT I MEAN YET LIKE"
     ]
    }
   ],
   "source": [
    "audio_stream_url = \"http://as-hls-ww-live.akamaized.net/pool_904/live/ww/bbc_radio_fourfm/bbc_radio_fourfm.isml/bbc_radio_fourfm-audio%3d96000.norewind.m3u8\"\n",
    "\n",
    "for i, decoded_chunk in enumerate(\n",
    "    asr_model.transcribe_file_streaming(audio_stream_url, DynChunkTrainConfig(16, 4))\n",
    "):\n",
    "    print(decoded_chunk, end=\"\")\n",
    "\n",
    "    # let's just process the 20 first chunks as a demo\n",
    "    if i >= 20:\n",
    "        break"
   ]
  },
  {
   "cell_type": "markdown",
   "id": "9b067c47-6ca6-4e30-be6e-2499297e0372",
   "metadata": {},
   "source": [
    "### Manually transcribing chunks\n",
    "\n",
    "More examples are available on the [HuggingFace page of the model](https://huggingface.co/speechbrain/asr-streaming-conformer-librispeech). In particular, the Gradio example shows how to process an arbitrary stream of audio chunks yourself, bypassing the audio loading functionality."
   ]
  },
  {
   "cell_type": "markdown",
   "id": "e62ad196-7c92-4dcf-8149-e061e6237ad8",
   "metadata": {},
   "source": [
    "## Alternatives and Further Reading\n",
    "\n",
    "This tutorial covered the modification of a mostly-vanilla Conformer model for chunkwise streaming support.  \n",
    "Over the years, alternatives and improvements to the Conformer model have been developed, in order to improve accuracy, improve runtime performance, lower memory usage, lower real-world latency, or add miscellaneous features.  \n",
    "The following is far from being a complete list, and it doesn't only include architectures that have been successfully adapted to a streaming context.\n",
    "\n",
    "- [Branchformer](https://arxiv.org/abs/2207.02971) (and [E-Branchformer](https://arxiv.org/abs/2210.00077))\n",
    "- [Zipformer](https://arxiv.org/abs/2310.11230) (implemented by k2/[icefall](https://github.com/k2-fsa/icefall), among other Conformer variants, with streaming support implemented)\n",
    "- [FastConformer](https://arxiv.org/abs/2305.05084) (still heavily used by NVIDIA as of 2024, despite its simplicity, and easy to migrate to from a vanilla Conformer)\n",
    "\n",
    "There is also a lot of research around other parts of the training or inference pipeline. We might expand on this list with more references in the future:\n",
    "\n",
    "- [Pruned RNN-T](https://arxiv.org/abs/2206.13236)"
   ]
  },
  {
   "cell_type": "markdown",
   "id": "5e2409d8",
   "metadata": {
    "id": "sb_auto_footer",
    "tags": [
     "sb_auto_footer"
    ]
   },
   "source": [
    "## Citing SpeechBrain\n",
    "\n",
    "If you use SpeechBrain in your research or business, please cite it using the following BibTeX entry:\n",
    "\n",
    "```bibtex\n",
    "@misc{speechbrainV1,\n",
    "  title={Open-Source Conversational AI with {SpeechBrain} 1.0},\n",
    "  author={Mirco Ravanelli and Titouan Parcollet and Adel Moumen and Sylvain de Langen and Cem Subakan and Peter Plantinga and Yingzhi Wang and Pooneh Mousavi and Luca Della Libera and Artem Ploujnikov and Francesco Paissan and Davide Borra and Salah Zaiem and Zeyu Zhao and Shucong Zhang and Georgios Karakasidis and Sung-Lin Yeh and Pierre Champion and Aku Rouhe and Rudolf Braun and Florian Mai and Juan Zuluaga-Gomez and Seyed Mahed Mousavi and Andreas Nautsch and Xuechen Liu and Sangeet Sagar and Jarod Duret and Salima Mdhaffar and Gaelle Laperriere and Mickael Rouvier and Renato De Mori and Yannick Esteve},\n",
    "  year={2024},\n",
    "  eprint={2407.00463},\n",
    "  archivePrefix={arXiv},\n",
    "  primaryClass={cs.LG},\n",
    "  url={https://arxiv.org/abs/2407.00463},\n",
    "}\n",
    "@misc{speechbrain,\n",
    "  title={{SpeechBrain}: A General-Purpose Speech Toolkit},\n",
    "  author={Mirco Ravanelli and Titouan Parcollet and Peter Plantinga and Aku Rouhe and Samuele Cornell and Loren Lugosch and Cem Subakan and Nauman Dawalatabad and Abdelwahab Heba and Jianyuan Zhong and Ju-Chieh Chou and Sung-Lin Yeh and Szu-Wei Fu and Chien-Feng Liao and Elena Rastorgueva and François Grondin and William Aris and Hwidong Na and Yan Gao and Renato De Mori and Yoshua Bengio},\n",
    "  year={2021},\n",
    "  eprint={2106.04624},\n",
    "  archivePrefix={arXiv},\n",
    "  primaryClass={eess.AS},\n",
    "  note={arXiv:2106.04624}\n",
    "}\n",
    "```"
   ]
  }
 ],
 "metadata": {
  "kernelspec": {
   "display_name": "Python 3 (ipykernel)",
   "language": "python",
   "name": "python3"
  },
  "language_info": {
   "codemirror_mode": {
    "name": "ipython",
    "version": 3
   },
   "file_extension": ".py",
   "mimetype": "text/x-python",
   "name": "python",
   "nbconvert_exporter": "python",
   "pygments_lexer": "ipython3",
   "version": "3.12.6"
  }
 },
 "nbformat": 4,
 "nbformat_minor": 5
}
