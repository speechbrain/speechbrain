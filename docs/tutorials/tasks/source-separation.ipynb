{
 "cells": [
  {
   "cell_type": "markdown",
   "metadata": {
    "id": "sb_auto_header",
    "tags": [
     "sb_auto_header"
    ]
   },
   "source": [
    "<!-- This cell is automatically updated by tools/tutorial-cell-updater.py -->\n",
    "<!-- The contents are initialized from tutorials/notebook-header.md -->\n",
    "\n",
    "[<img src=\"https://colab.research.google.com/assets/colab-badge.svg\" alt=\"Open In Colab\"/>](https://colab.research.google.com/github/speechbrain/speechbrain/blob/develop/docs/tutorials/tasks/source-separation.ipynb)\n",
    "to execute or view/download this notebook on\n",
    "[GitHub](https://github.com/speechbrain/speechbrain/tree/develop/docs/tutorials/tasks/source-separation.ipynb)"
   ]
  },
  {
   "cell_type": "markdown",
   "metadata": {
    "id": "fabIezbT125I"
   },
   "source": [
    "# Source Separation\n",
    "\n",
    "## Introduction\n",
    "\n",
    "In source separation, the goal is to be able to separate out the sources from an observed mixture signal which consists of superposition of several sources. Let us demonstrate this with an example."
   ]
  },
  {
   "cell_type": "code",
   "execution_count": null,
   "metadata": {
    "id": "2ZyBlnjRvetT"
   },
   "outputs": [],
   "source": [
    "import numpy as np\n",
    "import matplotlib.pyplot as plt\n",
    "\n",
    "T = 1000\n",
    "t = np.arange(0, T)\n",
    "fs = 3000\n",
    "f0 = 10\n",
    "\n",
    "source1 = np.sin(2 * np.pi * (f0 / fs) * t) + 0.1 * np.random.randn(T)\n",
    "source2 = np.sin(2 * np.pi * (3 * f0 / fs) * t) + 0.1 * np.random.randn(T)\n",
    "mixture = source1 + source2\n",
    "\n",
    "plt.subplot(311)\n",
    "plt.plot(source1)\n",
    "plt.title(\"Source 1\")\n",
    "plt.xticks(np.arange(0, 100, T), \"\")\n",
    "\n",
    "plt.subplot(312)\n",
    "plt.plot(source2)\n",
    "plt.title(\"Source 2\")\n",
    "plt.xticks(np.arange(0, 100, T), \"\")\n",
    "\n",
    "plt.subplot(313)\n",
    "plt.plot(mixture)\n",
    "plt.title(\"Mixture\")\n",
    "plt.show()"
   ]
  },
  {
   "cell_type": "markdown",
   "metadata": {
    "id": "tiofqq4zHuXW"
   },
   "source": [
    "The goal is to get Source 1 and Source 2 from the Mixture Signal. In our case Source 1 is a noisy sinosoid with frequency f0, and Source is a noisy sinusoid with frequency 3*f0.  \n",
    "\n",
    "## A toy example\n",
    "\n",
    "Now, let's consider a slightly more interesting case where, source 1 is a sinusoid with a random frequency smaller than f_threshold, and source 2 is a sinusoid with frequency larger than f_threshold. Let's first build the dataset and and the dataloaders using speechbrain. We will then build a model which will able to separate out the sources successfully."
   ]
  },
  {
   "cell_type": "code",
   "execution_count": null,
   "metadata": {
    "id": "D6TzkU5NR7s9"
   },
   "outputs": [],
   "source": [
    "import torch\n",
    "import torch.utils.data as data_utils\n",
    "import librosa.display as lrd\n",
    "\n",
    "N = 100\n",
    "f_th = 200\n",
    "fs = 8000\n",
    "\n",
    "T = 10000\n",
    "t = torch.arange(0, T).unsqueeze(0)\n",
    "f1 = torch.randint(5, f_th, (N, 1))\n",
    "f2 = torch.randint(f_th, 400, (N, 1))\n",
    "batch_size = 10\n",
    "\n",
    "source1 = torch.sin(2 * np.pi * (f1 / fs) * t)\n",
    "source2 = torch.sin(2 * np.pi * (f2 / fs) * t)\n",
    "mixture = source1 + source2\n",
    "N_train = 90\n",
    "train_dataset = data_utils.TensorDataset(\n",
    "    source1[:N_train], source2[:N_train], mixture[:N_train]\n",
    ")\n",
    "test_dataset = data_utils.TensorDataset(\n",
    "    source1[N_train:], source2[N_train:], mixture[N_train:]\n",
    ")\n",
    "\n",
    "train_loader = data_utils.DataLoader(train_dataset, batch_size=batch_size)\n",
    "test_loader = data_utils.DataLoader(test_dataset, batch_size=batch_size)\n",
    "\n",
    "# now let's visualize the frequency spectra for the dataset\n",
    "fft_size = 200\n",
    "\n",
    "plt.figure(figsize=[20, 10], dpi=50)\n",
    "\n",
    "plt.subplot(131)\n",
    "mix_gt = mixture[N_train]\n",
    "mix_spec = torch.sqrt(\n",
    "    (\n",
    "        torch.view_as_real(torch.stft(mix_gt, n_fft=fft_size, return_complex=True)) ** 2\n",
    "    ).sum(-1)\n",
    ")\n",
    "lrd.specshow(mix_spec.numpy(), y_axis=\"log\")\n",
    "plt.title(\"Mixture Spectrogram\")\n",
    "\n",
    "plt.subplot(132)\n",
    "source1_gt = source1[N_train]\n",
    "source1_spec = torch.sqrt(\n",
    "    (\n",
    "        torch.view_as_real(torch.stft(source1_gt, n_fft=fft_size, return_complex=True))\n",
    "        ** 2\n",
    "    ).sum(-1)\n",
    ")\n",
    "lrd.specshow(source1_spec.numpy(), y_axis=\"log\")\n",
    "plt.title(\"Source 1 Spectrogram\")\n",
    "\n",
    "plt.subplot(133)\n",
    "source2_gt = source2[N_train]\n",
    "source2_spec = torch.sqrt(\n",
    "    (\n",
    "        torch.view_as_real(torch.stft(source2_gt, n_fft=fft_size, return_complex=True))\n",
    "        ** 2\n",
    "    ).sum(-1)\n",
    ")\n",
    "lrd.specshow(source2_spec.numpy(), y_axis=\"log\")\n",
    "plt.title(\"Source 2 Spectrogram\")\n",
    "\n",
    "plt.show()"
   ]
  },
  {
   "cell_type": "markdown",
   "metadata": {
    "id": "CeG7ghFQr589"
   },
   "source": [
    "Now that we created the dataset, we can now focus on building a model would be able to recover the original sources from the mixture signal. For this, we will use speechbrain. Let us first install speechbrain."
   ]
  },
  {
   "cell_type": "code",
   "execution_count": null,
   "metadata": {
    "id": "1h4PPdSR7YJd"
   },
   "outputs": [],
   "source": [
    "%%capture\n",
    "# Installing SpeechBrain via pip\n",
    "BRANCH = \"develop\"\n",
    "!python -m pip install git+https://github.com/speechbrain/speechbrain.git@$BRANCH"
   ]
  },
  {
   "cell_type": "markdown",
   "metadata": {
    "id": "hUqDGcXt7nlg"
   },
   "source": [
    "Now, let us construct a simple model with pytorch and speechbrain for source separation."
   ]
  },
  {
   "cell_type": "code",
   "execution_count": null,
   "metadata": {
    "id": "WPRLjPWO_9k2"
   },
   "outputs": [],
   "source": [
    "import speechbrain as sb\n",
    "import torch.nn as nn\n",
    "\n",
    "\n",
    "# define the model\n",
    "class simpleseparator(nn.Module):\n",
    "    def __init__(self, fft_size, hidden_size, num_sources=2):\n",
    "        super(simpleseparator, self).__init__()\n",
    "        self.masking = nn.LSTM(\n",
    "            input_size=fft_size // 2 + 1,\n",
    "            hidden_size=hidden_size,\n",
    "            batch_first=True,\n",
    "            bidirectional=True,\n",
    "        )\n",
    "        self.output_layer = nn.Linear(\n",
    "            in_features=hidden_size * 2, out_features=num_sources * (fft_size // 2 + 1)\n",
    "        )\n",
    "        self.fft_size = fft_size\n",
    "        self.num_sources = num_sources\n",
    "\n",
    "    def forward(self, inp):\n",
    "        # batch x freq x time x realim\n",
    "        y = torch.view_as_real(\n",
    "            torch.stft(inp, n_fft=self.fft_size, return_complex=True)\n",
    "        )\n",
    "\n",
    "        # batch X freq x time\n",
    "        mag = torch.sqrt((y**2).sum(-1))\n",
    "        phase = torch.atan2(y[:, :, :, 1], y[:, :, :, 0])\n",
    "\n",
    "        # batch x time x freq\n",
    "        mag = mag.permute(0, 2, 1)\n",
    "\n",
    "        # batch x time x feature\n",
    "        rnn_out = self.masking(mag)[0]\n",
    "\n",
    "        # batch x time x (nfft*num_sources)\n",
    "        lin_out = self.output_layer(rnn_out)\n",
    "\n",
    "        # batch x time x nfft x num_sources\n",
    "        lin_out = nn.functional.relu(\n",
    "            lin_out.reshape(lin_out.size(0), lin_out.size(1), -1, self.num_sources)\n",
    "        )\n",
    "\n",
    "        # reconstruct in time domain\n",
    "        sources = []\n",
    "        all_masks = []\n",
    "        for n in range(self.num_sources):\n",
    "            sourcehat_mask = lin_out[:, :, :, n]\n",
    "            all_masks.append(sourcehat_mask)\n",
    "\n",
    "            # multiply with mask and magnitude\n",
    "            sourcehat_dft = (sourcehat_mask * mag).permute(0, 2, 1) * torch.exp(\n",
    "                1j * phase\n",
    "            )\n",
    "\n",
    "            # reconstruct in time domain with istft\n",
    "            sourcehat = torch.istft(sourcehat_dft, n_fft=self.fft_size)\n",
    "            sources.append(sourcehat)\n",
    "        return sources, all_masks, mag\n",
    "\n",
    "\n",
    "# test_forwardpass\n",
    "model = simpleseparator(fft_size=fft_size, hidden_size=300)\n",
    "est_sources, _, _ = model.forward(mixture[:5])"
   ]
  },
  {
   "cell_type": "markdown",
   "metadata": {
    "id": "7KQ1ZKoyfM82"
   },
   "source": [
    "Now that our model, we can now write the Brain class for training.\n"
   ]
  },
  {
   "cell_type": "code",
   "execution_count": null,
   "metadata": {
    "id": "U78x9qR3j3kN"
   },
   "outputs": [],
   "source": [
    "class SeparationBrain(sb.Brain):\n",
    "    def __init__(self, train_loss, modules, opt_class):\n",
    "        super(SeparationBrain, self).__init__(modules=modules, opt_class=opt_class)\n",
    "        self.train_loss = train_loss\n",
    "\n",
    "    def compute_forward(self, mix):\n",
    "        \"\"\"Forward computations from the mixture to the separated signals.\"\"\"\n",
    "\n",
    "        # Get the estimates for the sources\n",
    "        est_sources, _, _ = self.modules.mdl(mix)\n",
    "\n",
    "        est_sources = torch.stack(est_sources, dim=-1)\n",
    "\n",
    "        # T changed after conv1d in encoder, fix it here\n",
    "        T_origin = mix.size(1)\n",
    "        T_est = est_sources.size(1)\n",
    "        if T_origin > T_est:\n",
    "            est_sources = nn.functional.pad(est_sources, (0, 0, 0, T_origin - T_est))\n",
    "        else:\n",
    "            est_sources = est_sources[:, :T_origin, :]\n",
    "\n",
    "        return est_sources\n",
    "\n",
    "    def compute_objectives(self, targets, est_sources):\n",
    "        \"\"\"Computes the loss functions between estimated and ground truth sources\"\"\"\n",
    "        if self.train_loss == \"l1\":\n",
    "            return (est_sources - targets).abs().mean()\n",
    "        elif self.train_loss == \"si-snr\":\n",
    "            return sb.nnet.losses.get_si_snr_with_pitwrapper(\n",
    "                targets, est_sources\n",
    "            ).mean()\n",
    "\n",
    "    def fit_batch(self, batch):\n",
    "        \"\"\"Trains one batch\"\"\"\n",
    "        # Unpacking batch list\n",
    "        source1, source2, mix = batch\n",
    "        targets = torch.stack([source1, source2], dim=-1)\n",
    "\n",
    "        est_sources = self.compute_forward(mix)\n",
    "        loss = self.compute_objectives(targets, est_sources)\n",
    "\n",
    "        loss.backward()\n",
    "        self.optimizer.step()\n",
    "        self.optimizer.zero_grad()\n",
    "        return loss.detach().cpu()\n",
    "\n",
    "    def evaluate_batch(self, batch, stage):\n",
    "        \"\"\"Computations needed for test batches\"\"\"\n",
    "\n",
    "        source1, source2, mix = batch\n",
    "        targets = torch.stack([source1, source2], dim=-1)\n",
    "\n",
    "        est_sources = self.compute_forward(mix)\n",
    "\n",
    "        si_snr = sb.nnet.losses.get_si_snr_with_pitwrapper(targets, est_sources)\n",
    "        si_snr_mean = si_snr.mean().item()\n",
    "        print(\"VALID SI-SNR = {}\".format(-si_snr_mean))\n",
    "        return si_snr.mean().detach()\n",
    "\n",
    "\n",
    "from functools import partial\n",
    "\n",
    "optimizer = lambda x: torch.optim.Adam(x, lr=0.0001)\n",
    "N_epochs = 10\n",
    "epoch_counter = sb.utils.epoch_loop.EpochCounter(limit=N_epochs)\n",
    "\n",
    "separator = SeparationBrain(\n",
    "    train_loss=\"l1\", modules={\"mdl\": model}, opt_class=optimizer\n",
    ")\n",
    "\n",
    "\n",
    "separator.fit(epoch_counter, train_loader, test_loader)"
   ]
  },
  {
   "cell_type": "markdown",
   "metadata": {
    "id": "xEI7cJw00UYU"
   },
   "source": [
    "Now, let's visualize the results. For this purpose let's first install librosa. It has a nice tool for visualizing spectrograms.  \n",
    "\n",
    "\n"
   ]
  },
  {
   "cell_type": "code",
   "execution_count": null,
   "metadata": {
    "id": "I0ul7PjF9HwC"
   },
   "outputs": [],
   "source": [
    "%%capture\n",
    "!pip install librosa"
   ]
  },
  {
   "cell_type": "markdown",
   "metadata": {
    "id": "69mRj3DKAa4F"
   },
   "source": [
    "We will first plot the the spectra for the ground truth sources. And then we will run a forward pass with the model and plot the estimated sources."
   ]
  },
  {
   "cell_type": "code",
   "execution_count": null,
   "metadata": {
    "id": "j6NbKy4S1yl_"
   },
   "outputs": [],
   "source": [
    "estimated_sources, all_masks, mag = separator.modules.mdl.forward(mixture[N_train:])\n",
    "\n",
    "\n",
    "plt.figure(figsize=[20, 10], dpi=80)\n",
    "\n",
    "plt.subplot(331)\n",
    "mag = mag[0].t().numpy()\n",
    "lrd.specshow(mag, y_axis=\"log\")\n",
    "plt.title(\"Mixture\")\n",
    "\n",
    "plt.subplot(334)\n",
    "mask1 = all_masks[0][0].detach().t().numpy()\n",
    "lrd.specshow(mask1, y_axis=\"log\")\n",
    "plt.title(\"Mask for source 1\")\n",
    "\n",
    "plt.subplot(335)\n",
    "masked1 = mask1 * mag\n",
    "lrd.specshow(masked1, y_axis=\"log\")\n",
    "plt.title(\"Estimated Source 1\")\n",
    "\n",
    "plt.subplot(336)\n",
    "source1_gt = source1[N_train]\n",
    "source1_spec = torch.sqrt(\n",
    "    (\n",
    "        torch.view_as_real(torch.stft(source1_gt, n_fft=fft_size, return_complex=True))\n",
    "        ** 2\n",
    "    ).sum(-1)\n",
    ")\n",
    "lrd.specshow(source1_spec.numpy(), y_axis=\"log\")\n",
    "plt.title(\"Ground Truth Source 1\")\n",
    "\n",
    "plt.subplot(337)\n",
    "mask2 = all_masks[1][0].detach().t().numpy()\n",
    "lrd.specshow(mask2, y_axis=\"log\")\n",
    "plt.title(\"Mask for Source 2\")\n",
    "\n",
    "plt.subplot(338)\n",
    "masked2 = mask2 * mag\n",
    "lrd.specshow(masked2, y_axis=\"log\")\n",
    "plt.title(\"Estimated Source 2\")\n",
    "\n",
    "plt.subplot(339)\n",
    "source2_gt = source2[N_train]\n",
    "source2_spec = torch.sqrt(\n",
    "    (\n",
    "        torch.view_as_real(\n",
    "            torch.stft(source2_gt, n_fft=fft_size, return_complex=True) ** 2\n",
    "        )\n",
    "    ).sum(-1)\n",
    ")\n",
    "lrd.specshow(source2_spec.numpy(), y_axis=\"log\")\n",
    "plt.title(\"Ground Truth Source 2\")\n",
    "\n",
    "plt.show()"
   ]
  },
  {
   "cell_type": "markdown",
   "metadata": {
    "id": "sBmdv0-jq8yR"
   },
   "source": [
    "Notice that these masks are basically band stop filters which aims to remove the interferences from the other source.\n",
    "\n",
    "## Exercises\n",
    "\n",
    "* Train the same model with SI-SNR loss and observe if this helps to improve the performance.\n",
    "* Replace the STFT front end, and the ISTFT reconstruction with convolutional layer, and transposed convolution layers. Do the same visualization above, also visualize the filters learnt by the convolutional front end, and the reconstruction layer, and compare it with the DFT bases.  \n",
    "\n",
    "\n",
    "## A sound source separation example with a pre-existing model from speechbrain\n",
    "\n",
    "First, let's download the dataset."
   ]
  },
  {
   "cell_type": "code",
   "execution_count": null,
   "metadata": {
    "id": "NUQX-saDsjPF"
   },
   "outputs": [],
   "source": [
    "%%capture\n",
    "!wget https://www.dropbox.com/sh/07vwpwru6qo6yhf/AADx5I8oV0IdekCf80MSkxMia/mixture_0.wav\n",
    "!wget https://www.dropbox.com/sh/07vwpwru6qo6yhf/AAAZI7ZezKyHFGPdus6hn2v_a/mixture_1.wav\n",
    "!wget https://www.dropbox.com/sh/07vwpwru6qo6yhf/AACh4Yy4H-Ii2I0mr_b1lQdXa/mixture_2.wav\n",
    "!wget https://www.dropbox.com/sh/07vwpwru6qo6yhf/AAAenTlEsoj1-AGbCxeJfMHoa/mixture_3.wav\n",
    "!wget https://www.dropbox.com/sh/07vwpwru6qo6yhf/AAC-awQo-9NFVVULuVwaHKKWa/source1_0.wav\n",
    "!wget https://www.dropbox.com/sh/07vwpwru6qo6yhf/AABVKWtdVhXZE6Voq1I_c6g5a/source1_1.wav\n",
    "!wget https://www.dropbox.com/sh/07vwpwru6qo6yhf/AAC9EfjTTwL0dscH16waP9s-a/source1_2.wav\n",
    "!wget https://www.dropbox.com/sh/07vwpwru6qo6yhf/AAC5Ozb4rS9qby268JSIy5Uwa/source1_3.wav\n",
    "!wget https://www.dropbox.com/sh/07vwpwru6qo6yhf/AABlonG910Ms2l-rTN5ct3Oka/source2_0.wav\n",
    "!wget https://www.dropbox.com/sh/07vwpwru6qo6yhf/AACDOqEgyXIeA2r1Rkf7VgQTa/source2_1.wav\n",
    "!wget https://www.dropbox.com/sh/07vwpwru6qo6yhf/AACTYGAG0LOh6HvxpVYoqO_Da/source2_2.wav\n",
    "!wget https://www.dropbox.com/sh/07vwpwru6qo6yhf/AACPmq-ZJNzfh4bnO34_8mfAa/source2_3.wav"
   ]
  },
  {
   "cell_type": "markdown",
   "metadata": {
    "id": "84g08IFDmzbo"
   },
   "source": [
    "Now let's first listen to these sounds."
   ]
  },
  {
   "cell_type": "code",
   "execution_count": null,
   "metadata": {
    "id": "vgriZkbNmssS"
   },
   "outputs": [],
   "source": [
    "import speechbrain\n",
    "from speechbrain.dataio.dataio import read_audio\n",
    "from IPython.display import Audio\n",
    "\n",
    "mixture_0 = read_audio(\"mixture_0.wav\").squeeze()\n",
    "source1_0 = read_audio(\"source1_0.wav\").squeeze()\n",
    "source2_0 = read_audio(\"source2_0.wav\").squeeze()\n",
    "\n",
    "mixture_1 = read_audio(\"mixture_1.wav\").squeeze()\n",
    "source1_1 = read_audio(\"source1_1.wav\").squeeze()\n",
    "source2_1 = read_audio(\"source2_1.wav\").squeeze()\n",
    "\n",
    "mixture_2 = read_audio(\"mixture_2.wav\").squeeze()\n",
    "source1_2 = read_audio(\"source1_2.wav\").squeeze()\n",
    "source2_2 = read_audio(\"source2_2.wav\").squeeze()\n",
    "\n",
    "mixture_3 = read_audio(\"mixture_3.wav\").squeeze()\n",
    "source1_3 = read_audio(\"source1_3.wav\").squeeze()\n",
    "source2_3 = read_audio(\"source2_3.wav\").squeeze()\n",
    "\n",
    "train_mixs = [mixture_0, mixture_1, mixture_2]\n",
    "train_source1s = [source1_0, source1_1, source1_2]\n",
    "train_source2s = [source2_0, source2_1, source2_2]\n",
    "\n",
    "Audio(mixture_0, rate=16000)"
   ]
  },
  {
   "cell_type": "code",
   "execution_count": null,
   "metadata": {
    "id": "AlRgO_rT33GB"
   },
   "outputs": [],
   "source": [
    "Audio(source1_0, rate=16000)"
   ]
  },
  {
   "cell_type": "code",
   "execution_count": null,
   "metadata": {
    "id": "C9HzYrVl3uNc"
   },
   "outputs": [],
   "source": [
    "Audio(source2_0, rate=16000)"
   ]
  },
  {
   "cell_type": "markdown",
   "metadata": {
    "id": "8NeccEWR51Px"
   },
   "source": [
    "Now, let's construct the datasets and dataloaders."
   ]
  },
  {
   "cell_type": "code",
   "execution_count": null,
   "metadata": {
    "id": "UqDjKaUG5z9S"
   },
   "outputs": [],
   "source": [
    "from torch.utils.data import Dataset, DataLoader\n",
    "\n",
    "\n",
    "class source_separation_dataset(Dataset):\n",
    "    def __init__(self, train_mixs, train_source1s, train_source2s):\n",
    "        self.mixs = train_mixs\n",
    "        self.train_source1s = train_source1s\n",
    "        self.train_source2s = train_source2s\n",
    "\n",
    "    def __len__(self):\n",
    "        return len(self.mixs)\n",
    "\n",
    "    def __getitem__(self, idx):\n",
    "        mix = self.mixs[idx]\n",
    "        source1 = self.train_source1s[idx]\n",
    "        source2 = self.train_source2s[idx]\n",
    "        return mix, source1, source2\n",
    "\n",
    "\n",
    "train_dataset_audio = source_separation_dataset(\n",
    "    train_mixs, train_source1s, train_source2s\n",
    ")\n",
    "valid_dataset_audio = source_separation_dataset([mixture_2], [source1_2], [source2_2])\n",
    "\n",
    "train_loader_audio = DataLoader(train_dataset_audio, batch_size=1)\n",
    "valid_loader_audio = DataLoader(valid_dataset_audio, batch_size=1)"
   ]
  },
  {
   "cell_type": "markdown",
   "metadata": {
    "id": "K1FeHiQrh7p3"
   },
   "source": [
    "And now, let's tinker the model we constructed and use it on this small dataset. For this purpose we will use the mask-based end-to-end architecture:\n",
    "\n",
    "![end2end.png](data:image/png;base64,iVBORw0KGgoAAAANSUhEUgAAAgwAAAC3CAYAAAB+FAaQAAAABHNCSVQICAgIfAhkiAAAABl0RVh0U29mdHdhcmUAZ25vbWUtc2NyZWVuc2hvdO8Dvz4AACAASURBVHic7d17cFvlnf/xdwhRTSJA0ZZELKlQGtHI6rKcDlvjXTSN4raLaKlRWbHruksjZsC4rTtVPFOqzqZe/1Lv1GS7Rp110tTJ8lModbysAGMaqnCxxaKAxhQ42YAiGqUoAqaHDREKo7BaBX7+/eFLbMe2cnEsX76vGYb4nKNzvrJ1+Zznec5zFg0MDAwghBBCCDGFi0pdgBBCCCFmPwkMQgghhChKAoMQQgghipLAIIQQQoiiJDAIIYQQoigJDEIIIYQoSgKDEEIIIYqSwCCEEEKIoiQwCCGEEKIoCQxCCCGEKEoCgxBCCCGKksAghBBCiKIkMAghhBCiKAkMQgghhChKAoMQQgghipLAIIQQQoiiJDAIIYQQoigJDEIIIYQoSgKDEEIIIYqSwCCEEEKIoiQwCCGEEKIoCQxCCCGEKEoCgxBCCCGKksAghBBCiKIkMAixgH344Ye88847/O///m+pSxFCzHIXl7oAIcTMOnHiBA899BAvvPACR44cQVEUXnnlFVatWsVNN93EHXfcwUUXybmEEGKsRQMDAwOlLkIIMTP27NnDz372M3w+H3/1V3/FFVdcMbLuyJEjxGIxfv3rX9PU1MRf/MVflLBSIcRsI4FBiAXi+eef56GHHuKXv/zllNt9/PHHVFdXEwgEuOaaa2aoOiHEbCftjkIsAE8//TTPPPMMx44d46233ppy21gsxtq1a/n5z39OPB6foQqFELOdtDAIsQBUVlbywgsvcNFFF+HxeLj//vv51Kc+ddp2+/bt45FHHqGtrY1UKsW9997Lww8/XIKKhRCzjbQwCDHHqapKNpuddH1nZyf33HPPyEDGUCjExo0bT2tpGB0WACwWC9deey3PPffchSteCDFnSGAQYo6zWCy43W527do1YXDYv38/N9xww5hl40PD+LAwrLKykt/97ncXrnghxJwhl1WKeeHYsWNomlbqMkrms5/9LF6vl8svv5yvf/3rOJ1Obr31VgwGA6qq4vf7T3tMKBTC4/HwzW9+k+eff/60sACwYsUKXnvtNV5//fWZeBpiGi1dupTVq1eXugwxj0hgEPPCt7/9bZYuXcrixYtLXUpJHDp0CIDjx48TDAZ57LHH6OvrY8OGDfzJn/wJl1122YSP27hxI3feeSfPPvvshOsvu+wyPv744wnDhJjdjh07xpYtW/jMZz5T6lLEPCGBQcwLR48eZc+ePSxdurTUpZSE1+vlv/7rv/B6vXi9XhRFGVn3wAMP8N5777Fy5coxjxnuhvj9738/6UDIY8eOceWVV3LffffNyPMQ0+d73/velGNbhDhbEhiEmONUVcVisUz65fDpT3+aV155hZtvvnlk2fgxC8PdE+NDw8svvyxnqEIIQAY9CjHnWSwWmpubJ13/13/916iqOvLzZAMcJ7p6Ih6P8+Uvf3naaxZCzD0SGISY4wwGw5Trb7zxRj744AMOHDgwaVgYNjo07N27l9WrV2M2my9E2UKIOUa6JIRYAH7605/idDopLy/nF7/4xZTbhkIhnE4n11xzDTt27JihCoUQs520MAixQDz77LMcOnSInp6eKbd7+OGHWbVqlYQFIcQY0sIgxAKxePFinnnmGVpaWnj66af57Gc/y5/+6Z9yxRVXoGkav//970mlUvz5n/85Dz30UKnLFULMMhIYhFhgNm3axNtvv82+ffs4cOAA+XyepUuXUl5ezj333FN0TIQQYmGSwCDEArRq1Sr+7u/+DoBgMIjX6y1tQUKIWU/GMAixwE11SaYQQgyTwCDEAtbd3c2RI0dIpVKlLkUIMctJYBBiAYtEIsBgcBBCiKlIYBBiAQsGgwDs2rWrtIUIIWY9CQxCLFDBYJDjx48Dg/ejGG5tEEKIiUhgEGIBymazRCIRnn/+eZxOJ4899ph0SwghpiSXVQqxAGWz2ZEWhiVLluB2u3E6nWSzWZmHQQgxIQkMQswaGuHtXSRSKXA141MSBIMxsuRJJTQUXyteS4ruYJhUPk9CTaD4tlOvlJ31kSwWy2nLJCgIIaYigUGIWSIfDpKo9FNvcGPwulHrfTT7fFjKQAs6sdR4SdS4qPH5cJdBvtuNyRvAqfqxlbp4IcS8J2MYhJgV8kTUMpwKQ3Mi2PD63FiGGg/y2TxoUFnvRRm1LJ/VyI/aSzaVIBbejtflIzKzT0AIMc9JYBBiVijD5fehoBEJJ7DU1OMc6WnIo0YSGFz1uAyjl6mUKc5RrQt5tJQGFtBiKbIz+wSEEPOcBAYhZpN8jLBqoNI1upMhRjiWR3EplI3ariucx1njPLWMMmxOJ5UWA2c/qkEIIaYmgUGI2SQWJpZXcI0eyJiIEckquCpPDUrMx4J05514XQZIddOdKEGtQogFRQKDELNIIhYjq7gYlQ3QImFSFidOy6llaneEvNOLy5An1pWgzDJ+T0IIMb0kMAgxa2RRIwlsbheWUUvVmIrJ6UYZtczirMRCinAwQKyyHpf0QQghLjC5rFKIWcOAu0vDPW4+BFcghTpumcndherU0MpMuCUsCCFmgLQwCDGLlBkmGLBoMDDhlEoGE6YxG+dJdAdo9QdJkCDoayXQnRhz2aUQQpwraWEQYt4ow+b24Xf78AdKXYsolVQqddpMnqqqoijKxA8Q4gxJC4MQQswjwWCQO++8kz/84Q90dXWhKMqEU4ELcbakhUEIIeaR5uZmLBYLR44c4cknn+T++++X+4SIaSEtDEIIMc+43e6Rf3u93tIVIuYVCQxCCDHP+Hw+AG699VZpXRDTRgKDEELMMxaLhauvvnpMS4MQ50sCgxBCzENOpxOn01nqMsQ8IoFBCCHmIbfbLVdHiGm1aGBgYKDURZTK/v37+eY3v8nSpUtLXcqs89FHH3H77bfzox/9qNSlnJH169ezZ8+eC/63fPvtt/F6vXzwwQcX9DgzZWBggI8++oglS5aUupRps2rVKoLBIJdddtmMHvcf/uEfCIfDLF68eEaPO1dcfPHFPPjgg1it1lKXIs7Rgr6s8qWXXuLLX/4yX/nKV0pdyqzz1ltv8dRTT5W6jFnnyJEjrFixgh/+8IelLkVM4l/+5V/IZDIzHhj2799PY2MjK1asmNHjzhX/8R//weuvvy6BYQ5b0IEBYPHixfPq7Gq6XHzxxSxatKjUZcxKixYtktfMLFaq1+3w60JeGxO76CLpAZ/r5C8ohBBCTCSvkcqWuojZQwKDEEIIMV5eJVDjxu2uJ6yVupjZQQKDEEIIMVo2RqB+O4bWCGqXm4jPR7eEBhnDIIQQQoyRN+AKbMdmAHDRGrSR0PJw+s3nFxQJDEIIIcRoJhu20T+XWbBZSlTLLCKBQQghhBgnG9vO9ggYyvJktTIqffU4TaWuqrQkMAghhBCj5GN+3AGFrq4aTECqq4aaVoVYoLLUpZWUDHoUQgghRlGDXaQMpqERC3myWRM1NcOdFHm0hEo46MNV38VCuupSAoMQQggxiqXSRvaX6zGZFJw1zSScrfgqh24TntdIpfJYyrKoiSz50pY6oyQwCCGEmDdSqRQ+n4/HH3+cbPbczv9N3m7Uvv9Ls9tCNhLgG5U1dA1fVllmodJViW0BjmeQwCCEEGLesFgsuN1u3G43y5cvZ/ny5axfv57169fT3NxMKpWa4tEakVYvvm4Ni9OLf3s3aqqbDWUJVJmHQQY9ivnh+uuvl7sECrGAHTp0iIMHD5JIJDh48CBLly7lww8/JJvNMjAwQHNzM06nc+qd5CMEAjEM20fNt5DVyNq8+JULWv6cIIFBzAs/+9nPSl2CEGKGjA4HwwFhzZo12Gw2bDYbX/3qV3nzzTdRVZVgMIjb7T6zHZe58PlVYtkY4UgZ+VSCSCxPfZd/7LwMC5QEBiGEELPWoUOHxgSDRCLB6tWrKS8vx2az8ZWvfIXy8vIxLYzDYxdSqRQGg+EsjmbA6WvFmdVIaXkMlS7c3ul9PnOZBAYhhBCzQjKZHBMMEokEFotlpOXg5ptvPi0cTCSbzRKJRM69EIMJy6Q5I0U40EUkppJPpWhuzeN0ealRziaYzE0SGISYRwqFAjqdbqotyBV06KfaRIgZMBwORgeEq6++GpvNRnl5OTfffDM2m42LLz77rymLxTL9BZ/aOy6fHxd+Wi/gUWYjCQxCTJNcMkxnqBc1maGAieqmFqrNk2ycidK6KUiyAHqTHYfHi0cxntuBC2n6Q510hqPETY08uqUK/YQbavR851vcn/Ow48E6rOd2tDMpiHQ0RGeol2ROh8nVSJPHyuiMkon3EAr10p/OoTcpVHlqqT7X5y/mjBdeeIEnnniCgwcPjgkHLpfrnMOBmDny15kPCgUKOh0L7qQxr5FQE2jZPGWKi8oSXxett7qo85tpr/kuj7x7mGBnPy5/xYR/l3Q4SO/Bw5xkDXc3NeKZLFicCZ2ZiloPangv8Sk3NKJ4PPxNrooL+6vSYXbU0mjMcNd3H2Hf1k20mXfirzgVY4z2auoaIF4TxtHSQPVZFJTLFdBLE8kFVbyl6twYDAb+/u//HpvNxpIlS6Z9/+LCksAwoQLJ3iCdPSrpXAHQYTQa0emAQoFcIUcuV0CnNBBoUEr2RZ1RQwSDPfTGTTQ8ugXXxKeV81c2QSwSoPlHEZy/1ah0zYZbz+oxGleysvAu7/Z20ltXgWv8iXNBJRQ1oqw5zEuH9ein5e+mx1j0hajDXFVHw3Qc7gzozFZMK1dSyLzL3s2bse/cMjYYGM2YzWasZxMW1HbaktU0nVfCmmG5OOFgiHA8zeDHiR6jHgoFHXqTGbtSgcNRgbnk798cyXCQjlAvqq6WB7d5pj1Y2u12rr322mneq5gpMnHThHRYq+rwe4ykDx9Gs9axZUsLLS0ttGzZQiAQYEudnYKWKWmVRsVDtR1OnCxpGaVjcuKtNJH/RCXOytkQFobo7Hhqy1lycj+doeRpq3PREGlHLY5JvyAK5DIaWq4wyeocmUyOSdYWVyic9tjc8LEKOTKZyfY8WNdkZU3I6qWp4fMsO/ES7ZvaiY95rA6dTj9h4C5kNDK5ccvSPWze/Ajpc37iJaK342poxKU/zOHDBSoaA2zZEiCwpYkGl5lMuI27bqthUyhOrvjeLmShWF21OPTvc3Ku/Y7FjChBC0OWWDCIms+TSIDLX48psp2wVkZWM1DT7EWZJZ/9Or1xsC/4tE80HcaKWmozpZ/6S28s+WlJSSXCEbJKPc5ZNUBZh7mqFkfwx/T1dBKtbRoVDtKEe8DVZKbQf/ojM2oHbaEcFa4KdGqIzmQF/pZa7EOPT4dbCSbtVFUY0cJBek2NbKuzn76jXJLQZh9BrYJarwtHhQJqD6GeHnqTdloe9aOQIR7qoCMUJa000mKN0t4TJ/1WBv1NTWzzOxhuHMnFQ7R1plEcVpLhTqI5E3azCb3JgbfOMeWZqLm6iabkXfzwiUfY1Kqws+nUfk8rO95DsDeNzgjp3l6SJi8tTdVYdRnUaJT0+5CLBmnLmFCq66iaMw0NevT6JcCoAac6PSalmoZAFY6273DvVh++TIBtdfYSdi/q0Oukq0BMbIZbGPLEAq2knD7q6/00K2FqKl0EDfX4KzW6A362x6b3iOd1ac0UMhk9Va6x3RFndpYG5DJoU50hFgbXTyWX0ZjqEFAgp2UmOWMpUCgM11y6c5rz/9toRGIpTJVOLNNQz7Bpec0YHdRWfwpOROkMnwqWhXgPUbOHqgm/MVU6Nu8mba6m2uHA1eBFSQfp6B1qySpECbZrVHircVQ48DR6R4LEeLlkP0mzn50PNlFbVYFZr8PscKHoMpwYed0YsXuqsXKC99UoacXPtge72LnRTmZvkHB6eGf9tG/qRFfdQLWrmsYmL9b0fpL6KupqK86g2VpPRcMWvlu+hPf7NrMplJ74ta/1sKkjR3VDA3W1DbS01GLcdz+bOuKAkQqPC+sSMDm8NDbMpbBQjB6lwU/1p05yeHcbofT49VO9lwfXZ7SpPg/OpGWoQEbLTN1qlcugTXKQQuHUZ99ZtUCJOWVmWxi0LrrL6mm1DP2oZcmXufC6DJD3sj3sRXFO7yFVVWXXrl18//vfR1GmaW7PQpzOzgx1DQ50Z3GWVtCiBINRsCqYtDCdUR2epiY8Q5/6hXQvHR1RdBUVmHMqPeEk5lo/DS7ryKj3nNpJW0jD7rCjS6uoqgZjxrsXSIaDhJNg1GlEwyo6TxMttQr6jEpPZ4ieXhVT3RaU8Ca27s/x+R8+ypYSDIAwGAw4nU7uvPNONmzYcPY7yMcIq2U46/N0BQJo5EnEUlQ2B/Dazq+Zyul0snHjRm699dZz3ofVU8t1ofvYH+okXt2IXZcjGkpS4W1Ax0TdWVaq676Lwz70TViAAifRtAwMvYoKhTid7b0ojVWY9BXUVo3/Gimg9bbTk6uiocE+7moJPSbT+L/zYH/6ElMVVdbB+GuyWjESJq0BZiAZpf99cAwPgjNW4LDD/VoO3ZkOPtSZ8bQ0Eb/rx/Rt3US7dRuN496O8VAnyYJCuLNzsO5cmsISeLc/Sho78yYfTERnp9q1hkd2HKY3mqa21syU72UAcsR7OuhJmrDbdaidnYOfQY3DLT6Dn02daSsOu45kbw/9VNDgr6NiJLAWSPa0EYybqVCM5OIq/emTjHnhZPoJdfaTMerIqVGiGTsNTY1UmQskewdbraK5Kpq8Gdo37+Ut49+wtauBCdq9xBw3s4HB5KW1fviHLGosgcEZQAEos1Fsmu/33nuPd95556wOuX79ejZu3EgwGERRFNxuN7feeutZhYdcPER7e3Twh0IOLdlPv7GBOmDkLC20l/1qlLTHzzaPDq3Hx7fuDxKudVBrZvAyuntDKFsCQwO/rGj9d7O1vZeqbdUYM71s9nVgbHmQBrsOcOGwt3HXRh+bdQ+ypcpIIdmBb3Ma74MtQ03cVZhaa+g7eKrWTG8rbUkPgYbBZs1q873cdt9m2q0P4q9QqKoIE3zkBLloktqmbdzf309BmTgsnDx5kv3795/V7/tsLFq0iIsuugiv14vP58Pr9eJ0Olm3bt2Zzc4WCxM7XoYllsLf6sNWBlrQiaU+iCtSP+WZ7xtvvEE+P/GNaZcvX46mabjd7pEb2TidzrMPD8Yqaqs62L+3l85oHS32MOFCNU2TfvPpsbs8FDJxekNRkoXCYKwYPnvTVVDXUMG99/+Eb/X34Gn043WMfZYn051sas1h9ddOcmnlGRjKAKcaIkwYeZ94UgPFxHDz+nKj8eyOYXTgb/kGad9unti0Gfu22lErMySTGYx2F7XVpwJwdW0DoDv35zKHmK1mlnGYdDJNATO5Kd/LepKd99Kq1bGzcbCls0qnUvOTNoJVDvxKgWTHvdwb9/BgwDUYN10V9Pi+xQ99sHVnHXYdaD33cm9vFdsC1YPvlyozmbv2cupdn6RjUwhzyxY8RqDWga7mu7S2WrFu82B1VGEP7WCvptJPE4GdDqJx4/wOdwtYCa+SUInEoDJw5l/c+/fv59///d/P+kh6vZ5cLoeqqqiqSl9fH06nE6PxzK771psduKoH37SFQo5MvEB6TP9z8bO0ZKiDfnMd/pHPdyvelvupwIoRSIc72VdQuN9+6oxNr9TiKX+CrR1B4lV1aMEeNKWJU1en6TBbTbB3+GeN3s4oObOJUKcKQE4roOd9+qNJqFDQm8wYWYKxyoXdqANX9aTP+8SJE2zduvWMfkfn6ujRo8DgzGyBQIDHHnsMt9uN1+stGuoSsQjvXu2mq7WG4QaFfDYP+XzRe9T/+te/RtMmH4PywQcfAINTywYCAfr6+ujr68PhcJzxcwMdFbUe1uzdwb7OTsJKHJNnyxRffgXS4TZae800+OuoMsZp73mE9Kj9matb2GkN0bq5g90/vgv1Gy1sqVNG9rnE7KGhIsSPWzcRsgbwmKehN9zswb8xzqZgG53WBhxE6c1V4z+Hu/Ho7HW0NCa5676XaNtUwKozUzX03AuFk2QyOXT6iQdCzntDl0YP5sMi72V7jmBnDse2U92i+qpGAkYNox0o9NPZcxhznTJqvIgJV20VwR+G6Oj1EKhKEwzGMde1nArXOjN20xIeGe4F6++kRytQFeokM9jsg6aDkwejqBkPZqMJo2kJZBRcDhNGTJPPPSLmvNIFBjVMJKtQXzl8Jpkl0q1S6XYyWWPyF7/4Rb74xS+e1WFSqRQ7duxg3bp1eL1e3G73yNnrzp07z2wnehNW86h3gbWOWk7raBxrzFlahnhcQ2ce+0GoMyuDrSsUSKpp0I+/RNOE3b4SHkmTzMSJqycwVhsn/zAtJFHTOqxeD9XK8FbV1NYBurFfU2dyibXBYKCjo6P4hudBURSuvvpqvF4vXq/3LGZo04iEU1ztrsc58oLJEouoGJTWomMaNm/ePOV6g8HAddddN/KaGa5r3759xUsbfRWC2UXt5zv5yUu7adPdzc6GKX7x6RCb26JYt/wG+0RZNhdH1ewodg8tXQ6irfeyeXcH4epteEY+8fUoDU3cnfwOWze1Y93WyCQNSGdBh1lxUe3JYc6l0YwO/AFz8bP+AkzUKW5yNdES/w4bn9jPweXD7ysjJtMSTvSHiWYcY8Z45NRe4uaqUUF5fsplBscpmMwmdMXey/E24gXjuN+JEevw5FfJOMkTYBr/vrcrWNlLMp4Gaz/x93XYT+umOkVTkxRMLjy11SPBo7p6sGVozK4XZMJbeGZ00GPMb8Ng86MCajhMqsyCzTK4Lq8GCWObNCycq2AwyKuvvkokEsHr9Z7ljUgmY8JVPfGEPBMbPHuacuCSDshkThu4pB/6ZtdRIFcYNbBywsMUKHCCTG6wVWXMf7PwDR0MBvH5fKRSKZqbm89uOtfh8QuuUfeQy0boihhwuSvPq65AIEB3dzeqquLz+c5ymtkMWiZDbmSIghFHbRUrWUaFp3pUU22BQm7o/8N/Ui2NdrIw1CRdIKNGiWegkBsKIIU04R516DvYhKPOg33ZBNM866zUNjXy+cwTbN7cM+YyxOHBaacWFU4fpFYYuwW5fto2hcjZrVitduxm05m99nMZMpnMBKM19CiNLXz3umWji6bCVcXyE/to29ROWE2TyWnEw+209RtRjIBu8HU8ODivQKbIwOC5JYcajXOST+GoshZ/LxcKFE5mKHZldyYzbgOdHt0SBidlyuXIUaAwxWdKoVDgZEYjN76GhdoKtMDNaGAoMxiwKBZSwVbClgBBl0Yw0E13V4CAWonfPb3ThGSzWZqbm6dvsON46RCtpw9pnoARs2kZJ9UQ4TGt4AXS/f2k0WFVzHAyjjrusv1MJgdrKrAbjZiMDI5mn+wwehMmPcR7ehnb2F4g3jvF40pkuOvhnKhhYvlKXKPmX8iGg0TK3HidZaB20506t137fD6cxQbUTCCXjBJqbaf33f0EWzsIxwc/rHVKLZ71LjzD11ZqKuGOdkKHAQ4SamunR82A4sK1Bg5u3cBt37qXzpwDl7KM9/duxtfeTw7IRNtp7exFVaP0BPsxNTTi0qfpDw1e1XAyGaanN0nGqFClLOP9l+7nO742evoTxMMddPa/Dyf6CXX0kszliIdDRDU4Ge8hFE2Ty6iEOqO8y0nioU5UDQYvtUuye+PdfOMbf8PXvnYTN63/a277Tiu9E/bqFEj399DWFuLw4RBt7T1D+xnNjKfJz02mU187uooGtmy8EX3yEe7buIG/ue07dCQV6uqGW97sVDlW8v4Tm/nOve2oufnzlVWIB+noO8Hy9XXUWin+XjZbMfEW4VD/2EacXJxoPAdmBesySKvj5nbIZcicXIZdsQ6NTTmJ2h+f9OoIo9UE70bp6R8XzjJRetX5FNjEmZjRLgnFHyOWTaFhwm0og5oIbi1F1uDGfQHmXjjv1oShpuUJP5Yy/bRt7kHf6AGSRc7SdFTUVvOpvt10+DZDYy0VpgLpaA9Roxc/QHUDXwttpDcUxdvkGGzuLaj0qjpuaqzGjJ5qTzk9W3toC7nY4jGjI0MyrgFG0loBrHZcVZ/iiUc6uLdVR0OtA7s+gxrqRLU3jMzwV+DUOLpSOp+/TyISI6t4qRy1i1h3hDJ3N86yLN1dKUzN51/j2dBbHXj8Djz+8WtMeJpGza9oUnDVKbjqxm9npGHnb6jVcuhNQ11PjkdxZMA4NI3jlkddQI6MlsPc0EL10IuzwuOnYtyBXS2/wTVmiY0t4w/q8vOga/TjzHhauvCM3ianw1TRyI4tCvpchlwuRyaTQUtH6ensx9E4vrVNh7mimsaKahon+kWNPF0HjVtGh3k91uoWuqoHL/HTGU3jWk/0VPgf5JG6HHrjFF1zs9KpFqWxizPEe4O0tYcp3LiRLf6h9z5F3ssmO7U3BvnJ3s349I00VFvRZeKEe9I4/HWDA2TrriPaHqInWUXt0NgqLdpLutyL3zE4sNrz+U7uC7cTdAWos+shl0RNnwTSaDlQKlx8ftl97G3djLHBS7VignSUYE8BT5OeoUt5xAKxuLm5uXkmD3hxmQFD2amccrHegL5EIyleeeUV3nvvPT7zmc+MW1Mg3ftv/Dz4NL9//yT5N/uJvvgi0RejPBcO0/PYv9G+tZvXCn+J99sKx58O0vn0Yd4/nuOSq9ayWv8mPR2d9L31Af9zXIf12msxma/lL81Hefm5Z9j75BN073mZnFLHD76+evCDb7GJ6x1WMk930Nn/Pyz+nzfpfew5dLX/h+9XXA7A5dbrWX28n56HHuDfw1H6+99Bb8zxxnEdl6PjqrVW1lZcj/moSu/eJ3my+2F274mj++r3aVhn4mOtn8f+rZPnUu+TOXoc/eVXsdp8ORPdKPb48eMkk0k8Hs8Ea0styzMtftTKFjZ96VSr1MW5CM8kP8kntSiaswG3ZfpfWG+99RYvvfQS119//bTve9BiLtFfMupvsphLLhn/F9JxiV7PaYsviDQh373EXY183apHBrxQ5wAADexJREFUf7kR4xUmrjKvZu3aK8hpOq61X3HOe1+s003w+lvMJXo9ugmf32IuueSSCV+zw/bt28ctt9wyTd2PZ2737t1cd911LFu2bOyKXJxwsJ1f9ab44P99wBsvq6gv9vL0c8/x3NPPceC4CVedn8ba67li1BO7Qpn8vbyYS1hdoaBLvkjvM0/yRHc3vUkj1T+o4y8vH9yJfq2D6y9R6ex4mvTij8kc6KHnzev5gf/rrNYBXIL1eiuF+NPsfuBXhKMv0p+8HCNxNC5nsc6IVXFQZdcRfy7MM3uf4JGHHyOaseNt/Dvsl+RIhv+NYPg13n33KBmdHtNVVq64ZOLfz2uvvcY111yDzWabeAMx6y0aGBgYKHURpbJz504SiQS33HLLDB61QEbLoTMaJx9XUMig5fSYJrs5QCGDltNhGpyQfuIbTxUG+zeNpnM7E0un0/z2t79l9+7d5/DoCy+f1cgbTJz2lZDVyJaZMFyg2UL37dvHtm3buPvuuy/MAWadOG0136VXfxPe2irsZhNGXQEtHadfBYe3etLJo0rlvvvu4xe/+MUFvsXx6b72ta9xxx13sGLFiundcbH3ci6DVpji84ICOS0HU3zmFHIZcugx6nWT3ngql9Eo6Eyc6+SyXV1d3Hzzzec1t4koLbn51IzTYTQVuZxTNzhe4YzWT3aXSp0RU4nv3nghlRlMEw+QnShEiPNgpyFwH6ZgiN5gGyGMmK1WlCoP3gbzHOsWmKOKvZf1xiKzberQF/nM0emNnPpImfivqjee/wfK7t27ef7550dua11eXn7Gl7eL0pPAIISYks5UQa2/gtrimwoxperqalatWkUikSAUCpFIJFi8eDHl5eXYbLaRICEhYnaSwCCEEGJGLFu2jC984Qt84QtfGFn23//93xw8eHAkRBw8eJAlS5aMCRA2m600ISKvkcqbsEizJSCBQQghRAmtWLGCFStWsG7dupFlo0PEww8/TCKRYMmSJae1RCxfvnzCfarq4OyY53VJfV4lUFNPMKvQ2rUd1zzu4j1TEhiEEELMKlOFiIMHD/Lwww9z8OBBPvGJT4xphbDZbCxfvhxFUbBYLGzcuJHvf//7Z19ANkbAF8TQGkE1RPD7fOQDAaZ5qqA5RwKDmBfeeOMNrrnmGi66aIbv2C6EmBEThYh3332XRCLBwYMH6erqIpFI8IlPfILy8nLKysrw+Xx0d3fzj//4j2c3GVvegCuwHZsBwEVr0EZCy8O0z0U8t0hgEPNCfX09e/bsYenSpaUuRQgxQ1auXMnKlStPCxEvvfQS7e3tAEQiESKRCE6n88yDg8nGmNkiRt3GYCGTwCCEEGLeWLlyJaFQiGuuuWaka0JRlJGJvLLZ7BlN6pWNbWd7BAxlebJaGZW+epzSJSGEEELMD+d0M7tx8jE/7oBCV1cNJiDVVUNNq0IscH43tpvrJDAIIYSYN6Zjhk812EXK4BoasZAnmzVRUzPcSaERCQaJaZBNJdAMbpqb3VgWwPAGCQxCCCHEKJZKG9k712Pqvo5Kp4v65lZ8tsFEkNrup9sSIOA1AFnCXgWnz0Biu3PeD4mUIeVCCCHEKCZvN2rf/6XZbSEbCfCNyhq6hu4zns2mSCSGbzpuwOlS0CJhEiWrduZIYBBCCCEA0Ii0evF1a1icXvzbu1FT3WwoS6AOZQTFHyHsG+6eyBMLq5icLhbCPTglMAghhBAA+QiBQIzs6M6FrEbW5sU7waSRWlc9zVk/4cD8744AGcMghBBCDCpz4fOrxLIxwpEy8qkEkVie+i7/aS0IqW4/gWw93d2VlGWz5MsM8z40SGAQQgghADDg9LXizGqktDyGShdu7/ht8iS6muku89LsNUE2QXB7DLffW+Q243OfBAYhhBBiNMPkd6hMbHdR+e3nOM59/Gho2coNfdTPWHGlI4FBCCGEOEO2+gjZhZAOJiCDHoUQQghR1IJvYThw4ACLFi0qdRmzzrFjx/jwww9LXcas9Pbbb7Nnz55SlyEmcezYsZIc98SJEzz77LNcdtllJTn+bJdMJktdgjhPiwYGBgZKXUQp7dixo9QlzFo33XQTZrO51GWckfXr18/Y3Sq7u7s5evToBT/OTCgUCvznf/4nX/rSl0pdyrRZs2YNVVVVM37cZDJJX1/fjB93rli2bBm1tbWlLkOchwUfGMT8MJOBYT45fvw4t99+O0899VSpSxHTrLm5mebm5lKXIeYRGcMghBDzkKqqRCKRUpch5hEJDEIIMQ89/vjjdHd3l7oMMY9IYBBCiHlmOCg8/vjjJa5EzCcSGIQQYp4JBoMApFIp6ZYQ00YCgxBCzCOpVIrHH3+cSy+9FICf//znJa5IzBcSGIQQYh4JBoO8+eabbNiwgWeeeYZ169ZJK4OYFgt+4iYhhJhPRl9Keemll+Lz+UpXjJhXJDAIIaagEd7eRSKVAlczPiVBMBgjS55UQkPxteK1pOgOhknl8yTUBIpvO/XKfL/RrxALjwQGIcSk8uEgiUo/9QY3Bq8btd5Hs8+HpQy0oBNLjZdEjYsanw93GeS73Zi8AZyqH9vwPhLdbO9OkEcjkchTWd9KfeUktwIUQsxaEhiEEJPIE1HLcPohFU4BlXh9bixDjQf5bB40qKz3ooxals9q5Ed2EcHfrFHfNRQgEgEqnW6IRai3zPDTEUKcFxn0KISYRBkuvw8FjUg4gaWmHudIT0MeNZLA4KrHZRi9TKVMcY60LpDX0BIqqeEEYXPiNMQIq3mEEHOLBAYhxNTyMcKqgUqXbdTCGOFYHsWlUDZqu65wHmeN89QyQw1d6nZcwwtSESLZSlwyxkGIOUcCgxBiarEwsbwy9ks+ESOSVXCNGouQjwXpzjvxugyQ6qY7MW4/eZXW+m4qg13SHSHEHCSBQQgxpUQsRlZxMXqcohYJk7I4cVpOLVO7I+SdXlyGPLGuBGWj1pGNsd3fhW17mICrjGx2hooXQkwbCQxCiClkUSMJbG4XllFL1ZiKyelGGbXM4qzEQopwMECssv5UN4QWIdCqYvP7cRnyaOFWgurMPQMhxPSQqySEEFMw4O7ScBvGXgbpCqRQxy0zubtQnRpamQn3cFjIhql3uvnlG/8L9317aOEN/OKPF75yIcT0ksAghJhSmWGCORMMBiacScFgwjTmZxfbE3m2X5jShBAzSLokhFiAUqkUqjq2XyASiZCVwQVCiElIC4MQC5DFYsHtdvPRRx9x+PBh1q9fz7p163A6naUuTQgxS0lgEGKBam5u5nOf+xwAf/jDH3jsscdKXJEQYjaTLgkhFihFUbjuuusA2LBhA4aJxioIIcQQCQxCLGBerxcAt9td2kKEELOeBAYhFrDhoCCBQQhRjAQGIRYwi8XChg0bSl2GEGIOkMAgxAKWzWb527/9Wz744INSlyKEmOXkKgkhFphjx47R2dnJiy++yHvvvce1115LW1sbBoOBm2++mTvuuAOdTlfqMoUQs4wEBiEWkFAoxAMPPEBDQwMbNmzgsssuG1n3xz/+kRdffJHbb7+dH/zgBzgcjhJWKoSYbSQwCLFAPPnkk/T29vLkk09OuP7KK6/ktttu47bbbuOWW27hn//5nykvL5/hKoUQs5WMYRBiAfjNb36Dqqpks1kOHz485bZ9fX1ce+21PPDAA7zyyiszVKEQYraTFgYh5rmPP/6Yf/qnf+LFF18EoLa2lp/85CesWbPmtG37+vp46qmn+OlPf8o777zD9773PR599NGZLlkIMQtJC4MQc9xwy8Fkdu/eTV1d3cjPnZ2d/PjHPz6tpWF0WAC46qqr+NznPkdfX9+FKVwIMadIYBBijhu+kdSuXbsmDA4HDhygsrJyzLLxoWF8WBh244038vLLL1+44oUQc4Z0SYh54eTJk6iqSllZWalLKYm1a9eOTPPs9XpxOp2sW7cOi8XCq6++yo9+9KPTHtPZ2UltbS1f/epXee21104LCwCf/OQnOXDggIxlmIPkVuViuklgEPPCHXfcwa5du7joooXZaHbo0KGRfweDQfr6+nA6nWzYsAGj0cill1464ePuvvtuGhoa6OnpmXC9Xq9nYGCAHTt2XJC6xYVz1VVXYbPZSl2GmEckMIh54Z577il1CSXl9Xq5/PLL8Xq9eL1eFEUZWbdr1y6OHj2KyWQa85jhbojXX3990oGQx44d46qrrpqw9UEIsbAszNMxIeYRVVWxWCxks1kCgcCYsADw6U9/+rRxCOPHLEw2EPJ3v/sda9euvbBPQAgxJ0hgEGKOUxSF5ubmSdffdNNNvPrqqyM/TzbAcaLQ8Prrr/OlL31p2msWQsw9EhiEmOduuOEG8vk8qqpOGhaGjQ4Nv/3tb1m7di2rVq2a4YqFELPRooGBgYFSFyGEuPBcLhdr1qxh69atRbddv349f/Znf8a//uu/zkBlQoi5QFoYhFgg9uzZw5tvvkkoFJpyu1/96lesXr1awoIQYgxpYRBigdmyZQtvvvkm5eXlXHnllaxcuZI//vGPHDp0iCNHjnDDDTdw1113lbpMIcQsI4FBiAXo6NGjRKNRkskkAwMDLF68mPLycpxOJ0uXLi11eUKIWUgCgxBCCCGKkjEMQgghhChKAoMQQgghipLAIIQQQoiiJDAIIYQQoigJDEIIIYQoSgKDEEIIIYqSwCCEEEKIoiQwCCGEEKIoCQxCCCGEKEoCgxBCCCGKksAghBBCiKIkMAghhBCiKAkMQgghhChKAoMQQgghipLAIIQQQoii/j+UjQged7sobgAAAABJRU5ErkJggg==)\n",
    "\n",
    "\n"
   ]
  },
  {
   "cell_type": "code",
   "execution_count": null,
   "metadata": {
    "id": "EWW80iPjh4DJ"
   },
   "outputs": [],
   "source": [
    "fft_size = 1024\n",
    "model_audio = simpleseparator(fft_size=fft_size, hidden_size=300)\n",
    "\n",
    "\n",
    "optimizer = lambda x: torch.optim.Adam(x, lr=0.0005)\n",
    "N_epochs = 100\n",
    "epoch_counter = sb.utils.epoch_loop.EpochCounter(limit=N_epochs)\n",
    "\n",
    "separator = SeparationBrain(\n",
    "    train_loss=\"si-snr\", modules={\"mdl\": model_audio}, opt_class=optimizer\n",
    ")\n",
    "\n",
    "\n",
    "separator.fit(epoch_counter, train_loader_audio, valid_loader_audio)"
   ]
  },
  {
   "cell_type": "code",
   "execution_count": null,
   "metadata": {
    "id": "9C2EQ5M20QsJ"
   },
   "outputs": [],
   "source": [
    "class audioseparator(nn.Module):\n",
    "    def __init__(self, fft_size, hidden_size, num_sources=2, kernel_size=16):\n",
    "        super(audioseparator, self).__init__()\n",
    "        self.encoder = nn.Conv1d(\n",
    "            in_channels=1,\n",
    "            out_channels=fft_size,\n",
    "            kernel_size=16,\n",
    "            stride=kernel_size // 2,\n",
    "        )\n",
    "\n",
    "        # MaskNet\n",
    "        self.rnn = nn.LSTM(\n",
    "            input_size=fft_size,\n",
    "            hidden_size=hidden_size,\n",
    "            batch_first=True,\n",
    "            bidirectional=True,\n",
    "        )\n",
    "        self.output_layer = nn.Linear(\n",
    "            in_features=hidden_size * 2, out_features=num_sources * (fft_size)\n",
    "        )\n",
    "\n",
    "        self.decoder = nn.ConvTranspose1d(\n",
    "            in_channels=fft_size,\n",
    "            out_channels=1,\n",
    "            kernel_size=kernel_size,\n",
    "            stride=kernel_size // 2,\n",
    "        )\n",
    "\n",
    "        self.fft_size = fft_size\n",
    "        self.hidden_size = hidden_size\n",
    "        self.num_sources = num_sources\n",
    "\n",
    "    def forward(self, inp):\n",
    "        # batch x channels x time\n",
    "        y = nn.functional.relu(self.encoder(inp.unsqueeze(0)))\n",
    "\n",
    "        # batch x time x nfft\n",
    "        y = y.permute(0, 2, 1)\n",
    "\n",
    "        # batch x time x feature\n",
    "        rnn_out = self.rnn(y)[0]\n",
    "\n",
    "        # batch x time x (nfft*num_sources)\n",
    "        lin_out = self.output_layer(rnn_out)\n",
    "\n",
    "        # batch x time x nfft x num_sources\n",
    "        lin_out = lin_out.reshape(\n",
    "            lin_out.size(0), lin_out.size(1), -1, self.num_sources\n",
    "        )\n",
    "\n",
    "        # reconstruct in time domain\n",
    "        sources = []\n",
    "        all_masks = []\n",
    "        for n in range(self.num_sources):\n",
    "            sourcehat_mask = nn.functional.relu(lin_out[:, :, :, n])\n",
    "            all_masks.append(sourcehat_mask)\n",
    "\n",
    "            # multiply with mask and magnitude\n",
    "            T = sourcehat_mask.size(1)\n",
    "            sourcehat_latent = (sourcehat_mask * y[:, :T, :]).permute(0, 2, 1)\n",
    "\n",
    "            # reconstruct in time domain with istft\n",
    "            sourcehat = self.decoder(sourcehat_latent).squeeze(0)\n",
    "            sources.append(sourcehat)\n",
    "\n",
    "        return sources, all_masks, y\n",
    "\n",
    "\n",
    "model_audio = audioseparator(fft_size=fft_size, hidden_size=300, kernel_size=256)\n",
    "out, _, _ = model_audio.forward(mixture_0.unsqueeze(0))"
   ]
  },
  {
   "cell_type": "code",
   "execution_count": null,
   "metadata": {
    "id": "s5dkjj0P5wLu"
   },
   "outputs": [],
   "source": [
    "optimizer = lambda x: torch.optim.Adam(x, lr=0.0002)\n",
    "N_epochs = 200\n",
    "epoch_counter = sb.utils.epoch_loop.EpochCounter(limit=N_epochs)\n",
    "\n",
    "separator = SeparationBrain(\n",
    "    train_loss=\"si-snr\", modules={\"mdl\": model_audio}, opt_class=optimizer\n",
    ")\n",
    "\n",
    "separator.fit(epoch_counter, train_loader_audio, valid_loader_audio)"
   ]
  },
  {
   "cell_type": "code",
   "execution_count": null,
   "metadata": {
    "id": "5JUqqmL_KFGs"
   },
   "outputs": [],
   "source": [
    "estimated_sources_test, all_masks, mag = model_audio.forward(mixture_3.unsqueeze(0))\n",
    "estimated_sources_train, all_masks, mag = model_audio.forward(mixture_0.unsqueeze(0))\n",
    "\n",
    "\n",
    "Audio(estimated_sources_test[0].squeeze().detach(), rate=16000)"
   ]
  },
  {
   "cell_type": "code",
   "execution_count": null,
   "metadata": {
    "id": "2trZ6WX_kAsT"
   },
   "outputs": [],
   "source": [
    "Audio(estimated_sources_test[1].squeeze().detach(), rate=16000)"
   ]
  },
  {
   "cell_type": "code",
   "execution_count": null,
   "metadata": {
    "id": "nzvsrhsEm4f1"
   },
   "outputs": [],
   "source": [
    "Audio(estimated_sources_train[0].squeeze().detach(), rate=16000)"
   ]
  },
  {
   "cell_type": "code",
   "execution_count": null,
   "metadata": {
    "id": "aAZOTrYDncYm"
   },
   "outputs": [],
   "source": [
    "Audio(estimated_sources_train[1].squeeze().detach(), rate=16000)"
   ]
  },
  {
   "cell_type": "markdown",
   "metadata": {
    "id": "yUCKuExTnz4Z"
   },
   "source": [
    "It does not work that great because of the introduced artifacts, but we can hear that it supresses the interferences."
   ]
  },
  {
   "cell_type": "markdown",
   "metadata": {
    "id": "sb_auto_footer",
    "tags": [
     "sb_auto_footer"
    ]
   },
   "source": [
    "## Citing SpeechBrain\n",
    "\n",
    "If you use SpeechBrain in your research or business, please cite it using the following BibTeX entry:\n",
    "\n",
    "```bibtex\n",
    "@misc{speechbrainV1,\n",
    "  title={Open-Source Conversational AI with {SpeechBrain} 1.0},\n",
    "  author={Mirco Ravanelli and Titouan Parcollet and Adel Moumen and Sylvain de Langen and Cem Subakan and Peter Plantinga and Yingzhi Wang and Pooneh Mousavi and Luca Della Libera and Artem Ploujnikov and Francesco Paissan and Davide Borra and Salah Zaiem and Zeyu Zhao and Shucong Zhang and Georgios Karakasidis and Sung-Lin Yeh and Pierre Champion and Aku Rouhe and Rudolf Braun and Florian Mai and Juan Zuluaga-Gomez and Seyed Mahed Mousavi and Andreas Nautsch and Xuechen Liu and Sangeet Sagar and Jarod Duret and Salima Mdhaffar and Gaelle Laperriere and Mickael Rouvier and Renato De Mori and Yannick Esteve},\n",
    "  year={2024},\n",
    "  eprint={2407.00463},\n",
    "  archivePrefix={arXiv},\n",
    "  primaryClass={cs.LG},\n",
    "  url={https://arxiv.org/abs/2407.00463},\n",
    "}\n",
    "@misc{speechbrain,\n",
    "  title={{SpeechBrain}: A General-Purpose Speech Toolkit},\n",
    "  author={Mirco Ravanelli and Titouan Parcollet and Peter Plantinga and Aku Rouhe and Samuele Cornell and Loren Lugosch and Cem Subakan and Nauman Dawalatabad and Abdelwahab Heba and Jianyuan Zhong and Ju-Chieh Chou and Sung-Lin Yeh and Szu-Wei Fu and Chien-Feng Liao and Elena Rastorgueva and François Grondin and William Aris and Hwidong Na and Yan Gao and Renato De Mori and Yoshua Bengio},\n",
    "  year={2021},\n",
    "  eprint={2106.04624},\n",
    "  archivePrefix={arXiv},\n",
    "  primaryClass={eess.AS},\n",
    "  note={arXiv:2106.04624}\n",
    "}\n",
    "```"
   ]
  }
 ],
 "metadata": {
  "colab": {
   "provenance": [
    {
     "file_id": "1lcPtycPQOTVanhxj6GiOBnWuWtzXTGJw",
     "timestamp": 1613147076800
    },
    {
     "file_id": "18rvXsEWzSeGVXcrXB_AVIMnMzpUo0irv",
     "timestamp": 1613140070220
    }
   ]
  },
  "kernelspec": {
   "display_name": "Python 3 (ipykernel)",
   "language": "python",
   "name": "python3"
  },
  "language_info": {
   "codemirror_mode": {
    "name": "ipython",
    "version": 3
   },
   "file_extension": ".py",
   "mimetype": "text/x-python",
   "name": "python",
   "nbconvert_exporter": "python",
   "pygments_lexer": "ipython3",
   "version": "3.12.6"
  }
 },
 "nbformat": 4,
 "nbformat_minor": 4
}
