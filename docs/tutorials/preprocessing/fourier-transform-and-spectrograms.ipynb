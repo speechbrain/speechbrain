{
 "cells": [
  {
   "cell_type": "markdown",
   "metadata": {
    "id": "sb_auto_header",
    "tags": [
     "sb_auto_header"
    ]
   },
   "source": [
    "<!-- This cell is automatically updated by tools/tutorial-cell-updater.py -->\n",
    "<!-- The contents are initialized from tutorials/notebook-header.md -->\n",
    "\n",
    "[<img src=\"https://colab.research.google.com/assets/colab-badge.svg\" alt=\"Open In Colab\"/>](https://colab.research.google.com/github/speechbrain/speechbrain/blob/develop/docs/tutorials/preprocessing/fourier-transform-and-spectrograms.ipynb)\n",
    "to execute or view/download this notebook on\n",
    "[GitHub](https://github.com/speechbrain/speechbrain/tree/develop/docs/tutorials/preprocessing/fourier-transform-and-spectrograms.ipynb)"
   ]
  },
  {
   "cell_type": "markdown",
   "metadata": {
    "id": "yLHQsyqgmbLp"
   },
   "source": [
    "# Fourier Transforms and Spectrograms\n",
    "\n",
    "In speech and audio processing, the signal in the time-domain is often transformed into another domain. Ok, but why do we need to transform an audio signal?\n",
    "\n",
    "Some speech characteristics/patterns of the signal (e.g, *pitch*, *formats*) might not be very evident when looking at the audio in the time-domain. With properly designed transformations, it might be easier to extract the needed information from the signal itself.\n",
    "\n",
    "The most popular transformation is the **Fourier Transform**, which turns the time-domain signal into an equivalent representation in the **frequency domain**. In the following sections, we will describe the Fourier transforms along with other related transformations such as **Short-Term Fourier Transform** (STFT) and **spectrograms**.\n",
    "\n",
    "## 1. Fourier Transform\n",
    "The Fourier transform of a time-discrete sequences $f[n]={f[0],f[1],..f[N-1]}$ is called Discrete Fourier Transform (DFT) and it is defined in this way:\n",
    "\n",
    "$F_{k} = \\sum_{n=0}^{N-1} f_{n} e^{-j\\frac{2\\pi}{N}kn}$\n",
    "\n",
    "The inverse transformation, called Inverse Discrete Fourier Transform (IDFT), maps the frequnecy-domain signal $F_k$ into a time-domain one $f_n$:\n",
    "\n",
    "$f_{n} = \\sum_{k=0}^{N-1} F_{k} e^{j\\frac{2\\pi}{N}kn}$\n",
    "\n",
    "The two representations are equivalent and we are not losing information when applying them. It is just a different way to represent the same signal.\n",
    "\n",
    "\n",
    "#### What is the intuition?\n",
    "The idea behind the Fourier transform is to represent the signal as a **weighted sum of complex sinusoids with increasing frequency**.\n",
    "The complex exponential $e^{j\\frac{2\\pi}{N}kn}$, for instance, dermines the frequnecy of this \"complex sinoudoid\":\n",
    "\n",
    "$e^{j\\frac{2\\pi}{N}kn} = cos(\\frac{2\\pi}{N}kn) +j sin(\\frac{2\\pi}{N}kn)$.\n",
    "\n",
    "The term $F_{k}$, instead, is another **complex number** that determines the amplitude and shift (phase) of the frequency components.\n",
    "It can be shown that with N complex sinusoids with proper **amplitude** and **phase**, we can model any signal. In other words, the complex sinusoids are the basic bricks that compose your signal. If you properly combine many of them like in a LEGO building, you can create all the signals you want (both periodic and non-periodic).\n",
    "\n",
    "The transformation has $O(N^2)$ complexity because for each element k of the frequency representation $F_k$ we have to loop over all the N elements of the sequence. This makes it impossible to compute DFT and IDFT of long sequences.\n",
    "\n",
    "Fortunately,  there are algorithms called **Fast-Fourier Transform (FFT)** that can compute it with $O(Nlog(N))$. The FFT splits the input sequences into small chunks and combines their DTFs.\n",
    "\n",
    "This concept of \"complex sinusoids\" might be quite difficult to digest. Nevertheless, on-line you can find excellent material full of cool graphical animations to help you with that (see the tutorials in the reference). For now, let's just consider the Fourier transform as a **linear transformation** that maps real-valued sequences into complex-valued ones.\n",
    "\n",
    "Before computing some DTFTs, let's download some speech signal and install speechbrain:"
   ]
  },
  {
   "cell_type": "code",
   "execution_count": null,
   "metadata": {
    "id": "jQhXYHD12JeN"
   },
   "outputs": [],
   "source": [
    "%%capture\n",
    "!wget https://www.dropbox.com/s/u8qyvuyie2op286/spk1_snt1.wav"
   ]
  },
  {
   "cell_type": "code",
   "execution_count": null,
   "metadata": {
    "id": "kcm6OXygDaLg"
   },
   "outputs": [],
   "source": [
    "%%capture\n",
    "# Installing SpeechBrain\n",
    "BRANCH = \"develop\"\n",
    "!git clone https://github.com/speechbrain/speechbrain.git -b $BRANCH\n",
    "%cd /content/speechbrain/\n",
    "!python -m pip install ."
   ]
  },
  {
   "cell_type": "code",
   "execution_count": null,
   "metadata": {
    "id": "aD1Hn73P2PC4"
   },
   "outputs": [],
   "source": [
    "import torch\n",
    "import matplotlib.pyplot as plt\n",
    "from speechbrain.dataio.dataio import read_audio\n",
    "\n",
    "signal = read_audio(\"/content/spk1_snt1.wav\")\n",
    "print(signal.shape)\n",
    "\n",
    "# fft computation\n",
    "fft = torch.fft.fft(signal.squeeze(), dim=0)\n",
    "print(fft)\n",
    "print(fft.shape)"
   ]
  },
  {
   "cell_type": "markdown",
   "metadata": {
    "id": "Ay1Iq2ZU_Utj"
   },
   "source": [
    "As you can see, the input signal is real (and thus the imaginary part is filled with zeros). The DFT is a tensor containing both the real and the imaginary parts of the transformation.\n",
    "\n",
    "Let's now compute the magnitude and phase of the DFT and plot them:"
   ]
  },
  {
   "cell_type": "code",
   "execution_count": null,
   "metadata": {
    "id": "JABfGdt0l-PD"
   },
   "outputs": [],
   "source": [
    "# Real and Imaginary parts\n",
    "real_fft = fft.real\n",
    "img_fft = fft.imag\n",
    "\n",
    "mag = torch.sqrt(torch.pow(real_fft, 2) + torch.pow(img_fft, 2))\n",
    "phase = torch.arctan(img_fft / real_fft)\n",
    "\n",
    "plt.subplot(211)\n",
    "x_axis = torch.linspace(0, 16000, mag.shape[0])\n",
    "plt.plot(x_axis, mag)\n",
    "\n",
    "plt.subplot(212)\n",
    "plt.plot(x_axis, phase)\n",
    "plt.xlabel(\"Freq [Hz]\")"
   ]
  },
  {
   "cell_type": "markdown",
   "metadata": {
    "id": "EVeGj-4sCWJk"
   },
   "source": [
    "There are few interesting things to notice from the plots:\n",
    "\n",
    "\n",
    "*   The plot of the magnitude is symmetric. The last element of the x-axis corresponds to the sampling frequency $f_s$, which in this case is 16kHz. Due to this symmetry, it is only necessary to plot the magnitude from 0 to $fs/2$. This frequency is called Nyquist frequency.\n",
    "*   The plot of the phase is very noisy. This is expected too. The phase is notoriously not easy to interpret and estimate.\n",
    "\n",
    "Let's not plot the magnitude from 0 to the Nyquist frequency:"
   ]
  },
  {
   "cell_type": "code",
   "execution_count": null,
   "metadata": {
    "id": "BYA_rDiDD3vq"
   },
   "outputs": [],
   "source": [
    "half_point = mag[0:].shape[0] // 2\n",
    "x_axis = torch.linspace(0, 8000, half_point)\n",
    "plt.plot(x_axis, mag[0:half_point])\n",
    "plt.xlabel(\"Frequency\")"
   ]
  },
  {
   "cell_type": "markdown",
   "metadata": {
    "id": "MDeVaOrKEkng"
   },
   "source": [
    "We can see that most of the energy of a speech signal is concentrated in the lower part of the spectrum. Many important phonemes like vowels, in fact, have most of their energy in this part of the spectrum.\n",
    "\n",
    "Moreover, we can notice some peaks in the magnitude spectrum. Let's zoom in to see them more clearly:\n"
   ]
  },
  {
   "cell_type": "code",
   "execution_count": null,
   "metadata": {
    "id": "iEchxUJ2GXTe"
   },
   "outputs": [],
   "source": [
    "plt.plot(mag[0:4000])\n",
    "plt.xlabel(\"Frequency\")"
   ]
  },
  {
   "cell_type": "markdown",
   "metadata": {
    "id": "zsX7WpxvG9Ia"
   },
   "source": [
    "The peaks corresponds to pitch (i.e, the frequency at which our vocal cords are vibrating) and formats (which corresponds to the resonant frequency of our vocal tract).\n",
    "\n",
    "Let's now try to go back to the time domain:"
   ]
  },
  {
   "cell_type": "code",
   "execution_count": null,
   "metadata": {
    "id": "uM5eGLwvHSWp"
   },
   "outputs": [],
   "source": [
    "signal_rec = torch.fft.ifft(fft, dim=0)\n",
    "signal_rec = signal_rec  # real part\n",
    "signal_orig = signal\n",
    "\n",
    "# Plots\n",
    "plt.subplot(211)\n",
    "plt.plot(signal_orig)\n",
    "\n",
    "plt.subplot(212)\n",
    "plt.plot(signal_rec)\n",
    "plt.xlabel(\"Time\")\n",
    "\n",
    "print(signal_orig[0:10])\n",
    "print(signal_rec[0:10])"
   ]
  },
  {
   "cell_type": "markdown",
   "metadata": {
    "id": "kF0a3KMAJKp_"
   },
   "source": [
    "As you can see from the plot, the signal can be recunstructed in the time domain. Due to some numerical round-off errros, the two signals are very similar but not identical (see the print of the first 10 samples)."
   ]
  },
  {
   "cell_type": "markdown",
   "metadata": {
    "id": "tSMFRHgxJo6y"
   },
   "source": [
    "## 2. Short-Term Fourier Transform (STFT)\n",
    "Speech is a \"dynamic\" signal that evolves over time. It could thus make sense to introduce a mixed time-frequency representation that can show how the frequency components of speech are evolving over time. Such a representation is called Short-Term Fourier Transform.\n",
    "\n",
    "The SFTF is computed in this way:\n",
    "\n",
    "1. Split the time signal into multiple chunks using overlapped sliding windows (e.g, hamming, hanning, blackman).\n",
    "2. For each small chunk compute the DFT\n",
    "3. Combine all the DFT into a single representation\n",
    "\n",
    "Let's now compute an STFT of a speech signal:"
   ]
  },
  {
   "cell_type": "code",
   "execution_count": null,
   "metadata": {
    "id": "o65I1Qm4hZXH"
   },
   "outputs": [],
   "source": [
    "from speechbrain.processing.features import STFT\n",
    "\n",
    "signal = read_audio(\"/content/spk1_snt1.wav\").unsqueeze(0)  # [batch, time]\n",
    "\n",
    "compute_STFT = STFT(\n",
    "    sample_rate=16000, win_length=25, hop_length=10, n_fft=400\n",
    ")  # 25 ms, 10 ms\n",
    "signal_STFT = compute_STFT(signal)\n",
    "\n",
    "print(signal.shape)\n",
    "print(signal_STFT.shape)"
   ]
  },
  {
   "cell_type": "markdown",
   "metadata": {
    "id": "C3mdJoSCieo3"
   },
   "source": [
    "*   The first dimension of the STFT representation is the batch axis (SpeechBrain expects it because it is designed to process in parallel multiple signals).\n",
    "* The third is the frequency resolution. It corresponds to half of the fft points ($n_{fft}$) because, as we have seen before, the fft is symmetric.\n",
    "* The last dimension gathers the real and the imaginary parts of the STFT representation.\n"
   ]
  },
  {
   "cell_type": "markdown",
   "metadata": {
    "id": "-4BMZzzWkhxx"
   },
   "source": [
    "Similar to the Fourier transform, the STFT has an inverse transformation called **Inverse Short-Term Fourier Transform (ISTFT)**. With properly-designed windows,  we can have a perfect reconstruction of the original signal:"
   ]
  },
  {
   "cell_type": "code",
   "execution_count": null,
   "metadata": {
    "id": "i-DhG95XlN85"
   },
   "outputs": [],
   "source": [
    "from speechbrain.processing.features import ISTFT\n",
    "\n",
    "compute_ISTFT = ISTFT(sample_rate=16000, win_length=25, hop_length=10)\n",
    "signal_rec = compute_ISTFT(signal_STFT)\n",
    "signal_rec = signal_rec.squeeze()  # remove batch axis for plotting\n",
    "\n",
    "# Plots\n",
    "plt.subplot(211)\n",
    "plt.plot(signal_orig)\n",
    "\n",
    "plt.subplot(212)\n",
    "plt.plot(signal_rec)\n",
    "plt.xlabel(\"Time\")"
   ]
  },
  {
   "cell_type": "markdown",
   "metadata": {
    "id": "45uku4U9m4DF"
   },
   "source": [
    "## 3. Spectrogram\n",
    "As we have seen before, the magnitude of the Fourier transform is more informative than the phase. We can thus take the magnitude of the STFT representation and obtain the so-called spectrogram. The spectrogram is one of the most popular speech representations.\n",
    "\n",
    "Let's see how a spectrogram looks like:"
   ]
  },
  {
   "cell_type": "code",
   "execution_count": null,
   "metadata": {
    "id": "765Zsw_bnzbK"
   },
   "outputs": [],
   "source": [
    "spectrogram = signal_STFT.pow(2).sum(-1)  # power spectrogram\n",
    "spectrogram = spectrogram.squeeze(0).transpose(0, 1)\n",
    "\n",
    "spectrogram_log = torch.log(spectrogram)  # for graphical convenience\n",
    "\n",
    "plt.imshow(\n",
    "    spectrogram_log.squeeze(0), cmap=\"hot\", interpolation=\"nearest\", origin=\"lower\"\n",
    ")\n",
    "plt.xlabel(\"Time\")\n",
    "plt.ylabel(\"Frequency\")\n",
    "plt.show()"
   ]
  },
  {
   "cell_type": "markdown",
   "metadata": {
    "id": "oDshVtzCpxQn"
   },
   "source": [
    "The spectrogram is a 2D representation that can be plotted as an image (yellow areas correspond to time-frequency points with high magnitude).\n",
    "From the spectrogram, you can see how the frequency components are evolving over time. For instance, you can clearly distinguish vowels (whose frequency pattern is characterized by multiple lines corresponding to pitch and formants)  and fricatives (characterized by the presence of continuous high-frequency components). Normally, we plot the power spectrogram that corresponds to the squared magnitude of the STFT.\n",
    "\n",
    "The time and frequency resolution of the spectrogram depends on the length of the window used for computing the STFT.\n",
    "\n",
    "For instance, if we increase the length of the window, we can have a higher resolution in frequency (but a lower resolution in time):\n"
   ]
  },
  {
   "cell_type": "code",
   "execution_count": null,
   "metadata": {
    "id": "61Lq4GakrZ-g"
   },
   "outputs": [],
   "source": [
    "signal = read_audio(\"/content/spk1_snt1.wav\").unsqueeze(0)  # [batch, time]\n",
    "\n",
    "compute_STFT = STFT(sample_rate=16000, win_length=50, hop_length=10, n_fft=800)\n",
    "signal_STFT = compute_STFT(signal)\n",
    "\n",
    "spectrogram = signal_STFT.pow(2).sum(-1)\n",
    "spectrogram = spectrogram.squeeze(0).transpose(0, 1)\n",
    "spectrogram = torch.log(spectrogram)\n",
    "\n",
    "plt.imshow(spectrogram.squeeze(0), cmap=\"hot\", interpolation=\"nearest\", origin=\"lower\")\n",
    "plt.xlabel(\"Time\")\n",
    "plt.ylabel(\"Frequency\")\n",
    "plt.show()"
   ]
  },
  {
   "cell_type": "markdown",
   "metadata": {
    "id": "R1eJdAZauEsA"
   },
   "source": [
    "Vice-versa, we can have a larger time resolution at the price of a reduced frequency resolution:"
   ]
  },
  {
   "cell_type": "code",
   "execution_count": null,
   "metadata": {
    "id": "Nzn9hxyLuO7w"
   },
   "outputs": [],
   "source": [
    "signal = read_audio(\"/content/spk1_snt1.wav\").unsqueeze(0)  # [batch, time]\n",
    "\n",
    "compute_STFT = STFT(sample_rate=16000, win_length=5, hop_length=5, n_fft=800)\n",
    "signal_STFT = compute_STFT(signal)\n",
    "\n",
    "spectrogram = signal_STFT.pow(2).sum(-1)\n",
    "spectrogram = spectrogram.squeeze(0).transpose(0, 1)\n",
    "spectrogram = torch.log(spectrogram)\n",
    "\n",
    "plt.imshow(spectrogram.squeeze(0), cmap=\"hot\", interpolation=\"nearest\", origin=\"lower\")\n",
    "plt.xlabel(\"Time\")\n",
    "plt.ylabel(\"Frequency\")\n",
    "plt.show()"
   ]
  },
  {
   "cell_type": "markdown",
   "metadata": {
    "id": "ImUfs42quxDW"
   },
   "source": [
    "Despite being very informative, the spectrogram is not invertible. When computing it, in fact, we are only using the magnitude of the STFT and not the phase.\n",
    "\n",
    "The spectrogram is the starting point for computing some popular speech features, such ad FilterBanks (FBANKs) and Mel-Frequency Cepstral Coefficients (MFCCs) that are the object of [another tutorial]()."
   ]
  },
  {
   "cell_type": "markdown",
   "metadata": {
    "id": "aUyevcpb7Y2n"
   },
   "source": [
    "## References\n",
    "\n",
    "[1] L. R. Rabiner, Ronald W. Schafer,  “Digital Processing of Speech Signals”, Prentice-Hall, 1978\n",
    "\n",
    "[2] S. K. Mitra Digital Signal Processing: A Computer-Based Approach [slides](http://doctord.webhop.net/courses/bei/ece410/mitra_2e/toc.htm)\n",
    "\n",
    "[3] <https://betterexplained.com/articles/an-interactive-guide-to-the-fourier-transform/>\n",
    "\n",
    "[4] <https://sites.northwestern.edu/elannesscohn/2019/07/30/developing-an-intuition-for-fourier-transforms/>\n",
    "\n",
    "\n"
   ]
  },
  {
   "cell_type": "markdown",
   "metadata": {
    "id": "sb_auto_footer",
    "tags": [
     "sb_auto_footer"
    ]
   },
   "source": [
    "## Citing SpeechBrain\n",
    "\n",
    "If you use SpeechBrain in your research or business, please cite it using the following BibTeX entry:\n",
    "\n",
    "```bibtex\n",
    "@misc{speechbrainV1,\n",
    "  title={Open-Source Conversational AI with {SpeechBrain} 1.0},\n",
    "  author={Mirco Ravanelli and Titouan Parcollet and Adel Moumen and Sylvain de Langen and Cem Subakan and Peter Plantinga and Yingzhi Wang and Pooneh Mousavi and Luca Della Libera and Artem Ploujnikov and Francesco Paissan and Davide Borra and Salah Zaiem and Zeyu Zhao and Shucong Zhang and Georgios Karakasidis and Sung-Lin Yeh and Pierre Champion and Aku Rouhe and Rudolf Braun and Florian Mai and Juan Zuluaga-Gomez and Seyed Mahed Mousavi and Andreas Nautsch and Xuechen Liu and Sangeet Sagar and Jarod Duret and Salima Mdhaffar and Gaelle Laperriere and Mickael Rouvier and Renato De Mori and Yannick Esteve},\n",
    "  year={2024},\n",
    "  eprint={2407.00463},\n",
    "  archivePrefix={arXiv},\n",
    "  primaryClass={cs.LG},\n",
    "  url={https://arxiv.org/abs/2407.00463},\n",
    "}\n",
    "@misc{speechbrain,\n",
    "  title={{SpeechBrain}: A General-Purpose Speech Toolkit},\n",
    "  author={Mirco Ravanelli and Titouan Parcollet and Peter Plantinga and Aku Rouhe and Samuele Cornell and Loren Lugosch and Cem Subakan and Nauman Dawalatabad and Abdelwahab Heba and Jianyuan Zhong and Ju-Chieh Chou and Sung-Lin Yeh and Szu-Wei Fu and Chien-Feng Liao and Elena Rastorgueva and François Grondin and William Aris and Hwidong Na and Yan Gao and Renato De Mori and Yoshua Bengio},\n",
    "  year={2021},\n",
    "  eprint={2106.04624},\n",
    "  archivePrefix={arXiv},\n",
    "  primaryClass={eess.AS},\n",
    "  note={arXiv:2106.04624}\n",
    "}\n",
    "```"
   ]
  }
 ],
 "metadata": {
  "colab": {
   "provenance": [
    {
     "file_id": "1dCY2XHC6NiDA9mor3jd9H9w-XEcD3M4L",
     "timestamp": 1612452429167
    }
   ]
  },
  "kernelspec": {
   "display_name": "Python 3 (ipykernel)",
   "language": "python",
   "name": "python3"
  },
  "language_info": {
   "codemirror_mode": {
    "name": "ipython",
    "version": 3
   },
   "file_extension": ".py",
   "mimetype": "text/x-python",
   "name": "python",
   "nbconvert_exporter": "python",
   "pygments_lexer": "ipython3",
   "version": "3.12.6"
  }
 },
 "nbformat": 4,
 "nbformat_minor": 4
}
